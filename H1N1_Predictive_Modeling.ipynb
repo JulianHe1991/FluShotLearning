{
 "cells": [
  {
   "cell_type": "markdown",
   "metadata": {},
   "source": [
    "#  Predicting H1N1 Vaccinations \n",
    "\n",
    "**Authors:** Julian He & Brandon Menendez"
   ]
  },
  {
   "cell_type": "markdown",
   "metadata": {},
   "source": [
    "![](https://www.clinicaladvisor.com/wp-content/uploads/sites/11/2018/12/ca0712h1n1_276557.jpg)"
   ]
  },
  {
   "cell_type": "markdown",
   "metadata": {},
   "source": [
    "## Overview"
   ]
  },
  {
   "cell_type": "markdown",
   "metadata": {},
   "source": [
    "During the 2009 H1N1 (Swine Flu) global pandemic, it is estimated that 250K - 280K people died worldwide from the virus between the years 2009 and 2010. While the global pandemic has since dissapated, the H1N1 virus is still very much present throughout the world. Most recently, there have been outbreaks in Malta, Iran and Morocco. It is just as important as ever to ensure that people are getting their H1N1 vaccines, as another global outbreak is possible.\n",
    "\n",
    "The primary goal of this project is to predict whether or not people will receive the H1N1 vaccination, based on information collected through the 2009 National Health Flu Survey (NHFS) surrounding demographics and vaccine opinions from Americans over the age of six. Using machine learning classification models, we identified the most important factors that influences someones H1N1 vaccination status. The output of these models is intended to help public health agencies identify populations that are less likely to get vaccinated for H1N1, so they can focus their outreach and education efforts where it matters the most."
   ]
  },
  {
   "cell_type": "markdown",
   "metadata": {},
   "source": [
    "## Business Problem"
   ]
  },
  {
   "cell_type": "markdown",
   "metadata": {},
   "source": [
    "![](https://www.statnews.com/wp-content/uploads/2019/06/Helen-Vaccine-Graph-1-768x432.jpg)"
   ]
  },
  {
   "cell_type": "markdown",
   "metadata": {},
   "source": [
    "In the US and around the world, the primary functions of public health agencies like the CDC and others include: 1) Educating the public about health concerns and best practices and 2) Providing the public with the necessary tools to maintain public health. As you can see in the chart above from the Center for Infectious Disease Research and Policy, there is a significant gap during the 2009 pandemic between the number of vaccines shipped and the number of vaccine doses administered. Predictive machine learning modeling can help public health agencies determine where to ship vaccines and where additional outreach is needed to promote vaccination.\n",
    "\n",
    "For this project, we will be presenting to the CDC and helping them to answer the following questions:\n",
    "\n",
    "1. What factors determine whether or not someone is likely to get an H1N1 vaccine?\n",
    "\n",
    "2. What populations of people require additional outreach and education improve vaccination rates?\n",
    "\n"
   ]
  },
  {
   "cell_type": "markdown",
   "metadata": {},
   "source": [
    "## Data Understanding"
   ]
  },
  {
<<<<<<< HEAD
   "cell_type": "code",
<<<<<<< HEAD
   "execution_count": 31,
=======
   "execution_count": 39,
>>>>>>> 51d9e99e954723218d8902c654ad9f06e551671a
=======
   "cell_type": "markdown",
>>>>>>> f55d197c1325bb9dd41bd183e80ed0e8701a19e7
   "metadata": {},
   "source": [
<<<<<<< HEAD
    "# Import standard packages\n",
    "import pandas as pd\n",
    "import numpy as np\n",
    "import matplotlib.pyplot as plt\n",
    "import seaborn as sns\n",
    "# Importing possible needed libraries\n",
    "\n",
    "import pandas as pd\n",
    "import numpy as np\n",
    "from matplotlib import pyplot as plt\n",
    "from matplotlib import ticker\n",
    "from mpl_toolkits.mplot3d import Axes3D\n",
    "from random import gauss\n",
    "from scipy import stats\n",
    "import seaborn as sns\n",
    "from mpl_toolkits import mplot3d\n",
    "import statsmodels.api as sm\n",
    "from statsmodels.formula.api import ols\n",
    "from statsmodels.stats.multicomp import pairwise_tukeyhsd\n",
    "from statsmodels.stats.outliers_influence import variance_inflation_factor\n",
    "from sklearn.dummy import DummyClassifier\n",
<<<<<<< HEAD
    "from sklearn.preprocessing import OneHotEncoder\n",
    "from sklearn.utils import resample\n",
    "from sklearn.datasets import load_breast_cancer, load_iris, make_classification\n",
    "from sklearn.model_selection import train_test_split\n",
    "from sklearn.preprocessing import StandardScaler\n",
    "from sklearn.linear_model import LogisticRegression\n",
    "from sklearn.impute import MissingIndicator, SimpleImputer\n",
    "from sklearn.ensemble import BaggingClassifier, RandomForestClassifier\n",
=======
    "\n",
    "import sys\n",
    "import os\n",
    "module_path = os.path.abspath(os.pardir)\n",
    "if module_path not in sys.path:\n",
    "    sys.path.append(module_path)\n",
>>>>>>> 51d9e99e954723218d8902c654ad9f06e551671a
    "\n",
    "%matplotlib inline\n",
    "from sklearn.model_selection import train_test_split, cross_val_score\n",
    "from sklearn.svm import SVR\n",
    "from sklearn.datasets import make_regression\n",
    "from sklearn.linear_model import LinearRegression\n",
    "from sklearn.dummy import DummyRegressor\n",
    "from sklearn.metrics import mean_squared_error\n",
    "from sklearn.feature_selection import RFE\n",
    "from sklearn.preprocessing import PolynomialFeatures, StandardScaler, OneHotEncoder\n",
    "from sklearn.model_selection import train_test_split, cross_validate, ShuffleSplit\n",
    "from sklearn.compose import ColumnTransformer\n",
    "from sklearn.feature_selection import RFECV\n",
    "import sklearn.metrics as metrics\n",
    "from sklearn.metrics import r2_score, mean_squared_error\n",
    "from patsy import dmatrices\n",
    "\n",
    "\n",
    "import folium\n",
    "from folium import plugins\n",
    "from folium.plugins import HeatMap\n",
    "%matplotlib inline\n",
    "\n",
    "import pandas as pd\n",
    "import numpy as np\n",
    "import math\n",
    "\n",
    "import matplotlib.pyplot as plt\n",
    "import seaborn as sns\n",
    "%matplotlib inline\n",
    "\n",
    "from sklearn.preprocessing import OneHotEncoder, StandardScaler\n",
    "\n",
    "from sklearn.impute import MissingIndicator, SimpleImputer\n",
    "\n",
    "from sklearn.dummy import DummyClassifier\n",
    "from sklearn.linear_model import LogisticRegression\n",
    "\n",
    "from sklearn.model_selection import train_test_split, cross_val_score\n",
    "from sklearn.feature_selection import SelectFromModel\n",
    "\n",
    "# plot_confusion_matrix is a handy visual tool, added in the latest version of scikit-learn\n",
    "# if you are running an older version, comment out this line and just use confusion_matrix\n",
    "from sklearn.metrics import plot_confusion_matrix\n",
    "from sklearn.metrics import confusion_matrix\n",
    "from sklearn.metrics import plot_roc_curve"
=======
    "Data for this project was downloaded from the DataDriven Flu Shot Learning competition website. The survey data used was collected from the 2009 NHFS and the training dataset contains 26.7K rows of data. \n",
    "\n",
    "There are many features included in this dataset available to train our models. The features primarily cover respondents demographics information (race, sex, age etc.), opinions on the flu and vaccines, and employment status. "
>>>>>>> f55d197c1325bb9dd41bd183e80ed0e8701a19e7
   ]
  },
  {
   "cell_type": "code",
<<<<<<< HEAD
<<<<<<< HEAD
<<<<<<< HEAD
   "execution_count": 2,
=======
   "execution_count": 40,
>>>>>>> 51d9e99e954723218d8902c654ad9f06e551671a
=======
   "execution_count": 376,
>>>>>>> f55d197c1325bb9dd41bd183e80ed0e8701a19e7
=======
   "execution_count": 1,
>>>>>>> 009c10c0bd28f7dd01433854d9e13e4af220ff2c
   "metadata": {},
   "outputs": [],
   "source": [
    "# Import standard packages\n",
    "import pandas as pd\n",
    "import numpy as np\n",
    "import matplotlib.pyplot as plt\n",
    "import seaborn as sns\n",
    "# Importing possible needed libraries\n",
    "\n",
    "import pandas as pd\n",
    "import numpy as np\n",
    "from matplotlib import pyplot as plt\n",
    "from matplotlib import ticker\n",
    "import seaborn as sns\n",
    "from mpl_toolkits import mplot3d\n",
    "import statsmodels.api as sm\n",
    "from statsmodels.formula.api import ols\n",
    "from sklearn.dummy import DummyClassifier\n",
    "\n",
    "%matplotlib inline\n",
    "from sklearn.model_selection import train_test_split, cross_val_score\n",
    "from sklearn.svm import SVR\n",
    "from sklearn.datasets import make_regression\n",
    "from sklearn.linear_model import LinearRegression\n",
    "from sklearn.dummy import DummyRegressor\n",
    "from sklearn.metrics import mean_squared_error\n",
    "from sklearn.feature_selection import RFE\n",
    "from sklearn.preprocessing import PolynomialFeatures, StandardScaler, OneHotEncoder\n",
    "from sklearn.model_selection import train_test_split, cross_validate, ShuffleSplit\n",
    "from sklearn.compose import ColumnTransformer\n",
    "from sklearn.feature_selection import RFECV\n",
    "import sklearn.metrics as metrics\n",
    "from sklearn.metrics import r2_score, mean_squared_error\n",
    "from patsy import dmatrices\n",
    "\n",
    "from sklearn.preprocessing import OneHotEncoder, StandardScaler\n",
    "\n",
    "from sklearn.impute import MissingIndicator, SimpleImputer\n",
    "\n",
    "from sklearn.linear_model import LogisticRegression\n",
    "from sklearn.feature_selection import SelectFromModel\n",
    "from sklearn.ensemble import RandomForestClassifier\n",
    "# plot_confusion_matrix is a handy visual tool, added in the latest version of scikit-learn\n",
    "# if you are running an older version, comment out this line and just use confusion_matrix\n",
    "from sklearn.metrics import plot_confusion_matrix\n",
    "from sklearn.metrics import confusion_matrix\n",
    "from sklearn.metrics import plot_roc_curve"
   ]
  },
  {
   "cell_type": "code",
   "execution_count": 2,
   "metadata": {},
   "outputs": [],
   "source": [
    "# Setting display of DFs to show all columns \n",
    "\n",
    "pd.set_option('display.max_columns', None)"
   ]
  },
  {
   "cell_type": "code",
<<<<<<< HEAD
<<<<<<< HEAD
<<<<<<< HEAD
   "execution_count": 3,
=======
   "execution_count": 41,
>>>>>>> 51d9e99e954723218d8902c654ad9f06e551671a
=======
   "execution_count": 378,
>>>>>>> f55d197c1325bb9dd41bd183e80ed0e8701a19e7
=======
   "execution_count": 3,
>>>>>>> 009c10c0bd28f7dd01433854d9e13e4af220ff2c
   "metadata": {},
   "outputs": [
    {
     "data": {
      "text/html": [
       "<div>\n",
       "<style scoped>\n",
       "    .dataframe tbody tr th:only-of-type {\n",
       "        vertical-align: middle;\n",
       "    }\n",
       "\n",
       "    .dataframe tbody tr th {\n",
       "        vertical-align: top;\n",
       "    }\n",
       "\n",
       "    .dataframe thead th {\n",
       "        text-align: right;\n",
       "    }\n",
       "</style>\n",
       "<table border=\"1\" class=\"dataframe\">\n",
       "  <thead>\n",
       "    <tr style=\"text-align: right;\">\n",
       "      <th></th>\n",
       "      <th>respondent_id</th>\n",
       "      <th>h1n1_concern</th>\n",
       "      <th>h1n1_knowledge</th>\n",
       "      <th>behavioral_antiviral_meds</th>\n",
       "      <th>behavioral_avoidance</th>\n",
       "      <th>behavioral_face_mask</th>\n",
       "      <th>behavioral_wash_hands</th>\n",
       "      <th>behavioral_large_gatherings</th>\n",
       "      <th>behavioral_outside_home</th>\n",
       "      <th>behavioral_touch_face</th>\n",
       "      <th>doctor_recc_h1n1</th>\n",
       "      <th>doctor_recc_seasonal</th>\n",
       "      <th>chronic_med_condition</th>\n",
       "      <th>child_under_6_months</th>\n",
       "      <th>health_worker</th>\n",
       "      <th>health_insurance</th>\n",
       "      <th>opinion_h1n1_vacc_effective</th>\n",
       "      <th>opinion_h1n1_risk</th>\n",
       "      <th>opinion_h1n1_sick_from_vacc</th>\n",
       "      <th>opinion_seas_vacc_effective</th>\n",
       "      <th>opinion_seas_risk</th>\n",
       "      <th>opinion_seas_sick_from_vacc</th>\n",
       "      <th>age_group</th>\n",
       "      <th>education</th>\n",
       "      <th>race</th>\n",
       "      <th>sex</th>\n",
       "      <th>income_poverty</th>\n",
       "      <th>marital_status</th>\n",
       "      <th>rent_or_own</th>\n",
       "      <th>employment_status</th>\n",
       "      <th>hhs_geo_region</th>\n",
       "      <th>census_msa</th>\n",
       "      <th>household_adults</th>\n",
       "      <th>household_children</th>\n",
       "      <th>employment_industry</th>\n",
       "      <th>employment_occupation</th>\n",
       "    </tr>\n",
       "  </thead>\n",
       "  <tbody>\n",
       "    <tr>\n",
       "      <th>0</th>\n",
       "      <td>0</td>\n",
       "      <td>1.0</td>\n",
       "      <td>0.0</td>\n",
       "      <td>0.0</td>\n",
       "      <td>0.0</td>\n",
       "      <td>0.0</td>\n",
       "      <td>0.0</td>\n",
       "      <td>0.0</td>\n",
       "      <td>1.0</td>\n",
       "      <td>1.0</td>\n",
       "      <td>0.0</td>\n",
       "      <td>0.0</td>\n",
       "      <td>0.0</td>\n",
       "      <td>0.0</td>\n",
       "      <td>0.0</td>\n",
       "      <td>1.0</td>\n",
       "      <td>3.0</td>\n",
       "      <td>1.0</td>\n",
       "      <td>2.0</td>\n",
       "      <td>2.0</td>\n",
       "      <td>1.0</td>\n",
       "      <td>2.0</td>\n",
       "      <td>55 - 64 Years</td>\n",
       "      <td>&lt; 12 Years</td>\n",
       "      <td>White</td>\n",
       "      <td>Female</td>\n",
       "      <td>Below Poverty</td>\n",
       "      <td>Not Married</td>\n",
       "      <td>Own</td>\n",
       "      <td>Not in Labor Force</td>\n",
       "      <td>oxchjgsf</td>\n",
       "      <td>Non-MSA</td>\n",
       "      <td>0.0</td>\n",
       "      <td>0.0</td>\n",
       "      <td>NaN</td>\n",
       "      <td>NaN</td>\n",
       "    </tr>\n",
       "    <tr>\n",
       "      <th>1</th>\n",
       "      <td>1</td>\n",
       "      <td>3.0</td>\n",
       "      <td>2.0</td>\n",
       "      <td>0.0</td>\n",
       "      <td>1.0</td>\n",
       "      <td>0.0</td>\n",
       "      <td>1.0</td>\n",
       "      <td>0.0</td>\n",
       "      <td>1.0</td>\n",
       "      <td>1.0</td>\n",
       "      <td>0.0</td>\n",
       "      <td>0.0</td>\n",
       "      <td>0.0</td>\n",
       "      <td>0.0</td>\n",
       "      <td>0.0</td>\n",
       "      <td>1.0</td>\n",
       "      <td>5.0</td>\n",
       "      <td>4.0</td>\n",
       "      <td>4.0</td>\n",
       "      <td>4.0</td>\n",
       "      <td>2.0</td>\n",
       "      <td>4.0</td>\n",
       "      <td>35 - 44 Years</td>\n",
       "      <td>12 Years</td>\n",
       "      <td>White</td>\n",
       "      <td>Male</td>\n",
       "      <td>Below Poverty</td>\n",
       "      <td>Not Married</td>\n",
       "      <td>Rent</td>\n",
       "      <td>Employed</td>\n",
       "      <td>bhuqouqj</td>\n",
       "      <td>MSA, Not Principle  City</td>\n",
       "      <td>0.0</td>\n",
       "      <td>0.0</td>\n",
       "      <td>pxcmvdjn</td>\n",
       "      <td>xgwztkwe</td>\n",
       "    </tr>\n",
       "    <tr>\n",
       "      <th>2</th>\n",
       "      <td>2</td>\n",
       "      <td>1.0</td>\n",
       "      <td>1.0</td>\n",
       "      <td>0.0</td>\n",
       "      <td>1.0</td>\n",
       "      <td>0.0</td>\n",
       "      <td>0.0</td>\n",
       "      <td>0.0</td>\n",
       "      <td>0.0</td>\n",
       "      <td>0.0</td>\n",
       "      <td>NaN</td>\n",
       "      <td>NaN</td>\n",
       "      <td>1.0</td>\n",
       "      <td>0.0</td>\n",
       "      <td>0.0</td>\n",
       "      <td>NaN</td>\n",
       "      <td>3.0</td>\n",
       "      <td>1.0</td>\n",
       "      <td>1.0</td>\n",
       "      <td>4.0</td>\n",
       "      <td>1.0</td>\n",
       "      <td>2.0</td>\n",
       "      <td>18 - 34 Years</td>\n",
       "      <td>College Graduate</td>\n",
       "      <td>White</td>\n",
       "      <td>Male</td>\n",
       "      <td>&lt;= $75,000, Above Poverty</td>\n",
       "      <td>Not Married</td>\n",
       "      <td>Own</td>\n",
       "      <td>Employed</td>\n",
       "      <td>qufhixun</td>\n",
       "      <td>MSA, Not Principle  City</td>\n",
       "      <td>2.0</td>\n",
       "      <td>0.0</td>\n",
       "      <td>rucpziij</td>\n",
       "      <td>xtkaffoo</td>\n",
       "    </tr>\n",
       "    <tr>\n",
       "      <th>3</th>\n",
       "      <td>3</td>\n",
       "      <td>1.0</td>\n",
       "      <td>1.0</td>\n",
       "      <td>0.0</td>\n",
       "      <td>1.0</td>\n",
       "      <td>0.0</td>\n",
       "      <td>1.0</td>\n",
       "      <td>1.0</td>\n",
       "      <td>0.0</td>\n",
       "      <td>0.0</td>\n",
       "      <td>0.0</td>\n",
       "      <td>1.0</td>\n",
       "      <td>1.0</td>\n",
       "      <td>0.0</td>\n",
       "      <td>0.0</td>\n",
       "      <td>NaN</td>\n",
       "      <td>3.0</td>\n",
       "      <td>3.0</td>\n",
       "      <td>5.0</td>\n",
       "      <td>5.0</td>\n",
       "      <td>4.0</td>\n",
       "      <td>1.0</td>\n",
       "      <td>65+ Years</td>\n",
       "      <td>12 Years</td>\n",
       "      <td>White</td>\n",
       "      <td>Female</td>\n",
       "      <td>Below Poverty</td>\n",
       "      <td>Not Married</td>\n",
       "      <td>Rent</td>\n",
       "      <td>Not in Labor Force</td>\n",
       "      <td>lrircsnp</td>\n",
       "      <td>MSA, Principle City</td>\n",
       "      <td>0.0</td>\n",
       "      <td>0.0</td>\n",
       "      <td>NaN</td>\n",
       "      <td>NaN</td>\n",
       "    </tr>\n",
       "    <tr>\n",
       "      <th>4</th>\n",
       "      <td>4</td>\n",
       "      <td>2.0</td>\n",
       "      <td>1.0</td>\n",
       "      <td>0.0</td>\n",
       "      <td>1.0</td>\n",
       "      <td>0.0</td>\n",
       "      <td>1.0</td>\n",
       "      <td>1.0</td>\n",
       "      <td>0.0</td>\n",
       "      <td>1.0</td>\n",
       "      <td>0.0</td>\n",
       "      <td>0.0</td>\n",
       "      <td>0.0</td>\n",
       "      <td>0.0</td>\n",
       "      <td>0.0</td>\n",
       "      <td>NaN</td>\n",
       "      <td>3.0</td>\n",
       "      <td>3.0</td>\n",
       "      <td>2.0</td>\n",
       "      <td>3.0</td>\n",
       "      <td>1.0</td>\n",
       "      <td>4.0</td>\n",
       "      <td>45 - 54 Years</td>\n",
       "      <td>Some College</td>\n",
       "      <td>White</td>\n",
       "      <td>Female</td>\n",
       "      <td>&lt;= $75,000, Above Poverty</td>\n",
       "      <td>Married</td>\n",
       "      <td>Own</td>\n",
       "      <td>Employed</td>\n",
       "      <td>qufhixun</td>\n",
       "      <td>MSA, Not Principle  City</td>\n",
       "      <td>1.0</td>\n",
       "      <td>0.0</td>\n",
       "      <td>wxleyezf</td>\n",
       "      <td>emcorrxb</td>\n",
       "    </tr>\n",
       "  </tbody>\n",
       "</table>\n",
       "</div>"
      ],
      "text/plain": [
       "   respondent_id  h1n1_concern  h1n1_knowledge  behavioral_antiviral_meds  \\\n",
       "0              0           1.0             0.0                        0.0   \n",
       "1              1           3.0             2.0                        0.0   \n",
       "2              2           1.0             1.0                        0.0   \n",
       "3              3           1.0             1.0                        0.0   \n",
       "4              4           2.0             1.0                        0.0   \n",
       "\n",
       "   behavioral_avoidance  behavioral_face_mask  behavioral_wash_hands  \\\n",
       "0                   0.0                   0.0                    0.0   \n",
       "1                   1.0                   0.0                    1.0   \n",
       "2                   1.0                   0.0                    0.0   \n",
       "3                   1.0                   0.0                    1.0   \n",
       "4                   1.0                   0.0                    1.0   \n",
       "\n",
       "   behavioral_large_gatherings  behavioral_outside_home  \\\n",
       "0                          0.0                      1.0   \n",
       "1                          0.0                      1.0   \n",
       "2                          0.0                      0.0   \n",
       "3                          1.0                      0.0   \n",
       "4                          1.0                      0.0   \n",
       "\n",
       "   behavioral_touch_face  doctor_recc_h1n1  doctor_recc_seasonal  \\\n",
       "0                    1.0               0.0                   0.0   \n",
       "1                    1.0               0.0                   0.0   \n",
       "2                    0.0               NaN                   NaN   \n",
       "3                    0.0               0.0                   1.0   \n",
       "4                    1.0               0.0                   0.0   \n",
       "\n",
       "   chronic_med_condition  child_under_6_months  health_worker  \\\n",
       "0                    0.0                   0.0            0.0   \n",
       "1                    0.0                   0.0            0.0   \n",
       "2                    1.0                   0.0            0.0   \n",
       "3                    1.0                   0.0            0.0   \n",
       "4                    0.0                   0.0            0.0   \n",
       "\n",
       "   health_insurance  opinion_h1n1_vacc_effective  opinion_h1n1_risk  \\\n",
       "0               1.0                          3.0                1.0   \n",
       "1               1.0                          5.0                4.0   \n",
       "2               NaN                          3.0                1.0   \n",
       "3               NaN                          3.0                3.0   \n",
       "4               NaN                          3.0                3.0   \n",
       "\n",
       "   opinion_h1n1_sick_from_vacc  opinion_seas_vacc_effective  \\\n",
       "0                          2.0                          2.0   \n",
       "1                          4.0                          4.0   \n",
       "2                          1.0                          4.0   \n",
       "3                          5.0                          5.0   \n",
       "4                          2.0                          3.0   \n",
       "\n",
       "   opinion_seas_risk  opinion_seas_sick_from_vacc      age_group  \\\n",
       "0                1.0                          2.0  55 - 64 Years   \n",
       "1                2.0                          4.0  35 - 44 Years   \n",
       "2                1.0                          2.0  18 - 34 Years   \n",
       "3                4.0                          1.0      65+ Years   \n",
       "4                1.0                          4.0  45 - 54 Years   \n",
       "\n",
       "          education   race     sex             income_poverty marital_status  \\\n",
       "0        < 12 Years  White  Female              Below Poverty    Not Married   \n",
       "1          12 Years  White    Male              Below Poverty    Not Married   \n",
       "2  College Graduate  White    Male  <= $75,000, Above Poverty    Not Married   \n",
       "3          12 Years  White  Female              Below Poverty    Not Married   \n",
       "4      Some College  White  Female  <= $75,000, Above Poverty        Married   \n",
       "\n",
       "  rent_or_own   employment_status hhs_geo_region                census_msa  \\\n",
       "0         Own  Not in Labor Force       oxchjgsf                   Non-MSA   \n",
       "1        Rent            Employed       bhuqouqj  MSA, Not Principle  City   \n",
       "2         Own            Employed       qufhixun  MSA, Not Principle  City   \n",
       "3        Rent  Not in Labor Force       lrircsnp       MSA, Principle City   \n",
       "4         Own            Employed       qufhixun  MSA, Not Principle  City   \n",
       "\n",
       "   household_adults  household_children employment_industry  \\\n",
       "0               0.0                 0.0                 NaN   \n",
       "1               0.0                 0.0            pxcmvdjn   \n",
       "2               2.0                 0.0            rucpziij   \n",
       "3               0.0                 0.0                 NaN   \n",
       "4               1.0                 0.0            wxleyezf   \n",
       "\n",
       "  employment_occupation  \n",
       "0                   NaN  \n",
       "1              xgwztkwe  \n",
       "2              xtkaffoo  \n",
       "3                   NaN  \n",
       "4              emcorrxb  "
      ]
     },
<<<<<<< HEAD
<<<<<<< HEAD
<<<<<<< HEAD
     "execution_count": 3,
=======
     "execution_count": 41,
>>>>>>> 51d9e99e954723218d8902c654ad9f06e551671a
=======
     "execution_count": 378,
>>>>>>> f55d197c1325bb9dd41bd183e80ed0e8701a19e7
=======
     "execution_count": 3,
>>>>>>> 009c10c0bd28f7dd01433854d9e13e4af220ff2c
     "metadata": {},
     "output_type": "execute_result"
    }
   ],
   "source": [
    "# Reading in training data\n",
    "\n",
    "h1n1_train = pd.read_csv('data/training_set_features.csv')\n",
    "h1n1_train.head()"
   ]
  },
  {
   "cell_type": "code",
<<<<<<< HEAD
<<<<<<< HEAD
<<<<<<< HEAD
   "execution_count": 4,
=======
   "execution_count": 42,
>>>>>>> 51d9e99e954723218d8902c654ad9f06e551671a
=======
   "execution_count": 379,
>>>>>>> f55d197c1325bb9dd41bd183e80ed0e8701a19e7
=======
   "execution_count": 4,
>>>>>>> 009c10c0bd28f7dd01433854d9e13e4af220ff2c
   "metadata": {},
   "outputs": [
    {
     "name": "stdout",
     "output_type": "stream",
     "text": [
      "<class 'pandas.core.frame.DataFrame'>\n",
      "RangeIndex: 26707 entries, 0 to 26706\n",
      "Data columns (total 36 columns):\n",
      " #   Column                       Non-Null Count  Dtype  \n",
      "---  ------                       --------------  -----  \n",
      " 0   respondent_id                26707 non-null  int64  \n",
      " 1   h1n1_concern                 26615 non-null  float64\n",
      " 2   h1n1_knowledge               26591 non-null  float64\n",
      " 3   behavioral_antiviral_meds    26636 non-null  float64\n",
      " 4   behavioral_avoidance         26499 non-null  float64\n",
      " 5   behavioral_face_mask         26688 non-null  float64\n",
      " 6   behavioral_wash_hands        26665 non-null  float64\n",
      " 7   behavioral_large_gatherings  26620 non-null  float64\n",
      " 8   behavioral_outside_home      26625 non-null  float64\n",
      " 9   behavioral_touch_face        26579 non-null  float64\n",
      " 10  doctor_recc_h1n1             24547 non-null  float64\n",
      " 11  doctor_recc_seasonal         24547 non-null  float64\n",
      " 12  chronic_med_condition        25736 non-null  float64\n",
      " 13  child_under_6_months         25887 non-null  float64\n",
      " 14  health_worker                25903 non-null  float64\n",
      " 15  health_insurance             14433 non-null  float64\n",
      " 16  opinion_h1n1_vacc_effective  26316 non-null  float64\n",
      " 17  opinion_h1n1_risk            26319 non-null  float64\n",
      " 18  opinion_h1n1_sick_from_vacc  26312 non-null  float64\n",
      " 19  opinion_seas_vacc_effective  26245 non-null  float64\n",
      " 20  opinion_seas_risk            26193 non-null  float64\n",
      " 21  opinion_seas_sick_from_vacc  26170 non-null  float64\n",
      " 22  age_group                    26707 non-null  object \n",
      " 23  education                    25300 non-null  object \n",
      " 24  race                         26707 non-null  object \n",
      " 25  sex                          26707 non-null  object \n",
      " 26  income_poverty               22284 non-null  object \n",
      " 27  marital_status               25299 non-null  object \n",
      " 28  rent_or_own                  24665 non-null  object \n",
      " 29  employment_status            25244 non-null  object \n",
      " 30  hhs_geo_region               26707 non-null  object \n",
      " 31  census_msa                   26707 non-null  object \n",
      " 32  household_adults             26458 non-null  float64\n",
      " 33  household_children           26458 non-null  float64\n",
      " 34  employment_industry          13377 non-null  object \n",
      " 35  employment_occupation        13237 non-null  object \n",
      "dtypes: float64(23), int64(1), object(12)\n",
      "memory usage: 7.3+ MB\n"
     ]
    }
   ],
   "source": [
    "h1n1_train.info()"
   ]
  },
  {
   "cell_type": "code",
<<<<<<< HEAD
<<<<<<< HEAD
<<<<<<< HEAD
   "execution_count": 5,
=======
   "execution_count": 43,
>>>>>>> 51d9e99e954723218d8902c654ad9f06e551671a
=======
   "execution_count": 380,
>>>>>>> f55d197c1325bb9dd41bd183e80ed0e8701a19e7
=======
   "execution_count": 5,
>>>>>>> 009c10c0bd28f7dd01433854d9e13e4af220ff2c
   "metadata": {},
   "outputs": [
    {
     "data": {
      "text/html": [
       "<div>\n",
       "<style scoped>\n",
       "    .dataframe tbody tr th:only-of-type {\n",
       "        vertical-align: middle;\n",
       "    }\n",
       "\n",
       "    .dataframe tbody tr th {\n",
       "        vertical-align: top;\n",
       "    }\n",
       "\n",
       "    .dataframe thead th {\n",
       "        text-align: right;\n",
       "    }\n",
       "</style>\n",
       "<table border=\"1\" class=\"dataframe\">\n",
       "  <thead>\n",
       "    <tr style=\"text-align: right;\">\n",
       "      <th></th>\n",
       "      <th>respondent_id</th>\n",
       "      <th>h1n1_vaccine</th>\n",
       "      <th>seasonal_vaccine</th>\n",
       "    </tr>\n",
       "  </thead>\n",
       "  <tbody>\n",
       "    <tr>\n",
       "      <th>0</th>\n",
       "      <td>0</td>\n",
       "      <td>0</td>\n",
       "      <td>0</td>\n",
       "    </tr>\n",
       "    <tr>\n",
       "      <th>1</th>\n",
       "      <td>1</td>\n",
       "      <td>0</td>\n",
       "      <td>1</td>\n",
       "    </tr>\n",
       "    <tr>\n",
       "      <th>2</th>\n",
       "      <td>2</td>\n",
       "      <td>0</td>\n",
       "      <td>0</td>\n",
       "    </tr>\n",
       "    <tr>\n",
       "      <th>3</th>\n",
       "      <td>3</td>\n",
       "      <td>0</td>\n",
       "      <td>1</td>\n",
       "    </tr>\n",
       "    <tr>\n",
       "      <th>4</th>\n",
       "      <td>4</td>\n",
       "      <td>0</td>\n",
       "      <td>0</td>\n",
       "    </tr>\n",
       "    <tr>\n",
       "      <th>...</th>\n",
       "      <td>...</td>\n",
       "      <td>...</td>\n",
       "      <td>...</td>\n",
       "    </tr>\n",
       "    <tr>\n",
       "      <th>26702</th>\n",
       "      <td>26702</td>\n",
       "      <td>0</td>\n",
       "      <td>0</td>\n",
       "    </tr>\n",
       "    <tr>\n",
       "      <th>26703</th>\n",
       "      <td>26703</td>\n",
       "      <td>0</td>\n",
       "      <td>0</td>\n",
       "    </tr>\n",
       "    <tr>\n",
       "      <th>26704</th>\n",
       "      <td>26704</td>\n",
       "      <td>0</td>\n",
       "      <td>1</td>\n",
       "    </tr>\n",
       "    <tr>\n",
       "      <th>26705</th>\n",
       "      <td>26705</td>\n",
       "      <td>0</td>\n",
       "      <td>0</td>\n",
       "    </tr>\n",
       "    <tr>\n",
       "      <th>26706</th>\n",
       "      <td>26706</td>\n",
       "      <td>0</td>\n",
       "      <td>0</td>\n",
       "    </tr>\n",
       "  </tbody>\n",
       "</table>\n",
       "<p>26707 rows × 3 columns</p>\n",
       "</div>"
      ],
      "text/plain": [
       "       respondent_id  h1n1_vaccine  seasonal_vaccine\n",
       "0                  0             0                 0\n",
       "1                  1             0                 1\n",
       "2                  2             0                 0\n",
       "3                  3             0                 1\n",
       "4                  4             0                 0\n",
       "...              ...           ...               ...\n",
       "26702          26702             0                 0\n",
       "26703          26703             0                 0\n",
       "26704          26704             0                 1\n",
       "26705          26705             0                 0\n",
       "26706          26706             0                 0\n",
       "\n",
       "[26707 rows x 3 columns]"
      ]
     },
<<<<<<< HEAD
<<<<<<< HEAD
<<<<<<< HEAD
     "execution_count": 5,
=======
     "execution_count": 43,
>>>>>>> 51d9e99e954723218d8902c654ad9f06e551671a
=======
     "execution_count": 380,
>>>>>>> f55d197c1325bb9dd41bd183e80ed0e8701a19e7
=======
     "execution_count": 5,
>>>>>>> 009c10c0bd28f7dd01433854d9e13e4af220ff2c
     "metadata": {},
     "output_type": "execute_result"
    }
   ],
   "source": [
    "# Reading in training label data containing the targets for seasonal and H1N1 vaccination\n",
    "\n",
    "training_labels = pd.read_csv('./data/training_set_labels.csv')\n",
    "training_labels"
   ]
  },
  {
   "cell_type": "code",
<<<<<<< HEAD
<<<<<<< HEAD
<<<<<<< HEAD
   "execution_count": 6,
=======
   "execution_count": 44,
>>>>>>> 51d9e99e954723218d8902c654ad9f06e551671a
=======
   "execution_count": 381,
>>>>>>> f55d197c1325bb9dd41bd183e80ed0e8701a19e7
=======
   "execution_count": 6,
>>>>>>> 009c10c0bd28f7dd01433854d9e13e4af220ff2c
   "metadata": {},
   "outputs": [
    {
     "data": {
      "text/plain": [
       "respondent_id       26707\n",
       "h1n1_vaccine            2\n",
       "seasonal_vaccine        2\n",
       "dtype: int64"
      ]
     },
<<<<<<< HEAD
<<<<<<< HEAD
<<<<<<< HEAD
     "execution_count": 6,
=======
     "execution_count": 44,
>>>>>>> 51d9e99e954723218d8902c654ad9f06e551671a
=======
     "execution_count": 381,
>>>>>>> f55d197c1325bb9dd41bd183e80ed0e8701a19e7
=======
     "execution_count": 6,
>>>>>>> 009c10c0bd28f7dd01433854d9e13e4af220ff2c
     "metadata": {},
     "output_type": "execute_result"
    }
   ],
   "source": [
    "# Checking for duplicates in labels df\n",
    "training_labels.nunique()"
   ]
  },
  {
   "cell_type": "code",
<<<<<<< HEAD
<<<<<<< HEAD
<<<<<<< HEAD
   "execution_count": 7,
=======
   "execution_count": 45,
>>>>>>> 51d9e99e954723218d8902c654ad9f06e551671a
=======
   "execution_count": 382,
>>>>>>> f55d197c1325bb9dd41bd183e80ed0e8701a19e7
=======
   "execution_count": 7,
>>>>>>> 009c10c0bd28f7dd01433854d9e13e4af220ff2c
   "metadata": {},
   "outputs": [
    {
     "data": {
      "text/html": [
       "<div>\n",
       "<style scoped>\n",
       "    .dataframe tbody tr th:only-of-type {\n",
       "        vertical-align: middle;\n",
       "    }\n",
       "\n",
       "    .dataframe tbody tr th {\n",
       "        vertical-align: top;\n",
       "    }\n",
       "\n",
       "    .dataframe thead th {\n",
       "        text-align: right;\n",
       "    }\n",
       "</style>\n",
       "<table border=\"1\" class=\"dataframe\">\n",
       "  <thead>\n",
       "    <tr style=\"text-align: right;\">\n",
       "      <th></th>\n",
       "      <th>respondent_id</th>\n",
       "      <th>h1n1_vaccine</th>\n",
       "      <th>seasonal_vaccine</th>\n",
       "      <th>h1n1_concern</th>\n",
       "      <th>h1n1_knowledge</th>\n",
       "      <th>behavioral_antiviral_meds</th>\n",
       "      <th>behavioral_avoidance</th>\n",
       "      <th>behavioral_face_mask</th>\n",
       "      <th>behavioral_wash_hands</th>\n",
       "      <th>behavioral_large_gatherings</th>\n",
       "      <th>behavioral_outside_home</th>\n",
       "      <th>behavioral_touch_face</th>\n",
       "      <th>doctor_recc_h1n1</th>\n",
       "      <th>doctor_recc_seasonal</th>\n",
       "      <th>chronic_med_condition</th>\n",
       "      <th>child_under_6_months</th>\n",
       "      <th>health_worker</th>\n",
       "      <th>health_insurance</th>\n",
       "      <th>opinion_h1n1_vacc_effective</th>\n",
       "      <th>opinion_h1n1_risk</th>\n",
       "      <th>opinion_h1n1_sick_from_vacc</th>\n",
       "      <th>opinion_seas_vacc_effective</th>\n",
       "      <th>opinion_seas_risk</th>\n",
       "      <th>opinion_seas_sick_from_vacc</th>\n",
       "      <th>age_group</th>\n",
       "      <th>education</th>\n",
       "      <th>race</th>\n",
       "      <th>sex</th>\n",
       "      <th>income_poverty</th>\n",
       "      <th>marital_status</th>\n",
       "      <th>rent_or_own</th>\n",
       "      <th>employment_status</th>\n",
       "      <th>hhs_geo_region</th>\n",
       "      <th>census_msa</th>\n",
       "      <th>household_adults</th>\n",
       "      <th>household_children</th>\n",
       "      <th>employment_industry</th>\n",
       "      <th>employment_occupation</th>\n",
       "    </tr>\n",
       "  </thead>\n",
       "  <tbody>\n",
       "    <tr>\n",
       "      <th>0</th>\n",
       "      <td>0</td>\n",
       "      <td>0</td>\n",
       "      <td>0</td>\n",
       "      <td>1.0</td>\n",
       "      <td>0.0</td>\n",
       "      <td>0.0</td>\n",
       "      <td>0.0</td>\n",
       "      <td>0.0</td>\n",
       "      <td>0.0</td>\n",
       "      <td>0.0</td>\n",
       "      <td>1.0</td>\n",
       "      <td>1.0</td>\n",
       "      <td>0.0</td>\n",
       "      <td>0.0</td>\n",
       "      <td>0.0</td>\n",
       "      <td>0.0</td>\n",
       "      <td>0.0</td>\n",
       "      <td>1.0</td>\n",
       "      <td>3.0</td>\n",
       "      <td>1.0</td>\n",
       "      <td>2.0</td>\n",
       "      <td>2.0</td>\n",
       "      <td>1.0</td>\n",
       "      <td>2.0</td>\n",
       "      <td>55 - 64 Years</td>\n",
       "      <td>&lt; 12 Years</td>\n",
       "      <td>White</td>\n",
       "      <td>Female</td>\n",
       "      <td>Below Poverty</td>\n",
       "      <td>Not Married</td>\n",
       "      <td>Own</td>\n",
       "      <td>Not in Labor Force</td>\n",
       "      <td>oxchjgsf</td>\n",
       "      <td>Non-MSA</td>\n",
       "      <td>0.0</td>\n",
       "      <td>0.0</td>\n",
       "      <td>NaN</td>\n",
       "      <td>NaN</td>\n",
       "    </tr>\n",
       "    <tr>\n",
       "      <th>1</th>\n",
       "      <td>1</td>\n",
       "      <td>0</td>\n",
       "      <td>1</td>\n",
       "      <td>3.0</td>\n",
       "      <td>2.0</td>\n",
       "      <td>0.0</td>\n",
       "      <td>1.0</td>\n",
       "      <td>0.0</td>\n",
       "      <td>1.0</td>\n",
       "      <td>0.0</td>\n",
       "      <td>1.0</td>\n",
       "      <td>1.0</td>\n",
       "      <td>0.0</td>\n",
       "      <td>0.0</td>\n",
       "      <td>0.0</td>\n",
       "      <td>0.0</td>\n",
       "      <td>0.0</td>\n",
       "      <td>1.0</td>\n",
       "      <td>5.0</td>\n",
       "      <td>4.0</td>\n",
       "      <td>4.0</td>\n",
       "      <td>4.0</td>\n",
       "      <td>2.0</td>\n",
       "      <td>4.0</td>\n",
       "      <td>35 - 44 Years</td>\n",
       "      <td>12 Years</td>\n",
       "      <td>White</td>\n",
       "      <td>Male</td>\n",
       "      <td>Below Poverty</td>\n",
       "      <td>Not Married</td>\n",
       "      <td>Rent</td>\n",
       "      <td>Employed</td>\n",
       "      <td>bhuqouqj</td>\n",
       "      <td>MSA, Not Principle  City</td>\n",
       "      <td>0.0</td>\n",
       "      <td>0.0</td>\n",
       "      <td>pxcmvdjn</td>\n",
       "      <td>xgwztkwe</td>\n",
       "    </tr>\n",
       "    <tr>\n",
       "      <th>2</th>\n",
       "      <td>2</td>\n",
       "      <td>0</td>\n",
       "      <td>0</td>\n",
       "      <td>1.0</td>\n",
       "      <td>1.0</td>\n",
       "      <td>0.0</td>\n",
       "      <td>1.0</td>\n",
       "      <td>0.0</td>\n",
       "      <td>0.0</td>\n",
       "      <td>0.0</td>\n",
       "      <td>0.0</td>\n",
       "      <td>0.0</td>\n",
       "      <td>NaN</td>\n",
       "      <td>NaN</td>\n",
       "      <td>1.0</td>\n",
       "      <td>0.0</td>\n",
       "      <td>0.0</td>\n",
       "      <td>NaN</td>\n",
       "      <td>3.0</td>\n",
       "      <td>1.0</td>\n",
       "      <td>1.0</td>\n",
       "      <td>4.0</td>\n",
       "      <td>1.0</td>\n",
       "      <td>2.0</td>\n",
       "      <td>18 - 34 Years</td>\n",
       "      <td>College Graduate</td>\n",
       "      <td>White</td>\n",
       "      <td>Male</td>\n",
       "      <td>&lt;= $75,000, Above Poverty</td>\n",
       "      <td>Not Married</td>\n",
       "      <td>Own</td>\n",
       "      <td>Employed</td>\n",
       "      <td>qufhixun</td>\n",
       "      <td>MSA, Not Principle  City</td>\n",
       "      <td>2.0</td>\n",
       "      <td>0.0</td>\n",
       "      <td>rucpziij</td>\n",
       "      <td>xtkaffoo</td>\n",
       "    </tr>\n",
       "    <tr>\n",
       "      <th>3</th>\n",
       "      <td>3</td>\n",
       "      <td>0</td>\n",
       "      <td>1</td>\n",
       "      <td>1.0</td>\n",
       "      <td>1.0</td>\n",
       "      <td>0.0</td>\n",
       "      <td>1.0</td>\n",
       "      <td>0.0</td>\n",
       "      <td>1.0</td>\n",
       "      <td>1.0</td>\n",
       "      <td>0.0</td>\n",
       "      <td>0.0</td>\n",
       "      <td>0.0</td>\n",
       "      <td>1.0</td>\n",
       "      <td>1.0</td>\n",
       "      <td>0.0</td>\n",
       "      <td>0.0</td>\n",
       "      <td>NaN</td>\n",
       "      <td>3.0</td>\n",
       "      <td>3.0</td>\n",
       "      <td>5.0</td>\n",
       "      <td>5.0</td>\n",
       "      <td>4.0</td>\n",
       "      <td>1.0</td>\n",
       "      <td>65+ Years</td>\n",
       "      <td>12 Years</td>\n",
       "      <td>White</td>\n",
       "      <td>Female</td>\n",
       "      <td>Below Poverty</td>\n",
       "      <td>Not Married</td>\n",
       "      <td>Rent</td>\n",
       "      <td>Not in Labor Force</td>\n",
       "      <td>lrircsnp</td>\n",
       "      <td>MSA, Principle City</td>\n",
       "      <td>0.0</td>\n",
       "      <td>0.0</td>\n",
       "      <td>NaN</td>\n",
       "      <td>NaN</td>\n",
       "    </tr>\n",
       "    <tr>\n",
       "      <th>4</th>\n",
       "      <td>4</td>\n",
       "      <td>0</td>\n",
       "      <td>0</td>\n",
       "      <td>2.0</td>\n",
       "      <td>1.0</td>\n",
       "      <td>0.0</td>\n",
       "      <td>1.0</td>\n",
       "      <td>0.0</td>\n",
       "      <td>1.0</td>\n",
       "      <td>1.0</td>\n",
       "      <td>0.0</td>\n",
       "      <td>1.0</td>\n",
       "      <td>0.0</td>\n",
       "      <td>0.0</td>\n",
       "      <td>0.0</td>\n",
       "      <td>0.0</td>\n",
       "      <td>0.0</td>\n",
       "      <td>NaN</td>\n",
       "      <td>3.0</td>\n",
       "      <td>3.0</td>\n",
       "      <td>2.0</td>\n",
       "      <td>3.0</td>\n",
       "      <td>1.0</td>\n",
       "      <td>4.0</td>\n",
       "      <td>45 - 54 Years</td>\n",
       "      <td>Some College</td>\n",
       "      <td>White</td>\n",
       "      <td>Female</td>\n",
       "      <td>&lt;= $75,000, Above Poverty</td>\n",
       "      <td>Married</td>\n",
       "      <td>Own</td>\n",
       "      <td>Employed</td>\n",
       "      <td>qufhixun</td>\n",
       "      <td>MSA, Not Principle  City</td>\n",
       "      <td>1.0</td>\n",
       "      <td>0.0</td>\n",
       "      <td>wxleyezf</td>\n",
       "      <td>emcorrxb</td>\n",
       "    </tr>\n",
       "    <tr>\n",
       "      <th>...</th>\n",
       "      <td>...</td>\n",
       "      <td>...</td>\n",
       "      <td>...</td>\n",
       "      <td>...</td>\n",
       "      <td>...</td>\n",
       "      <td>...</td>\n",
       "      <td>...</td>\n",
       "      <td>...</td>\n",
       "      <td>...</td>\n",
       "      <td>...</td>\n",
       "      <td>...</td>\n",
       "      <td>...</td>\n",
       "      <td>...</td>\n",
       "      <td>...</td>\n",
       "      <td>...</td>\n",
       "      <td>...</td>\n",
       "      <td>...</td>\n",
       "      <td>...</td>\n",
       "      <td>...</td>\n",
       "      <td>...</td>\n",
       "      <td>...</td>\n",
       "      <td>...</td>\n",
       "      <td>...</td>\n",
       "      <td>...</td>\n",
       "      <td>...</td>\n",
       "      <td>...</td>\n",
       "      <td>...</td>\n",
       "      <td>...</td>\n",
       "      <td>...</td>\n",
       "      <td>...</td>\n",
       "      <td>...</td>\n",
       "      <td>...</td>\n",
       "      <td>...</td>\n",
       "      <td>...</td>\n",
       "      <td>...</td>\n",
       "      <td>...</td>\n",
       "      <td>...</td>\n",
       "      <td>...</td>\n",
       "    </tr>\n",
       "    <tr>\n",
       "      <th>26702</th>\n",
       "      <td>26702</td>\n",
       "      <td>0</td>\n",
       "      <td>0</td>\n",
       "      <td>2.0</td>\n",
       "      <td>0.0</td>\n",
       "      <td>0.0</td>\n",
       "      <td>1.0</td>\n",
       "      <td>0.0</td>\n",
       "      <td>0.0</td>\n",
       "      <td>0.0</td>\n",
       "      <td>1.0</td>\n",
       "      <td>0.0</td>\n",
       "      <td>0.0</td>\n",
       "      <td>0.0</td>\n",
       "      <td>0.0</td>\n",
       "      <td>0.0</td>\n",
       "      <td>0.0</td>\n",
       "      <td>NaN</td>\n",
       "      <td>3.0</td>\n",
       "      <td>1.0</td>\n",
       "      <td>1.0</td>\n",
       "      <td>5.0</td>\n",
       "      <td>2.0</td>\n",
       "      <td>2.0</td>\n",
       "      <td>65+ Years</td>\n",
       "      <td>Some College</td>\n",
       "      <td>White</td>\n",
       "      <td>Female</td>\n",
       "      <td>&lt;= $75,000, Above Poverty</td>\n",
       "      <td>Not Married</td>\n",
       "      <td>Own</td>\n",
       "      <td>Not in Labor Force</td>\n",
       "      <td>qufhixun</td>\n",
       "      <td>Non-MSA</td>\n",
       "      <td>0.0</td>\n",
       "      <td>0.0</td>\n",
       "      <td>NaN</td>\n",
       "      <td>NaN</td>\n",
       "    </tr>\n",
       "    <tr>\n",
       "      <th>26703</th>\n",
       "      <td>26703</td>\n",
       "      <td>0</td>\n",
       "      <td>0</td>\n",
       "      <td>1.0</td>\n",
       "      <td>2.0</td>\n",
       "      <td>0.0</td>\n",
       "      <td>1.0</td>\n",
       "      <td>0.0</td>\n",
       "      <td>1.0</td>\n",
       "      <td>0.0</td>\n",
       "      <td>0.0</td>\n",
       "      <td>0.0</td>\n",
       "      <td>1.0</td>\n",
       "      <td>1.0</td>\n",
       "      <td>0.0</td>\n",
       "      <td>0.0</td>\n",
       "      <td>1.0</td>\n",
       "      <td>1.0</td>\n",
       "      <td>4.0</td>\n",
       "      <td>2.0</td>\n",
       "      <td>2.0</td>\n",
       "      <td>5.0</td>\n",
       "      <td>1.0</td>\n",
       "      <td>1.0</td>\n",
       "      <td>18 - 34 Years</td>\n",
       "      <td>College Graduate</td>\n",
       "      <td>White</td>\n",
       "      <td>Male</td>\n",
       "      <td>&lt;= $75,000, Above Poverty</td>\n",
       "      <td>Not Married</td>\n",
       "      <td>Rent</td>\n",
       "      <td>Employed</td>\n",
       "      <td>lzgpxyit</td>\n",
       "      <td>MSA, Principle City</td>\n",
       "      <td>1.0</td>\n",
       "      <td>0.0</td>\n",
       "      <td>fcxhlnwr</td>\n",
       "      <td>cmhcxjea</td>\n",
       "    </tr>\n",
       "    <tr>\n",
       "      <th>26704</th>\n",
       "      <td>26704</td>\n",
       "      <td>0</td>\n",
       "      <td>1</td>\n",
       "      <td>2.0</td>\n",
       "      <td>2.0</td>\n",
       "      <td>0.0</td>\n",
       "      <td>1.0</td>\n",
       "      <td>1.0</td>\n",
       "      <td>1.0</td>\n",
       "      <td>1.0</td>\n",
       "      <td>0.0</td>\n",
       "      <td>1.0</td>\n",
       "      <td>0.0</td>\n",
       "      <td>0.0</td>\n",
       "      <td>0.0</td>\n",
       "      <td>0.0</td>\n",
       "      <td>0.0</td>\n",
       "      <td>NaN</td>\n",
       "      <td>4.0</td>\n",
       "      <td>4.0</td>\n",
       "      <td>2.0</td>\n",
       "      <td>5.0</td>\n",
       "      <td>4.0</td>\n",
       "      <td>2.0</td>\n",
       "      <td>55 - 64 Years</td>\n",
       "      <td>Some College</td>\n",
       "      <td>White</td>\n",
       "      <td>Female</td>\n",
       "      <td>NaN</td>\n",
       "      <td>Not Married</td>\n",
       "      <td>Own</td>\n",
       "      <td>NaN</td>\n",
       "      <td>lzgpxyit</td>\n",
       "      <td>MSA, Not Principle  City</td>\n",
       "      <td>0.0</td>\n",
       "      <td>0.0</td>\n",
       "      <td>NaN</td>\n",
       "      <td>NaN</td>\n",
       "    </tr>\n",
       "    <tr>\n",
       "      <th>26705</th>\n",
       "      <td>26705</td>\n",
       "      <td>0</td>\n",
       "      <td>0</td>\n",
       "      <td>1.0</td>\n",
       "      <td>1.0</td>\n",
       "      <td>0.0</td>\n",
       "      <td>0.0</td>\n",
       "      <td>0.0</td>\n",
       "      <td>0.0</td>\n",
       "      <td>0.0</td>\n",
       "      <td>0.0</td>\n",
       "      <td>NaN</td>\n",
       "      <td>0.0</td>\n",
       "      <td>0.0</td>\n",
       "      <td>0.0</td>\n",
       "      <td>0.0</td>\n",
       "      <td>0.0</td>\n",
       "      <td>0.0</td>\n",
       "      <td>3.0</td>\n",
       "      <td>1.0</td>\n",
       "      <td>2.0</td>\n",
       "      <td>2.0</td>\n",
       "      <td>1.0</td>\n",
       "      <td>2.0</td>\n",
       "      <td>18 - 34 Years</td>\n",
       "      <td>Some College</td>\n",
       "      <td>Hispanic</td>\n",
       "      <td>Female</td>\n",
       "      <td>&lt;= $75,000, Above Poverty</td>\n",
       "      <td>Married</td>\n",
       "      <td>Rent</td>\n",
       "      <td>Employed</td>\n",
       "      <td>lrircsnp</td>\n",
       "      <td>Non-MSA</td>\n",
       "      <td>1.0</td>\n",
       "      <td>0.0</td>\n",
       "      <td>fcxhlnwr</td>\n",
       "      <td>haliazsg</td>\n",
       "    </tr>\n",
       "    <tr>\n",
       "      <th>26706</th>\n",
       "      <td>26706</td>\n",
       "      <td>0</td>\n",
       "      <td>0</td>\n",
       "      <td>0.0</td>\n",
       "      <td>0.0</td>\n",
       "      <td>0.0</td>\n",
       "      <td>1.0</td>\n",
       "      <td>0.0</td>\n",
       "      <td>0.0</td>\n",
       "      <td>0.0</td>\n",
       "      <td>0.0</td>\n",
       "      <td>0.0</td>\n",
       "      <td>0.0</td>\n",
       "      <td>0.0</td>\n",
       "      <td>0.0</td>\n",
       "      <td>0.0</td>\n",
       "      <td>0.0</td>\n",
       "      <td>1.0</td>\n",
       "      <td>5.0</td>\n",
       "      <td>1.0</td>\n",
       "      <td>1.0</td>\n",
       "      <td>5.0</td>\n",
       "      <td>1.0</td>\n",
       "      <td>1.0</td>\n",
       "      <td>65+ Years</td>\n",
       "      <td>Some College</td>\n",
       "      <td>White</td>\n",
       "      <td>Male</td>\n",
       "      <td>&lt;= $75,000, Above Poverty</td>\n",
       "      <td>Married</td>\n",
       "      <td>Own</td>\n",
       "      <td>Not in Labor Force</td>\n",
       "      <td>mlyzmhmf</td>\n",
       "      <td>MSA, Principle City</td>\n",
       "      <td>1.0</td>\n",
       "      <td>0.0</td>\n",
       "      <td>NaN</td>\n",
       "      <td>NaN</td>\n",
       "    </tr>\n",
       "  </tbody>\n",
       "</table>\n",
       "<p>26707 rows × 38 columns</p>\n",
       "</div>"
      ],
      "text/plain": [
       "       respondent_id  h1n1_vaccine  seasonal_vaccine  h1n1_concern  \\\n",
       "0                  0             0                 0           1.0   \n",
       "1                  1             0                 1           3.0   \n",
       "2                  2             0                 0           1.0   \n",
       "3                  3             0                 1           1.0   \n",
       "4                  4             0                 0           2.0   \n",
       "...              ...           ...               ...           ...   \n",
       "26702          26702             0                 0           2.0   \n",
       "26703          26703             0                 0           1.0   \n",
       "26704          26704             0                 1           2.0   \n",
       "26705          26705             0                 0           1.0   \n",
       "26706          26706             0                 0           0.0   \n",
       "\n",
       "       h1n1_knowledge  behavioral_antiviral_meds  behavioral_avoidance  \\\n",
       "0                 0.0                        0.0                   0.0   \n",
       "1                 2.0                        0.0                   1.0   \n",
       "2                 1.0                        0.0                   1.0   \n",
       "3                 1.0                        0.0                   1.0   \n",
       "4                 1.0                        0.0                   1.0   \n",
       "...               ...                        ...                   ...   \n",
       "26702             0.0                        0.0                   1.0   \n",
       "26703             2.0                        0.0                   1.0   \n",
       "26704             2.0                        0.0                   1.0   \n",
       "26705             1.0                        0.0                   0.0   \n",
       "26706             0.0                        0.0                   1.0   \n",
       "\n",
       "       behavioral_face_mask  behavioral_wash_hands  \\\n",
       "0                       0.0                    0.0   \n",
       "1                       0.0                    1.0   \n",
       "2                       0.0                    0.0   \n",
       "3                       0.0                    1.0   \n",
       "4                       0.0                    1.0   \n",
       "...                     ...                    ...   \n",
       "26702                   0.0                    0.0   \n",
       "26703                   0.0                    1.0   \n",
       "26704                   1.0                    1.0   \n",
       "26705                   0.0                    0.0   \n",
       "26706                   0.0                    0.0   \n",
       "\n",
       "       behavioral_large_gatherings  behavioral_outside_home  \\\n",
       "0                              0.0                      1.0   \n",
       "1                              0.0                      1.0   \n",
       "2                              0.0                      0.0   \n",
       "3                              1.0                      0.0   \n",
       "4                              1.0                      0.0   \n",
       "...                            ...                      ...   \n",
       "26702                          0.0                      1.0   \n",
       "26703                          0.0                      0.0   \n",
       "26704                          1.0                      0.0   \n",
       "26705                          0.0                      0.0   \n",
       "26706                          0.0                      0.0   \n",
       "\n",
       "       behavioral_touch_face  doctor_recc_h1n1  doctor_recc_seasonal  \\\n",
       "0                        1.0               0.0                   0.0   \n",
       "1                        1.0               0.0                   0.0   \n",
       "2                        0.0               NaN                   NaN   \n",
       "3                        0.0               0.0                   1.0   \n",
       "4                        1.0               0.0                   0.0   \n",
       "...                      ...               ...                   ...   \n",
       "26702                    0.0               0.0                   0.0   \n",
       "26703                    0.0               1.0                   1.0   \n",
       "26704                    1.0               0.0                   0.0   \n",
       "26705                    NaN               0.0                   0.0   \n",
       "26706                    0.0               0.0                   0.0   \n",
       "\n",
       "       chronic_med_condition  child_under_6_months  health_worker  \\\n",
       "0                        0.0                   0.0            0.0   \n",
       "1                        0.0                   0.0            0.0   \n",
       "2                        1.0                   0.0            0.0   \n",
       "3                        1.0                   0.0            0.0   \n",
       "4                        0.0                   0.0            0.0   \n",
       "...                      ...                   ...            ...   \n",
       "26702                    0.0                   0.0            0.0   \n",
       "26703                    0.0                   0.0            1.0   \n",
       "26704                    0.0                   0.0            0.0   \n",
       "26705                    0.0                   0.0            0.0   \n",
       "26706                    0.0                   0.0            0.0   \n",
       "\n",
       "       health_insurance  opinion_h1n1_vacc_effective  opinion_h1n1_risk  \\\n",
       "0                   1.0                          3.0                1.0   \n",
       "1                   1.0                          5.0                4.0   \n",
       "2                   NaN                          3.0                1.0   \n",
       "3                   NaN                          3.0                3.0   \n",
       "4                   NaN                          3.0                3.0   \n",
       "...                 ...                          ...                ...   \n",
       "26702               NaN                          3.0                1.0   \n",
       "26703               1.0                          4.0                2.0   \n",
       "26704               NaN                          4.0                4.0   \n",
       "26705               0.0                          3.0                1.0   \n",
       "26706               1.0                          5.0                1.0   \n",
       "\n",
       "       opinion_h1n1_sick_from_vacc  opinion_seas_vacc_effective  \\\n",
       "0                              2.0                          2.0   \n",
       "1                              4.0                          4.0   \n",
       "2                              1.0                          4.0   \n",
       "3                              5.0                          5.0   \n",
       "4                              2.0                          3.0   \n",
       "...                            ...                          ...   \n",
       "26702                          1.0                          5.0   \n",
       "26703                          2.0                          5.0   \n",
       "26704                          2.0                          5.0   \n",
       "26705                          2.0                          2.0   \n",
       "26706                          1.0                          5.0   \n",
       "\n",
       "       opinion_seas_risk  opinion_seas_sick_from_vacc      age_group  \\\n",
       "0                    1.0                          2.0  55 - 64 Years   \n",
       "1                    2.0                          4.0  35 - 44 Years   \n",
       "2                    1.0                          2.0  18 - 34 Years   \n",
       "3                    4.0                          1.0      65+ Years   \n",
       "4                    1.0                          4.0  45 - 54 Years   \n",
       "...                  ...                          ...            ...   \n",
       "26702                2.0                          2.0      65+ Years   \n",
       "26703                1.0                          1.0  18 - 34 Years   \n",
       "26704                4.0                          2.0  55 - 64 Years   \n",
       "26705                1.0                          2.0  18 - 34 Years   \n",
       "26706                1.0                          1.0      65+ Years   \n",
       "\n",
       "              education      race     sex             income_poverty  \\\n",
       "0            < 12 Years     White  Female              Below Poverty   \n",
       "1              12 Years     White    Male              Below Poverty   \n",
       "2      College Graduate     White    Male  <= $75,000, Above Poverty   \n",
       "3              12 Years     White  Female              Below Poverty   \n",
       "4          Some College     White  Female  <= $75,000, Above Poverty   \n",
       "...                 ...       ...     ...                        ...   \n",
       "26702      Some College     White  Female  <= $75,000, Above Poverty   \n",
       "26703  College Graduate     White    Male  <= $75,000, Above Poverty   \n",
       "26704      Some College     White  Female                        NaN   \n",
       "26705      Some College  Hispanic  Female  <= $75,000, Above Poverty   \n",
       "26706      Some College     White    Male  <= $75,000, Above Poverty   \n",
       "\n",
       "      marital_status rent_or_own   employment_status hhs_geo_region  \\\n",
       "0        Not Married         Own  Not in Labor Force       oxchjgsf   \n",
       "1        Not Married        Rent            Employed       bhuqouqj   \n",
       "2        Not Married         Own            Employed       qufhixun   \n",
       "3        Not Married        Rent  Not in Labor Force       lrircsnp   \n",
       "4            Married         Own            Employed       qufhixun   \n",
       "...              ...         ...                 ...            ...   \n",
       "26702    Not Married         Own  Not in Labor Force       qufhixun   \n",
       "26703    Not Married        Rent            Employed       lzgpxyit   \n",
       "26704    Not Married         Own                 NaN       lzgpxyit   \n",
       "26705        Married        Rent            Employed       lrircsnp   \n",
       "26706        Married         Own  Not in Labor Force       mlyzmhmf   \n",
       "\n",
       "                     census_msa  household_adults  household_children  \\\n",
       "0                       Non-MSA               0.0                 0.0   \n",
       "1      MSA, Not Principle  City               0.0                 0.0   \n",
       "2      MSA, Not Principle  City               2.0                 0.0   \n",
       "3           MSA, Principle City               0.0                 0.0   \n",
       "4      MSA, Not Principle  City               1.0                 0.0   \n",
       "...                         ...               ...                 ...   \n",
       "26702                   Non-MSA               0.0                 0.0   \n",
       "26703       MSA, Principle City               1.0                 0.0   \n",
       "26704  MSA, Not Principle  City               0.0                 0.0   \n",
       "26705                   Non-MSA               1.0                 0.0   \n",
       "26706       MSA, Principle City               1.0                 0.0   \n",
       "\n",
       "      employment_industry employment_occupation  \n",
       "0                     NaN                   NaN  \n",
       "1                pxcmvdjn              xgwztkwe  \n",
       "2                rucpziij              xtkaffoo  \n",
       "3                     NaN                   NaN  \n",
       "4                wxleyezf              emcorrxb  \n",
       "...                   ...                   ...  \n",
       "26702                 NaN                   NaN  \n",
       "26703            fcxhlnwr              cmhcxjea  \n",
       "26704                 NaN                   NaN  \n",
       "26705            fcxhlnwr              haliazsg  \n",
       "26706                 NaN                   NaN  \n",
       "\n",
       "[26707 rows x 38 columns]"
      ]
     },
<<<<<<< HEAD
<<<<<<< HEAD
<<<<<<< HEAD
     "execution_count": 7,
=======
     "execution_count": 45,
>>>>>>> 51d9e99e954723218d8902c654ad9f06e551671a
=======
     "execution_count": 382,
>>>>>>> f55d197c1325bb9dd41bd183e80ed0e8701a19e7
=======
     "execution_count": 7,
>>>>>>> 009c10c0bd28f7dd01433854d9e13e4af220ff2c
     "metadata": {},
     "output_type": "execute_result"
    }
   ],
   "source": [
    "# Merging labels and training features dataset.\n",
    "\n",
    "vaccine_data = training_labels.merge(h1n1_train,how = 'left',left_on = 'respondent_id',right_on = 'respondent_id')\n",
    "vaccine_data"
   ]
  },
  {
   "cell_type": "code",
<<<<<<< HEAD
<<<<<<< HEAD
<<<<<<< HEAD
   "execution_count": 8,
=======
   "execution_count": 46,
>>>>>>> 51d9e99e954723218d8902c654ad9f06e551671a
=======
   "execution_count": 383,
>>>>>>> f55d197c1325bb9dd41bd183e80ed0e8701a19e7
=======
   "execution_count": 8,
>>>>>>> 009c10c0bd28f7dd01433854d9e13e4af220ff2c
   "metadata": {},
   "outputs": [
    {
     "name": "stdout",
     "output_type": "stream",
     "text": [
      "<class 'pandas.core.frame.DataFrame'>\n",
      "Int64Index: 26707 entries, 0 to 26706\n",
      "Data columns (total 38 columns):\n",
      " #   Column                       Non-Null Count  Dtype  \n",
      "---  ------                       --------------  -----  \n",
      " 0   respondent_id                26707 non-null  int64  \n",
      " 1   h1n1_vaccine                 26707 non-null  int64  \n",
      " 2   seasonal_vaccine             26707 non-null  int64  \n",
      " 3   h1n1_concern                 26615 non-null  float64\n",
      " 4   h1n1_knowledge               26591 non-null  float64\n",
      " 5   behavioral_antiviral_meds    26636 non-null  float64\n",
      " 6   behavioral_avoidance         26499 non-null  float64\n",
      " 7   behavioral_face_mask         26688 non-null  float64\n",
      " 8   behavioral_wash_hands        26665 non-null  float64\n",
      " 9   behavioral_large_gatherings  26620 non-null  float64\n",
      " 10  behavioral_outside_home      26625 non-null  float64\n",
      " 11  behavioral_touch_face        26579 non-null  float64\n",
      " 12  doctor_recc_h1n1             24547 non-null  float64\n",
      " 13  doctor_recc_seasonal         24547 non-null  float64\n",
      " 14  chronic_med_condition        25736 non-null  float64\n",
      " 15  child_under_6_months         25887 non-null  float64\n",
      " 16  health_worker                25903 non-null  float64\n",
      " 17  health_insurance             14433 non-null  float64\n",
      " 18  opinion_h1n1_vacc_effective  26316 non-null  float64\n",
      " 19  opinion_h1n1_risk            26319 non-null  float64\n",
      " 20  opinion_h1n1_sick_from_vacc  26312 non-null  float64\n",
      " 21  opinion_seas_vacc_effective  26245 non-null  float64\n",
      " 22  opinion_seas_risk            26193 non-null  float64\n",
      " 23  opinion_seas_sick_from_vacc  26170 non-null  float64\n",
      " 24  age_group                    26707 non-null  object \n",
      " 25  education                    25300 non-null  object \n",
      " 26  race                         26707 non-null  object \n",
      " 27  sex                          26707 non-null  object \n",
      " 28  income_poverty               22284 non-null  object \n",
      " 29  marital_status               25299 non-null  object \n",
      " 30  rent_or_own                  24665 non-null  object \n",
      " 31  employment_status            25244 non-null  object \n",
      " 32  hhs_geo_region               26707 non-null  object \n",
      " 33  census_msa                   26707 non-null  object \n",
      " 34  household_adults             26458 non-null  float64\n",
      " 35  household_children           26458 non-null  float64\n",
      " 36  employment_industry          13377 non-null  object \n",
      " 37  employment_occupation        13237 non-null  object \n",
      "dtypes: float64(23), int64(3), object(12)\n",
      "memory usage: 7.9+ MB\n"
     ]
    }
   ],
   "source": [
    "vaccine_data.info()"
   ]
  },
  {
   "cell_type": "markdown",
   "metadata": {},
   "source": [
    "#### Observations: \n",
    "- Large null values in health_insurance, employement_industry, employment_occupation \n",
    "- Survey allows for \"don't know\" and \"refused to answer\" choices, assuming that is the reason for nulls"
   ]
  },
  {
   "cell_type": "code",
<<<<<<< HEAD
<<<<<<< HEAD
<<<<<<< HEAD
   "execution_count": 9,
=======
   "execution_count": 47,
>>>>>>> 51d9e99e954723218d8902c654ad9f06e551671a
   "metadata": {
    "scrolled": true
   },
   "outputs": [
    {
     "name": "stdout",
     "output_type": "stream",
     "text": [
      "2047     1\n",
      "7657     1\n",
      "3371     1\n",
      "13612    1\n",
      "15661    1\n",
      "        ..\n",
      "12979    1\n",
      "2740     1\n",
      "693      1\n",
      "6838     1\n",
      "0        1\n",
      "Name: respondent_id, Length: 26707, dtype: int64\n",
      "0    21033\n",
      "1     5674\n",
      "Name: h1n1_vaccine, dtype: int64\n",
      "0    14272\n",
      "1    12435\n",
      "Name: seasonal_vaccine, dtype: int64\n",
      "2.0    10575\n",
      "1.0     8153\n",
      "3.0     4591\n",
      "0.0     3296\n",
      "Name: h1n1_concern, dtype: int64\n",
      "1.0    14598\n",
      "2.0     9487\n",
      "0.0     2506\n",
      "Name: h1n1_knowledge, dtype: int64\n",
      "0.0    25335\n",
      "1.0     1301\n",
      "Name: behavioral_antiviral_meds, dtype: int64\n",
      "1.0    19228\n",
      "0.0     7271\n",
      "Name: behavioral_avoidance, dtype: int64\n",
      "0.0    24847\n",
      "1.0     1841\n",
      "Name: behavioral_face_mask, dtype: int64\n",
      "1.0    22015\n",
      "0.0     4650\n",
      "Name: behavioral_wash_hands, dtype: int64\n",
      "0.0    17073\n",
      "1.0     9547\n",
      "Name: behavioral_large_gatherings, dtype: int64\n",
      "0.0    17644\n",
      "1.0     8981\n",
      "Name: behavioral_outside_home, dtype: int64\n",
      "1.0    18001\n",
      "0.0     8578\n",
      "Name: behavioral_touch_face, dtype: int64\n",
      "0.0    19139\n",
      "1.0     5408\n",
      "Name: doctor_recc_h1n1, dtype: int64\n",
      "0.0    16453\n",
      "1.0     8094\n",
      "Name: doctor_recc_seasonal, dtype: int64\n",
      "0.0    18446\n",
      "1.0     7290\n",
      "Name: chronic_med_condition, dtype: int64\n",
      "0.0    23749\n",
      "1.0     2138\n",
      "Name: child_under_6_months, dtype: int64\n",
      "0.0    23004\n",
      "1.0     2899\n",
      "Name: health_worker, dtype: int64\n",
      "1.0    12697\n",
      "0.0     1736\n",
      "Name: health_insurance, dtype: int64\n",
      "4.0    11683\n",
      "5.0     7166\n",
      "3.0     4723\n",
      "2.0     1858\n",
      "1.0      886\n",
      "Name: opinion_h1n1_vacc_effective, dtype: int64\n",
      "2.0    9919\n",
      "1.0    8139\n",
      "4.0    5394\n",
      "5.0    1750\n",
      "3.0    1117\n",
      "Name: opinion_h1n1_risk, dtype: int64\n",
      "2.0    9129\n",
      "1.0    8998\n",
      "4.0    5850\n",
      "5.0    2187\n",
      "3.0     148\n",
      "Name: opinion_h1n1_sick_from_vacc, dtype: int64\n",
      "4.0    11629\n",
      "5.0     9973\n",
      "2.0     2206\n",
      "1.0     1221\n",
      "3.0     1216\n",
      "Name: opinion_seas_vacc_effective, dtype: int64\n",
      "2.0    8954\n",
      "4.0    7630\n",
      "1.0    5974\n",
      "5.0    2958\n",
      "3.0     677\n",
      "Name: opinion_seas_risk, dtype: int64\n",
      "1.0    11870\n",
      "2.0     7633\n",
      "4.0     4852\n",
      "5.0     1721\n",
      "3.0       94\n",
      "Name: opinion_seas_sick_from_vacc, dtype: int64\n",
      "65+ Years        6843\n",
      "55 - 64 Years    5563\n",
      "45 - 54 Years    5238\n",
      "18 - 34 Years    5215\n",
      "35 - 44 Years    3848\n",
      "Name: age_group, dtype: int64\n",
      "College Graduate    10097\n",
      "Some College         7043\n",
      "12 Years             5797\n",
      "< 12 Years           2363\n",
      "Name: education, dtype: int64\n",
      "White                21222\n",
      "Black                 2118\n",
      "Hispanic              1755\n",
      "Other or Multiple     1612\n",
      "Name: race, dtype: int64\n",
      "Female    15858\n",
      "Male      10849\n",
      "Name: sex, dtype: int64\n",
      "<= $75,000, Above Poverty    12777\n",
      "> $75,000                     6810\n",
      "Below Poverty                 2697\n",
      "Name: income_poverty, dtype: int64\n",
      "Married        13555\n",
      "Not Married    11744\n",
      "Name: marital_status, dtype: int64\n",
      "Own     18736\n",
      "Rent     5929\n",
      "Name: rent_or_own, dtype: int64\n",
      "Employed              13560\n",
      "Not in Labor Force    10231\n",
      "Unemployed             1453\n",
      "Name: employment_status, dtype: int64\n",
      "lzgpxyit    4297\n",
      "fpwskwrf    3265\n",
      "qufhixun    3102\n",
      "oxchjgsf    2859\n",
      "kbazzjca    2858\n",
      "bhuqouqj    2846\n",
      "mlyzmhmf    2243\n",
      "lrircsnp    2078\n",
      "atmpeygn    2033\n",
      "dqpwygqj    1126\n",
      "Name: hhs_geo_region, dtype: int64\n",
      "MSA, Not Principle  City    11645\n",
      "MSA, Principle City          7864\n",
      "Non-MSA                      7198\n",
      "Name: census_msa, dtype: int64\n",
      "1.0    14474\n",
      "0.0     8056\n",
      "2.0     2803\n",
      "3.0     1125\n",
      "Name: household_adults, dtype: int64\n",
      "0.0    18672\n",
      "1.0     3175\n",
      "2.0     2864\n",
      "3.0     1747\n",
      "Name: household_children, dtype: int64\n",
      "fcxhlnwr    2468\n",
      "wxleyezf    1804\n",
      "ldnlellj    1231\n",
      "pxcmvdjn    1037\n",
      "atmlpfrs     926\n",
      "arjwrbjb     871\n",
      "xicduogh     851\n",
      "mfikgejo     614\n",
      "vjjrobsf     527\n",
      "rucpziij     523\n",
      "xqicxuve     511\n",
      "saaquncn     338\n",
      "cfqqtusy     325\n",
      "nduyfdeo     286\n",
      "mcubkhph     275\n",
      "wlfvacwt     215\n",
      "dotnnunm     201\n",
      "haxffmxo     148\n",
      "msuufmds     124\n",
      "phxvnwax      89\n",
      "qnlwzans      13\n",
      "Name: employment_industry, dtype: int64\n",
      "xtkaffoo    1778\n",
      "mxkfnird    1509\n",
      "emcorrxb    1270\n",
      "cmhcxjea    1247\n",
      "xgwztkwe    1082\n",
      "hfxkjkmi     766\n",
      "qxajmpny     548\n",
      "xqwwgdyp     485\n",
      "kldqjyjy     469\n",
      "uqqtjvyb     452\n",
      "tfqavkke     388\n",
      "ukymxvdu     372\n",
      "vlluhbov     354\n",
      "oijqvulv     344\n",
      "ccgxvspp     341\n",
      "bxpfxfdn     331\n",
      "haliazsg     296\n",
      "rcertsgn     276\n",
      "xzmlyyjv     248\n",
      "dlvbwzss     227\n",
      "hodpvpew     208\n",
      "dcjcmpih     148\n",
      "pvmttkik      98\n",
      "Name: employment_occupation, dtype: int64\n"
     ]
    }
   ],
   "source": [
    "for row in vaccine_data:\n",
    "    print(vaccine_data[row].value_counts())"
   ]
  },
  {
   "cell_type": "code",
<<<<<<< HEAD
   "execution_count": 10,
=======
   "execution_count": 48,
>>>>>>> 51d9e99e954723218d8902c654ad9f06e551671a
=======
   "execution_count": 384,
>>>>>>> f55d197c1325bb9dd41bd183e80ed0e8701a19e7
=======
   "execution_count": 9,
>>>>>>> 009c10c0bd28f7dd01433854d9e13e4af220ff2c
   "metadata": {
    "scrolled": true
   },
   "outputs": [
    {
     "data": {
      "text/plain": [
       "1.0    12697\n",
       "0.0     1736\n",
       "Name: health_insurance, dtype: int64"
      ]
     },
<<<<<<< HEAD
<<<<<<< HEAD
<<<<<<< HEAD
     "execution_count": 10,
=======
     "execution_count": 48,
>>>>>>> 51d9e99e954723218d8902c654ad9f06e551671a
=======
     "execution_count": 384,
>>>>>>> f55d197c1325bb9dd41bd183e80ed0e8701a19e7
=======
     "execution_count": 9,
>>>>>>> 009c10c0bd28f7dd01433854d9e13e4af220ff2c
     "metadata": {},
     "output_type": "execute_result"
    }
   ],
   "source": [
    "# Checking health insurance value counts \n",
    "\n",
    "vaccine_data['health_insurance'].value_counts()"
   ]
  },
  {
   "cell_type": "code",
<<<<<<< HEAD
<<<<<<< HEAD
<<<<<<< HEAD
   "execution_count": 11,
=======
   "execution_count": 49,
>>>>>>> 51d9e99e954723218d8902c654ad9f06e551671a
=======
   "execution_count": 385,
>>>>>>> f55d197c1325bb9dd41bd183e80ed0e8701a19e7
=======
   "execution_count": 10,
>>>>>>> 009c10c0bd28f7dd01433854d9e13e4af220ff2c
   "metadata": {},
   "outputs": [],
   "source": [
    "# Filling in health insurance with 3rd option to represent dont know/refused to answer \n",
    "\n",
    "vaccine_data['health_insurance'].fillna(value=2,inplace=True)"
   ]
  },
  {
   "cell_type": "code",
<<<<<<< HEAD
<<<<<<< HEAD
<<<<<<< HEAD
   "execution_count": 12,
=======
   "execution_count": 50,
>>>>>>> 51d9e99e954723218d8902c654ad9f06e551671a
=======
   "execution_count": 386,
>>>>>>> f55d197c1325bb9dd41bd183e80ed0e8701a19e7
=======
   "execution_count": 11,
>>>>>>> 009c10c0bd28f7dd01433854d9e13e4af220ff2c
   "metadata": {},
   "outputs": [],
   "source": [
    "# Dropping irrelevant columns related to the seasonal vaccine. Leaving in seasonal_vaccine target as potential\n",
    "# feature for informing the H1N1 model\n",
    "\n",
    "vaccine_data.drop(columns=['doctor_recc_seasonal','opinion_seas_vacc_effective'\\\n",
    "                          ,'opinion_seas_risk','opinion_seas_sick_from_vacc'],inplace=True)"
   ]
  },
  {
   "cell_type": "code",
<<<<<<< HEAD
<<<<<<< HEAD
<<<<<<< HEAD
   "execution_count": 13,
=======
   "execution_count": 51,
>>>>>>> 51d9e99e954723218d8902c654ad9f06e551671a
   "metadata": {},
   "outputs": [
    {
     "data": {
      "text/html": [
       "<div>\n",
       "<style scoped>\n",
       "    .dataframe tbody tr th:only-of-type {\n",
       "        vertical-align: middle;\n",
       "    }\n",
       "\n",
       "    .dataframe tbody tr th {\n",
       "        vertical-align: top;\n",
       "    }\n",
       "\n",
       "    .dataframe thead th {\n",
       "        text-align: right;\n",
       "    }\n",
       "</style>\n",
       "<table border=\"1\" class=\"dataframe\">\n",
       "  <thead>\n",
       "    <tr style=\"text-align: right;\">\n",
       "      <th></th>\n",
       "      <th>respondent_id</th>\n",
       "      <th>h1n1_vaccine</th>\n",
       "      <th>seasonal_vaccine</th>\n",
       "      <th>h1n1_concern</th>\n",
       "      <th>h1n1_knowledge</th>\n",
       "      <th>behavioral_antiviral_meds</th>\n",
       "      <th>behavioral_avoidance</th>\n",
       "      <th>behavioral_face_mask</th>\n",
       "      <th>behavioral_wash_hands</th>\n",
       "      <th>behavioral_large_gatherings</th>\n",
       "      <th>behavioral_outside_home</th>\n",
       "      <th>behavioral_touch_face</th>\n",
       "      <th>doctor_recc_h1n1</th>\n",
       "      <th>chronic_med_condition</th>\n",
       "      <th>child_under_6_months</th>\n",
       "      <th>health_worker</th>\n",
       "      <th>health_insurance</th>\n",
       "      <th>opinion_h1n1_vacc_effective</th>\n",
       "      <th>opinion_h1n1_risk</th>\n",
       "      <th>opinion_h1n1_sick_from_vacc</th>\n",
       "      <th>age_group</th>\n",
       "      <th>education</th>\n",
       "      <th>race</th>\n",
       "      <th>sex</th>\n",
       "      <th>income_poverty</th>\n",
       "      <th>marital_status</th>\n",
       "      <th>rent_or_own</th>\n",
       "      <th>employment_status</th>\n",
       "      <th>hhs_geo_region</th>\n",
       "      <th>census_msa</th>\n",
       "      <th>household_adults</th>\n",
       "      <th>household_children</th>\n",
       "      <th>employment_industry</th>\n",
       "      <th>employment_occupation</th>\n",
       "    </tr>\n",
       "  </thead>\n",
       "  <tbody>\n",
       "    <tr>\n",
       "      <th>26697</th>\n",
       "      <td>26697</td>\n",
       "      <td>0</td>\n",
       "      <td>0</td>\n",
       "      <td>1.0</td>\n",
       "      <td>1.0</td>\n",
       "      <td>0.0</td>\n",
       "      <td>1.0</td>\n",
       "      <td>0.0</td>\n",
       "      <td>1.0</td>\n",
       "      <td>0.0</td>\n",
       "      <td>1.0</td>\n",
       "      <td>1.0</td>\n",
       "      <td>1.0</td>\n",
       "      <td>0.0</td>\n",
       "      <td>0.0</td>\n",
       "      <td>0.0</td>\n",
       "      <td>1.0</td>\n",
       "      <td>4.0</td>\n",
       "      <td>2.0</td>\n",
       "      <td>2.0</td>\n",
       "      <td>65+ Years</td>\n",
       "      <td>College Graduate</td>\n",
       "      <td>White</td>\n",
       "      <td>Male</td>\n",
       "      <td>&gt; $75,000</td>\n",
       "      <td>Married</td>\n",
       "      <td>Own</td>\n",
       "      <td>Not in Labor Force</td>\n",
       "      <td>kbazzjca</td>\n",
       "      <td>MSA, Principle City</td>\n",
       "      <td>1.0</td>\n",
       "      <td>0.0</td>\n",
       "      <td>NaN</td>\n",
       "      <td>NaN</td>\n",
       "    </tr>\n",
       "    <tr>\n",
       "      <th>26698</th>\n",
       "      <td>26698</td>\n",
       "      <td>0</td>\n",
       "      <td>1</td>\n",
       "      <td>2.0</td>\n",
       "      <td>1.0</td>\n",
       "      <td>0.0</td>\n",
       "      <td>1.0</td>\n",
       "      <td>0.0</td>\n",
       "      <td>1.0</td>\n",
       "      <td>0.0</td>\n",
       "      <td>0.0</td>\n",
       "      <td>1.0</td>\n",
       "      <td>0.0</td>\n",
       "      <td>0.0</td>\n",
       "      <td>0.0</td>\n",
       "      <td>0.0</td>\n",
       "      <td>2.0</td>\n",
       "      <td>5.0</td>\n",
       "      <td>4.0</td>\n",
       "      <td>2.0</td>\n",
       "      <td>35 - 44 Years</td>\n",
       "      <td>College Graduate</td>\n",
       "      <td>White</td>\n",
       "      <td>Female</td>\n",
       "      <td>&gt; $75,000</td>\n",
       "      <td>Married</td>\n",
       "      <td>Own</td>\n",
       "      <td>Employed</td>\n",
       "      <td>atmpeygn</td>\n",
       "      <td>MSA, Not Principle  City</td>\n",
       "      <td>1.0</td>\n",
       "      <td>1.0</td>\n",
       "      <td>dotnnunm</td>\n",
       "      <td>mxkfnird</td>\n",
       "    </tr>\n",
       "    <tr>\n",
       "      <th>26699</th>\n",
       "      <td>26699</td>\n",
       "      <td>0</td>\n",
       "      <td>0</td>\n",
       "      <td>2.0</td>\n",
       "      <td>2.0</td>\n",
       "      <td>0.0</td>\n",
       "      <td>1.0</td>\n",
       "      <td>0.0</td>\n",
       "      <td>1.0</td>\n",
       "      <td>1.0</td>\n",
       "      <td>0.0</td>\n",
       "      <td>1.0</td>\n",
       "      <td>0.0</td>\n",
       "      <td>0.0</td>\n",
       "      <td>0.0</td>\n",
       "      <td>0.0</td>\n",
       "      <td>1.0</td>\n",
       "      <td>5.0</td>\n",
       "      <td>1.0</td>\n",
       "      <td>5.0</td>\n",
       "      <td>45 - 54 Years</td>\n",
       "      <td>Some College</td>\n",
       "      <td>White</td>\n",
       "      <td>Female</td>\n",
       "      <td>&lt;= $75,000, Above Poverty</td>\n",
       "      <td>Married</td>\n",
       "      <td>Own</td>\n",
       "      <td>Employed</td>\n",
       "      <td>qufhixun</td>\n",
       "      <td>MSA, Not Principle  City</td>\n",
       "      <td>1.0</td>\n",
       "      <td>0.0</td>\n",
       "      <td>pxcmvdjn</td>\n",
       "      <td>xgwztkwe</td>\n",
       "    </tr>\n",
       "    <tr>\n",
       "      <th>26700</th>\n",
       "      <td>26700</td>\n",
       "      <td>0</td>\n",
       "      <td>1</td>\n",
       "      <td>3.0</td>\n",
       "      <td>1.0</td>\n",
       "      <td>0.0</td>\n",
       "      <td>1.0</td>\n",
       "      <td>0.0</td>\n",
       "      <td>1.0</td>\n",
       "      <td>0.0</td>\n",
       "      <td>0.0</td>\n",
       "      <td>1.0</td>\n",
       "      <td>1.0</td>\n",
       "      <td>0.0</td>\n",
       "      <td>0.0</td>\n",
       "      <td>0.0</td>\n",
       "      <td>2.0</td>\n",
       "      <td>4.0</td>\n",
       "      <td>2.0</td>\n",
       "      <td>5.0</td>\n",
       "      <td>55 - 64 Years</td>\n",
       "      <td>12 Years</td>\n",
       "      <td>White</td>\n",
       "      <td>Female</td>\n",
       "      <td>&gt; $75,000</td>\n",
       "      <td>Married</td>\n",
       "      <td>Own</td>\n",
       "      <td>Not in Labor Force</td>\n",
       "      <td>lzgpxyit</td>\n",
       "      <td>MSA, Principle City</td>\n",
       "      <td>1.0</td>\n",
       "      <td>0.0</td>\n",
       "      <td>NaN</td>\n",
       "      <td>NaN</td>\n",
       "    </tr>\n",
       "    <tr>\n",
       "      <th>26701</th>\n",
       "      <td>26701</td>\n",
       "      <td>0</td>\n",
       "      <td>0</td>\n",
       "      <td>2.0</td>\n",
       "      <td>2.0</td>\n",
       "      <td>0.0</td>\n",
       "      <td>0.0</td>\n",
       "      <td>0.0</td>\n",
       "      <td>1.0</td>\n",
       "      <td>0.0</td>\n",
       "      <td>0.0</td>\n",
       "      <td>1.0</td>\n",
       "      <td>0.0</td>\n",
       "      <td>0.0</td>\n",
       "      <td>1.0</td>\n",
       "      <td>0.0</td>\n",
       "      <td>1.0</td>\n",
       "      <td>4.0</td>\n",
       "      <td>2.0</td>\n",
       "      <td>4.0</td>\n",
       "      <td>18 - 34 Years</td>\n",
       "      <td>College Graduate</td>\n",
       "      <td>White</td>\n",
       "      <td>Female</td>\n",
       "      <td>&gt; $75,000</td>\n",
       "      <td>Not Married</td>\n",
       "      <td>Rent</td>\n",
       "      <td>Not in Labor Force</td>\n",
       "      <td>fpwskwrf</td>\n",
       "      <td>MSA, Principle City</td>\n",
       "      <td>3.0</td>\n",
       "      <td>0.0</td>\n",
       "      <td>NaN</td>\n",
       "      <td>NaN</td>\n",
       "    </tr>\n",
       "    <tr>\n",
       "      <th>26702</th>\n",
       "      <td>26702</td>\n",
       "      <td>0</td>\n",
       "      <td>0</td>\n",
       "      <td>2.0</td>\n",
       "      <td>0.0</td>\n",
       "      <td>0.0</td>\n",
       "      <td>1.0</td>\n",
       "      <td>0.0</td>\n",
       "      <td>0.0</td>\n",
       "      <td>0.0</td>\n",
       "      <td>1.0</td>\n",
       "      <td>0.0</td>\n",
       "      <td>0.0</td>\n",
       "      <td>0.0</td>\n",
       "      <td>0.0</td>\n",
       "      <td>0.0</td>\n",
       "      <td>2.0</td>\n",
       "      <td>3.0</td>\n",
       "      <td>1.0</td>\n",
       "      <td>1.0</td>\n",
       "      <td>65+ Years</td>\n",
       "      <td>Some College</td>\n",
       "      <td>White</td>\n",
       "      <td>Female</td>\n",
       "      <td>&lt;= $75,000, Above Poverty</td>\n",
       "      <td>Not Married</td>\n",
       "      <td>Own</td>\n",
       "      <td>Not in Labor Force</td>\n",
       "      <td>qufhixun</td>\n",
       "      <td>Non-MSA</td>\n",
       "      <td>0.0</td>\n",
       "      <td>0.0</td>\n",
       "      <td>NaN</td>\n",
       "      <td>NaN</td>\n",
       "    </tr>\n",
       "    <tr>\n",
       "      <th>26703</th>\n",
       "      <td>26703</td>\n",
       "      <td>0</td>\n",
       "      <td>0</td>\n",
       "      <td>1.0</td>\n",
       "      <td>2.0</td>\n",
       "      <td>0.0</td>\n",
       "      <td>1.0</td>\n",
       "      <td>0.0</td>\n",
       "      <td>1.0</td>\n",
       "      <td>0.0</td>\n",
       "      <td>0.0</td>\n",
       "      <td>0.0</td>\n",
       "      <td>1.0</td>\n",
       "      <td>0.0</td>\n",
       "      <td>0.0</td>\n",
       "      <td>1.0</td>\n",
       "      <td>1.0</td>\n",
       "      <td>4.0</td>\n",
       "      <td>2.0</td>\n",
       "      <td>2.0</td>\n",
       "      <td>18 - 34 Years</td>\n",
       "      <td>College Graduate</td>\n",
       "      <td>White</td>\n",
       "      <td>Male</td>\n",
       "      <td>&lt;= $75,000, Above Poverty</td>\n",
       "      <td>Not Married</td>\n",
       "      <td>Rent</td>\n",
       "      <td>Employed</td>\n",
       "      <td>lzgpxyit</td>\n",
       "      <td>MSA, Principle City</td>\n",
       "      <td>1.0</td>\n",
       "      <td>0.0</td>\n",
       "      <td>fcxhlnwr</td>\n",
       "      <td>cmhcxjea</td>\n",
       "    </tr>\n",
       "    <tr>\n",
       "      <th>26704</th>\n",
       "      <td>26704</td>\n",
       "      <td>0</td>\n",
       "      <td>1</td>\n",
       "      <td>2.0</td>\n",
       "      <td>2.0</td>\n",
       "      <td>0.0</td>\n",
       "      <td>1.0</td>\n",
       "      <td>1.0</td>\n",
       "      <td>1.0</td>\n",
       "      <td>1.0</td>\n",
       "      <td>0.0</td>\n",
       "      <td>1.0</td>\n",
       "      <td>0.0</td>\n",
       "      <td>0.0</td>\n",
       "      <td>0.0</td>\n",
       "      <td>0.0</td>\n",
       "      <td>2.0</td>\n",
       "      <td>4.0</td>\n",
       "      <td>4.0</td>\n",
       "      <td>2.0</td>\n",
       "      <td>55 - 64 Years</td>\n",
       "      <td>Some College</td>\n",
       "      <td>White</td>\n",
       "      <td>Female</td>\n",
       "      <td>NaN</td>\n",
       "      <td>Not Married</td>\n",
       "      <td>Own</td>\n",
       "      <td>NaN</td>\n",
       "      <td>lzgpxyit</td>\n",
       "      <td>MSA, Not Principle  City</td>\n",
       "      <td>0.0</td>\n",
       "      <td>0.0</td>\n",
       "      <td>NaN</td>\n",
       "      <td>NaN</td>\n",
       "    </tr>\n",
       "    <tr>\n",
       "      <th>26705</th>\n",
       "      <td>26705</td>\n",
       "      <td>0</td>\n",
       "      <td>0</td>\n",
       "      <td>1.0</td>\n",
       "      <td>1.0</td>\n",
       "      <td>0.0</td>\n",
       "      <td>0.0</td>\n",
       "      <td>0.0</td>\n",
       "      <td>0.0</td>\n",
       "      <td>0.0</td>\n",
       "      <td>0.0</td>\n",
       "      <td>NaN</td>\n",
       "      <td>0.0</td>\n",
       "      <td>0.0</td>\n",
       "      <td>0.0</td>\n",
       "      <td>0.0</td>\n",
       "      <td>0.0</td>\n",
       "      <td>3.0</td>\n",
       "      <td>1.0</td>\n",
       "      <td>2.0</td>\n",
       "      <td>18 - 34 Years</td>\n",
       "      <td>Some College</td>\n",
       "      <td>Hispanic</td>\n",
       "      <td>Female</td>\n",
       "      <td>&lt;= $75,000, Above Poverty</td>\n",
       "      <td>Married</td>\n",
       "      <td>Rent</td>\n",
       "      <td>Employed</td>\n",
       "      <td>lrircsnp</td>\n",
       "      <td>Non-MSA</td>\n",
       "      <td>1.0</td>\n",
       "      <td>0.0</td>\n",
       "      <td>fcxhlnwr</td>\n",
       "      <td>haliazsg</td>\n",
       "    </tr>\n",
       "    <tr>\n",
       "      <th>26706</th>\n",
       "      <td>26706</td>\n",
       "      <td>0</td>\n",
       "      <td>0</td>\n",
       "      <td>0.0</td>\n",
       "      <td>0.0</td>\n",
       "      <td>0.0</td>\n",
       "      <td>1.0</td>\n",
       "      <td>0.0</td>\n",
       "      <td>0.0</td>\n",
       "      <td>0.0</td>\n",
       "      <td>0.0</td>\n",
       "      <td>0.0</td>\n",
       "      <td>0.0</td>\n",
       "      <td>0.0</td>\n",
       "      <td>0.0</td>\n",
       "      <td>0.0</td>\n",
       "      <td>1.0</td>\n",
       "      <td>5.0</td>\n",
       "      <td>1.0</td>\n",
       "      <td>1.0</td>\n",
       "      <td>65+ Years</td>\n",
       "      <td>Some College</td>\n",
       "      <td>White</td>\n",
       "      <td>Male</td>\n",
       "      <td>&lt;= $75,000, Above Poverty</td>\n",
       "      <td>Married</td>\n",
       "      <td>Own</td>\n",
       "      <td>Not in Labor Force</td>\n",
       "      <td>mlyzmhmf</td>\n",
       "      <td>MSA, Principle City</td>\n",
       "      <td>1.0</td>\n",
       "      <td>0.0</td>\n",
       "      <td>NaN</td>\n",
       "      <td>NaN</td>\n",
       "    </tr>\n",
       "  </tbody>\n",
       "</table>\n",
       "</div>"
      ],
      "text/plain": [
       "       respondent_id  h1n1_vaccine  seasonal_vaccine  h1n1_concern  \\\n",
       "26697          26697             0                 0           1.0   \n",
       "26698          26698             0                 1           2.0   \n",
       "26699          26699             0                 0           2.0   \n",
       "26700          26700             0                 1           3.0   \n",
       "26701          26701             0                 0           2.0   \n",
       "26702          26702             0                 0           2.0   \n",
       "26703          26703             0                 0           1.0   \n",
       "26704          26704             0                 1           2.0   \n",
       "26705          26705             0                 0           1.0   \n",
       "26706          26706             0                 0           0.0   \n",
       "\n",
       "       h1n1_knowledge  behavioral_antiviral_meds  behavioral_avoidance  \\\n",
       "26697             1.0                        0.0                   1.0   \n",
       "26698             1.0                        0.0                   1.0   \n",
       "26699             2.0                        0.0                   1.0   \n",
       "26700             1.0                        0.0                   1.0   \n",
       "26701             2.0                        0.0                   0.0   \n",
       "26702             0.0                        0.0                   1.0   \n",
       "26703             2.0                        0.0                   1.0   \n",
       "26704             2.0                        0.0                   1.0   \n",
       "26705             1.0                        0.0                   0.0   \n",
       "26706             0.0                        0.0                   1.0   \n",
       "\n",
       "       behavioral_face_mask  behavioral_wash_hands  \\\n",
       "26697                   0.0                    1.0   \n",
       "26698                   0.0                    1.0   \n",
       "26699                   0.0                    1.0   \n",
       "26700                   0.0                    1.0   \n",
       "26701                   0.0                    1.0   \n",
       "26702                   0.0                    0.0   \n",
       "26703                   0.0                    1.0   \n",
       "26704                   1.0                    1.0   \n",
       "26705                   0.0                    0.0   \n",
       "26706                   0.0                    0.0   \n",
       "\n",
       "       behavioral_large_gatherings  behavioral_outside_home  \\\n",
       "26697                          0.0                      1.0   \n",
       "26698                          0.0                      0.0   \n",
       "26699                          1.0                      0.0   \n",
       "26700                          0.0                      0.0   \n",
       "26701                          0.0                      0.0   \n",
       "26702                          0.0                      1.0   \n",
       "26703                          0.0                      0.0   \n",
       "26704                          1.0                      0.0   \n",
       "26705                          0.0                      0.0   \n",
       "26706                          0.0                      0.0   \n",
       "\n",
       "       behavioral_touch_face  doctor_recc_h1n1  chronic_med_condition  \\\n",
       "26697                    1.0               1.0                    0.0   \n",
       "26698                    1.0               0.0                    0.0   \n",
       "26699                    1.0               0.0                    0.0   \n",
       "26700                    1.0               1.0                    0.0   \n",
       "26701                    1.0               0.0                    0.0   \n",
       "26702                    0.0               0.0                    0.0   \n",
       "26703                    0.0               1.0                    0.0   \n",
       "26704                    1.0               0.0                    0.0   \n",
       "26705                    NaN               0.0                    0.0   \n",
       "26706                    0.0               0.0                    0.0   \n",
       "\n",
       "       child_under_6_months  health_worker  health_insurance  \\\n",
       "26697                   0.0            0.0               1.0   \n",
       "26698                   0.0            0.0               2.0   \n",
       "26699                   0.0            0.0               1.0   \n",
       "26700                   0.0            0.0               2.0   \n",
       "26701                   1.0            0.0               1.0   \n",
       "26702                   0.0            0.0               2.0   \n",
       "26703                   0.0            1.0               1.0   \n",
       "26704                   0.0            0.0               2.0   \n",
       "26705                   0.0            0.0               0.0   \n",
       "26706                   0.0            0.0               1.0   \n",
       "\n",
       "       opinion_h1n1_vacc_effective  opinion_h1n1_risk  \\\n",
       "26697                          4.0                2.0   \n",
       "26698                          5.0                4.0   \n",
       "26699                          5.0                1.0   \n",
       "26700                          4.0                2.0   \n",
       "26701                          4.0                2.0   \n",
       "26702                          3.0                1.0   \n",
       "26703                          4.0                2.0   \n",
       "26704                          4.0                4.0   \n",
       "26705                          3.0                1.0   \n",
       "26706                          5.0                1.0   \n",
       "\n",
       "       opinion_h1n1_sick_from_vacc      age_group         education      race  \\\n",
       "26697                          2.0      65+ Years  College Graduate     White   \n",
       "26698                          2.0  35 - 44 Years  College Graduate     White   \n",
       "26699                          5.0  45 - 54 Years      Some College     White   \n",
       "26700                          5.0  55 - 64 Years          12 Years     White   \n",
       "26701                          4.0  18 - 34 Years  College Graduate     White   \n",
       "26702                          1.0      65+ Years      Some College     White   \n",
       "26703                          2.0  18 - 34 Years  College Graduate     White   \n",
       "26704                          2.0  55 - 64 Years      Some College     White   \n",
       "26705                          2.0  18 - 34 Years      Some College  Hispanic   \n",
       "26706                          1.0      65+ Years      Some College     White   \n",
       "\n",
       "          sex             income_poverty marital_status rent_or_own  \\\n",
       "26697    Male                  > $75,000        Married         Own   \n",
       "26698  Female                  > $75,000        Married         Own   \n",
       "26699  Female  <= $75,000, Above Poverty        Married         Own   \n",
       "26700  Female                  > $75,000        Married         Own   \n",
       "26701  Female                  > $75,000    Not Married        Rent   \n",
       "26702  Female  <= $75,000, Above Poverty    Not Married         Own   \n",
       "26703    Male  <= $75,000, Above Poverty    Not Married        Rent   \n",
       "26704  Female                        NaN    Not Married         Own   \n",
       "26705  Female  <= $75,000, Above Poverty        Married        Rent   \n",
       "26706    Male  <= $75,000, Above Poverty        Married         Own   \n",
       "\n",
       "        employment_status hhs_geo_region                census_msa  \\\n",
       "26697  Not in Labor Force       kbazzjca       MSA, Principle City   \n",
       "26698            Employed       atmpeygn  MSA, Not Principle  City   \n",
       "26699            Employed       qufhixun  MSA, Not Principle  City   \n",
       "26700  Not in Labor Force       lzgpxyit       MSA, Principle City   \n",
       "26701  Not in Labor Force       fpwskwrf       MSA, Principle City   \n",
       "26702  Not in Labor Force       qufhixun                   Non-MSA   \n",
       "26703            Employed       lzgpxyit       MSA, Principle City   \n",
       "26704                 NaN       lzgpxyit  MSA, Not Principle  City   \n",
       "26705            Employed       lrircsnp                   Non-MSA   \n",
       "26706  Not in Labor Force       mlyzmhmf       MSA, Principle City   \n",
       "\n",
       "       household_adults  household_children employment_industry  \\\n",
       "26697               1.0                 0.0                 NaN   \n",
       "26698               1.0                 1.0            dotnnunm   \n",
       "26699               1.0                 0.0            pxcmvdjn   \n",
       "26700               1.0                 0.0                 NaN   \n",
       "26701               3.0                 0.0                 NaN   \n",
       "26702               0.0                 0.0                 NaN   \n",
       "26703               1.0                 0.0            fcxhlnwr   \n",
       "26704               0.0                 0.0                 NaN   \n",
       "26705               1.0                 0.0            fcxhlnwr   \n",
       "26706               1.0                 0.0                 NaN   \n",
       "\n",
       "      employment_occupation  \n",
       "26697                   NaN  \n",
       "26698              mxkfnird  \n",
       "26699              xgwztkwe  \n",
       "26700                   NaN  \n",
       "26701                   NaN  \n",
       "26702                   NaN  \n",
       "26703              cmhcxjea  \n",
       "26704                   NaN  \n",
       "26705              haliazsg  \n",
       "26706                   NaN  "
      ]
     },
<<<<<<< HEAD
     "execution_count": 13,
=======
     "execution_count": 51,
>>>>>>> 51d9e99e954723218d8902c654ad9f06e551671a
     "metadata": {},
     "output_type": "execute_result"
    }
   ],
   "source": [
    "vaccine_data.tail(10)"
   ]
  },
  {
   "cell_type": "code",
<<<<<<< HEAD
   "execution_count": 14,
=======
   "execution_count": 52,
>>>>>>> 51d9e99e954723218d8902c654ad9f06e551671a
=======
   "execution_count": 387,
>>>>>>> f55d197c1325bb9dd41bd183e80ed0e8701a19e7
=======
   "execution_count": 12,
>>>>>>> 009c10c0bd28f7dd01433854d9e13e4af220ff2c
   "metadata": {},
   "outputs": [
    {
     "data": {
      "text/plain": [
       "0    21033\n",
       "1     5674\n",
       "Name: h1n1_vaccine, dtype: int64"
      ]
     },
<<<<<<< HEAD
<<<<<<< HEAD
<<<<<<< HEAD
     "execution_count": 14,
=======
     "execution_count": 52,
>>>>>>> 51d9e99e954723218d8902c654ad9f06e551671a
=======
     "execution_count": 387,
>>>>>>> f55d197c1325bb9dd41bd183e80ed0e8701a19e7
=======
     "execution_count": 12,
>>>>>>> 009c10c0bd28f7dd01433854d9e13e4af220ff2c
     "metadata": {},
     "output_type": "execute_result"
    }
   ],
   "source": [
    "# Checking for class imbalance in target \n",
    "\n",
    "vaccine_data['h1n1_vaccine'].value_counts()"
   ]
  },
  {
   "cell_type": "markdown",
   "metadata": {},
   "source": [
    "**Note:** There is imbalance in the H1N1 target. Will need to use SMOTE to oversample the minority class ahead of making our models "
   ]
  },
  {
   "cell_type": "code",
<<<<<<< HEAD
<<<<<<< HEAD
<<<<<<< HEAD
   "execution_count": 15,
=======
   "execution_count": 53,
>>>>>>> 51d9e99e954723218d8902c654ad9f06e551671a
=======
   "execution_count": 388,
>>>>>>> f55d197c1325bb9dd41bd183e80ed0e8701a19e7
=======
   "execution_count": 13,
>>>>>>> 009c10c0bd28f7dd01433854d9e13e4af220ff2c
   "metadata": {},
   "outputs": [],
   "source": [
    "# Defining function to plot relevant columns against target\n",
    "\n",
    "def vaccination_rate_plot(col, target, data, ax=None):\n",
    "    \"\"\"Stacked bar chart of vaccination rate for `target` against \n",
    "    `col`. \n",
    "    \n",
    "    Args:\n",
    "        col (string): column name of feature variable\n",
    "        target (string): column name of target variable\n",
    "        data (pandas DataFrame): dataframe that contains columns \n",
    "            `col` and `target`\n",
    "        ax (matplotlib axes object, optional): matplotlib axes \n",
    "            object to attach plot to\n",
    "    \"\"\"\n",
    "    counts = (vaccine_data[[target, col]]\n",
    "                  .groupby([target, col])\n",
    "                  .size()\n",
    "                  .unstack(target)\n",
    "             )\n",
    "    group_counts = counts.sum(axis='columns')\n",
    "    props = counts.div(group_counts, axis='index')\n",
    "\n",
    "    props.plot(kind=\"barh\", stacked=True, ax=ax)\n",
    "    ax.invert_yaxis()\n",
    "    ax.legend().remove()"
   ]
  },
  {
   "cell_type": "code",
<<<<<<< HEAD
<<<<<<< HEAD
<<<<<<< HEAD
   "execution_count": 16,
=======
   "execution_count": 54,
>>>>>>> 51d9e99e954723218d8902c654ad9f06e551671a
=======
   "execution_count": 389,
>>>>>>> f55d197c1325bb9dd41bd183e80ed0e8701a19e7
=======
   "execution_count": 14,
>>>>>>> 009c10c0bd28f7dd01433854d9e13e4af220ff2c
   "metadata": {
    "scrolled": false
   },
   "outputs": [
    {
     "data": {
      "image/png": "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\n",
      "text/plain": [
       "<Figure size 648x1440 with 8 Axes>"
      ]
     },
     "metadata": {
      "needs_background": "light"
     },
     "output_type": "display_data"
    }
   ],
   "source": [
    "# Visualizing relationships between target and select features covering knowledge, opinions and demographics\n",
    "\n",
    "cols_to_plot = [\n",
    "    'h1n1_concern',\n",
    "    'h1n1_knowledge',\n",
    "    'opinion_h1n1_vacc_effective',\n",
    "    'opinion_h1n1_risk',\n",
    "    'opinion_h1n1_sick_from_vacc',\n",
    "    'sex',\n",
    "    'age_group',\n",
    "    'race',\n",
    "]\n",
    "\n",
    "fig, ax = plt.subplots(\n",
    "    len(cols_to_plot), 1,  figsize=(9,len(cols_to_plot)*2.5)\n",
    ")\n",
    "for  idx,col in enumerate(cols_to_plot):\n",
    "    vaccination_rate_plot(\n",
    "        col, 'h1n1_vaccine', vaccine_data,ax=ax[idx] \n",
    "    )\n",
    "    \n",
    "ax[0].legend(\n",
    "     bbox_to_anchor=(0.5, 1.05), title='h1n1_vaccine'\n",
    ")\n",
    "\n",
    "fig.tight_layout()"
   ]
  },
  {
   "cell_type": "markdown",
   "metadata": {},
   "source": [
    "## Identifying Predictors and Targets"
   ]
  },
  {
   "cell_type": "code",
<<<<<<< HEAD
<<<<<<< HEAD
<<<<<<< HEAD
   "execution_count": 17,
=======
   "execution_count": 55,
>>>>>>> 51d9e99e954723218d8902c654ad9f06e551671a
=======
   "execution_count": 390,
>>>>>>> f55d197c1325bb9dd41bd183e80ed0e8701a19e7
=======
   "execution_count": 15,
>>>>>>> 009c10c0bd28f7dd01433854d9e13e4af220ff2c
   "metadata": {},
   "outputs": [],
   "source": [
    "# Isolating numeric columns into new DF\n",
    "\n",
    "numeric_cols = vaccine_data.columns[vaccine_data.dtypes != \"object\"].values\n",
    "numeric_data = vaccine_data[numeric_cols]"
   ]
  },
  {
   "cell_type": "code",
<<<<<<< HEAD
<<<<<<< HEAD
<<<<<<< HEAD
   "execution_count": 18,
=======
   "execution_count": 56,
>>>>>>> 51d9e99e954723218d8902c654ad9f06e551671a
=======
   "execution_count": 391,
>>>>>>> f55d197c1325bb9dd41bd183e80ed0e8701a19e7
=======
   "execution_count": 16,
>>>>>>> 009c10c0bd28f7dd01433854d9e13e4af220ff2c
   "metadata": {},
   "outputs": [
    {
     "data": {
      "text/html": [
       "<div>\n",
       "<style scoped>\n",
       "    .dataframe tbody tr th:only-of-type {\n",
       "        vertical-align: middle;\n",
       "    }\n",
       "\n",
       "    .dataframe tbody tr th {\n",
       "        vertical-align: top;\n",
       "    }\n",
       "\n",
       "    .dataframe thead th {\n",
       "        text-align: right;\n",
       "    }\n",
       "</style>\n",
       "<table border=\"1\" class=\"dataframe\">\n",
       "  <thead>\n",
       "    <tr style=\"text-align: right;\">\n",
       "      <th></th>\n",
       "      <th>respondent_id</th>\n",
       "      <th>h1n1_vaccine</th>\n",
       "      <th>seasonal_vaccine</th>\n",
       "      <th>h1n1_concern</th>\n",
       "      <th>h1n1_knowledge</th>\n",
       "      <th>behavioral_antiviral_meds</th>\n",
       "      <th>behavioral_avoidance</th>\n",
       "      <th>behavioral_face_mask</th>\n",
       "      <th>behavioral_wash_hands</th>\n",
       "      <th>behavioral_large_gatherings</th>\n",
       "      <th>behavioral_outside_home</th>\n",
       "      <th>behavioral_touch_face</th>\n",
       "      <th>doctor_recc_h1n1</th>\n",
       "      <th>chronic_med_condition</th>\n",
       "      <th>child_under_6_months</th>\n",
       "      <th>health_worker</th>\n",
       "      <th>health_insurance</th>\n",
       "      <th>opinion_h1n1_vacc_effective</th>\n",
       "      <th>opinion_h1n1_risk</th>\n",
       "      <th>opinion_h1n1_sick_from_vacc</th>\n",
       "      <th>household_adults</th>\n",
       "      <th>household_children</th>\n",
       "    </tr>\n",
       "  </thead>\n",
       "  <tbody>\n",
       "    <tr>\n",
       "      <th>0</th>\n",
       "      <td>0</td>\n",
       "      <td>0</td>\n",
       "      <td>0</td>\n",
       "      <td>1.0</td>\n",
       "      <td>0.0</td>\n",
       "      <td>0.0</td>\n",
       "      <td>0.0</td>\n",
       "      <td>0.0</td>\n",
       "      <td>0.0</td>\n",
       "      <td>0.0</td>\n",
       "      <td>1.0</td>\n",
       "      <td>1.0</td>\n",
       "      <td>0.0</td>\n",
       "      <td>0.0</td>\n",
       "      <td>0.0</td>\n",
       "      <td>0.0</td>\n",
       "      <td>1.0</td>\n",
       "      <td>3.0</td>\n",
       "      <td>1.0</td>\n",
       "      <td>2.0</td>\n",
       "      <td>0.0</td>\n",
       "      <td>0.0</td>\n",
       "    </tr>\n",
       "    <tr>\n",
       "      <th>1</th>\n",
       "      <td>1</td>\n",
       "      <td>0</td>\n",
       "      <td>1</td>\n",
       "      <td>3.0</td>\n",
       "      <td>2.0</td>\n",
       "      <td>0.0</td>\n",
       "      <td>1.0</td>\n",
       "      <td>0.0</td>\n",
       "      <td>1.0</td>\n",
       "      <td>0.0</td>\n",
       "      <td>1.0</td>\n",
       "      <td>1.0</td>\n",
       "      <td>0.0</td>\n",
       "      <td>0.0</td>\n",
       "      <td>0.0</td>\n",
       "      <td>0.0</td>\n",
       "      <td>1.0</td>\n",
       "      <td>5.0</td>\n",
       "      <td>4.0</td>\n",
       "      <td>4.0</td>\n",
       "      <td>0.0</td>\n",
       "      <td>0.0</td>\n",
       "    </tr>\n",
       "    <tr>\n",
       "      <th>2</th>\n",
       "      <td>2</td>\n",
       "      <td>0</td>\n",
       "      <td>0</td>\n",
       "      <td>1.0</td>\n",
       "      <td>1.0</td>\n",
       "      <td>0.0</td>\n",
       "      <td>1.0</td>\n",
       "      <td>0.0</td>\n",
       "      <td>0.0</td>\n",
       "      <td>0.0</td>\n",
       "      <td>0.0</td>\n",
       "      <td>0.0</td>\n",
       "      <td>NaN</td>\n",
       "      <td>1.0</td>\n",
       "      <td>0.0</td>\n",
       "      <td>0.0</td>\n",
       "      <td>2.0</td>\n",
       "      <td>3.0</td>\n",
       "      <td>1.0</td>\n",
       "      <td>1.0</td>\n",
       "      <td>2.0</td>\n",
       "      <td>0.0</td>\n",
       "    </tr>\n",
       "    <tr>\n",
       "      <th>3</th>\n",
       "      <td>3</td>\n",
       "      <td>0</td>\n",
       "      <td>1</td>\n",
       "      <td>1.0</td>\n",
       "      <td>1.0</td>\n",
       "      <td>0.0</td>\n",
       "      <td>1.0</td>\n",
       "      <td>0.0</td>\n",
       "      <td>1.0</td>\n",
       "      <td>1.0</td>\n",
       "      <td>0.0</td>\n",
       "      <td>0.0</td>\n",
       "      <td>0.0</td>\n",
       "      <td>1.0</td>\n",
       "      <td>0.0</td>\n",
       "      <td>0.0</td>\n",
       "      <td>2.0</td>\n",
       "      <td>3.0</td>\n",
       "      <td>3.0</td>\n",
       "      <td>5.0</td>\n",
       "      <td>0.0</td>\n",
       "      <td>0.0</td>\n",
       "    </tr>\n",
       "    <tr>\n",
       "      <th>4</th>\n",
       "      <td>4</td>\n",
       "      <td>0</td>\n",
       "      <td>0</td>\n",
       "      <td>2.0</td>\n",
       "      <td>1.0</td>\n",
       "      <td>0.0</td>\n",
       "      <td>1.0</td>\n",
       "      <td>0.0</td>\n",
       "      <td>1.0</td>\n",
       "      <td>1.0</td>\n",
       "      <td>0.0</td>\n",
       "      <td>1.0</td>\n",
       "      <td>0.0</td>\n",
       "      <td>0.0</td>\n",
       "      <td>0.0</td>\n",
       "      <td>0.0</td>\n",
       "      <td>2.0</td>\n",
       "      <td>3.0</td>\n",
       "      <td>3.0</td>\n",
       "      <td>2.0</td>\n",
       "      <td>1.0</td>\n",
       "      <td>0.0</td>\n",
       "    </tr>\n",
       "    <tr>\n",
       "      <th>...</th>\n",
       "      <td>...</td>\n",
       "      <td>...</td>\n",
       "      <td>...</td>\n",
       "      <td>...</td>\n",
       "      <td>...</td>\n",
       "      <td>...</td>\n",
       "      <td>...</td>\n",
       "      <td>...</td>\n",
       "      <td>...</td>\n",
       "      <td>...</td>\n",
       "      <td>...</td>\n",
       "      <td>...</td>\n",
       "      <td>...</td>\n",
       "      <td>...</td>\n",
       "      <td>...</td>\n",
       "      <td>...</td>\n",
       "      <td>...</td>\n",
       "      <td>...</td>\n",
       "      <td>...</td>\n",
       "      <td>...</td>\n",
       "      <td>...</td>\n",
       "      <td>...</td>\n",
       "    </tr>\n",
       "    <tr>\n",
       "      <th>26702</th>\n",
       "      <td>26702</td>\n",
       "      <td>0</td>\n",
       "      <td>0</td>\n",
       "      <td>2.0</td>\n",
       "      <td>0.0</td>\n",
       "      <td>0.0</td>\n",
       "      <td>1.0</td>\n",
       "      <td>0.0</td>\n",
       "      <td>0.0</td>\n",
       "      <td>0.0</td>\n",
       "      <td>1.0</td>\n",
       "      <td>0.0</td>\n",
       "      <td>0.0</td>\n",
       "      <td>0.0</td>\n",
       "      <td>0.0</td>\n",
       "      <td>0.0</td>\n",
       "      <td>2.0</td>\n",
       "      <td>3.0</td>\n",
       "      <td>1.0</td>\n",
       "      <td>1.0</td>\n",
       "      <td>0.0</td>\n",
       "      <td>0.0</td>\n",
       "    </tr>\n",
       "    <tr>\n",
       "      <th>26703</th>\n",
       "      <td>26703</td>\n",
       "      <td>0</td>\n",
       "      <td>0</td>\n",
       "      <td>1.0</td>\n",
       "      <td>2.0</td>\n",
       "      <td>0.0</td>\n",
       "      <td>1.0</td>\n",
       "      <td>0.0</td>\n",
       "      <td>1.0</td>\n",
       "      <td>0.0</td>\n",
       "      <td>0.0</td>\n",
       "      <td>0.0</td>\n",
       "      <td>1.0</td>\n",
       "      <td>0.0</td>\n",
       "      <td>0.0</td>\n",
       "      <td>1.0</td>\n",
       "      <td>1.0</td>\n",
       "      <td>4.0</td>\n",
       "      <td>2.0</td>\n",
       "      <td>2.0</td>\n",
       "      <td>1.0</td>\n",
       "      <td>0.0</td>\n",
       "    </tr>\n",
       "    <tr>\n",
       "      <th>26704</th>\n",
       "      <td>26704</td>\n",
       "      <td>0</td>\n",
       "      <td>1</td>\n",
       "      <td>2.0</td>\n",
       "      <td>2.0</td>\n",
       "      <td>0.0</td>\n",
       "      <td>1.0</td>\n",
       "      <td>1.0</td>\n",
       "      <td>1.0</td>\n",
       "      <td>1.0</td>\n",
       "      <td>0.0</td>\n",
       "      <td>1.0</td>\n",
       "      <td>0.0</td>\n",
       "      <td>0.0</td>\n",
       "      <td>0.0</td>\n",
       "      <td>0.0</td>\n",
       "      <td>2.0</td>\n",
       "      <td>4.0</td>\n",
       "      <td>4.0</td>\n",
       "      <td>2.0</td>\n",
       "      <td>0.0</td>\n",
       "      <td>0.0</td>\n",
       "    </tr>\n",
       "    <tr>\n",
       "      <th>26705</th>\n",
       "      <td>26705</td>\n",
       "      <td>0</td>\n",
       "      <td>0</td>\n",
       "      <td>1.0</td>\n",
       "      <td>1.0</td>\n",
       "      <td>0.0</td>\n",
       "      <td>0.0</td>\n",
       "      <td>0.0</td>\n",
       "      <td>0.0</td>\n",
       "      <td>0.0</td>\n",
       "      <td>0.0</td>\n",
       "      <td>NaN</td>\n",
       "      <td>0.0</td>\n",
       "      <td>0.0</td>\n",
       "      <td>0.0</td>\n",
       "      <td>0.0</td>\n",
       "      <td>0.0</td>\n",
       "      <td>3.0</td>\n",
       "      <td>1.0</td>\n",
       "      <td>2.0</td>\n",
       "      <td>1.0</td>\n",
       "      <td>0.0</td>\n",
       "    </tr>\n",
       "    <tr>\n",
       "      <th>26706</th>\n",
       "      <td>26706</td>\n",
       "      <td>0</td>\n",
       "      <td>0</td>\n",
       "      <td>0.0</td>\n",
       "      <td>0.0</td>\n",
       "      <td>0.0</td>\n",
       "      <td>1.0</td>\n",
       "      <td>0.0</td>\n",
       "      <td>0.0</td>\n",
       "      <td>0.0</td>\n",
       "      <td>0.0</td>\n",
       "      <td>0.0</td>\n",
       "      <td>0.0</td>\n",
       "      <td>0.0</td>\n",
       "      <td>0.0</td>\n",
       "      <td>0.0</td>\n",
       "      <td>1.0</td>\n",
       "      <td>5.0</td>\n",
       "      <td>1.0</td>\n",
       "      <td>1.0</td>\n",
       "      <td>1.0</td>\n",
       "      <td>0.0</td>\n",
       "    </tr>\n",
       "  </tbody>\n",
       "</table>\n",
       "<p>26707 rows × 22 columns</p>\n",
       "</div>"
      ],
      "text/plain": [
       "       respondent_id  h1n1_vaccine  seasonal_vaccine  h1n1_concern  \\\n",
       "0                  0             0                 0           1.0   \n",
       "1                  1             0                 1           3.0   \n",
       "2                  2             0                 0           1.0   \n",
       "3                  3             0                 1           1.0   \n",
       "4                  4             0                 0           2.0   \n",
       "...              ...           ...               ...           ...   \n",
       "26702          26702             0                 0           2.0   \n",
       "26703          26703             0                 0           1.0   \n",
       "26704          26704             0                 1           2.0   \n",
       "26705          26705             0                 0           1.0   \n",
       "26706          26706             0                 0           0.0   \n",
       "\n",
       "       h1n1_knowledge  behavioral_antiviral_meds  behavioral_avoidance  \\\n",
       "0                 0.0                        0.0                   0.0   \n",
       "1                 2.0                        0.0                   1.0   \n",
       "2                 1.0                        0.0                   1.0   \n",
       "3                 1.0                        0.0                   1.0   \n",
       "4                 1.0                        0.0                   1.0   \n",
       "...               ...                        ...                   ...   \n",
       "26702             0.0                        0.0                   1.0   \n",
       "26703             2.0                        0.0                   1.0   \n",
       "26704             2.0                        0.0                   1.0   \n",
       "26705             1.0                        0.0                   0.0   \n",
       "26706             0.0                        0.0                   1.0   \n",
       "\n",
       "       behavioral_face_mask  behavioral_wash_hands  \\\n",
       "0                       0.0                    0.0   \n",
       "1                       0.0                    1.0   \n",
       "2                       0.0                    0.0   \n",
       "3                       0.0                    1.0   \n",
       "4                       0.0                    1.0   \n",
       "...                     ...                    ...   \n",
       "26702                   0.0                    0.0   \n",
       "26703                   0.0                    1.0   \n",
       "26704                   1.0                    1.0   \n",
       "26705                   0.0                    0.0   \n",
       "26706                   0.0                    0.0   \n",
       "\n",
       "       behavioral_large_gatherings  behavioral_outside_home  \\\n",
       "0                              0.0                      1.0   \n",
       "1                              0.0                      1.0   \n",
       "2                              0.0                      0.0   \n",
       "3                              1.0                      0.0   \n",
       "4                              1.0                      0.0   \n",
       "...                            ...                      ...   \n",
       "26702                          0.0                      1.0   \n",
       "26703                          0.0                      0.0   \n",
       "26704                          1.0                      0.0   \n",
       "26705                          0.0                      0.0   \n",
       "26706                          0.0                      0.0   \n",
       "\n",
       "       behavioral_touch_face  doctor_recc_h1n1  chronic_med_condition  \\\n",
       "0                        1.0               0.0                    0.0   \n",
       "1                        1.0               0.0                    0.0   \n",
       "2                        0.0               NaN                    1.0   \n",
       "3                        0.0               0.0                    1.0   \n",
       "4                        1.0               0.0                    0.0   \n",
       "...                      ...               ...                    ...   \n",
       "26702                    0.0               0.0                    0.0   \n",
       "26703                    0.0               1.0                    0.0   \n",
       "26704                    1.0               0.0                    0.0   \n",
       "26705                    NaN               0.0                    0.0   \n",
       "26706                    0.0               0.0                    0.0   \n",
       "\n",
       "       child_under_6_months  health_worker  health_insurance  \\\n",
       "0                       0.0            0.0               1.0   \n",
       "1                       0.0            0.0               1.0   \n",
       "2                       0.0            0.0               2.0   \n",
       "3                       0.0            0.0               2.0   \n",
       "4                       0.0            0.0               2.0   \n",
       "...                     ...            ...               ...   \n",
       "26702                   0.0            0.0               2.0   \n",
       "26703                   0.0            1.0               1.0   \n",
       "26704                   0.0            0.0               2.0   \n",
       "26705                   0.0            0.0               0.0   \n",
       "26706                   0.0            0.0               1.0   \n",
       "\n",
       "       opinion_h1n1_vacc_effective  opinion_h1n1_risk  \\\n",
       "0                              3.0                1.0   \n",
       "1                              5.0                4.0   \n",
       "2                              3.0                1.0   \n",
       "3                              3.0                3.0   \n",
       "4                              3.0                3.0   \n",
       "...                            ...                ...   \n",
       "26702                          3.0                1.0   \n",
       "26703                          4.0                2.0   \n",
       "26704                          4.0                4.0   \n",
       "26705                          3.0                1.0   \n",
       "26706                          5.0                1.0   \n",
       "\n",
       "       opinion_h1n1_sick_from_vacc  household_adults  household_children  \n",
       "0                              2.0               0.0                 0.0  \n",
       "1                              4.0               0.0                 0.0  \n",
       "2                              1.0               2.0                 0.0  \n",
       "3                              5.0               0.0                 0.0  \n",
       "4                              2.0               1.0                 0.0  \n",
       "...                            ...               ...                 ...  \n",
       "26702                          1.0               0.0                 0.0  \n",
       "26703                          2.0               1.0                 0.0  \n",
       "26704                          2.0               0.0                 0.0  \n",
       "26705                          2.0               1.0                 0.0  \n",
       "26706                          1.0               1.0                 0.0  \n",
       "\n",
       "[26707 rows x 22 columns]"
      ]
     },
<<<<<<< HEAD
<<<<<<< HEAD
<<<<<<< HEAD
     "execution_count": 18,
=======
     "execution_count": 56,
>>>>>>> 51d9e99e954723218d8902c654ad9f06e551671a
=======
     "execution_count": 391,
>>>>>>> f55d197c1325bb9dd41bd183e80ed0e8701a19e7
=======
     "execution_count": 16,
>>>>>>> 009c10c0bd28f7dd01433854d9e13e4af220ff2c
     "metadata": {},
     "output_type": "execute_result"
    }
   ],
   "source": [
    "numeric_data"
   ]
  },
  {
   "cell_type": "code",
<<<<<<< HEAD
<<<<<<< HEAD
<<<<<<< HEAD
   "execution_count": 19,
=======
   "execution_count": 57,
>>>>>>> 51d9e99e954723218d8902c654ad9f06e551671a
=======
   "execution_count": 392,
>>>>>>> f55d197c1325bb9dd41bd183e80ed0e8701a19e7
=======
   "execution_count": 17,
>>>>>>> 009c10c0bd28f7dd01433854d9e13e4af220ff2c
   "metadata": {},
   "outputs": [],
   "source": [
    "# Isolating object columns\n",
    "\n",
    "object_cols = vaccine_data.columns[vaccine_data.dtypes == 'object'].values\n",
    "df_object = vaccine_data[object_cols]"
   ]
  },
  {
   "cell_type": "code",
<<<<<<< HEAD
<<<<<<< HEAD
<<<<<<< HEAD
   "execution_count": 20,
=======
   "execution_count": 58,
>>>>>>> 51d9e99e954723218d8902c654ad9f06e551671a
=======
   "execution_count": 393,
>>>>>>> f55d197c1325bb9dd41bd183e80ed0e8701a19e7
=======
   "execution_count": 18,
>>>>>>> 009c10c0bd28f7dd01433854d9e13e4af220ff2c
   "metadata": {},
   "outputs": [],
   "source": [
    "# Dropping columns due to large amount of unknown information\n",
    "\n",
    "df_object = df_object.drop(labels=['employment_industry', 'employment_occupation', 'hhs_geo_region'], axis=1)"
   ]
  },
  {
   "cell_type": "code",
<<<<<<< HEAD
<<<<<<< HEAD
<<<<<<< HEAD
   "execution_count": 21,
=======
   "execution_count": 59,
>>>>>>> 51d9e99e954723218d8902c654ad9f06e551671a
=======
   "execution_count": 394,
>>>>>>> f55d197c1325bb9dd41bd183e80ed0e8701a19e7
=======
   "execution_count": 19,
>>>>>>> 009c10c0bd28f7dd01433854d9e13e4af220ff2c
   "metadata": {},
   "outputs": [],
   "source": [
    "# Joining object columns with training lables \n",
    "\n",
    "df_full_object = df_object.join(training_labels)"
   ]
  },
  {
   "cell_type": "code",
<<<<<<< HEAD
<<<<<<< HEAD
<<<<<<< HEAD
   "execution_count": 22,
=======
   "execution_count": 60,
>>>>>>> 51d9e99e954723218d8902c654ad9f06e551671a
=======
   "execution_count": 395,
>>>>>>> f55d197c1325bb9dd41bd183e80ed0e8701a19e7
=======
   "execution_count": 20,
>>>>>>> 009c10c0bd28f7dd01433854d9e13e4af220ff2c
   "metadata": {},
   "outputs": [
    {
     "name": "stdout",
     "output_type": "stream",
     "text": [
      "<class 'pandas.core.frame.DataFrame'>\n",
      "Int64Index: 26707 entries, 0 to 26706\n",
      "Data columns (total 12 columns):\n",
      " #   Column             Non-Null Count  Dtype \n",
      "---  ------             --------------  ----- \n",
      " 0   age_group          26707 non-null  object\n",
      " 1   education          25300 non-null  object\n",
      " 2   race               26707 non-null  object\n",
      " 3   sex                26707 non-null  object\n",
      " 4   income_poverty     22284 non-null  object\n",
      " 5   marital_status     25299 non-null  object\n",
      " 6   rent_or_own        24665 non-null  object\n",
      " 7   employment_status  25244 non-null  object\n",
      " 8   census_msa         26707 non-null  object\n",
      " 9   respondent_id      26707 non-null  int64 \n",
      " 10  h1n1_vaccine       26707 non-null  int64 \n",
      " 11  seasonal_vaccine   26707 non-null  int64 \n",
      "dtypes: int64(3), object(9)\n",
      "memory usage: 3.9+ MB\n"
     ]
    }
   ],
   "source": [
    "df_full_object.info()"
   ]
  },
  {
   "cell_type": "code",
<<<<<<< HEAD
<<<<<<< HEAD
<<<<<<< HEAD
   "execution_count": 23,
=======
   "execution_count": 61,
>>>>>>> 51d9e99e954723218d8902c654ad9f06e551671a
=======
   "execution_count": 396,
>>>>>>> f55d197c1325bb9dd41bd183e80ed0e8701a19e7
=======
   "execution_count": 21,
>>>>>>> 009c10c0bd28f7dd01433854d9e13e4af220ff2c
   "metadata": {},
   "outputs": [],
   "source": [
    "# Dropping seasonal vaccine target from object dataframe\n",
    "\n",
    "df_full_object.drop(labels=['seasonal_vaccine'], axis=1, inplace = True)"
   ]
  },
  {
   "cell_type": "code",
<<<<<<< HEAD
<<<<<<< HEAD
<<<<<<< HEAD
   "execution_count": 24,
=======
   "execution_count": 62,
>>>>>>> 51d9e99e954723218d8902c654ad9f06e551671a
=======
   "execution_count": 397,
>>>>>>> f55d197c1325bb9dd41bd183e80ed0e8701a19e7
=======
   "execution_count": 22,
>>>>>>> 009c10c0bd28f7dd01433854d9e13e4af220ff2c
   "metadata": {},
   "outputs": [
    {
     "data": {
      "text/plain": [
       "SimpleImputer(strategy='most_frequent')"
      ]
     },
<<<<<<< HEAD
<<<<<<< HEAD
<<<<<<< HEAD
     "execution_count": 24,
=======
     "execution_count": 62,
>>>>>>> 51d9e99e954723218d8902c654ad9f06e551671a
=======
     "execution_count": 397,
>>>>>>> f55d197c1325bb9dd41bd183e80ed0e8701a19e7
=======
     "execution_count": 22,
>>>>>>> 009c10c0bd28f7dd01433854d9e13e4af220ff2c
     "metadata": {},
     "output_type": "execute_result"
    }
   ],
   "source": [
    "## Imputing missing values with the most frequent value \n",
    "\n",
    "categorical_feature_names = [\"age_group\", \"education\", \"race\", \"sex\", \"income_poverty\", \"marital_status\", \"rent_or_own\",\n",
    "                            \"employment_status\", \"census_msa\"]\n",
    "\n",
    "categorical_imputer = SimpleImputer(strategy=\"most_frequent\")\n",
    "\n",
    "categorical_imputer.fit(df_full_object)\n"
   ]
  },
  {
   "cell_type": "code",
<<<<<<< HEAD
<<<<<<< HEAD
<<<<<<< HEAD
   "execution_count": 25,
=======
   "execution_count": 63,
>>>>>>> 51d9e99e954723218d8902c654ad9f06e551671a
=======
   "execution_count": 398,
>>>>>>> f55d197c1325bb9dd41bd183e80ed0e8701a19e7
=======
   "execution_count": 23,
>>>>>>> 009c10c0bd28f7dd01433854d9e13e4af220ff2c
   "metadata": {},
   "outputs": [],
   "source": [
    "# defining function impute missing data from a DF\n",
    "\n",
    "def impute_missing_values(X, imputer):\n",
    "    \"\"\"\n",
    "    Given a DataFrame and an imputer, use the imputer to fill in all\n",
    "    missing values in the DataFrame\n",
    "    \"\"\"\n",
    "    imputed_array = imputer.transform(X)\n",
    "    imputed_df = pd.DataFrame(imputed_array, columns=X.columns, index=X.index)\n",
    "    return imputed_df"
   ]
  },
  {
   "cell_type": "code",
<<<<<<< HEAD
<<<<<<< HEAD
<<<<<<< HEAD
   "execution_count": 26,
=======
   "execution_count": 64,
>>>>>>> 51d9e99e954723218d8902c654ad9f06e551671a
=======
   "execution_count": 399,
>>>>>>> f55d197c1325bb9dd41bd183e80ed0e8701a19e7
=======
   "execution_count": 24,
>>>>>>> 009c10c0bd28f7dd01433854d9e13e4af220ff2c
   "metadata": {},
   "outputs": [
    {
     "data": {
      "text/html": [
       "<div>\n",
       "<style scoped>\n",
       "    .dataframe tbody tr th:only-of-type {\n",
       "        vertical-align: middle;\n",
       "    }\n",
       "\n",
       "    .dataframe tbody tr th {\n",
       "        vertical-align: top;\n",
       "    }\n",
       "\n",
       "    .dataframe thead th {\n",
       "        text-align: right;\n",
       "    }\n",
       "</style>\n",
       "<table border=\"1\" class=\"dataframe\">\n",
       "  <thead>\n",
       "    <tr style=\"text-align: right;\">\n",
       "      <th></th>\n",
       "      <th>age_group</th>\n",
       "      <th>education</th>\n",
       "      <th>race</th>\n",
       "      <th>sex</th>\n",
       "      <th>income_poverty</th>\n",
       "      <th>marital_status</th>\n",
       "      <th>rent_or_own</th>\n",
       "      <th>employment_status</th>\n",
       "      <th>census_msa</th>\n",
       "      <th>respondent_id</th>\n",
       "      <th>h1n1_vaccine</th>\n",
       "    </tr>\n",
       "  </thead>\n",
       "  <tbody>\n",
       "    <tr>\n",
       "      <th>0</th>\n",
       "      <td>55 - 64 Years</td>\n",
       "      <td>&lt; 12 Years</td>\n",
       "      <td>White</td>\n",
       "      <td>Female</td>\n",
       "      <td>Below Poverty</td>\n",
       "      <td>Not Married</td>\n",
       "      <td>Own</td>\n",
       "      <td>Not in Labor Force</td>\n",
       "      <td>Non-MSA</td>\n",
       "      <td>0</td>\n",
       "      <td>0</td>\n",
       "    </tr>\n",
       "    <tr>\n",
       "      <th>1</th>\n",
       "      <td>35 - 44 Years</td>\n",
       "      <td>12 Years</td>\n",
       "      <td>White</td>\n",
       "      <td>Male</td>\n",
       "      <td>Below Poverty</td>\n",
       "      <td>Not Married</td>\n",
       "      <td>Rent</td>\n",
       "      <td>Employed</td>\n",
       "      <td>MSA, Not Principle  City</td>\n",
       "      <td>1</td>\n",
       "      <td>0</td>\n",
       "    </tr>\n",
       "    <tr>\n",
       "      <th>2</th>\n",
       "      <td>18 - 34 Years</td>\n",
       "      <td>College Graduate</td>\n",
       "      <td>White</td>\n",
       "      <td>Male</td>\n",
       "      <td>&lt;= $75,000, Above Poverty</td>\n",
       "      <td>Not Married</td>\n",
       "      <td>Own</td>\n",
       "      <td>Employed</td>\n",
       "      <td>MSA, Not Principle  City</td>\n",
       "      <td>2</td>\n",
       "      <td>0</td>\n",
       "    </tr>\n",
       "    <tr>\n",
       "      <th>3</th>\n",
       "      <td>65+ Years</td>\n",
       "      <td>12 Years</td>\n",
       "      <td>White</td>\n",
       "      <td>Female</td>\n",
       "      <td>Below Poverty</td>\n",
       "      <td>Not Married</td>\n",
       "      <td>Rent</td>\n",
       "      <td>Not in Labor Force</td>\n",
       "      <td>MSA, Principle City</td>\n",
       "      <td>3</td>\n",
       "      <td>0</td>\n",
       "    </tr>\n",
       "    <tr>\n",
       "      <th>4</th>\n",
       "      <td>45 - 54 Years</td>\n",
       "      <td>Some College</td>\n",
       "      <td>White</td>\n",
       "      <td>Female</td>\n",
       "      <td>&lt;= $75,000, Above Poverty</td>\n",
       "      <td>Married</td>\n",
       "      <td>Own</td>\n",
       "      <td>Employed</td>\n",
       "      <td>MSA, Not Principle  City</td>\n",
       "      <td>4</td>\n",
       "      <td>0</td>\n",
       "    </tr>\n",
       "  </tbody>\n",
       "</table>\n",
       "</div>"
      ],
      "text/plain": [
       "       age_group         education   race     sex             income_poverty  \\\n",
       "0  55 - 64 Years        < 12 Years  White  Female              Below Poverty   \n",
       "1  35 - 44 Years          12 Years  White    Male              Below Poverty   \n",
       "2  18 - 34 Years  College Graduate  White    Male  <= $75,000, Above Poverty   \n",
       "3      65+ Years          12 Years  White  Female              Below Poverty   \n",
       "4  45 - 54 Years      Some College  White  Female  <= $75,000, Above Poverty   \n",
       "\n",
       "  marital_status rent_or_own   employment_status                census_msa  \\\n",
       "0    Not Married         Own  Not in Labor Force                   Non-MSA   \n",
       "1    Not Married        Rent            Employed  MSA, Not Principle  City   \n",
       "2    Not Married         Own            Employed  MSA, Not Principle  City   \n",
       "3    Not Married        Rent  Not in Labor Force       MSA, Principle City   \n",
       "4        Married         Own            Employed  MSA, Not Principle  City   \n",
       "\n",
       "  respondent_id h1n1_vaccine  \n",
       "0             0            0  \n",
       "1             1            0  \n",
       "2             2            0  \n",
       "3             3            0  \n",
       "4             4            0  "
      ]
     },
<<<<<<< HEAD
<<<<<<< HEAD
<<<<<<< HEAD
     "execution_count": 26,
=======
     "execution_count": 64,
>>>>>>> 51d9e99e954723218d8902c654ad9f06e551671a
=======
     "execution_count": 399,
>>>>>>> f55d197c1325bb9dd41bd183e80ed0e8701a19e7
=======
     "execution_count": 24,
>>>>>>> 009c10c0bd28f7dd01433854d9e13e4af220ff2c
     "metadata": {},
     "output_type": "execute_result"
    }
   ],
   "source": [
    "df_full_categorical = impute_missing_values(df_full_object, categorical_imputer)\n",
    "\n",
    "df_full_categorical.head()"
   ]
  },
  {
   "cell_type": "code",
<<<<<<< HEAD
<<<<<<< HEAD
<<<<<<< HEAD
   "execution_count": 27,
=======
   "execution_count": 65,
>>>>>>> 51d9e99e954723218d8902c654ad9f06e551671a
=======
   "execution_count": 400,
>>>>>>> f55d197c1325bb9dd41bd183e80ed0e8701a19e7
=======
   "execution_count": 25,
>>>>>>> 009c10c0bd28f7dd01433854d9e13e4af220ff2c
   "metadata": {},
   "outputs": [
    {
     "data": {
      "text/plain": [
       "age_group            0\n",
       "education            0\n",
       "race                 0\n",
       "sex                  0\n",
       "income_poverty       0\n",
       "marital_status       0\n",
       "rent_or_own          0\n",
       "employment_status    0\n",
       "census_msa           0\n",
       "respondent_id        0\n",
       "h1n1_vaccine         0\n",
       "dtype: int64"
      ]
     },
<<<<<<< HEAD
<<<<<<< HEAD
<<<<<<< HEAD
     "execution_count": 27,
=======
     "execution_count": 65,
>>>>>>> 51d9e99e954723218d8902c654ad9f06e551671a
=======
     "execution_count": 400,
>>>>>>> f55d197c1325bb9dd41bd183e80ed0e8701a19e7
=======
     "execution_count": 25,
>>>>>>> 009c10c0bd28f7dd01433854d9e13e4af220ff2c
     "metadata": {},
     "output_type": "execute_result"
    }
   ],
   "source": [
    "# Confirming there are no remaining nulls \n",
    "\n",
    "df_full_categorical.isna().sum()\n"
   ]
  },
  {
   "cell_type": "code",
<<<<<<< HEAD
<<<<<<< HEAD
<<<<<<< HEAD
   "execution_count": 28,
=======
   "execution_count": 66,
>>>>>>> 51d9e99e954723218d8902c654ad9f06e551671a
=======
   "execution_count": 401,
>>>>>>> f55d197c1325bb9dd41bd183e80ed0e8701a19e7
=======
   "execution_count": 26,
>>>>>>> 009c10c0bd28f7dd01433854d9e13e4af220ff2c
   "metadata": {},
   "outputs": [],
   "source": [
    "def encode_and_concat_feature_train(X_train, feature_name):\n",
    "    \"\"\"\n",
    "    Helper function for transforming training data.  It takes in the full X dataframe and\n",
    "    feature name, makes a one-hot encoder, and returns the encoder as well as the dataframe\n",
    "    with that feature transformed into multiple columns of 1s and 0s\n",
    "    \"\"\"\n",
    "    # make a one-hot encoder and fit it to the training data\n",
    "    ohe = OneHotEncoder(categories=\"auto\", handle_unknown=\"ignore\")\n",
    "    single_feature_df = X_train[[feature_name]]\n",
    "    ohe.fit(single_feature_df)\n",
    "    \n",
    "    # call helper function that actually encodes the feature and concats it\n",
    "    X_train = encode_and_concat_feature(X_train, feature_name, ohe)\n",
    "    \n",
    "    return ohe, X_train"
   ]
  },
  {
   "cell_type": "code",
<<<<<<< HEAD
<<<<<<< HEAD
<<<<<<< HEAD
   "execution_count": 29,
=======
   "execution_count": 67,
>>>>>>> 51d9e99e954723218d8902c654ad9f06e551671a
=======
   "execution_count": 402,
>>>>>>> f55d197c1325bb9dd41bd183e80ed0e8701a19e7
=======
   "execution_count": 27,
>>>>>>> 009c10c0bd28f7dd01433854d9e13e4af220ff2c
   "metadata": {},
   "outputs": [],
   "source": [
    "def encode_and_concat_feature(X, feature_name, ohe):\n",
    "    \"\"\"\n",
    "    Helper function for transforming a feature into multiple columns of 1s and 0s. Used\n",
    "    in both training and testing steps.  Takes in the full X dataframe, feature name, \n",
    "    and encoder, and returns the dataframe with that feature transformed into multiple\n",
    "    columns of 1s and 0s\n",
    "    \"\"\"\n",
    "    # create new one-hot encoded df based on the feature\n",
    "    single_feature_df = X[[feature_name]]\n",
    "    feature_array = ohe.transform(single_feature_df).toarray()\n",
    "    ohe_df = pd.DataFrame(feature_array, columns=ohe.categories_[0], index=X.index)\n",
    "    \n",
    "    # drop the old feature from X and concat the new one-hot encoded df\n",
    "    X = X.drop(feature_name, axis=1)\n",
    "    X = pd.concat([X, ohe_df], axis=1)\n",
    "    \n",
    "    return X"
   ]
  },
  {
   "cell_type": "code",
<<<<<<< HEAD
<<<<<<< HEAD
<<<<<<< HEAD
   "execution_count": 32,
=======
   "execution_count": 68,
>>>>>>> 51d9e99e954723218d8902c654ad9f06e551671a
=======
   "execution_count": 403,
>>>>>>> f55d197c1325bb9dd41bd183e80ed0e8701a19e7
=======
   "execution_count": 28,
>>>>>>> 009c10c0bd28f7dd01433854d9e13e4af220ff2c
   "metadata": {},
   "outputs": [],
   "source": [
    "# Settign up encoder \n",
    "\n",
    "encoders = {}\n",
    "for categorical_feature in categorical_feature_names:\n",
    "    ohe, df_full_categorical = encode_and_concat_feature_train(df_full_categorical, categorical_feature)\n",
    "    encoders[categorical_feature] = ohe"
   ]
  },
  {
   "cell_type": "code",
<<<<<<< HEAD
<<<<<<< HEAD
<<<<<<< HEAD
   "execution_count": 33,
=======
   "execution_count": 69,
>>>>>>> 51d9e99e954723218d8902c654ad9f06e551671a
=======
   "execution_count": 404,
>>>>>>> f55d197c1325bb9dd41bd183e80ed0e8701a19e7
=======
   "execution_count": 29,
>>>>>>> 009c10c0bd28f7dd01433854d9e13e4af220ff2c
   "metadata": {},
   "outputs": [],
   "source": [
    "# Dropping unnecessary columns ahead of join \n",
    "\n",
    "df_full_categorical = df_full_categorical.drop(labels=['respondent_id', 'h1n1_vaccine'], axis=1)"
   ]
  },
  {
   "cell_type": "code",
<<<<<<< HEAD
<<<<<<< HEAD
<<<<<<< HEAD
   "execution_count": 34,
=======
   "execution_count": 70,
>>>>>>> 51d9e99e954723218d8902c654ad9f06e551671a
   "metadata": {},
   "outputs": [
    {
     "data": {
      "text/html": [
       "<div>\n",
       "<style scoped>\n",
       "    .dataframe tbody tr th:only-of-type {\n",
       "        vertical-align: middle;\n",
       "    }\n",
       "\n",
       "    .dataframe tbody tr th {\n",
       "        vertical-align: top;\n",
       "    }\n",
       "\n",
       "    .dataframe thead th {\n",
       "        text-align: right;\n",
       "    }\n",
       "</style>\n",
       "<table border=\"1\" class=\"dataframe\">\n",
       "  <thead>\n",
       "    <tr style=\"text-align: right;\">\n",
       "      <th></th>\n",
       "      <th>18 - 34 Years</th>\n",
       "      <th>35 - 44 Years</th>\n",
       "      <th>45 - 54 Years</th>\n",
       "      <th>55 - 64 Years</th>\n",
       "      <th>65+ Years</th>\n",
       "      <th>12 Years</th>\n",
       "      <th>&lt; 12 Years</th>\n",
       "      <th>College Graduate</th>\n",
       "      <th>Some College</th>\n",
       "      <th>Black</th>\n",
       "      <th>Hispanic</th>\n",
       "      <th>Other or Multiple</th>\n",
       "      <th>White</th>\n",
       "      <th>Female</th>\n",
       "      <th>Male</th>\n",
       "      <th>&lt;= $75,000, Above Poverty</th>\n",
       "      <th>&gt; $75,000</th>\n",
       "      <th>Below Poverty</th>\n",
       "      <th>Married</th>\n",
       "      <th>Not Married</th>\n",
       "      <th>Own</th>\n",
       "      <th>Rent</th>\n",
       "      <th>Employed</th>\n",
       "      <th>Not in Labor Force</th>\n",
       "      <th>Unemployed</th>\n",
       "      <th>MSA, Not Principle  City</th>\n",
       "      <th>MSA, Principle City</th>\n",
       "      <th>Non-MSA</th>\n",
       "    </tr>\n",
       "  </thead>\n",
       "  <tbody>\n",
       "    <tr>\n",
       "      <th>0</th>\n",
       "      <td>0.0</td>\n",
       "      <td>0.0</td>\n",
       "      <td>0.0</td>\n",
       "      <td>1.0</td>\n",
       "      <td>0.0</td>\n",
       "      <td>0.0</td>\n",
       "      <td>1.0</td>\n",
       "      <td>0.0</td>\n",
       "      <td>0.0</td>\n",
       "      <td>0.0</td>\n",
       "      <td>0.0</td>\n",
       "      <td>0.0</td>\n",
       "      <td>1.0</td>\n",
       "      <td>1.0</td>\n",
       "      <td>0.0</td>\n",
       "      <td>0.0</td>\n",
       "      <td>0.0</td>\n",
       "      <td>1.0</td>\n",
       "      <td>0.0</td>\n",
       "      <td>1.0</td>\n",
       "      <td>1.0</td>\n",
       "      <td>0.0</td>\n",
       "      <td>0.0</td>\n",
       "      <td>1.0</td>\n",
       "      <td>0.0</td>\n",
       "      <td>0.0</td>\n",
       "      <td>0.0</td>\n",
       "      <td>1.0</td>\n",
       "    </tr>\n",
       "    <tr>\n",
       "      <th>1</th>\n",
       "      <td>0.0</td>\n",
       "      <td>1.0</td>\n",
       "      <td>0.0</td>\n",
       "      <td>0.0</td>\n",
       "      <td>0.0</td>\n",
       "      <td>1.0</td>\n",
       "      <td>0.0</td>\n",
       "      <td>0.0</td>\n",
       "      <td>0.0</td>\n",
       "      <td>0.0</td>\n",
       "      <td>0.0</td>\n",
       "      <td>0.0</td>\n",
       "      <td>1.0</td>\n",
       "      <td>0.0</td>\n",
       "      <td>1.0</td>\n",
       "      <td>0.0</td>\n",
       "      <td>0.0</td>\n",
       "      <td>1.0</td>\n",
       "      <td>0.0</td>\n",
       "      <td>1.0</td>\n",
       "      <td>0.0</td>\n",
       "      <td>1.0</td>\n",
       "      <td>1.0</td>\n",
       "      <td>0.0</td>\n",
       "      <td>0.0</td>\n",
       "      <td>1.0</td>\n",
       "      <td>0.0</td>\n",
       "      <td>0.0</td>\n",
       "    </tr>\n",
       "    <tr>\n",
       "      <th>2</th>\n",
       "      <td>1.0</td>\n",
       "      <td>0.0</td>\n",
       "      <td>0.0</td>\n",
       "      <td>0.0</td>\n",
       "      <td>0.0</td>\n",
       "      <td>0.0</td>\n",
       "      <td>0.0</td>\n",
       "      <td>1.0</td>\n",
       "      <td>0.0</td>\n",
       "      <td>0.0</td>\n",
       "      <td>0.0</td>\n",
       "      <td>0.0</td>\n",
       "      <td>1.0</td>\n",
       "      <td>0.0</td>\n",
       "      <td>1.0</td>\n",
       "      <td>1.0</td>\n",
       "      <td>0.0</td>\n",
       "      <td>0.0</td>\n",
       "      <td>0.0</td>\n",
       "      <td>1.0</td>\n",
       "      <td>1.0</td>\n",
       "      <td>0.0</td>\n",
       "      <td>1.0</td>\n",
       "      <td>0.0</td>\n",
       "      <td>0.0</td>\n",
       "      <td>1.0</td>\n",
       "      <td>0.0</td>\n",
       "      <td>0.0</td>\n",
       "    </tr>\n",
       "    <tr>\n",
       "      <th>3</th>\n",
       "      <td>0.0</td>\n",
       "      <td>0.0</td>\n",
       "      <td>0.0</td>\n",
       "      <td>0.0</td>\n",
       "      <td>1.0</td>\n",
       "      <td>1.0</td>\n",
       "      <td>0.0</td>\n",
       "      <td>0.0</td>\n",
       "      <td>0.0</td>\n",
       "      <td>0.0</td>\n",
       "      <td>0.0</td>\n",
       "      <td>0.0</td>\n",
       "      <td>1.0</td>\n",
       "      <td>1.0</td>\n",
       "      <td>0.0</td>\n",
       "      <td>0.0</td>\n",
       "      <td>0.0</td>\n",
       "      <td>1.0</td>\n",
       "      <td>0.0</td>\n",
       "      <td>1.0</td>\n",
       "      <td>0.0</td>\n",
       "      <td>1.0</td>\n",
       "      <td>0.0</td>\n",
       "      <td>1.0</td>\n",
       "      <td>0.0</td>\n",
       "      <td>0.0</td>\n",
       "      <td>1.0</td>\n",
       "      <td>0.0</td>\n",
       "    </tr>\n",
       "    <tr>\n",
       "      <th>4</th>\n",
       "      <td>0.0</td>\n",
       "      <td>0.0</td>\n",
       "      <td>1.0</td>\n",
       "      <td>0.0</td>\n",
       "      <td>0.0</td>\n",
       "      <td>0.0</td>\n",
       "      <td>0.0</td>\n",
       "      <td>0.0</td>\n",
       "      <td>1.0</td>\n",
       "      <td>0.0</td>\n",
       "      <td>0.0</td>\n",
       "      <td>0.0</td>\n",
       "      <td>1.0</td>\n",
       "      <td>1.0</td>\n",
       "      <td>0.0</td>\n",
       "      <td>1.0</td>\n",
       "      <td>0.0</td>\n",
       "      <td>0.0</td>\n",
       "      <td>1.0</td>\n",
       "      <td>0.0</td>\n",
       "      <td>1.0</td>\n",
       "      <td>0.0</td>\n",
       "      <td>1.0</td>\n",
       "      <td>0.0</td>\n",
       "      <td>0.0</td>\n",
       "      <td>1.0</td>\n",
       "      <td>0.0</td>\n",
       "      <td>0.0</td>\n",
       "    </tr>\n",
       "    <tr>\n",
       "      <th>...</th>\n",
       "      <td>...</td>\n",
       "      <td>...</td>\n",
       "      <td>...</td>\n",
       "      <td>...</td>\n",
       "      <td>...</td>\n",
       "      <td>...</td>\n",
       "      <td>...</td>\n",
       "      <td>...</td>\n",
       "      <td>...</td>\n",
       "      <td>...</td>\n",
       "      <td>...</td>\n",
       "      <td>...</td>\n",
       "      <td>...</td>\n",
       "      <td>...</td>\n",
       "      <td>...</td>\n",
       "      <td>...</td>\n",
       "      <td>...</td>\n",
       "      <td>...</td>\n",
       "      <td>...</td>\n",
       "      <td>...</td>\n",
       "      <td>...</td>\n",
       "      <td>...</td>\n",
       "      <td>...</td>\n",
       "      <td>...</td>\n",
       "      <td>...</td>\n",
       "      <td>...</td>\n",
       "      <td>...</td>\n",
       "      <td>...</td>\n",
       "    </tr>\n",
       "    <tr>\n",
       "      <th>26702</th>\n",
       "      <td>0.0</td>\n",
       "      <td>0.0</td>\n",
       "      <td>0.0</td>\n",
       "      <td>0.0</td>\n",
       "      <td>1.0</td>\n",
       "      <td>0.0</td>\n",
       "      <td>0.0</td>\n",
       "      <td>0.0</td>\n",
       "      <td>1.0</td>\n",
       "      <td>0.0</td>\n",
       "      <td>0.0</td>\n",
       "      <td>0.0</td>\n",
       "      <td>1.0</td>\n",
       "      <td>1.0</td>\n",
       "      <td>0.0</td>\n",
       "      <td>1.0</td>\n",
       "      <td>0.0</td>\n",
       "      <td>0.0</td>\n",
       "      <td>0.0</td>\n",
       "      <td>1.0</td>\n",
       "      <td>1.0</td>\n",
       "      <td>0.0</td>\n",
       "      <td>0.0</td>\n",
       "      <td>1.0</td>\n",
       "      <td>0.0</td>\n",
       "      <td>0.0</td>\n",
       "      <td>0.0</td>\n",
       "      <td>1.0</td>\n",
       "    </tr>\n",
       "    <tr>\n",
       "      <th>26703</th>\n",
       "      <td>1.0</td>\n",
       "      <td>0.0</td>\n",
       "      <td>0.0</td>\n",
       "      <td>0.0</td>\n",
       "      <td>0.0</td>\n",
       "      <td>0.0</td>\n",
       "      <td>0.0</td>\n",
       "      <td>1.0</td>\n",
       "      <td>0.0</td>\n",
       "      <td>0.0</td>\n",
       "      <td>0.0</td>\n",
       "      <td>0.0</td>\n",
       "      <td>1.0</td>\n",
       "      <td>0.0</td>\n",
       "      <td>1.0</td>\n",
       "      <td>1.0</td>\n",
       "      <td>0.0</td>\n",
       "      <td>0.0</td>\n",
       "      <td>0.0</td>\n",
       "      <td>1.0</td>\n",
       "      <td>0.0</td>\n",
       "      <td>1.0</td>\n",
       "      <td>1.0</td>\n",
       "      <td>0.0</td>\n",
       "      <td>0.0</td>\n",
       "      <td>0.0</td>\n",
       "      <td>1.0</td>\n",
       "      <td>0.0</td>\n",
       "    </tr>\n",
       "    <tr>\n",
       "      <th>26704</th>\n",
       "      <td>0.0</td>\n",
       "      <td>0.0</td>\n",
       "      <td>0.0</td>\n",
       "      <td>1.0</td>\n",
       "      <td>0.0</td>\n",
       "      <td>0.0</td>\n",
       "      <td>0.0</td>\n",
       "      <td>0.0</td>\n",
       "      <td>1.0</td>\n",
       "      <td>0.0</td>\n",
       "      <td>0.0</td>\n",
       "      <td>0.0</td>\n",
       "      <td>1.0</td>\n",
       "      <td>1.0</td>\n",
       "      <td>0.0</td>\n",
       "      <td>1.0</td>\n",
       "      <td>0.0</td>\n",
       "      <td>0.0</td>\n",
       "      <td>0.0</td>\n",
       "      <td>1.0</td>\n",
       "      <td>1.0</td>\n",
       "      <td>0.0</td>\n",
       "      <td>1.0</td>\n",
       "      <td>0.0</td>\n",
       "      <td>0.0</td>\n",
       "      <td>1.0</td>\n",
       "      <td>0.0</td>\n",
       "      <td>0.0</td>\n",
       "    </tr>\n",
       "    <tr>\n",
       "      <th>26705</th>\n",
       "      <td>1.0</td>\n",
       "      <td>0.0</td>\n",
       "      <td>0.0</td>\n",
       "      <td>0.0</td>\n",
       "      <td>0.0</td>\n",
       "      <td>0.0</td>\n",
       "      <td>0.0</td>\n",
       "      <td>0.0</td>\n",
       "      <td>1.0</td>\n",
       "      <td>0.0</td>\n",
       "      <td>1.0</td>\n",
       "      <td>0.0</td>\n",
       "      <td>0.0</td>\n",
       "      <td>1.0</td>\n",
       "      <td>0.0</td>\n",
       "      <td>1.0</td>\n",
       "      <td>0.0</td>\n",
       "      <td>0.0</td>\n",
       "      <td>1.0</td>\n",
       "      <td>0.0</td>\n",
       "      <td>0.0</td>\n",
       "      <td>1.0</td>\n",
       "      <td>1.0</td>\n",
       "      <td>0.0</td>\n",
       "      <td>0.0</td>\n",
       "      <td>0.0</td>\n",
       "      <td>0.0</td>\n",
       "      <td>1.0</td>\n",
       "    </tr>\n",
       "    <tr>\n",
       "      <th>26706</th>\n",
       "      <td>0.0</td>\n",
       "      <td>0.0</td>\n",
       "      <td>0.0</td>\n",
       "      <td>0.0</td>\n",
       "      <td>1.0</td>\n",
       "      <td>0.0</td>\n",
       "      <td>0.0</td>\n",
       "      <td>0.0</td>\n",
       "      <td>1.0</td>\n",
       "      <td>0.0</td>\n",
       "      <td>0.0</td>\n",
       "      <td>0.0</td>\n",
       "      <td>1.0</td>\n",
       "      <td>0.0</td>\n",
       "      <td>1.0</td>\n",
       "      <td>1.0</td>\n",
       "      <td>0.0</td>\n",
       "      <td>0.0</td>\n",
       "      <td>1.0</td>\n",
       "      <td>0.0</td>\n",
       "      <td>1.0</td>\n",
       "      <td>0.0</td>\n",
       "      <td>0.0</td>\n",
       "      <td>1.0</td>\n",
       "      <td>0.0</td>\n",
       "      <td>0.0</td>\n",
       "      <td>1.0</td>\n",
       "      <td>0.0</td>\n",
       "    </tr>\n",
       "  </tbody>\n",
       "</table>\n",
       "<p>26707 rows × 28 columns</p>\n",
       "</div>"
      ],
      "text/plain": [
       "       18 - 34 Years  35 - 44 Years  45 - 54 Years  55 - 64 Years  65+ Years  \\\n",
       "0                0.0            0.0            0.0            1.0        0.0   \n",
       "1                0.0            1.0            0.0            0.0        0.0   \n",
       "2                1.0            0.0            0.0            0.0        0.0   \n",
       "3                0.0            0.0            0.0            0.0        1.0   \n",
       "4                0.0            0.0            1.0            0.0        0.0   \n",
       "...              ...            ...            ...            ...        ...   \n",
       "26702            0.0            0.0            0.0            0.0        1.0   \n",
       "26703            1.0            0.0            0.0            0.0        0.0   \n",
       "26704            0.0            0.0            0.0            1.0        0.0   \n",
       "26705            1.0            0.0            0.0            0.0        0.0   \n",
       "26706            0.0            0.0            0.0            0.0        1.0   \n",
       "\n",
       "       12 Years  < 12 Years  College Graduate  Some College  Black  Hispanic  \\\n",
       "0           0.0         1.0               0.0           0.0    0.0       0.0   \n",
       "1           1.0         0.0               0.0           0.0    0.0       0.0   \n",
       "2           0.0         0.0               1.0           0.0    0.0       0.0   \n",
       "3           1.0         0.0               0.0           0.0    0.0       0.0   \n",
       "4           0.0         0.0               0.0           1.0    0.0       0.0   \n",
       "...         ...         ...               ...           ...    ...       ...   \n",
       "26702       0.0         0.0               0.0           1.0    0.0       0.0   \n",
       "26703       0.0         0.0               1.0           0.0    0.0       0.0   \n",
       "26704       0.0         0.0               0.0           1.0    0.0       0.0   \n",
       "26705       0.0         0.0               0.0           1.0    0.0       1.0   \n",
       "26706       0.0         0.0               0.0           1.0    0.0       0.0   \n",
       "\n",
       "       Other or Multiple  White  Female  Male  <= $75,000, Above Poverty  \\\n",
       "0                    0.0    1.0     1.0   0.0                        0.0   \n",
       "1                    0.0    1.0     0.0   1.0                        0.0   \n",
       "2                    0.0    1.0     0.0   1.0                        1.0   \n",
       "3                    0.0    1.0     1.0   0.0                        0.0   \n",
       "4                    0.0    1.0     1.0   0.0                        1.0   \n",
       "...                  ...    ...     ...   ...                        ...   \n",
       "26702                0.0    1.0     1.0   0.0                        1.0   \n",
       "26703                0.0    1.0     0.0   1.0                        1.0   \n",
       "26704                0.0    1.0     1.0   0.0                        1.0   \n",
       "26705                0.0    0.0     1.0   0.0                        1.0   \n",
       "26706                0.0    1.0     0.0   1.0                        1.0   \n",
       "\n",
       "       > $75,000  Below Poverty  Married  Not Married  Own  Rent  Employed  \\\n",
       "0            0.0            1.0      0.0          1.0  1.0   0.0       0.0   \n",
       "1            0.0            1.0      0.0          1.0  0.0   1.0       1.0   \n",
       "2            0.0            0.0      0.0          1.0  1.0   0.0       1.0   \n",
       "3            0.0            1.0      0.0          1.0  0.0   1.0       0.0   \n",
       "4            0.0            0.0      1.0          0.0  1.0   0.0       1.0   \n",
       "...          ...            ...      ...          ...  ...   ...       ...   \n",
       "26702        0.0            0.0      0.0          1.0  1.0   0.0       0.0   \n",
       "26703        0.0            0.0      0.0          1.0  0.0   1.0       1.0   \n",
       "26704        0.0            0.0      0.0          1.0  1.0   0.0       1.0   \n",
       "26705        0.0            0.0      1.0          0.0  0.0   1.0       1.0   \n",
       "26706        0.0            0.0      1.0          0.0  1.0   0.0       0.0   \n",
       "\n",
       "       Not in Labor Force  Unemployed  MSA, Not Principle  City  \\\n",
       "0                     1.0         0.0                       0.0   \n",
       "1                     0.0         0.0                       1.0   \n",
       "2                     0.0         0.0                       1.0   \n",
       "3                     1.0         0.0                       0.0   \n",
       "4                     0.0         0.0                       1.0   \n",
       "...                   ...         ...                       ...   \n",
       "26702                 1.0         0.0                       0.0   \n",
       "26703                 0.0         0.0                       0.0   \n",
       "26704                 0.0         0.0                       1.0   \n",
       "26705                 0.0         0.0                       0.0   \n",
       "26706                 1.0         0.0                       0.0   \n",
       "\n",
       "       MSA, Principle City  Non-MSA  \n",
       "0                      0.0      1.0  \n",
       "1                      0.0      0.0  \n",
       "2                      0.0      0.0  \n",
       "3                      1.0      0.0  \n",
       "4                      0.0      0.0  \n",
       "...                    ...      ...  \n",
       "26702                  0.0      1.0  \n",
       "26703                  1.0      0.0  \n",
       "26704                  0.0      0.0  \n",
       "26705                  0.0      1.0  \n",
       "26706                  1.0      0.0  \n",
       "\n",
       "[26707 rows x 28 columns]"
      ]
     },
<<<<<<< HEAD
     "execution_count": 34,
=======
     "execution_count": 70,
>>>>>>> 51d9e99e954723218d8902c654ad9f06e551671a
     "metadata": {},
     "output_type": "execute_result"
    }
   ],
   "source": [
    "df_full_categorical"
   ]
  },
  {
   "cell_type": "code",
<<<<<<< HEAD
   "execution_count": 35,
=======
   "execution_count": 71,
>>>>>>> 51d9e99e954723218d8902c654ad9f06e551671a
=======
   "execution_count": 405,
>>>>>>> f55d197c1325bb9dd41bd183e80ed0e8701a19e7
=======
   "execution_count": 30,
>>>>>>> 009c10c0bd28f7dd01433854d9e13e4af220ff2c
   "metadata": {
    "scrolled": true
   },
   "outputs": [
    {
     "data": {
      "text/html": [
       "<div>\n",
       "<style scoped>\n",
       "    .dataframe tbody tr th:only-of-type {\n",
       "        vertical-align: middle;\n",
       "    }\n",
       "\n",
       "    .dataframe tbody tr th {\n",
       "        vertical-align: top;\n",
       "    }\n",
       "\n",
       "    .dataframe thead th {\n",
       "        text-align: right;\n",
       "    }\n",
       "</style>\n",
       "<table border=\"1\" class=\"dataframe\">\n",
       "  <thead>\n",
       "    <tr style=\"text-align: right;\">\n",
       "      <th></th>\n",
       "      <th>respondent_id</th>\n",
       "      <th>h1n1_vaccine</th>\n",
       "      <th>seasonal_vaccine</th>\n",
       "      <th>h1n1_concern</th>\n",
       "      <th>h1n1_knowledge</th>\n",
       "      <th>behavioral_antiviral_meds</th>\n",
       "      <th>behavioral_avoidance</th>\n",
       "      <th>behavioral_face_mask</th>\n",
       "      <th>behavioral_wash_hands</th>\n",
       "      <th>behavioral_large_gatherings</th>\n",
       "      <th>behavioral_outside_home</th>\n",
       "      <th>behavioral_touch_face</th>\n",
       "      <th>doctor_recc_h1n1</th>\n",
       "      <th>chronic_med_condition</th>\n",
       "      <th>child_under_6_months</th>\n",
       "      <th>health_worker</th>\n",
       "      <th>health_insurance</th>\n",
       "      <th>opinion_h1n1_vacc_effective</th>\n",
       "      <th>opinion_h1n1_risk</th>\n",
       "      <th>opinion_h1n1_sick_from_vacc</th>\n",
       "      <th>household_adults</th>\n",
       "      <th>household_children</th>\n",
       "      <th>18 - 34 Years</th>\n",
       "      <th>35 - 44 Years</th>\n",
       "      <th>45 - 54 Years</th>\n",
       "      <th>55 - 64 Years</th>\n",
       "      <th>65+ Years</th>\n",
       "      <th>12 Years</th>\n",
       "      <th>&lt; 12 Years</th>\n",
       "      <th>College Graduate</th>\n",
       "      <th>Some College</th>\n",
       "      <th>Black</th>\n",
       "      <th>Hispanic</th>\n",
       "      <th>Other or Multiple</th>\n",
       "      <th>White</th>\n",
       "      <th>Female</th>\n",
       "      <th>Male</th>\n",
       "      <th>&lt;= $75,000, Above Poverty</th>\n",
       "      <th>&gt; $75,000</th>\n",
       "      <th>Below Poverty</th>\n",
       "      <th>Married</th>\n",
       "      <th>Not Married</th>\n",
       "      <th>Own</th>\n",
       "      <th>Rent</th>\n",
       "      <th>Employed</th>\n",
       "      <th>Not in Labor Force</th>\n",
       "      <th>Unemployed</th>\n",
       "      <th>MSA, Not Principle  City</th>\n",
       "      <th>MSA, Principle City</th>\n",
       "      <th>Non-MSA</th>\n",
       "    </tr>\n",
       "  </thead>\n",
       "  <tbody>\n",
       "    <tr>\n",
       "      <th>0</th>\n",
       "      <td>0</td>\n",
       "      <td>0</td>\n",
       "      <td>0</td>\n",
       "      <td>1.0</td>\n",
       "      <td>0.0</td>\n",
       "      <td>0.0</td>\n",
       "      <td>0.0</td>\n",
       "      <td>0.0</td>\n",
       "      <td>0.0</td>\n",
       "      <td>0.0</td>\n",
       "      <td>1.0</td>\n",
       "      <td>1.0</td>\n",
       "      <td>0.0</td>\n",
       "      <td>0.0</td>\n",
       "      <td>0.0</td>\n",
       "      <td>0.0</td>\n",
       "      <td>1.0</td>\n",
       "      <td>3.0</td>\n",
       "      <td>1.0</td>\n",
       "      <td>2.0</td>\n",
       "      <td>0.0</td>\n",
       "      <td>0.0</td>\n",
       "      <td>0.0</td>\n",
       "      <td>0.0</td>\n",
       "      <td>0.0</td>\n",
       "      <td>1.0</td>\n",
       "      <td>0.0</td>\n",
       "      <td>0.0</td>\n",
       "      <td>1.0</td>\n",
       "      <td>0.0</td>\n",
       "      <td>0.0</td>\n",
       "      <td>0.0</td>\n",
       "      <td>0.0</td>\n",
       "      <td>0.0</td>\n",
       "      <td>1.0</td>\n",
       "      <td>1.0</td>\n",
       "      <td>0.0</td>\n",
       "      <td>0.0</td>\n",
       "      <td>0.0</td>\n",
       "      <td>1.0</td>\n",
       "      <td>0.0</td>\n",
       "      <td>1.0</td>\n",
       "      <td>1.0</td>\n",
       "      <td>0.0</td>\n",
       "      <td>0.0</td>\n",
       "      <td>1.0</td>\n",
       "      <td>0.0</td>\n",
       "      <td>0.0</td>\n",
       "      <td>0.0</td>\n",
       "      <td>1.0</td>\n",
       "    </tr>\n",
       "    <tr>\n",
       "      <th>1</th>\n",
       "      <td>1</td>\n",
       "      <td>0</td>\n",
       "      <td>1</td>\n",
       "      <td>3.0</td>\n",
       "      <td>2.0</td>\n",
       "      <td>0.0</td>\n",
       "      <td>1.0</td>\n",
       "      <td>0.0</td>\n",
       "      <td>1.0</td>\n",
       "      <td>0.0</td>\n",
       "      <td>1.0</td>\n",
       "      <td>1.0</td>\n",
       "      <td>0.0</td>\n",
       "      <td>0.0</td>\n",
       "      <td>0.0</td>\n",
       "      <td>0.0</td>\n",
       "      <td>1.0</td>\n",
       "      <td>5.0</td>\n",
       "      <td>4.0</td>\n",
       "      <td>4.0</td>\n",
       "      <td>0.0</td>\n",
       "      <td>0.0</td>\n",
       "      <td>0.0</td>\n",
       "      <td>1.0</td>\n",
       "      <td>0.0</td>\n",
       "      <td>0.0</td>\n",
       "      <td>0.0</td>\n",
       "      <td>1.0</td>\n",
       "      <td>0.0</td>\n",
       "      <td>0.0</td>\n",
       "      <td>0.0</td>\n",
       "      <td>0.0</td>\n",
       "      <td>0.0</td>\n",
       "      <td>0.0</td>\n",
       "      <td>1.0</td>\n",
       "      <td>0.0</td>\n",
       "      <td>1.0</td>\n",
       "      <td>0.0</td>\n",
       "      <td>0.0</td>\n",
       "      <td>1.0</td>\n",
       "      <td>0.0</td>\n",
       "      <td>1.0</td>\n",
       "      <td>0.0</td>\n",
       "      <td>1.0</td>\n",
       "      <td>1.0</td>\n",
       "      <td>0.0</td>\n",
       "      <td>0.0</td>\n",
       "      <td>1.0</td>\n",
       "      <td>0.0</td>\n",
       "      <td>0.0</td>\n",
       "    </tr>\n",
       "    <tr>\n",
       "      <th>2</th>\n",
       "      <td>2</td>\n",
       "      <td>0</td>\n",
       "      <td>0</td>\n",
       "      <td>1.0</td>\n",
       "      <td>1.0</td>\n",
       "      <td>0.0</td>\n",
       "      <td>1.0</td>\n",
       "      <td>0.0</td>\n",
       "      <td>0.0</td>\n",
       "      <td>0.0</td>\n",
       "      <td>0.0</td>\n",
       "      <td>0.0</td>\n",
       "      <td>NaN</td>\n",
       "      <td>1.0</td>\n",
       "      <td>0.0</td>\n",
       "      <td>0.0</td>\n",
       "      <td>2.0</td>\n",
       "      <td>3.0</td>\n",
       "      <td>1.0</td>\n",
       "      <td>1.0</td>\n",
       "      <td>2.0</td>\n",
       "      <td>0.0</td>\n",
       "      <td>1.0</td>\n",
       "      <td>0.0</td>\n",
       "      <td>0.0</td>\n",
       "      <td>0.0</td>\n",
       "      <td>0.0</td>\n",
       "      <td>0.0</td>\n",
       "      <td>0.0</td>\n",
       "      <td>1.0</td>\n",
       "      <td>0.0</td>\n",
       "      <td>0.0</td>\n",
       "      <td>0.0</td>\n",
       "      <td>0.0</td>\n",
       "      <td>1.0</td>\n",
       "      <td>0.0</td>\n",
       "      <td>1.0</td>\n",
       "      <td>1.0</td>\n",
       "      <td>0.0</td>\n",
       "      <td>0.0</td>\n",
       "      <td>0.0</td>\n",
       "      <td>1.0</td>\n",
       "      <td>1.0</td>\n",
       "      <td>0.0</td>\n",
       "      <td>1.0</td>\n",
       "      <td>0.0</td>\n",
       "      <td>0.0</td>\n",
       "      <td>1.0</td>\n",
       "      <td>0.0</td>\n",
       "      <td>0.0</td>\n",
       "    </tr>\n",
       "    <tr>\n",
       "      <th>3</th>\n",
       "      <td>3</td>\n",
       "      <td>0</td>\n",
       "      <td>1</td>\n",
       "      <td>1.0</td>\n",
       "      <td>1.0</td>\n",
       "      <td>0.0</td>\n",
       "      <td>1.0</td>\n",
       "      <td>0.0</td>\n",
       "      <td>1.0</td>\n",
       "      <td>1.0</td>\n",
       "      <td>0.0</td>\n",
       "      <td>0.0</td>\n",
       "      <td>0.0</td>\n",
       "      <td>1.0</td>\n",
       "      <td>0.0</td>\n",
       "      <td>0.0</td>\n",
       "      <td>2.0</td>\n",
       "      <td>3.0</td>\n",
       "      <td>3.0</td>\n",
       "      <td>5.0</td>\n",
       "      <td>0.0</td>\n",
       "      <td>0.0</td>\n",
       "      <td>0.0</td>\n",
       "      <td>0.0</td>\n",
       "      <td>0.0</td>\n",
       "      <td>0.0</td>\n",
       "      <td>1.0</td>\n",
       "      <td>1.0</td>\n",
       "      <td>0.0</td>\n",
       "      <td>0.0</td>\n",
       "      <td>0.0</td>\n",
       "      <td>0.0</td>\n",
       "      <td>0.0</td>\n",
       "      <td>0.0</td>\n",
       "      <td>1.0</td>\n",
       "      <td>1.0</td>\n",
       "      <td>0.0</td>\n",
       "      <td>0.0</td>\n",
       "      <td>0.0</td>\n",
       "      <td>1.0</td>\n",
       "      <td>0.0</td>\n",
       "      <td>1.0</td>\n",
       "      <td>0.0</td>\n",
       "      <td>1.0</td>\n",
       "      <td>0.0</td>\n",
       "      <td>1.0</td>\n",
       "      <td>0.0</td>\n",
       "      <td>0.0</td>\n",
       "      <td>1.0</td>\n",
       "      <td>0.0</td>\n",
       "    </tr>\n",
       "    <tr>\n",
       "      <th>4</th>\n",
       "      <td>4</td>\n",
       "      <td>0</td>\n",
       "      <td>0</td>\n",
       "      <td>2.0</td>\n",
       "      <td>1.0</td>\n",
       "      <td>0.0</td>\n",
       "      <td>1.0</td>\n",
       "      <td>0.0</td>\n",
       "      <td>1.0</td>\n",
       "      <td>1.0</td>\n",
       "      <td>0.0</td>\n",
       "      <td>1.0</td>\n",
       "      <td>0.0</td>\n",
       "      <td>0.0</td>\n",
       "      <td>0.0</td>\n",
       "      <td>0.0</td>\n",
       "      <td>2.0</td>\n",
       "      <td>3.0</td>\n",
       "      <td>3.0</td>\n",
       "      <td>2.0</td>\n",
       "      <td>1.0</td>\n",
       "      <td>0.0</td>\n",
       "      <td>0.0</td>\n",
       "      <td>0.0</td>\n",
       "      <td>1.0</td>\n",
       "      <td>0.0</td>\n",
       "      <td>0.0</td>\n",
       "      <td>0.0</td>\n",
       "      <td>0.0</td>\n",
       "      <td>0.0</td>\n",
       "      <td>1.0</td>\n",
       "      <td>0.0</td>\n",
       "      <td>0.0</td>\n",
       "      <td>0.0</td>\n",
       "      <td>1.0</td>\n",
       "      <td>1.0</td>\n",
       "      <td>0.0</td>\n",
       "      <td>1.0</td>\n",
       "      <td>0.0</td>\n",
       "      <td>0.0</td>\n",
       "      <td>1.0</td>\n",
       "      <td>0.0</td>\n",
       "      <td>1.0</td>\n",
       "      <td>0.0</td>\n",
       "      <td>1.0</td>\n",
       "      <td>0.0</td>\n",
       "      <td>0.0</td>\n",
       "      <td>1.0</td>\n",
       "      <td>0.0</td>\n",
       "      <td>0.0</td>\n",
       "    </tr>\n",
       "  </tbody>\n",
       "</table>\n",
       "</div>"
      ],
      "text/plain": [
       "   respondent_id  h1n1_vaccine  seasonal_vaccine  h1n1_concern  \\\n",
       "0              0             0                 0           1.0   \n",
       "1              1             0                 1           3.0   \n",
       "2              2             0                 0           1.0   \n",
       "3              3             0                 1           1.0   \n",
       "4              4             0                 0           2.0   \n",
       "\n",
       "   h1n1_knowledge  behavioral_antiviral_meds  behavioral_avoidance  \\\n",
       "0             0.0                        0.0                   0.0   \n",
       "1             2.0                        0.0                   1.0   \n",
       "2             1.0                        0.0                   1.0   \n",
       "3             1.0                        0.0                   1.0   \n",
       "4             1.0                        0.0                   1.0   \n",
       "\n",
       "   behavioral_face_mask  behavioral_wash_hands  behavioral_large_gatherings  \\\n",
       "0                   0.0                    0.0                          0.0   \n",
       "1                   0.0                    1.0                          0.0   \n",
       "2                   0.0                    0.0                          0.0   \n",
       "3                   0.0                    1.0                          1.0   \n",
       "4                   0.0                    1.0                          1.0   \n",
       "\n",
       "   behavioral_outside_home  behavioral_touch_face  doctor_recc_h1n1  \\\n",
       "0                      1.0                    1.0               0.0   \n",
       "1                      1.0                    1.0               0.0   \n",
       "2                      0.0                    0.0               NaN   \n",
       "3                      0.0                    0.0               0.0   \n",
       "4                      0.0                    1.0               0.0   \n",
       "\n",
       "   chronic_med_condition  child_under_6_months  health_worker  \\\n",
       "0                    0.0                   0.0            0.0   \n",
       "1                    0.0                   0.0            0.0   \n",
       "2                    1.0                   0.0            0.0   \n",
       "3                    1.0                   0.0            0.0   \n",
       "4                    0.0                   0.0            0.0   \n",
       "\n",
       "   health_insurance  opinion_h1n1_vacc_effective  opinion_h1n1_risk  \\\n",
       "0               1.0                          3.0                1.0   \n",
       "1               1.0                          5.0                4.0   \n",
       "2               2.0                          3.0                1.0   \n",
       "3               2.0                          3.0                3.0   \n",
       "4               2.0                          3.0                3.0   \n",
       "\n",
       "   opinion_h1n1_sick_from_vacc  household_adults  household_children  \\\n",
       "0                          2.0               0.0                 0.0   \n",
       "1                          4.0               0.0                 0.0   \n",
       "2                          1.0               2.0                 0.0   \n",
       "3                          5.0               0.0                 0.0   \n",
       "4                          2.0               1.0                 0.0   \n",
       "\n",
       "   18 - 34 Years  35 - 44 Years  45 - 54 Years  55 - 64 Years  65+ Years  \\\n",
       "0            0.0            0.0            0.0            1.0        0.0   \n",
       "1            0.0            1.0            0.0            0.0        0.0   \n",
       "2            1.0            0.0            0.0            0.0        0.0   \n",
       "3            0.0            0.0            0.0            0.0        1.0   \n",
       "4            0.0            0.0            1.0            0.0        0.0   \n",
       "\n",
       "   12 Years  < 12 Years  College Graduate  Some College  Black  Hispanic  \\\n",
       "0       0.0         1.0               0.0           0.0    0.0       0.0   \n",
       "1       1.0         0.0               0.0           0.0    0.0       0.0   \n",
       "2       0.0         0.0               1.0           0.0    0.0       0.0   \n",
       "3       1.0         0.0               0.0           0.0    0.0       0.0   \n",
       "4       0.0         0.0               0.0           1.0    0.0       0.0   \n",
       "\n",
       "   Other or Multiple  White  Female  Male  <= $75,000, Above Poverty  \\\n",
       "0                0.0    1.0     1.0   0.0                        0.0   \n",
       "1                0.0    1.0     0.0   1.0                        0.0   \n",
       "2                0.0    1.0     0.0   1.0                        1.0   \n",
       "3                0.0    1.0     1.0   0.0                        0.0   \n",
       "4                0.0    1.0     1.0   0.0                        1.0   \n",
       "\n",
       "   > $75,000  Below Poverty  Married  Not Married  Own  Rent  Employed  \\\n",
       "0        0.0            1.0      0.0          1.0  1.0   0.0       0.0   \n",
       "1        0.0            1.0      0.0          1.0  0.0   1.0       1.0   \n",
       "2        0.0            0.0      0.0          1.0  1.0   0.0       1.0   \n",
       "3        0.0            1.0      0.0          1.0  0.0   1.0       0.0   \n",
       "4        0.0            0.0      1.0          0.0  1.0   0.0       1.0   \n",
       "\n",
       "   Not in Labor Force  Unemployed  MSA, Not Principle  City  \\\n",
       "0                 1.0         0.0                       0.0   \n",
       "1                 0.0         0.0                       1.0   \n",
       "2                 0.0         0.0                       1.0   \n",
       "3                 1.0         0.0                       0.0   \n",
       "4                 0.0         0.0                       1.0   \n",
       "\n",
       "   MSA, Principle City  Non-MSA  \n",
       "0                  0.0      1.0  \n",
       "1                  0.0      0.0  \n",
       "2                  0.0      0.0  \n",
       "3                  1.0      0.0  \n",
       "4                  0.0      0.0  "
      ]
     },
<<<<<<< HEAD
<<<<<<< HEAD
<<<<<<< HEAD
     "execution_count": 35,
=======
     "execution_count": 71,
>>>>>>> 51d9e99e954723218d8902c654ad9f06e551671a
=======
     "execution_count": 405,
>>>>>>> f55d197c1325bb9dd41bd183e80ed0e8701a19e7
=======
     "execution_count": 30,
>>>>>>> 009c10c0bd28f7dd01433854d9e13e4af220ff2c
     "metadata": {},
     "output_type": "execute_result"
    }
   ],
   "source": [
    "# Joining back categorical into the numerical data \n",
    "\n",
    "vaccine_df = numeric_data.join(df_full_categorical)\n",
    "vaccine_df.head()"
   ]
  },
  {
   "cell_type": "code",
<<<<<<< HEAD
<<<<<<< HEAD
<<<<<<< HEAD
   "execution_count": 36,
=======
   "execution_count": 72,
>>>>>>> 51d9e99e954723218d8902c654ad9f06e551671a
=======
   "execution_count": 406,
>>>>>>> f55d197c1325bb9dd41bd183e80ed0e8701a19e7
=======
   "execution_count": 31,
>>>>>>> 009c10c0bd28f7dd01433854d9e13e4af220ff2c
   "metadata": {},
   "outputs": [],
   "source": [
    "vaccine_df.drop(columns=['respondent_id'],inplace=True)"
   ]
  },
  {
   "cell_type": "code",
<<<<<<< HEAD
<<<<<<< HEAD
<<<<<<< HEAD
   "execution_count": 37,
=======
   "execution_count": 73,
>>>>>>> 51d9e99e954723218d8902c654ad9f06e551671a
   "metadata": {},
   "outputs": [
    {
     "data": {
      "text/html": [
       "<div>\n",
       "<style scoped>\n",
       "    .dataframe tbody tr th:only-of-type {\n",
       "        vertical-align: middle;\n",
       "    }\n",
       "\n",
       "    .dataframe tbody tr th {\n",
       "        vertical-align: top;\n",
       "    }\n",
       "\n",
       "    .dataframe thead th {\n",
       "        text-align: right;\n",
       "    }\n",
       "</style>\n",
       "<table border=\"1\" class=\"dataframe\">\n",
       "  <thead>\n",
       "    <tr style=\"text-align: right;\">\n",
       "      <th></th>\n",
       "      <th>h1n1_vaccine</th>\n",
       "      <th>seasonal_vaccine</th>\n",
       "      <th>h1n1_concern</th>\n",
       "      <th>h1n1_knowledge</th>\n",
       "      <th>behavioral_antiviral_meds</th>\n",
       "      <th>behavioral_avoidance</th>\n",
       "      <th>behavioral_face_mask</th>\n",
       "      <th>behavioral_wash_hands</th>\n",
       "      <th>behavioral_large_gatherings</th>\n",
       "      <th>behavioral_outside_home</th>\n",
       "      <th>behavioral_touch_face</th>\n",
       "      <th>doctor_recc_h1n1</th>\n",
       "      <th>chronic_med_condition</th>\n",
       "      <th>child_under_6_months</th>\n",
       "      <th>health_worker</th>\n",
       "      <th>health_insurance</th>\n",
       "      <th>opinion_h1n1_vacc_effective</th>\n",
       "      <th>opinion_h1n1_risk</th>\n",
       "      <th>opinion_h1n1_sick_from_vacc</th>\n",
       "      <th>household_adults</th>\n",
       "      <th>household_children</th>\n",
       "      <th>18 - 34 Years</th>\n",
       "      <th>35 - 44 Years</th>\n",
       "      <th>45 - 54 Years</th>\n",
       "      <th>55 - 64 Years</th>\n",
       "      <th>65+ Years</th>\n",
       "      <th>12 Years</th>\n",
       "      <th>&lt; 12 Years</th>\n",
       "      <th>College Graduate</th>\n",
       "      <th>Some College</th>\n",
       "      <th>Black</th>\n",
       "      <th>Hispanic</th>\n",
       "      <th>Other or Multiple</th>\n",
       "      <th>White</th>\n",
       "      <th>Female</th>\n",
       "      <th>Male</th>\n",
       "      <th>&lt;= $75,000, Above Poverty</th>\n",
       "      <th>&gt; $75,000</th>\n",
       "      <th>Below Poverty</th>\n",
       "      <th>Married</th>\n",
       "      <th>Not Married</th>\n",
       "      <th>Own</th>\n",
       "      <th>Rent</th>\n",
       "      <th>Employed</th>\n",
       "      <th>Not in Labor Force</th>\n",
       "      <th>Unemployed</th>\n",
       "      <th>MSA, Not Principle  City</th>\n",
       "      <th>MSA, Principle City</th>\n",
       "      <th>Non-MSA</th>\n",
       "    </tr>\n",
       "  </thead>\n",
       "  <tbody>\n",
       "    <tr>\n",
       "      <th>0</th>\n",
       "      <td>0</td>\n",
       "      <td>0</td>\n",
       "      <td>1.0</td>\n",
       "      <td>0.0</td>\n",
       "      <td>0.0</td>\n",
       "      <td>0.0</td>\n",
       "      <td>0.0</td>\n",
       "      <td>0.0</td>\n",
       "      <td>0.0</td>\n",
       "      <td>1.0</td>\n",
       "      <td>1.0</td>\n",
       "      <td>0.0</td>\n",
       "      <td>0.0</td>\n",
       "      <td>0.0</td>\n",
       "      <td>0.0</td>\n",
       "      <td>1.0</td>\n",
       "      <td>3.0</td>\n",
       "      <td>1.0</td>\n",
       "      <td>2.0</td>\n",
       "      <td>0.0</td>\n",
       "      <td>0.0</td>\n",
       "      <td>0.0</td>\n",
       "      <td>0.0</td>\n",
       "      <td>0.0</td>\n",
       "      <td>1.0</td>\n",
       "      <td>0.0</td>\n",
       "      <td>0.0</td>\n",
       "      <td>1.0</td>\n",
       "      <td>0.0</td>\n",
       "      <td>0.0</td>\n",
       "      <td>0.0</td>\n",
       "      <td>0.0</td>\n",
       "      <td>0.0</td>\n",
       "      <td>1.0</td>\n",
       "      <td>1.0</td>\n",
       "      <td>0.0</td>\n",
       "      <td>0.0</td>\n",
       "      <td>0.0</td>\n",
       "      <td>1.0</td>\n",
       "      <td>0.0</td>\n",
       "      <td>1.0</td>\n",
       "      <td>1.0</td>\n",
       "      <td>0.0</td>\n",
       "      <td>0.0</td>\n",
       "      <td>1.0</td>\n",
       "      <td>0.0</td>\n",
       "      <td>0.0</td>\n",
       "      <td>0.0</td>\n",
       "      <td>1.0</td>\n",
       "    </tr>\n",
       "    <tr>\n",
       "      <th>1</th>\n",
       "      <td>0</td>\n",
       "      <td>1</td>\n",
       "      <td>3.0</td>\n",
       "      <td>2.0</td>\n",
       "      <td>0.0</td>\n",
       "      <td>1.0</td>\n",
       "      <td>0.0</td>\n",
       "      <td>1.0</td>\n",
       "      <td>0.0</td>\n",
       "      <td>1.0</td>\n",
       "      <td>1.0</td>\n",
       "      <td>0.0</td>\n",
       "      <td>0.0</td>\n",
       "      <td>0.0</td>\n",
       "      <td>0.0</td>\n",
       "      <td>1.0</td>\n",
       "      <td>5.0</td>\n",
       "      <td>4.0</td>\n",
       "      <td>4.0</td>\n",
       "      <td>0.0</td>\n",
       "      <td>0.0</td>\n",
       "      <td>0.0</td>\n",
       "      <td>1.0</td>\n",
       "      <td>0.0</td>\n",
       "      <td>0.0</td>\n",
       "      <td>0.0</td>\n",
       "      <td>1.0</td>\n",
       "      <td>0.0</td>\n",
       "      <td>0.0</td>\n",
       "      <td>0.0</td>\n",
       "      <td>0.0</td>\n",
       "      <td>0.0</td>\n",
       "      <td>0.0</td>\n",
       "      <td>1.0</td>\n",
       "      <td>0.0</td>\n",
       "      <td>1.0</td>\n",
       "      <td>0.0</td>\n",
       "      <td>0.0</td>\n",
       "      <td>1.0</td>\n",
       "      <td>0.0</td>\n",
       "      <td>1.0</td>\n",
       "      <td>0.0</td>\n",
       "      <td>1.0</td>\n",
       "      <td>1.0</td>\n",
       "      <td>0.0</td>\n",
       "      <td>0.0</td>\n",
       "      <td>1.0</td>\n",
       "      <td>0.0</td>\n",
       "      <td>0.0</td>\n",
       "    </tr>\n",
       "    <tr>\n",
       "      <th>2</th>\n",
       "      <td>0</td>\n",
       "      <td>0</td>\n",
       "      <td>1.0</td>\n",
       "      <td>1.0</td>\n",
       "      <td>0.0</td>\n",
       "      <td>1.0</td>\n",
       "      <td>0.0</td>\n",
       "      <td>0.0</td>\n",
       "      <td>0.0</td>\n",
       "      <td>0.0</td>\n",
       "      <td>0.0</td>\n",
       "      <td>NaN</td>\n",
       "      <td>1.0</td>\n",
       "      <td>0.0</td>\n",
       "      <td>0.0</td>\n",
       "      <td>2.0</td>\n",
       "      <td>3.0</td>\n",
       "      <td>1.0</td>\n",
       "      <td>1.0</td>\n",
       "      <td>2.0</td>\n",
       "      <td>0.0</td>\n",
       "      <td>1.0</td>\n",
       "      <td>0.0</td>\n",
       "      <td>0.0</td>\n",
       "      <td>0.0</td>\n",
       "      <td>0.0</td>\n",
       "      <td>0.0</td>\n",
       "      <td>0.0</td>\n",
       "      <td>1.0</td>\n",
       "      <td>0.0</td>\n",
       "      <td>0.0</td>\n",
       "      <td>0.0</td>\n",
       "      <td>0.0</td>\n",
       "      <td>1.0</td>\n",
       "      <td>0.0</td>\n",
       "      <td>1.0</td>\n",
       "      <td>1.0</td>\n",
       "      <td>0.0</td>\n",
       "      <td>0.0</td>\n",
       "      <td>0.0</td>\n",
       "      <td>1.0</td>\n",
       "      <td>1.0</td>\n",
       "      <td>0.0</td>\n",
       "      <td>1.0</td>\n",
       "      <td>0.0</td>\n",
       "      <td>0.0</td>\n",
       "      <td>1.0</td>\n",
       "      <td>0.0</td>\n",
       "      <td>0.0</td>\n",
       "    </tr>\n",
       "    <tr>\n",
       "      <th>3</th>\n",
       "      <td>0</td>\n",
       "      <td>1</td>\n",
       "      <td>1.0</td>\n",
       "      <td>1.0</td>\n",
       "      <td>0.0</td>\n",
       "      <td>1.0</td>\n",
       "      <td>0.0</td>\n",
       "      <td>1.0</td>\n",
       "      <td>1.0</td>\n",
       "      <td>0.0</td>\n",
       "      <td>0.0</td>\n",
       "      <td>0.0</td>\n",
       "      <td>1.0</td>\n",
       "      <td>0.0</td>\n",
       "      <td>0.0</td>\n",
       "      <td>2.0</td>\n",
       "      <td>3.0</td>\n",
       "      <td>3.0</td>\n",
       "      <td>5.0</td>\n",
       "      <td>0.0</td>\n",
       "      <td>0.0</td>\n",
       "      <td>0.0</td>\n",
       "      <td>0.0</td>\n",
       "      <td>0.0</td>\n",
       "      <td>0.0</td>\n",
       "      <td>1.0</td>\n",
       "      <td>1.0</td>\n",
       "      <td>0.0</td>\n",
       "      <td>0.0</td>\n",
       "      <td>0.0</td>\n",
       "      <td>0.0</td>\n",
       "      <td>0.0</td>\n",
       "      <td>0.0</td>\n",
       "      <td>1.0</td>\n",
       "      <td>1.0</td>\n",
       "      <td>0.0</td>\n",
       "      <td>0.0</td>\n",
       "      <td>0.0</td>\n",
       "      <td>1.0</td>\n",
       "      <td>0.0</td>\n",
       "      <td>1.0</td>\n",
       "      <td>0.0</td>\n",
       "      <td>1.0</td>\n",
       "      <td>0.0</td>\n",
       "      <td>1.0</td>\n",
       "      <td>0.0</td>\n",
       "      <td>0.0</td>\n",
       "      <td>1.0</td>\n",
       "      <td>0.0</td>\n",
       "    </tr>\n",
       "    <tr>\n",
       "      <th>4</th>\n",
       "      <td>0</td>\n",
       "      <td>0</td>\n",
       "      <td>2.0</td>\n",
       "      <td>1.0</td>\n",
       "      <td>0.0</td>\n",
       "      <td>1.0</td>\n",
       "      <td>0.0</td>\n",
       "      <td>1.0</td>\n",
       "      <td>1.0</td>\n",
       "      <td>0.0</td>\n",
       "      <td>1.0</td>\n",
       "      <td>0.0</td>\n",
       "      <td>0.0</td>\n",
       "      <td>0.0</td>\n",
       "      <td>0.0</td>\n",
       "      <td>2.0</td>\n",
       "      <td>3.0</td>\n",
       "      <td>3.0</td>\n",
       "      <td>2.0</td>\n",
       "      <td>1.0</td>\n",
       "      <td>0.0</td>\n",
       "      <td>0.0</td>\n",
       "      <td>0.0</td>\n",
       "      <td>1.0</td>\n",
       "      <td>0.0</td>\n",
       "      <td>0.0</td>\n",
       "      <td>0.0</td>\n",
       "      <td>0.0</td>\n",
       "      <td>0.0</td>\n",
       "      <td>1.0</td>\n",
       "      <td>0.0</td>\n",
       "      <td>0.0</td>\n",
       "      <td>0.0</td>\n",
       "      <td>1.0</td>\n",
       "      <td>1.0</td>\n",
       "      <td>0.0</td>\n",
       "      <td>1.0</td>\n",
       "      <td>0.0</td>\n",
       "      <td>0.0</td>\n",
       "      <td>1.0</td>\n",
       "      <td>0.0</td>\n",
       "      <td>1.0</td>\n",
       "      <td>0.0</td>\n",
       "      <td>1.0</td>\n",
       "      <td>0.0</td>\n",
       "      <td>0.0</td>\n",
       "      <td>1.0</td>\n",
       "      <td>0.0</td>\n",
       "      <td>0.0</td>\n",
       "    </tr>\n",
       "    <tr>\n",
       "      <th>...</th>\n",
       "      <td>...</td>\n",
       "      <td>...</td>\n",
       "      <td>...</td>\n",
       "      <td>...</td>\n",
       "      <td>...</td>\n",
       "      <td>...</td>\n",
       "      <td>...</td>\n",
       "      <td>...</td>\n",
       "      <td>...</td>\n",
       "      <td>...</td>\n",
       "      <td>...</td>\n",
       "      <td>...</td>\n",
       "      <td>...</td>\n",
       "      <td>...</td>\n",
       "      <td>...</td>\n",
       "      <td>...</td>\n",
       "      <td>...</td>\n",
       "      <td>...</td>\n",
       "      <td>...</td>\n",
       "      <td>...</td>\n",
       "      <td>...</td>\n",
       "      <td>...</td>\n",
       "      <td>...</td>\n",
       "      <td>...</td>\n",
       "      <td>...</td>\n",
       "      <td>...</td>\n",
       "      <td>...</td>\n",
       "      <td>...</td>\n",
       "      <td>...</td>\n",
       "      <td>...</td>\n",
       "      <td>...</td>\n",
       "      <td>...</td>\n",
       "      <td>...</td>\n",
       "      <td>...</td>\n",
       "      <td>...</td>\n",
       "      <td>...</td>\n",
       "      <td>...</td>\n",
       "      <td>...</td>\n",
       "      <td>...</td>\n",
       "      <td>...</td>\n",
       "      <td>...</td>\n",
       "      <td>...</td>\n",
       "      <td>...</td>\n",
       "      <td>...</td>\n",
       "      <td>...</td>\n",
       "      <td>...</td>\n",
       "      <td>...</td>\n",
       "      <td>...</td>\n",
       "      <td>...</td>\n",
       "    </tr>\n",
       "    <tr>\n",
       "      <th>26702</th>\n",
       "      <td>0</td>\n",
       "      <td>0</td>\n",
       "      <td>2.0</td>\n",
       "      <td>0.0</td>\n",
       "      <td>0.0</td>\n",
       "      <td>1.0</td>\n",
       "      <td>0.0</td>\n",
       "      <td>0.0</td>\n",
       "      <td>0.0</td>\n",
       "      <td>1.0</td>\n",
       "      <td>0.0</td>\n",
       "      <td>0.0</td>\n",
       "      <td>0.0</td>\n",
       "      <td>0.0</td>\n",
       "      <td>0.0</td>\n",
       "      <td>2.0</td>\n",
       "      <td>3.0</td>\n",
       "      <td>1.0</td>\n",
       "      <td>1.0</td>\n",
       "      <td>0.0</td>\n",
       "      <td>0.0</td>\n",
       "      <td>0.0</td>\n",
       "      <td>0.0</td>\n",
       "      <td>0.0</td>\n",
       "      <td>0.0</td>\n",
       "      <td>1.0</td>\n",
       "      <td>0.0</td>\n",
       "      <td>0.0</td>\n",
       "      <td>0.0</td>\n",
       "      <td>1.0</td>\n",
       "      <td>0.0</td>\n",
       "      <td>0.0</td>\n",
       "      <td>0.0</td>\n",
       "      <td>1.0</td>\n",
       "      <td>1.0</td>\n",
       "      <td>0.0</td>\n",
       "      <td>1.0</td>\n",
       "      <td>0.0</td>\n",
       "      <td>0.0</td>\n",
       "      <td>0.0</td>\n",
       "      <td>1.0</td>\n",
       "      <td>1.0</td>\n",
       "      <td>0.0</td>\n",
       "      <td>0.0</td>\n",
       "      <td>1.0</td>\n",
       "      <td>0.0</td>\n",
       "      <td>0.0</td>\n",
       "      <td>0.0</td>\n",
       "      <td>1.0</td>\n",
       "    </tr>\n",
       "    <tr>\n",
       "      <th>26703</th>\n",
       "      <td>0</td>\n",
       "      <td>0</td>\n",
       "      <td>1.0</td>\n",
       "      <td>2.0</td>\n",
       "      <td>0.0</td>\n",
       "      <td>1.0</td>\n",
       "      <td>0.0</td>\n",
       "      <td>1.0</td>\n",
       "      <td>0.0</td>\n",
       "      <td>0.0</td>\n",
       "      <td>0.0</td>\n",
       "      <td>1.0</td>\n",
       "      <td>0.0</td>\n",
       "      <td>0.0</td>\n",
       "      <td>1.0</td>\n",
       "      <td>1.0</td>\n",
       "      <td>4.0</td>\n",
       "      <td>2.0</td>\n",
       "      <td>2.0</td>\n",
       "      <td>1.0</td>\n",
       "      <td>0.0</td>\n",
       "      <td>1.0</td>\n",
       "      <td>0.0</td>\n",
       "      <td>0.0</td>\n",
       "      <td>0.0</td>\n",
       "      <td>0.0</td>\n",
       "      <td>0.0</td>\n",
       "      <td>0.0</td>\n",
       "      <td>1.0</td>\n",
       "      <td>0.0</td>\n",
       "      <td>0.0</td>\n",
       "      <td>0.0</td>\n",
       "      <td>0.0</td>\n",
       "      <td>1.0</td>\n",
       "      <td>0.0</td>\n",
       "      <td>1.0</td>\n",
       "      <td>1.0</td>\n",
       "      <td>0.0</td>\n",
       "      <td>0.0</td>\n",
       "      <td>0.0</td>\n",
       "      <td>1.0</td>\n",
       "      <td>0.0</td>\n",
       "      <td>1.0</td>\n",
       "      <td>1.0</td>\n",
       "      <td>0.0</td>\n",
       "      <td>0.0</td>\n",
       "      <td>0.0</td>\n",
       "      <td>1.0</td>\n",
       "      <td>0.0</td>\n",
       "    </tr>\n",
       "    <tr>\n",
       "      <th>26704</th>\n",
       "      <td>0</td>\n",
       "      <td>1</td>\n",
       "      <td>2.0</td>\n",
       "      <td>2.0</td>\n",
       "      <td>0.0</td>\n",
       "      <td>1.0</td>\n",
       "      <td>1.0</td>\n",
       "      <td>1.0</td>\n",
       "      <td>1.0</td>\n",
       "      <td>0.0</td>\n",
       "      <td>1.0</td>\n",
       "      <td>0.0</td>\n",
       "      <td>0.0</td>\n",
       "      <td>0.0</td>\n",
       "      <td>0.0</td>\n",
       "      <td>2.0</td>\n",
       "      <td>4.0</td>\n",
       "      <td>4.0</td>\n",
       "      <td>2.0</td>\n",
       "      <td>0.0</td>\n",
       "      <td>0.0</td>\n",
       "      <td>0.0</td>\n",
       "      <td>0.0</td>\n",
       "      <td>0.0</td>\n",
       "      <td>1.0</td>\n",
       "      <td>0.0</td>\n",
       "      <td>0.0</td>\n",
       "      <td>0.0</td>\n",
       "      <td>0.0</td>\n",
       "      <td>1.0</td>\n",
       "      <td>0.0</td>\n",
       "      <td>0.0</td>\n",
       "      <td>0.0</td>\n",
       "      <td>1.0</td>\n",
       "      <td>1.0</td>\n",
       "      <td>0.0</td>\n",
       "      <td>1.0</td>\n",
       "      <td>0.0</td>\n",
       "      <td>0.0</td>\n",
       "      <td>0.0</td>\n",
       "      <td>1.0</td>\n",
       "      <td>1.0</td>\n",
       "      <td>0.0</td>\n",
       "      <td>1.0</td>\n",
       "      <td>0.0</td>\n",
       "      <td>0.0</td>\n",
       "      <td>1.0</td>\n",
       "      <td>0.0</td>\n",
       "      <td>0.0</td>\n",
       "    </tr>\n",
       "    <tr>\n",
       "      <th>26705</th>\n",
       "      <td>0</td>\n",
       "      <td>0</td>\n",
       "      <td>1.0</td>\n",
       "      <td>1.0</td>\n",
       "      <td>0.0</td>\n",
       "      <td>0.0</td>\n",
       "      <td>0.0</td>\n",
       "      <td>0.0</td>\n",
       "      <td>0.0</td>\n",
       "      <td>0.0</td>\n",
       "      <td>NaN</td>\n",
       "      <td>0.0</td>\n",
       "      <td>0.0</td>\n",
       "      <td>0.0</td>\n",
       "      <td>0.0</td>\n",
       "      <td>0.0</td>\n",
       "      <td>3.0</td>\n",
       "      <td>1.0</td>\n",
       "      <td>2.0</td>\n",
       "      <td>1.0</td>\n",
       "      <td>0.0</td>\n",
       "      <td>1.0</td>\n",
       "      <td>0.0</td>\n",
       "      <td>0.0</td>\n",
       "      <td>0.0</td>\n",
       "      <td>0.0</td>\n",
       "      <td>0.0</td>\n",
       "      <td>0.0</td>\n",
       "      <td>0.0</td>\n",
       "      <td>1.0</td>\n",
       "      <td>0.0</td>\n",
       "      <td>1.0</td>\n",
       "      <td>0.0</td>\n",
       "      <td>0.0</td>\n",
       "      <td>1.0</td>\n",
       "      <td>0.0</td>\n",
       "      <td>1.0</td>\n",
       "      <td>0.0</td>\n",
       "      <td>0.0</td>\n",
       "      <td>1.0</td>\n",
       "      <td>0.0</td>\n",
       "      <td>0.0</td>\n",
       "      <td>1.0</td>\n",
       "      <td>1.0</td>\n",
       "      <td>0.0</td>\n",
       "      <td>0.0</td>\n",
       "      <td>0.0</td>\n",
       "      <td>0.0</td>\n",
       "      <td>1.0</td>\n",
       "    </tr>\n",
       "    <tr>\n",
       "      <th>26706</th>\n",
       "      <td>0</td>\n",
       "      <td>0</td>\n",
       "      <td>0.0</td>\n",
       "      <td>0.0</td>\n",
       "      <td>0.0</td>\n",
       "      <td>1.0</td>\n",
       "      <td>0.0</td>\n",
       "      <td>0.0</td>\n",
       "      <td>0.0</td>\n",
       "      <td>0.0</td>\n",
       "      <td>0.0</td>\n",
       "      <td>0.0</td>\n",
       "      <td>0.0</td>\n",
       "      <td>0.0</td>\n",
       "      <td>0.0</td>\n",
       "      <td>1.0</td>\n",
       "      <td>5.0</td>\n",
       "      <td>1.0</td>\n",
       "      <td>1.0</td>\n",
       "      <td>1.0</td>\n",
       "      <td>0.0</td>\n",
       "      <td>0.0</td>\n",
       "      <td>0.0</td>\n",
       "      <td>0.0</td>\n",
       "      <td>0.0</td>\n",
       "      <td>1.0</td>\n",
       "      <td>0.0</td>\n",
       "      <td>0.0</td>\n",
       "      <td>0.0</td>\n",
       "      <td>1.0</td>\n",
       "      <td>0.0</td>\n",
       "      <td>0.0</td>\n",
       "      <td>0.0</td>\n",
       "      <td>1.0</td>\n",
       "      <td>0.0</td>\n",
       "      <td>1.0</td>\n",
       "      <td>1.0</td>\n",
       "      <td>0.0</td>\n",
       "      <td>0.0</td>\n",
       "      <td>1.0</td>\n",
       "      <td>0.0</td>\n",
       "      <td>1.0</td>\n",
       "      <td>0.0</td>\n",
       "      <td>0.0</td>\n",
       "      <td>1.0</td>\n",
       "      <td>0.0</td>\n",
       "      <td>0.0</td>\n",
       "      <td>1.0</td>\n",
       "      <td>0.0</td>\n",
       "    </tr>\n",
       "  </tbody>\n",
       "</table>\n",
       "<p>26707 rows × 49 columns</p>\n",
       "</div>"
      ],
      "text/plain": [
       "       h1n1_vaccine  seasonal_vaccine  h1n1_concern  h1n1_knowledge  \\\n",
       "0                 0                 0           1.0             0.0   \n",
       "1                 0                 1           3.0             2.0   \n",
       "2                 0                 0           1.0             1.0   \n",
       "3                 0                 1           1.0             1.0   \n",
       "4                 0                 0           2.0             1.0   \n",
       "...             ...               ...           ...             ...   \n",
       "26702             0                 0           2.0             0.0   \n",
       "26703             0                 0           1.0             2.0   \n",
       "26704             0                 1           2.0             2.0   \n",
       "26705             0                 0           1.0             1.0   \n",
       "26706             0                 0           0.0             0.0   \n",
       "\n",
       "       behavioral_antiviral_meds  behavioral_avoidance  behavioral_face_mask  \\\n",
       "0                            0.0                   0.0                   0.0   \n",
       "1                            0.0                   1.0                   0.0   \n",
       "2                            0.0                   1.0                   0.0   \n",
       "3                            0.0                   1.0                   0.0   \n",
       "4                            0.0                   1.0                   0.0   \n",
       "...                          ...                   ...                   ...   \n",
       "26702                        0.0                   1.0                   0.0   \n",
       "26703                        0.0                   1.0                   0.0   \n",
       "26704                        0.0                   1.0                   1.0   \n",
       "26705                        0.0                   0.0                   0.0   \n",
       "26706                        0.0                   1.0                   0.0   \n",
       "\n",
       "       behavioral_wash_hands  behavioral_large_gatherings  \\\n",
       "0                        0.0                          0.0   \n",
       "1                        1.0                          0.0   \n",
       "2                        0.0                          0.0   \n",
       "3                        1.0                          1.0   \n",
       "4                        1.0                          1.0   \n",
       "...                      ...                          ...   \n",
       "26702                    0.0                          0.0   \n",
       "26703                    1.0                          0.0   \n",
       "26704                    1.0                          1.0   \n",
       "26705                    0.0                          0.0   \n",
       "26706                    0.0                          0.0   \n",
       "\n",
       "       behavioral_outside_home  behavioral_touch_face  doctor_recc_h1n1  \\\n",
       "0                          1.0                    1.0               0.0   \n",
       "1                          1.0                    1.0               0.0   \n",
       "2                          0.0                    0.0               NaN   \n",
       "3                          0.0                    0.0               0.0   \n",
       "4                          0.0                    1.0               0.0   \n",
       "...                        ...                    ...               ...   \n",
       "26702                      1.0                    0.0               0.0   \n",
       "26703                      0.0                    0.0               1.0   \n",
       "26704                      0.0                    1.0               0.0   \n",
       "26705                      0.0                    NaN               0.0   \n",
       "26706                      0.0                    0.0               0.0   \n",
       "\n",
       "       chronic_med_condition  child_under_6_months  health_worker  \\\n",
       "0                        0.0                   0.0            0.0   \n",
       "1                        0.0                   0.0            0.0   \n",
       "2                        1.0                   0.0            0.0   \n",
       "3                        1.0                   0.0            0.0   \n",
       "4                        0.0                   0.0            0.0   \n",
       "...                      ...                   ...            ...   \n",
       "26702                    0.0                   0.0            0.0   \n",
       "26703                    0.0                   0.0            1.0   \n",
       "26704                    0.0                   0.0            0.0   \n",
       "26705                    0.0                   0.0            0.0   \n",
       "26706                    0.0                   0.0            0.0   \n",
       "\n",
       "       health_insurance  opinion_h1n1_vacc_effective  opinion_h1n1_risk  \\\n",
       "0                   1.0                          3.0                1.0   \n",
       "1                   1.0                          5.0                4.0   \n",
       "2                   2.0                          3.0                1.0   \n",
       "3                   2.0                          3.0                3.0   \n",
       "4                   2.0                          3.0                3.0   \n",
       "...                 ...                          ...                ...   \n",
       "26702               2.0                          3.0                1.0   \n",
       "26703               1.0                          4.0                2.0   \n",
       "26704               2.0                          4.0                4.0   \n",
       "26705               0.0                          3.0                1.0   \n",
       "26706               1.0                          5.0                1.0   \n",
       "\n",
       "       opinion_h1n1_sick_from_vacc  household_adults  household_children  \\\n",
       "0                              2.0               0.0                 0.0   \n",
       "1                              4.0               0.0                 0.0   \n",
       "2                              1.0               2.0                 0.0   \n",
       "3                              5.0               0.0                 0.0   \n",
       "4                              2.0               1.0                 0.0   \n",
       "...                            ...               ...                 ...   \n",
       "26702                          1.0               0.0                 0.0   \n",
       "26703                          2.0               1.0                 0.0   \n",
       "26704                          2.0               0.0                 0.0   \n",
       "26705                          2.0               1.0                 0.0   \n",
       "26706                          1.0               1.0                 0.0   \n",
       "\n",
       "       18 - 34 Years  35 - 44 Years  45 - 54 Years  55 - 64 Years  65+ Years  \\\n",
       "0                0.0            0.0            0.0            1.0        0.0   \n",
       "1                0.0            1.0            0.0            0.0        0.0   \n",
       "2                1.0            0.0            0.0            0.0        0.0   \n",
       "3                0.0            0.0            0.0            0.0        1.0   \n",
       "4                0.0            0.0            1.0            0.0        0.0   \n",
       "...              ...            ...            ...            ...        ...   \n",
       "26702            0.0            0.0            0.0            0.0        1.0   \n",
       "26703            1.0            0.0            0.0            0.0        0.0   \n",
       "26704            0.0            0.0            0.0            1.0        0.0   \n",
       "26705            1.0            0.0            0.0            0.0        0.0   \n",
       "26706            0.0            0.0            0.0            0.0        1.0   \n",
       "\n",
       "       12 Years  < 12 Years  College Graduate  Some College  Black  Hispanic  \\\n",
       "0           0.0         1.0               0.0           0.0    0.0       0.0   \n",
       "1           1.0         0.0               0.0           0.0    0.0       0.0   \n",
       "2           0.0         0.0               1.0           0.0    0.0       0.0   \n",
       "3           1.0         0.0               0.0           0.0    0.0       0.0   \n",
       "4           0.0         0.0               0.0           1.0    0.0       0.0   \n",
       "...         ...         ...               ...           ...    ...       ...   \n",
       "26702       0.0         0.0               0.0           1.0    0.0       0.0   \n",
       "26703       0.0         0.0               1.0           0.0    0.0       0.0   \n",
       "26704       0.0         0.0               0.0           1.0    0.0       0.0   \n",
       "26705       0.0         0.0               0.0           1.0    0.0       1.0   \n",
       "26706       0.0         0.0               0.0           1.0    0.0       0.0   \n",
       "\n",
       "       Other or Multiple  White  Female  Male  <= $75,000, Above Poverty  \\\n",
       "0                    0.0    1.0     1.0   0.0                        0.0   \n",
       "1                    0.0    1.0     0.0   1.0                        0.0   \n",
       "2                    0.0    1.0     0.0   1.0                        1.0   \n",
       "3                    0.0    1.0     1.0   0.0                        0.0   \n",
       "4                    0.0    1.0     1.0   0.0                        1.0   \n",
       "...                  ...    ...     ...   ...                        ...   \n",
       "26702                0.0    1.0     1.0   0.0                        1.0   \n",
       "26703                0.0    1.0     0.0   1.0                        1.0   \n",
       "26704                0.0    1.0     1.0   0.0                        1.0   \n",
       "26705                0.0    0.0     1.0   0.0                        1.0   \n",
       "26706                0.0    1.0     0.0   1.0                        1.0   \n",
       "\n",
       "       > $75,000  Below Poverty  Married  Not Married  Own  Rent  Employed  \\\n",
       "0            0.0            1.0      0.0          1.0  1.0   0.0       0.0   \n",
       "1            0.0            1.0      0.0          1.0  0.0   1.0       1.0   \n",
       "2            0.0            0.0      0.0          1.0  1.0   0.0       1.0   \n",
       "3            0.0            1.0      0.0          1.0  0.0   1.0       0.0   \n",
       "4            0.0            0.0      1.0          0.0  1.0   0.0       1.0   \n",
       "...          ...            ...      ...          ...  ...   ...       ...   \n",
       "26702        0.0            0.0      0.0          1.0  1.0   0.0       0.0   \n",
       "26703        0.0            0.0      0.0          1.0  0.0   1.0       1.0   \n",
       "26704        0.0            0.0      0.0          1.0  1.0   0.0       1.0   \n",
       "26705        0.0            0.0      1.0          0.0  0.0   1.0       1.0   \n",
       "26706        0.0            0.0      1.0          0.0  1.0   0.0       0.0   \n",
       "\n",
       "       Not in Labor Force  Unemployed  MSA, Not Principle  City  \\\n",
       "0                     1.0         0.0                       0.0   \n",
       "1                     0.0         0.0                       1.0   \n",
       "2                     0.0         0.0                       1.0   \n",
       "3                     1.0         0.0                       0.0   \n",
       "4                     0.0         0.0                       1.0   \n",
       "...                   ...         ...                       ...   \n",
       "26702                 1.0         0.0                       0.0   \n",
       "26703                 0.0         0.0                       0.0   \n",
       "26704                 0.0         0.0                       1.0   \n",
       "26705                 0.0         0.0                       0.0   \n",
       "26706                 1.0         0.0                       0.0   \n",
       "\n",
       "       MSA, Principle City  Non-MSA  \n",
       "0                      0.0      1.0  \n",
       "1                      0.0      0.0  \n",
       "2                      0.0      0.0  \n",
       "3                      1.0      0.0  \n",
       "4                      0.0      0.0  \n",
       "...                    ...      ...  \n",
       "26702                  0.0      1.0  \n",
       "26703                  1.0      0.0  \n",
       "26704                  0.0      0.0  \n",
       "26705                  0.0      1.0  \n",
       "26706                  1.0      0.0  \n",
       "\n",
       "[26707 rows x 49 columns]"
      ]
     },
<<<<<<< HEAD
     "execution_count": 37,
=======
     "execution_count": 73,
>>>>>>> 51d9e99e954723218d8902c654ad9f06e551671a
     "metadata": {},
     "output_type": "execute_result"
    }
   ],
   "source": [
    "vaccine_df"
   ]
  },
  {
   "cell_type": "code",
<<<<<<< HEAD
   "execution_count": 38,
=======
   "execution_count": 74,
>>>>>>> 51d9e99e954723218d8902c654ad9f06e551671a
   "metadata": {},
=======
   "execution_count": 407,
=======
   "execution_count": 32,
>>>>>>> 009c10c0bd28f7dd01433854d9e13e4af220ff2c
   "metadata": {
    "scrolled": false
   },
>>>>>>> f55d197c1325bb9dd41bd183e80ed0e8701a19e7
   "outputs": [
    {
     "name": "stdout",
     "output_type": "stream",
     "text": [
      "<class 'pandas.core.frame.DataFrame'>\n",
      "Int64Index: 26707 entries, 0 to 26706\n",
      "Data columns (total 49 columns):\n",
      " #   Column                       Non-Null Count  Dtype  \n",
      "---  ------                       --------------  -----  \n",
      " 0   h1n1_vaccine                 26707 non-null  int64  \n",
      " 1   seasonal_vaccine             26707 non-null  int64  \n",
      " 2   h1n1_concern                 26615 non-null  float64\n",
      " 3   h1n1_knowledge               26591 non-null  float64\n",
      " 4   behavioral_antiviral_meds    26636 non-null  float64\n",
      " 5   behavioral_avoidance         26499 non-null  float64\n",
      " 6   behavioral_face_mask         26688 non-null  float64\n",
      " 7   behavioral_wash_hands        26665 non-null  float64\n",
      " 8   behavioral_large_gatherings  26620 non-null  float64\n",
      " 9   behavioral_outside_home      26625 non-null  float64\n",
      " 10  behavioral_touch_face        26579 non-null  float64\n",
      " 11  doctor_recc_h1n1             24547 non-null  float64\n",
      " 12  chronic_med_condition        25736 non-null  float64\n",
      " 13  child_under_6_months         25887 non-null  float64\n",
      " 14  health_worker                25903 non-null  float64\n",
      " 15  health_insurance             26707 non-null  float64\n",
      " 16  opinion_h1n1_vacc_effective  26316 non-null  float64\n",
      " 17  opinion_h1n1_risk            26319 non-null  float64\n",
      " 18  opinion_h1n1_sick_from_vacc  26312 non-null  float64\n",
      " 19  household_adults             26458 non-null  float64\n",
      " 20  household_children           26458 non-null  float64\n",
      " 21  18 - 34 Years                26707 non-null  float64\n",
      " 22  35 - 44 Years                26707 non-null  float64\n",
      " 23  45 - 54 Years                26707 non-null  float64\n",
      " 24  55 - 64 Years                26707 non-null  float64\n",
      " 25  65+ Years                    26707 non-null  float64\n",
      " 26  12 Years                     26707 non-null  float64\n",
      " 27  < 12 Years                   26707 non-null  float64\n",
      " 28  College Graduate             26707 non-null  float64\n",
      " 29  Some College                 26707 non-null  float64\n",
      " 30  Black                        26707 non-null  float64\n",
      " 31  Hispanic                     26707 non-null  float64\n",
      " 32  Other or Multiple            26707 non-null  float64\n",
      " 33  White                        26707 non-null  float64\n",
      " 34  Female                       26707 non-null  float64\n",
      " 35  Male                         26707 non-null  float64\n",
      " 36  <= $75,000, Above Poverty    26707 non-null  float64\n",
      " 37  > $75,000                    26707 non-null  float64\n",
      " 38  Below Poverty                26707 non-null  float64\n",
      " 39  Married                      26707 non-null  float64\n",
      " 40  Not Married                  26707 non-null  float64\n",
      " 41  Own                          26707 non-null  float64\n",
      " 42  Rent                         26707 non-null  float64\n",
      " 43  Employed                     26707 non-null  float64\n",
      " 44  Not in Labor Force           26707 non-null  float64\n",
      " 45  Unemployed                   26707 non-null  float64\n",
      " 46  MSA, Not Principle  City     26707 non-null  float64\n",
      " 47  MSA, Principle City          26707 non-null  float64\n",
      " 48  Non-MSA                      26707 non-null  float64\n",
      "dtypes: float64(47), int64(2)\n",
      "memory usage: 11.4 MB\n"
     ]
    }
   ],
   "source": [
    "vaccine_df.info()"
   ]
  },
  {
   "cell_type": "markdown",
   "metadata": {},
   "source": [
    "**NOTE:** We will impute the remaining null values later on  with a SimpleImputer"
   ]
  },
  {
   "cell_type": "code",
<<<<<<< HEAD
<<<<<<< HEAD
<<<<<<< HEAD
   "execution_count": 39,
=======
   "execution_count": 75,
>>>>>>> 51d9e99e954723218d8902c654ad9f06e551671a
=======
   "execution_count": 408,
>>>>>>> f55d197c1325bb9dd41bd183e80ed0e8701a19e7
=======
   "execution_count": 33,
>>>>>>> 009c10c0bd28f7dd01433854d9e13e4af220ff2c
   "metadata": {},
   "outputs": [],
   "source": [
    "# Defining the predictors and target ahead of our train-test split\n",
    "\n",
    "X = vaccine_df.drop(columns=['h1n1_vaccine'])\n",
    "y = vaccine_df['h1n1_vaccine']"
   ]
  },
  {
   "cell_type": "markdown",
   "metadata": {},
   "source": [
    "## Setting up train-test split"
   ]
  },
  {
   "cell_type": "code",
<<<<<<< HEAD
<<<<<<< HEAD
<<<<<<< HEAD
   "execution_count": 40,
=======
   "execution_count": 76,
>>>>>>> 51d9e99e954723218d8902c654ad9f06e551671a
=======
   "execution_count": 409,
>>>>>>> f55d197c1325bb9dd41bd183e80ed0e8701a19e7
=======
   "execution_count": 34,
>>>>>>> 009c10c0bd28f7dd01433854d9e13e4af220ff2c
   "metadata": {},
   "outputs": [],
   "source": [
    "# Setting up train-test split ahead of modeling\n",
    "\n",
    "X_train, X_test, y_train, y_test = train_test_split(X, y, test_size=.25,random_state=42)"
   ]
  },
  {
   "cell_type": "markdown",
   "metadata": {},
   "source": [
    "## Prepare Cross Validation Function for Model Testing"
   ]
  },
  {
   "cell_type": "code",
<<<<<<< HEAD
<<<<<<< HEAD
<<<<<<< HEAD
   "execution_count": 41,
=======
   "execution_count": 77,
>>>>>>> 51d9e99e954723218d8902c654ad9f06e551671a
=======
   "execution_count": 410,
>>>>>>> f55d197c1325bb9dd41bd183e80ed0e8701a19e7
=======
   "execution_count": 35,
>>>>>>> 009c10c0bd28f7dd01433854d9e13e4af220ff2c
   "metadata": {},
   "outputs": [],
   "source": [
    "# We will use this class to help with cross-validation when evaluating models \n",
    "\n",
    "class ModelWithCV():\n",
    "    '''Structure to save the model and more easily see its crossvalidation'''\n",
    "    \n",
    "    def __init__(self, model, model_name, X, y, cv_now=True):\n",
    "        self.model = model\n",
    "        self.name = model_name\n",
    "        self.X = X\n",
    "        self.y = y\n",
    "        # For CV results\n",
    "        self.cv_results = None\n",
    "        self.cv_mean = None\n",
    "        self.cv_median = None\n",
    "        self.cv_std = None\n",
    "        #\n",
    "        if cv_now:\n",
    "            self.cross_validate()\n",
    "        \n",
    "    def cross_validate(self, X=None, y=None, kfolds=10):\n",
    "        '''\n",
    "        Perform cross-validation and return results.\n",
    "        \n",
    "        Args: \n",
    "          X:\n",
    "            Optional; Training data to perform CV on. Otherwise use X from object\n",
    "          y:\n",
    "            Optional; Training data to perform CV on. Otherwise use y from object\n",
    "          kfolds:\n",
    "            Optional; Number of folds for CV (default is 10)  \n",
    "        '''\n",
    "        \n",
    "        cv_X = X if X else self.X\n",
    "        cv_y = y if y else self.y\n",
    "\n",
    "        self.cv_results = cross_val_score(self.model, cv_X, cv_y, cv=kfolds)\n",
    "        self.cv_mean = np.mean(self.cv_results)\n",
    "        self.cv_median = np.median(self.cv_results)\n",
    "        self.cv_std = np.std(self.cv_results)\n",
    "\n",
    "        \n",
    "    def print_cv_summary(self):\n",
    "        cv_summary = (\n",
    "        f'''CV Results for `{self.name}` model:\n",
    "            {self.cv_mean:.5f} ± {self.cv_std:.5f} accuracy\n",
    "        ''')\n",
    "        print(cv_summary)\n",
    "\n",
    "        \n",
    "    def plot_cv(self, ax):\n",
    "        '''\n",
    "        Plot the cross-validation values using the array of results and given \n",
    "        Axis for plotting.\n",
    "        '''\n",
    "        ax.set_title(f'CV Results for `{self.name}` Model')\n",
    "        # Thinner violinplot with higher bw\n",
    "        sns.violinplot(y=self.cv_results, ax=ax, bw=.4)\n",
    "        sns.swarmplot(\n",
    "                y=self.cv_results,\n",
    "                color='orange',\n",
    "                size=10,\n",
    "                alpha= 0.8,\n",
    "                ax=ax\n",
    "        )\n",
    "\n",
    "        return ax"
   ]
  },
  {
   "cell_type": "markdown",
   "metadata": {},
   "source": [
    "## Dummy Model (baseline)"
   ]
  },
  {
   "cell_type": "markdown",
   "metadata": {},
   "source": [
    "Using a dummy model to figure out baseline model performance for comparison later "
   ]
  },
  {
   "cell_type": "code",
<<<<<<< HEAD
<<<<<<< HEAD
<<<<<<< HEAD
   "execution_count": 42,
=======
   "execution_count": 78,
>>>>>>> 51d9e99e954723218d8902c654ad9f06e551671a
=======
   "execution_count": 411,
>>>>>>> f55d197c1325bb9dd41bd183e80ed0e8701a19e7
=======
   "execution_count": 36,
>>>>>>> 009c10c0bd28f7dd01433854d9e13e4af220ff2c
   "metadata": {},
   "outputs": [],
   "source": [
    "dummy_model = DummyClassifier(strategy = 'most_frequent')"
   ]
  },
  {
   "cell_type": "code",
<<<<<<< HEAD
<<<<<<< HEAD
<<<<<<< HEAD
   "execution_count": 43,
=======
   "execution_count": 79,
>>>>>>> 51d9e99e954723218d8902c654ad9f06e551671a
=======
   "execution_count": 412,
>>>>>>> f55d197c1325bb9dd41bd183e80ed0e8701a19e7
=======
   "execution_count": 37,
>>>>>>> 009c10c0bd28f7dd01433854d9e13e4af220ff2c
   "metadata": {},
   "outputs": [
    {
     "data": {
      "text/plain": [
       "DummyClassifier(strategy='most_frequent')"
      ]
     },
<<<<<<< HEAD
<<<<<<< HEAD
<<<<<<< HEAD
     "execution_count": 43,
=======
     "execution_count": 79,
>>>>>>> 51d9e99e954723218d8902c654ad9f06e551671a
=======
     "execution_count": 412,
>>>>>>> f55d197c1325bb9dd41bd183e80ed0e8701a19e7
=======
     "execution_count": 37,
>>>>>>> 009c10c0bd28f7dd01433854d9e13e4af220ff2c
     "metadata": {},
     "output_type": "execute_result"
    }
   ],
   "source": [
    "dummy_model.fit(X_train,y_train)"
   ]
  },
  {
   "cell_type": "code",
<<<<<<< HEAD
<<<<<<< HEAD
<<<<<<< HEAD
   "execution_count": 44,
=======
   "execution_count": 80,
>>>>>>> 51d9e99e954723218d8902c654ad9f06e551671a
=======
   "execution_count": 413,
>>>>>>> f55d197c1325bb9dd41bd183e80ed0e8701a19e7
=======
   "execution_count": 38,
>>>>>>> 009c10c0bd28f7dd01433854d9e13e4af220ff2c
   "metadata": {},
   "outputs": [],
   "source": [
    "# getting CV score \n",
    "from sklearn.model_selection import cross_val_score\n",
    "\n",
    "\n",
    "\n",
    "dummy_cv = ModelWithCV(dummy_model, model_name='dummy_model', X=X_train, y=y_train)"
   ]
  },
  {
   "cell_type": "code",
<<<<<<< HEAD
<<<<<<< HEAD
<<<<<<< HEAD
   "execution_count": 45,
   "metadata": {},
=======
   "execution_count": 81,
   "metadata": {
    "scrolled": true
   },
>>>>>>> 51d9e99e954723218d8902c654ad9f06e551671a
=======
   "execution_count": 414,
=======
   "execution_count": 39,
>>>>>>> 009c10c0bd28f7dd01433854d9e13e4af220ff2c
   "metadata": {
    "scrolled": false
   },
>>>>>>> f55d197c1325bb9dd41bd183e80ed0e8701a19e7
   "outputs": [
    {
     "name": "stdout",
     "output_type": "stream",
     "text": [
      "CV Results for `dummy_model` model:\n",
      "            0.78747 ± 0.00023 accuracy\n",
      "        \n"
     ]
    },
    {
     "data": {
      "image/png": "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\n",
      "text/plain": [
       "<Figure size 432x288 with 1 Axes>"
      ]
     },
     "metadata": {
      "needs_background": "light"
     },
     "output_type": "display_data"
    }
   ],
   "source": [
    "# visualizing CV accuracy score \n",
    "\n",
    "import seaborn as sns \n",
    "\n",
    "dummy_cv.print_cv_summary()\n",
    "fig, ax = plt.subplots()\n",
    "\n",
    "dummy_cv.plot_cv(ax=ax);"
   ]
  },
  {
   "cell_type": "code",
<<<<<<< HEAD
<<<<<<< HEAD
   "execution_count": 83,
   "metadata": {},
=======
   "execution_count": 415,
=======
   "execution_count": 40,
>>>>>>> 009c10c0bd28f7dd01433854d9e13e4af220ff2c
   "metadata": {
    "scrolled": true
   },
>>>>>>> f55d197c1325bb9dd41bd183e80ed0e8701a19e7
   "outputs": [
    {
     "data": {
      "image/png": "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\n",
      "text/plain": [
       "<Figure size 432x288 with 2 Axes>"
      ]
     },
     "metadata": {
      "needs_background": "light"
     },
     "output_type": "display_data"
    }
   ],
<<<<<<< HEAD
   "source": [
    "plot_confusion_matrix(dummy_model,X_train,y_train);"
   ]
  },
  {
   "cell_type": "code",
<<<<<<< HEAD
   "execution_count": 82,
   "metadata": {
    "scrolled": false
   },
   "outputs": [
    {
     "name": "stdout",
     "output_type": "stream",
     "text": [
      "Accuracy:0.79 ,Recall:0.00, Precision:0.00, F1:0.00\n"
     ]
    },
    {
     "name": "stderr",
     "output_type": "stream",
     "text": [
      "/Users/brandonmenendez/opt/anaconda3/envs/learn-env/lib/python3.8/site-packages/sklearn/metrics/_classification.py:1221: UndefinedMetricWarning: Precision is ill-defined and being set to 0.0 due to no predicted samples. Use `zero_division` parameter to control this behavior.\n",
      "  _warn_prf(average, modifier, msg_start, len(result))\n"
     ]
    }
   ],
   "source": [
    "y_pred_test = dummy_model.predict(X_test)\n",
    "\n",
    "model_accuracy = accuracy_score(y_test,y_pred_test)\n",
    "model_recall = recall_score(y_test,y_pred_test)\n",
    "model_precision = precision_score(y_test,y_pred_test)\n",
    "model_f1 = f1_score(y_test,y_pred_test)\n",
    "\n",
    "\n",
    "print(f\"\"\"\\\n",
    "Accuracy:{model_accuracy:1.2f} ,Recall:{model_recall:1.2f}, Precision:{model_precision:1.2f}, F1:{model_f1:1.2f}\\\n",
    "\"\"\") "
   ]
  },
  {
   "cell_type": "markdown",
   "metadata": {},
   "source": [
    "## Decision Tree Model & Feature Importance"
   ]
  },
  {
   "cell_type": "code",
   "execution_count": 84,
   "metadata": {},
   "outputs": [],
   "source": [
    "# Imputing remaining null values ahead of DT modeling \n",
    "\n",
    "imputer = SimpleImputer(strategy='median')\n",
    "\n",
    "imputer = imputer.fit(X_train)\n",
    "\n",
    "X_train_scaled = imputer.transform(X_train)"
   ]
  },
  {
   "cell_type": "code",
   "execution_count": 85,
   "metadata": {},
   "outputs": [],
   "source": [
    "X_test_scaled = imputer.transform(X_test)"
   ]
  },
  {
   "cell_type": "code",
   "execution_count": 86,
   "metadata": {},
   "outputs": [],
   "source": [
    "# Using SMOTE to deal with imbalanced target \n",
    "\n",
    "\n",
    "sm = SMOTE(random_state = 42)\n",
    "\n",
    "X_train_scaled, y_train = sm.fit_resample(X_train_scaled,y_train)"
   ]
  },
  {
   "cell_type": "code",
   "execution_count": 88,
   "metadata": {},
   "outputs": [
    {
     "data": {
      "text/plain": [
       "DecisionTreeClassifier(random_state=42)"
      ]
     },
     "execution_count": 88,
     "metadata": {},
     "output_type": "execute_result"
    }
   ],
   "source": [
    "from sklearn.tree import DecisionTreeClassifier\n",
    "\n",
    "ct = DecisionTreeClassifier(random_state=42)\n",
    "\n",
    "ct.fit(X_train_scaled, y_train)"
   ]
  },
  {
   "cell_type": "code",
   "execution_count": 89,
   "metadata": {},
   "outputs": [
    {
     "data": {
      "text/plain": [
       "0.9998415012996893"
      ]
     },
     "execution_count": 89,
     "metadata": {},
     "output_type": "execute_result"
    }
   ],
   "source": [
    "ct.score(X_train_scaled, y_train)"
   ]
  },
  {
   "cell_type": "code",
   "execution_count": 90,
   "metadata": {
    "scrolled": true
   },
   "outputs": [
    {
     "data": {
      "text/plain": [
       "0.7936198891717837"
      ]
     },
     "execution_count": 90,
     "metadata": {},
     "output_type": "execute_result"
    }
   ],
   "source": [
    "ct.score(X_test_scaled, y_test)"
   ]
  },
  {
   "cell_type": "code",
   "execution_count": 91,
   "metadata": {},
   "outputs": [],
   "source": [
    "dt_results = ModelWithCV(\n",
    "                        model=ct,\n",
    "                        model_name='dt_model',\n",
    "                        X=X_train_scaled, \n",
    "                        y=y_train\n",
    ")"
   ]
  },
  {
   "cell_type": "code",
   "execution_count": 92,
   "metadata": {},
   "outputs": [
    {
     "name": "stdout",
     "output_type": "stream",
     "text": [
      "CV Results for `dt_model` model:\n",
      "            0.86151 ± 0.08865 accuracy\n",
      "        \n"
     ]
    },
    {
     "data": {
      "image/png": "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\n",
      "text/plain": [
       "<Figure size 432x288 with 1 Axes>"
      ]
     },
     "metadata": {
      "needs_background": "light"
     },
     "output_type": "display_data"
    }
   ],
   "source": [
    "# Saving variable for convenience\n",
    "model_results = dt_results\n",
    "\n",
    "# Plot CV results\n",
    "fig, ax = plt.subplots()\n",
    "ax = model_results.plot_cv(ax)\n",
    "plt.tight_layout();\n",
    "# Print CV results\n",
    "model_results.print_cv_summary()"
   ]
  },
  {
   "cell_type": "code",
   "execution_count": 97,
   "metadata": {},
   "outputs": [
    {
     "name": "stdout",
     "output_type": "stream",
     "text": [
      "Accuracy:0.79 ,Recall:0.56, Precision:0.51, F1:0.53\n"
     ]
    }
   ],
   "source": [
    "y_pred_test = ct.predict(X_test_scaled)\n",
    "\n",
    "model_accuracy = accuracy_score(y_test,y_pred_test)\n",
    "model_recall = recall_score(y_test,y_pred_test)\n",
    "model_precision = precision_score(y_test,y_pred_test)\n",
    "model_f1 = f1_score(y_test,y_pred_test)\n",
    "\n",
    "\n",
    "print(f\"\"\"\\\n",
    "Accuracy:{model_accuracy:1.2f} ,Recall:{model_recall:1.2f}, Precision:{model_precision:1.2f}, F1:{model_f1:1.2f}\\\n",
    "\"\"\") "
   ]
  },
  {
   "cell_type": "code",
   "execution_count": 98,
   "metadata": {},
   "outputs": [],
   "source": [
    "# Feature Importance\n",
    "\n",
    "fi_list = []\n",
    "feature_list =[]\n",
    "\n",
    "for fi, feature in zip(ct.feature_importances_, X_train):\n",
    "    fi_list.append(fi)\n",
    "    feature_list.append(feature)\n",
    "\n",
    "final_features = pd.DataFrame(fi_list,feature_list)"
   ]
  },
  {
   "cell_type": "code",
   "execution_count": 99,
   "metadata": {},
   "outputs": [
    {
     "data": {
      "text/html": [
       "<div>\n",
       "<style scoped>\n",
       "    .dataframe tbody tr th:only-of-type {\n",
       "        vertical-align: middle;\n",
       "    }\n",
       "\n",
       "    .dataframe tbody tr th {\n",
       "        vertical-align: top;\n",
       "    }\n",
       "\n",
       "    .dataframe thead th {\n",
       "        text-align: right;\n",
       "    }\n",
       "</style>\n",
       "<table border=\"1\" class=\"dataframe\">\n",
       "  <thead>\n",
       "    <tr style=\"text-align: right;\">\n",
       "      <th></th>\n",
       "      <th>0</th>\n",
       "    </tr>\n",
       "  </thead>\n",
       "  <tbody>\n",
       "    <tr>\n",
       "      <th>seasonal_vaccine</th>\n",
       "      <td>0.346675</td>\n",
       "    </tr>\n",
       "    <tr>\n",
       "      <th>doctor_recc_h1n1</th>\n",
       "      <td>0.128061</td>\n",
       "    </tr>\n",
       "    <tr>\n",
       "      <th>health_insurance</th>\n",
       "      <td>0.087609</td>\n",
       "    </tr>\n",
       "    <tr>\n",
       "      <th>opinion_h1n1_vacc_effective</th>\n",
       "      <td>0.056391</td>\n",
       "    </tr>\n",
       "    <tr>\n",
       "      <th>opinion_h1n1_risk</th>\n",
       "      <td>0.038376</td>\n",
       "    </tr>\n",
       "    <tr>\n",
       "      <th>opinion_h1n1_sick_from_vacc</th>\n",
       "      <td>0.022238</td>\n",
       "    </tr>\n",
       "    <tr>\n",
       "      <th>h1n1_concern</th>\n",
       "      <td>0.020195</td>\n",
       "    </tr>\n",
       "    <tr>\n",
       "      <th>h1n1_knowledge</th>\n",
       "      <td>0.019697</td>\n",
       "    </tr>\n",
       "    <tr>\n",
       "      <th>health_worker</th>\n",
       "      <td>0.016551</td>\n",
       "    </tr>\n",
       "    <tr>\n",
       "      <th>household_adults</th>\n",
       "      <td>0.015982</td>\n",
       "    </tr>\n",
       "  </tbody>\n",
       "</table>\n",
       "</div>"
      ],
      "text/plain": [
       "                                    0\n",
       "seasonal_vaccine             0.346675\n",
       "doctor_recc_h1n1             0.128061\n",
       "health_insurance             0.087609\n",
       "opinion_h1n1_vacc_effective  0.056391\n",
       "opinion_h1n1_risk            0.038376\n",
       "opinion_h1n1_sick_from_vacc  0.022238\n",
       "h1n1_concern                 0.020195\n",
       "h1n1_knowledge               0.019697\n",
       "health_worker                0.016551\n",
       "household_adults             0.015982"
      ]
     },
     "execution_count": 99,
     "metadata": {},
     "output_type": "execute_result"
    }
   ],
   "source": [
    "final_features.sort_values(by=0,ascending=False).head(10)"
   ]
  },
  {
   "cell_type": "code",
   "execution_count": 102,
   "metadata": {},
   "outputs": [],
   "source": [
    "param_dict = {\n",
    "    'criterion': ['gini','entropy'],\n",
    "    'max_depth': range(1,10),\n",
    "    'min_samples_split': range(1,10),\n",
    "    'min_samples_leaf': range(1,5)\n",
    "}"
   ]
  },
  {
   "cell_type": "code",
   "execution_count": 106,
   "metadata": {},
   "outputs": [
    {
     "name": "stdout",
     "output_type": "stream",
     "text": [
      "Fitting 5 folds for each of 648 candidates, totalling 3240 fits\n"
     ]
    },
    {
     "name": "stderr",
     "output_type": "stream",
     "text": [
      "[Parallel(n_jobs=-2)]: Using backend LokyBackend with 7 concurrent workers.\n",
      "[Parallel(n_jobs=-2)]: Done  27 tasks      | elapsed:    2.6s\n",
      "[Parallel(n_jobs=-2)]: Done 417 tasks      | elapsed:    8.3s\n",
      "[Parallel(n_jobs=-2)]: Done 1229 tasks      | elapsed:   27.8s\n",
      "[Parallel(n_jobs=-2)]: Done 1593 tasks      | elapsed:   38.8s\n",
      "[Parallel(n_jobs=-2)]: Done 2749 tasks      | elapsed:  1.0min\n",
      "[Parallel(n_jobs=-2)]: Done 3194 tasks      | elapsed:  1.3min\n",
      "[Parallel(n_jobs=-2)]: Done 3240 out of 3240 | elapsed:  1.3min finished\n"
     ]
    },
    {
     "data": {
      "text/plain": [
       "GridSearchCV(cv=5, estimator=DecisionTreeClassifier(random_state=42), n_jobs=-2,\n",
       "             param_grid={'criterion': ['gini', 'entropy'],\n",
       "                         'max_depth': range(1, 10),\n",
       "                         'min_samples_leaf': range(1, 5),\n",
       "                         'min_samples_split': range(1, 10)},\n",
       "             verbose=2)"
      ]
     },
     "execution_count": 106,
     "metadata": {},
     "output_type": "execute_result"
    }
   ],
   "source": [
    "from sklearn.model_selection import GridSearchCV\n",
    "\n",
    "grid = GridSearchCV(ct,\n",
    "                   param_grid = param_dict,\n",
    "                   cv = 5,\n",
    "                   verbose = 2,\n",
    "                   n_jobs = -2)\n",
    "\n",
    "grid.fit(X_train_scaled,y_train)"
   ]
  },
  {
   "cell_type": "code",
   "execution_count": 107,
   "metadata": {},
   "outputs": [
    {
     "data": {
      "text/plain": [
       "{'criterion': 'entropy',\n",
       " 'max_depth': 9,\n",
       " 'min_samples_leaf': 2,\n",
       " 'min_samples_split': 5}"
      ]
     },
     "execution_count": 107,
     "metadata": {},
     "output_type": "execute_result"
    }
   ],
   "source": [
    "grid.best_params_"
   ]
  },
  {
   "cell_type": "code",
   "execution_count": 108,
   "metadata": {},
   "outputs": [
    {
     "data": {
      "text/plain": [
       "0.8743777648663809"
      ]
     },
     "execution_count": 108,
     "metadata": {},
     "output_type": "execute_result"
    }
   ],
   "source": [
    "grid.best_score_"
   ]
  },
  {
   "cell_type": "code",
   "execution_count": 110,
   "metadata": {},
   "outputs": [],
   "source": [
    "dt = DecisionTreeClassifier(criterion='entropy',max_depth=9,min_samples_leaf=2,min_samples_split=5,\\\n",
    "                            random_state=42)"
   ]
  },
  {
   "cell_type": "code",
   "execution_count": 112,
   "metadata": {},
   "outputs": [
    {
     "data": {
      "text/plain": [
       "DecisionTreeClassifier(criterion='entropy', max_depth=9, min_samples_leaf=2,\n",
       "                       min_samples_split=5, random_state=42)"
      ]
     },
     "execution_count": 112,
     "metadata": {},
     "output_type": "execute_result"
    }
   ],
   "source": [
    "dt.fit(X_train_scaled,y_train)"
   ]
  },
  {
   "cell_type": "code",
   "execution_count": 113,
   "metadata": {},
   "outputs": [
    {
     "data": {
      "text/plain": [
       "0.8850884422747733"
      ]
     },
     "execution_count": 113,
     "metadata": {},
     "output_type": "execute_result"
    }
   ],
   "source": [
    "dt.score(X_train_scaled,y_train)"
   ]
  },
  {
   "cell_type": "code",
   "execution_count": 114,
   "metadata": {
    "scrolled": true
   },
   "outputs": [
    {
     "data": {
      "text/plain": [
       "0.8557735509959563"
      ]
     },
     "execution_count": 114,
     "metadata": {},
     "output_type": "execute_result"
    }
   ],
   "source": [
    "dt.score(X_test_scaled,y_test)"
   ]
  },
  {
   "cell_type": "code",
   "execution_count": 115,
   "metadata": {
    "scrolled": true
   },
   "outputs": [
    {
     "name": "stdout",
     "output_type": "stream",
     "text": [
      "Accuracy:0.86 ,Recall:0.61, Precision:0.68, F1:0.64\n"
     ]
    }
   ],
   "source": [
    "y_pred_test = dt.predict(X_test_scaled)\n",
    "\n",
    "model_accuracy = accuracy_score(y_test,y_pred_test)\n",
    "model_recall = recall_score(y_test,y_pred_test)\n",
    "model_precision = precision_score(y_test,y_pred_test)\n",
    "model_f1 = f1_score(y_test,y_pred_test)\n",
    "\n",
    "\n",
    "print(f\"\"\"\\\n",
    "Accuracy:{model_accuracy:1.2f} ,Recall:{model_recall:1.2f}, Precision:{model_precision:1.2f}, F1:{model_f1:1.2f}\\\n",
    "\"\"\") "
   ]
  },
  {
   "cell_type": "code",
   "execution_count": 116,
   "metadata": {},
   "outputs": [],
   "source": [
    "# Feature Seleciton \n",
    "fi_list = []\n",
    "feature_list =[]\n",
    "\n",
    "for fi, feature in zip(dt.feature_importances_, X_train):\n",
    "    fi_list.append(fi)\n",
    "    feature_list.append(feature)\n",
    "\n",
    "final_features = pd.DataFrame(fi_list,feature_list)\n"
   ]
  },
  {
   "cell_type": "code",
   "execution_count": 127,
   "metadata": {},
   "outputs": [],
   "source": [
    "final_features.sort_values(by=0,ascending=False,inplace=True)"
   ]
  },
  {
   "cell_type": "code",
   "execution_count": 128,
   "metadata": {},
   "outputs": [],
   "source": [
    "feature_cols = final_features.head(20).index.values"
   ]
  },
  {
   "cell_type": "markdown",
   "metadata": {},
   "source": [
    "### Train-Test split with important features"
   ]
  },
  {
   "cell_type": "code",
   "execution_count": 130,
   "metadata": {},
   "outputs": [],
   "source": [
    "X = vaccine_df[feature_cols]\n",
    "y = vaccine_df['h1n1_vaccine']"
   ]
  },
  {
   "cell_type": "code",
   "execution_count": 131,
   "metadata": {},
   "outputs": [],
   "source": [
    "X_train, X_test, y_train, y_test = train_test_split(X, y, test_size=.25,random_state=42)"
   ]
  },
  {
   "cell_type": "markdown",
   "metadata": {},
=======
>>>>>>> f55d197c1325bb9dd41bd183e80ed0e8701a19e7
   "source": [
    "plot_confusion_matrix(dummy_model,X_train,y_train);"
   ]
  },
  {
   "cell_type": "code",
<<<<<<< HEAD
<<<<<<< HEAD
   "execution_count": null,
=======
   "execution_count": 132,
>>>>>>> 51d9e99e954723218d8902c654ad9f06e551671a
=======
   "execution_count": 416,
=======
   "execution_count": 41,
>>>>>>> 009c10c0bd28f7dd01433854d9e13e4af220ff2c
   "metadata": {
    "scrolled": true
   },
   "outputs": [
    {
     "name": "stdout",
     "output_type": "stream",
     "text": [
      "Accuracy:0.79 ,Recall:0.00, Precision:0.00, F1:0.00\n"
     ]
    },
    {
     "name": "stderr",
     "output_type": "stream",
     "text": [
      "/Users/brandonmenendez/opt/anaconda3/envs/learn-env/lib/python3.8/site-packages/sklearn/metrics/_classification.py:1221: UndefinedMetricWarning: Precision is ill-defined and being set to 0.0 due to no predicted samples. Use `zero_division` parameter to control this behavior.\n",
      "  _warn_prf(average, modifier, msg_start, len(result))\n"
     ]
    }
   ],
   "source": [
    "from sklearn.metrics import confusion_matrix, plot_confusion_matrix,\\\n",
    "    precision_score, recall_score, accuracy_score, f1_score, log_loss,\\\n",
    "    roc_curve, roc_auc_score, classification_report\n",
    "\n",
    "y_pred_test = dummy_model.predict(X_test)\n",
    "\n",
    "model_accuracy = accuracy_score(y_test,y_pred_test)\n",
    "model_recall = recall_score(y_test,y_pred_test)\n",
    "model_precision = precision_score(y_test,y_pred_test)\n",
    "model_f1 = f1_score(y_test,y_pred_test)\n",
    "\n",
    "\n",
    "print(f\"\"\"\\\n",
    "Accuracy:{model_accuracy:1.2f} ,Recall:{model_recall:1.2f}, Precision:{model_precision:1.2f}, F1:{model_f1:1.2f}\\\n",
    "\"\"\") "
   ]
  },
  {
   "cell_type": "markdown",
   "metadata": {},
   "source": [
    "#### Observation:\n",
    "- Our dummy model has 79% accuracy. While we want to improve accuracy in future models, we will focus on evaluating models based on precision as well, since we would like to minimize the false positive rate."
   ]
  },
  {
   "cell_type": "markdown",
   "metadata": {},
   "source": [
    "## Decision Tree Model & Feature Importance"
   ]
  },
  {
   "cell_type": "markdown",
   "metadata": {},
   "source": [
    "We are beginning our iterative modeling with a Decision Tree, to help us understand the feature importance of our available training data."
   ]
  },
  {
   "cell_type": "code",
<<<<<<< HEAD
   "execution_count": 417,
>>>>>>> f55d197c1325bb9dd41bd183e80ed0e8701a19e7
=======
   "execution_count": 42,
>>>>>>> 009c10c0bd28f7dd01433854d9e13e4af220ff2c
   "metadata": {},
   "outputs": [],
   "source": [
    "# Imputing remaining null values ahead of DT modeling \n",
    "\n",
    "imputer = SimpleImputer(strategy='median')\n",
    "\n",
    "imputer = imputer.fit(X_train)\n",
    "\n",
    "X_train_scaled = imputer.transform(X_train)"
   ]
  },
  {
   "cell_type": "code",
   "execution_count": 43,
   "metadata": {},
   "outputs": [],
   "source": [
    "X_test_scaled = imputer.transform(X_test)"
   ]
  },
  {
   "cell_type": "code",
   "execution_count": 44,
   "metadata": {},
   "outputs": [],
   "source": [
    "# Using SMOTE to deal with imbalanced target \n",
    "from imblearn.over_sampling import SMOTE \n",
    "\n",
    "sm = SMOTE(random_state = 42)\n",
    "\n",
    "X_train_scaled, y_train = sm.fit_resample(X_train_scaled,y_train)"
   ]
  },
  {
   "cell_type": "code",
   "execution_count": 45,
   "metadata": {},
   "outputs": [
    {
     "data": {
      "text/plain": [
       "DecisionTreeClassifier(random_state=42)"
      ]
     },
     "execution_count": 45,
     "metadata": {},
     "output_type": "execute_result"
    }
   ],
   "source": [
    "# Instatiating and fitting our model \n",
    "\n",
    "from sklearn.tree import DecisionTreeClassifier\n",
    "\n",
    "ct = DecisionTreeClassifier(random_state=42)\n",
    "\n",
    "ct.fit(X_train_scaled, y_train)"
   ]
  },
  {
   "cell_type": "code",
   "execution_count": 46,
   "metadata": {},
   "outputs": [
    {
     "data": {
      "text/plain": [
       "0.9998415012996893"
      ]
     },
     "execution_count": 46,
     "metadata": {},
     "output_type": "execute_result"
    }
   ],
   "source": [
    "ct.score(X_train_scaled, y_train)"
   ]
  },
  {
   "cell_type": "code",
   "execution_count": 47,
   "metadata": {
    "scrolled": true
   },
   "outputs": [
    {
     "data": {
      "text/plain": [
       "0.7936198891717837"
      ]
     },
     "execution_count": 47,
     "metadata": {},
     "output_type": "execute_result"
    }
   ],
   "source": [
    "ct.score(X_test_scaled, y_test)"
   ]
  },
  {
   "cell_type": "markdown",
   "metadata": {},
   "source": [
    "#### Observation:\n",
    "- Our DT model seems to be overfitting to the training data when looking at the mean accuracy scores between the training and test data sets"
   ]
  },
  {
   "cell_type": "code",
   "execution_count": 48,
   "metadata": {},
   "outputs": [],
   "source": [
    "dt_results = ModelWithCV(\n",
    "                        model=ct,\n",
    "                        model_name='dt_model',\n",
    "                        X=X_train_scaled, \n",
    "                        y=y_train\n",
    ")"
   ]
  },
  {
   "cell_type": "code",
   "execution_count": 49,
   "metadata": {},
   "outputs": [
    {
     "name": "stdout",
     "output_type": "stream",
     "text": [
      "CV Results for `dt_model` model:\n",
      "            0.86151 ± 0.08865 accuracy\n",
      "        \n"
     ]
    },
    {
     "data": {
      "image/png": "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\n",
      "text/plain": [
       "<Figure size 432x288 with 1 Axes>"
      ]
     },
     "metadata": {
      "needs_background": "light"
     },
     "output_type": "display_data"
    }
   ],
   "source": [
    "# Visualizing accuracy \n",
    "model_results = dt_results\n",
    "\n",
    "\n",
    "fig, ax = plt.subplots()\n",
    "ax = model_results.plot_cv(ax)\n",
    "plt.tight_layout();\n",
    "\n",
    "model_results.print_cv_summary()"
   ]
  },
  {
   "cell_type": "code",
   "execution_count": 50,
   "metadata": {},
   "outputs": [
    {
     "name": "stdout",
     "output_type": "stream",
     "text": [
      "Accuracy:1.00 , Precision:1.00, \n",
      "\n"
     ]
    }
   ],
   "source": [
    "\n",
    "y_pred_train = ct.predict(X_train_scaled)\n",
    "\n",
    "model_accuracy = accuracy_score(y_train,y_pred_train)\n",
    "model_precision = precision_score(y_train,y_pred_train)\n",
    "\n",
    "\n",
    "\n",
    "print(f\"\"\"\\\n",
    "Accuracy:{model_accuracy:1.2f} , Precision:{model_precision:1.2f}, \n",
    "\"\"\") "
   ]
  },
  {
   "cell_type": "code",
   "execution_count": 51,
   "metadata": {},
   "outputs": [
    {
     "name": "stdout",
     "output_type": "stream",
     "text": [
      "Accuracy:0.79 , Precision:0.51, \n",
      "\n"
     ]
    }
   ],
   "source": [
    "\n",
    "y_pred_test = ct.predict(X_test_scaled)\n",
    "\n",
    "model_accuracy = accuracy_score(y_test,y_pred_test)\n",
    "model_precision = precision_score(y_test,y_pred_test)\n",
    "\n",
    "\n",
    "\n",
    "print(f\"\"\"\\\n",
    "Accuracy:{model_accuracy:1.2f} , Precision:{model_precision:1.2f}, \n",
    "\"\"\") "
   ]
  },
  {
   "cell_type": "markdown",
   "metadata": {},
   "source": [
    "#### Observation:\n",
    "- Our precision for the first DT model is 51%. We will use feature importance to keep iterating this model as it is overfitting, with the goal of increasing our models precision and mean accuracy"
   ]
  },
  {
   "cell_type": "code",
   "execution_count": 52,
   "metadata": {},
   "outputs": [],
   "source": [
    "# Feature Importance\n",
    "\n",
    "fi_list = []\n",
    "feature_list =[]\n",
    "\n",
    "for fi, feature in zip(ct.feature_importances_, X_train):\n",
    "    fi_list.append(fi)\n",
    "    feature_list.append(feature)\n",
    "\n",
    "final_features = pd.DataFrame(fi_list,feature_list)"
   ]
  },
  {
   "cell_type": "code",
   "execution_count": 53,
   "metadata": {},
   "outputs": [
    {
     "data": {
      "text/html": [
       "<div>\n",
       "<style scoped>\n",
       "    .dataframe tbody tr th:only-of-type {\n",
       "        vertical-align: middle;\n",
       "    }\n",
       "\n",
       "    .dataframe tbody tr th {\n",
       "        vertical-align: top;\n",
       "    }\n",
       "\n",
       "    .dataframe thead th {\n",
       "        text-align: right;\n",
       "    }\n",
       "</style>\n",
       "<table border=\"1\" class=\"dataframe\">\n",
       "  <thead>\n",
       "    <tr style=\"text-align: right;\">\n",
       "      <th></th>\n",
       "      <th>0</th>\n",
       "    </tr>\n",
       "  </thead>\n",
       "  <tbody>\n",
       "    <tr>\n",
       "      <th>seasonal_vaccine</th>\n",
       "      <td>0.346675</td>\n",
       "    </tr>\n",
       "    <tr>\n",
       "      <th>doctor_recc_h1n1</th>\n",
       "      <td>0.128061</td>\n",
       "    </tr>\n",
       "    <tr>\n",
       "      <th>health_insurance</th>\n",
       "      <td>0.087609</td>\n",
       "    </tr>\n",
       "    <tr>\n",
       "      <th>opinion_h1n1_vacc_effective</th>\n",
       "      <td>0.056391</td>\n",
       "    </tr>\n",
       "    <tr>\n",
       "      <th>opinion_h1n1_risk</th>\n",
       "      <td>0.038376</td>\n",
       "    </tr>\n",
       "    <tr>\n",
       "      <th>opinion_h1n1_sick_from_vacc</th>\n",
       "      <td>0.022238</td>\n",
       "    </tr>\n",
       "    <tr>\n",
       "      <th>h1n1_concern</th>\n",
       "      <td>0.020195</td>\n",
       "    </tr>\n",
       "    <tr>\n",
       "      <th>h1n1_knowledge</th>\n",
       "      <td>0.019697</td>\n",
       "    </tr>\n",
       "    <tr>\n",
       "      <th>health_worker</th>\n",
       "      <td>0.016551</td>\n",
       "    </tr>\n",
       "    <tr>\n",
       "      <th>household_adults</th>\n",
       "      <td>0.015982</td>\n",
       "    </tr>\n",
       "  </tbody>\n",
       "</table>\n",
       "</div>"
      ],
      "text/plain": [
       "                                    0\n",
       "seasonal_vaccine             0.346675\n",
       "doctor_recc_h1n1             0.128061\n",
       "health_insurance             0.087609\n",
       "opinion_h1n1_vacc_effective  0.056391\n",
       "opinion_h1n1_risk            0.038376\n",
       "opinion_h1n1_sick_from_vacc  0.022238\n",
       "h1n1_concern                 0.020195\n",
       "h1n1_knowledge               0.019697\n",
       "health_worker                0.016551\n",
       "household_adults             0.015982"
      ]
     },
     "execution_count": 53,
     "metadata": {},
     "output_type": "execute_result"
    }
   ],
   "source": [
    "final_features.sort_values(by=0,ascending=False).head(10)"
   ]
  },
  {
   "cell_type": "code",
   "execution_count": 54,
   "metadata": {},
   "outputs": [],
   "source": [
    "# Setting up parameters for grid search to improve DT model\n",
    "\n",
    "\n",
    "param_dict = {\n",
    "    'criterion': ['gini','entropy'],\n",
    "    'max_depth': range(1,10),\n",
    "    'min_samples_split': range(1,10),\n",
    "    'min_samples_leaf': range(1,5)\n",
    "}"
   ]
  },
  {
   "cell_type": "code",
   "execution_count": 55,
   "metadata": {},
   "outputs": [
    {
     "name": "stdout",
     "output_type": "stream",
     "text": [
      "Fitting 5 folds for each of 648 candidates, totalling 3240 fits\n"
     ]
    },
    {
     "name": "stderr",
     "output_type": "stream",
     "text": [
      "[Parallel(n_jobs=-2)]: Using backend LokyBackend with 7 concurrent workers.\n",
      "[Parallel(n_jobs=-2)]: Done  27 tasks      | elapsed:    2.3s\n",
      "[Parallel(n_jobs=-2)]: Done 233 tasks      | elapsed:    4.8s\n",
      "[Parallel(n_jobs=-2)]: Done 639 tasks      | elapsed:   12.8s\n",
      "[Parallel(n_jobs=-2)]: Done 1205 tasks      | elapsed:   26.2s\n",
      "[Parallel(n_jobs=-2)]: Done 1935 tasks      | elapsed:   44.1s\n",
      "[Parallel(n_jobs=-2)]: Done 2825 tasks      | elapsed:  1.1min\n",
      "[Parallel(n_jobs=-2)]: Done 3240 out of 3240 | elapsed:  1.3min finished\n"
     ]
    },
    {
     "data": {
      "text/plain": [
       "GridSearchCV(cv=5, estimator=DecisionTreeClassifier(random_state=42), n_jobs=-2,\n",
       "             param_grid={'criterion': ['gini', 'entropy'],\n",
       "                         'max_depth': range(1, 10),\n",
       "                         'min_samples_leaf': range(1, 5),\n",
       "                         'min_samples_split': range(1, 10)},\n",
       "             verbose=2)"
      ]
     },
     "execution_count": 55,
     "metadata": {},
     "output_type": "execute_result"
    }
   ],
   "source": [
    "from sklearn.model_selection import GridSearchCV\n",
    "\n",
    "grid = GridSearchCV(ct,\n",
    "                   param_grid = param_dict,\n",
    "                   cv = 5,\n",
    "                   verbose = 2,\n",
    "                   n_jobs = -2)\n",
    "\n",
    "grid.fit(X_train_scaled,y_train)"
   ]
  },
  {
   "cell_type": "code",
   "execution_count": 56,
   "metadata": {},
   "outputs": [
    {
     "data": {
      "text/plain": [
       "{'criterion': 'entropy',\n",
       " 'max_depth': 9,\n",
       " 'min_samples_leaf': 2,\n",
       " 'min_samples_split': 5}"
      ]
     },
     "execution_count": 56,
     "metadata": {},
     "output_type": "execute_result"
    }
   ],
   "source": [
    "# Identifying best parameters for second DT model\n",
    "\n",
    "grid.best_params_"
   ]
  },
  {
   "cell_type": "code",
   "execution_count": 57,
   "metadata": {},
   "outputs": [],
   "source": [
    "# instantiating second dt model with best parameters for final features selection\n",
    "\n",
    "dt = DecisionTreeClassifier(criterion='entropy',max_depth=9,min_samples_leaf=2,min_samples_split=5,\\\n",
    "                            random_state=42)"
   ]
  },
  {
   "cell_type": "code",
   "execution_count": 58,
   "metadata": {},
   "outputs": [
    {
     "data": {
      "text/plain": [
       "DecisionTreeClassifier(criterion='entropy', max_depth=9, min_samples_leaf=2,\n",
       "                       min_samples_split=5, random_state=42)"
      ]
     },
     "execution_count": 58,
     "metadata": {},
     "output_type": "execute_result"
    }
   ],
   "source": [
    "dt.fit(X_train_scaled,y_train)"
   ]
  },
  {
   "cell_type": "code",
   "execution_count": 59,
   "metadata": {},
   "outputs": [
    {
     "data": {
      "text/plain": [
       "0.8850884422747733"
      ]
     },
     "execution_count": 59,
     "metadata": {},
     "output_type": "execute_result"
    }
   ],
   "source": [
    "dt.score(X_train_scaled,y_train)"
   ]
  },
  {
   "cell_type": "code",
   "execution_count": 60,
   "metadata": {
    "scrolled": false
   },
   "outputs": [
    {
     "data": {
      "text/plain": [
       "0.8557735509959563"
      ]
     },
     "execution_count": 60,
     "metadata": {},
     "output_type": "execute_result"
    }
   ],
   "source": [
    "dt.score(X_test_scaled,y_test)"
   ]
  },
  {
   "cell_type": "code",
   "execution_count": 61,
   "metadata": {},
   "outputs": [],
   "source": [
    "# Note: Updated parameters seems to have lessened the overfitting"
   ]
  },
  {
   "cell_type": "code",
   "execution_count": 62,
   "metadata": {},
   "outputs": [
    {
     "name": "stdout",
     "output_type": "stream",
     "text": [
      "Accuracy:0.89 , Precision:0.91\n",
      "\n"
     ]
    }
   ],
   "source": [
    "y_pred_train = dt.predict(X_train_scaled)\n",
    "\n",
    "model_accuracy = accuracy_score(y_train,y_pred_train)\n",
    "model_precision = precision_score(y_train,y_pred_train)\n",
    "\n",
    "\n",
    "\n",
    "print(f\"\"\"\\\n",
    "Accuracy:{model_accuracy:1.2f} , Precision:{model_precision:1.2f}\n",
    "\"\"\") "
   ]
  },
  {
   "cell_type": "code",
   "execution_count": 63,
   "metadata": {
    "scrolled": true
   },
   "outputs": [
    {
     "name": "stdout",
     "output_type": "stream",
     "text": [
      "Accuracy:0.86 , Precision:0.68\n",
      "\n"
     ]
    }
   ],
   "source": [
    "y_pred_test = dt.predict(X_test_scaled)\n",
    "\n",
    "model_accuracy = accuracy_score(y_test,y_pred_test)\n",
    "model_precision = precision_score(y_test,y_pred_test)\n",
    "\n",
    "\n",
    "\n",
    "print(f\"\"\"\\\n",
    "Accuracy:{model_accuracy:1.2f} , Precision:{model_precision:1.2f}\n",
    "\"\"\") "
   ]
  },
  {
   "cell_type": "markdown",
   "metadata": {},
   "source": [
    "#### Oberservation:\n",
    "- The updated parameters has increased the precision of our model by 17% and mean accuracy by 7%\n",
    "- The updated model has also lessened the overfitting, yet is still an issue. This is likely due to the imbalanced target (more non-events than events) in the test set, that we eliminated using SMOTE in the training set"
   ]
  },
  {
   "cell_type": "code",
   "execution_count": 64,
   "metadata": {},
   "outputs": [],
   "source": [
    "# Feature Seleciton from updated DT model\n",
    "fi_list = []\n",
    "feature_list =[]\n",
    "\n",
    "for fi, feature in zip(dt.feature_importances_, X_train):\n",
    "    fi_list.append(fi)\n",
    "    feature_list.append(feature)\n",
    "\n",
    "final_features = pd.DataFrame(fi_list,feature_list)\n"
   ]
  },
  {
   "cell_type": "code",
   "execution_count": 65,
   "metadata": {},
   "outputs": [],
   "source": [
    "final_features.sort_values(by=0,ascending=False,inplace=True)"
   ]
  },
  {
   "cell_type": "code",
   "execution_count": 66,
   "metadata": {},
   "outputs": [],
   "source": [
    "feature_cols = final_features.head(20).index.values"
   ]
  },
  {
   "cell_type": "code",
   "execution_count": 67,
   "metadata": {},
   "outputs": [
    {
     "data": {
      "text/plain": [
       "array(['seasonal_vaccine', 'doctor_recc_h1n1', 'health_insurance',\n",
       "       'opinion_h1n1_vacc_effective', 'opinion_h1n1_risk',\n",
       "       'health_worker', 'Employed', 'Male', 'h1n1_knowledge', 'Female',\n",
       "       'White', 'household_adults', 'behavioral_large_gatherings',\n",
       "       'behavioral_outside_home', '35 - 44 Years', 'Non-MSA',\n",
       "       'h1n1_concern', '55 - 64 Years', '18 - 34 Years',\n",
       "       'behavioral_wash_hands'], dtype=object)"
      ]
     },
     "execution_count": 67,
     "metadata": {},
     "output_type": "execute_result"
    }
   ],
   "source": [
    "feature_cols"
   ]
  },
  {
   "cell_type": "markdown",
   "metadata": {},
   "source": [
    "## Train-Test split with important features"
   ]
  },
  {
   "cell_type": "code",
   "execution_count": 68,
   "metadata": {},
   "outputs": [],
   "source": [
    "X = vaccine_df[feature_cols]\n",
    "y = vaccine_df['h1n1_vaccine']"
   ]
  },
  {
   "cell_type": "code",
   "execution_count": 69,
   "metadata": {},
   "outputs": [],
   "source": [
    "X_train, X_test, y_train, y_test = train_test_split(X, y, test_size=.25,random_state=42)"
   ]
  },
  {
   "cell_type": "markdown",
   "metadata": {},
   "source": [
    "## DT Model with final important features selection"
   ]
  },
  {
   "cell_type": "code",
   "execution_count": 70,
   "metadata": {},
   "outputs": [
    {
     "data": {
      "text/plain": [
       "DecisionTreeClassifier(criterion='entropy', max_depth=9, min_samples_leaf=2,\n",
       "                       min_samples_split=5, random_state=42)"
      ]
     },
     "execution_count": 70,
     "metadata": {},
     "output_type": "execute_result"
    }
   ],
   "source": [
    "# Imputing new predictor set\n",
    "imputer = SimpleImputer(strategy='median')\n",
    "\n",
    "imputer = imputer.fit(X_train)\n",
    "\n",
    "X_train_imp = imputer.transform(X_train)\n",
    "X_test_imp = imputer.transform(X_test)\n",
    "\n",
    "# SMOTE \n",
    "sm = SMOTE(random_state = 42)\n",
    "\n",
    "X_train_imp, y_train = sm.fit_resample(X_train_imp,y_train)\n",
    "\n",
    "\n",
    "# Instantiating and fitting model with updated train-test split \n",
    "\n",
    "dt3 = DecisionTreeClassifier(criterion='entropy',max_depth=9,min_samples_leaf=2,min_samples_split=5,\\\n",
    "                            random_state=42)\n",
    "\n",
    "\n",
    "\n",
    "dt3.fit(X_train_imp,y_train)"
   ]
  },
  {
   "cell_type": "code",
   "execution_count": 71,
   "metadata": {},
   "outputs": [
    {
     "data": {
      "text/plain": [
       "0.8631839218918405"
      ]
     },
     "execution_count": 71,
     "metadata": {},
     "output_type": "execute_result"
    }
   ],
   "source": [
    "# Mean Accuracy for Train \n",
    "\n",
    "dt3.score(X_train_imp,y_train)"
   ]
  },
  {
   "cell_type": "code",
   "execution_count": 72,
   "metadata": {},
   "outputs": [
    {
     "data": {
      "text/plain": [
       "0.8108431930507713"
      ]
     },
     "execution_count": 72,
     "metadata": {},
     "output_type": "execute_result"
    }
   ],
   "source": [
    "# Mean Accuracy for Test \n",
    "\n",
    "dt3.score(X_test_imp,y_test)"
   ]
  },
  {
   "cell_type": "code",
   "execution_count": 73,
   "metadata": {},
   "outputs": [
    {
     "name": "stdout",
     "output_type": "stream",
     "text": [
      "Precision:0.85\n"
     ]
    }
   ],
   "source": [
    "y_pred_train = dt3.predict(X_train_imp)\n",
    "\n",
    "model_precision = precision_score(y_train,y_pred_train)\n",
    "\n",
    "print(f\"\"\"\\\n",
    "Precision:{model_precision:1.2f}\\\n",
    "\"\"\") "
   ]
  },
  {
   "cell_type": "code",
   "execution_count": 74,
   "metadata": {},
   "outputs": [
    {
     "name": "stdout",
     "output_type": "stream",
     "text": [
      "Precision:0.54\n"
     ]
    }
   ],
   "source": [
    "y_pred_test = dt3.predict(X_test_imp)\n",
    "\n",
    "model_precision = precision_score(y_test,y_pred_test)\n",
    "\n",
    "print(f\"\"\"\\\n",
    "Precision:{model_precision:1.2f}\\\n",
    "\"\"\") "
   ]
  },
  {
   "cell_type": "markdown",
   "metadata": {},
   "source": [
    "#### Observation:\n",
    "- The model is still overfitting\n",
    "- We will try different models using the important features to keep comparing results "
   ]
  },
  {
   "cell_type": "markdown",
   "metadata": {},
   "source": [
    "## Logistic Regression Models"
   ]
  },
  {
   "cell_type": "code",
   "execution_count": 75,
   "metadata": {},
   "outputs": [],
   "source": [
    "# Scaling data for logreg model\n",
    "\n",
    "log_scaler = StandardScaler()\n",
    "\n",
    "# Fit and transform train, transform test\n",
    "\n",
    "X_train_scaled = log_scaler.fit_transform(X_train_imp)\n",
    "X_test_scaled = log_scaler.transform(X_test_imp)"
   ]
  },
  {
   "cell_type": "code",
<<<<<<< HEAD
<<<<<<< HEAD
<<<<<<< HEAD
   "execution_count": null,
=======
   "execution_count": 144,
>>>>>>> 51d9e99e954723218d8902c654ad9f06e551671a
=======
   "execution_count": 453,
>>>>>>> f55d197c1325bb9dd41bd183e80ed0e8701a19e7
=======
   "execution_count": 76,
>>>>>>> 009c10c0bd28f7dd01433854d9e13e4af220ff2c
   "metadata": {},
   "outputs": [],
   "source": [
    "# Using SimpleImputer to deal with null values not addressed yet\n",
    "\n",
    "\n",
    "numeric_imputer = SimpleImputer(strategy='median')\n",
    "\n",
    "numeric_imputer = numeric_imputer.fit(X_train_scaled)\n",
    "\n",
    "X_train_scaled = numeric_imputer.transform(X_train_scaled)\n"
   ]
  },
  {
   "cell_type": "code",
<<<<<<< HEAD
<<<<<<< HEAD
<<<<<<< HEAD
   "execution_count": null,
=======
   "execution_count": 145,
>>>>>>> 51d9e99e954723218d8902c654ad9f06e551671a
=======
   "execution_count": 454,
>>>>>>> f55d197c1325bb9dd41bd183e80ed0e8701a19e7
=======
   "execution_count": 77,
>>>>>>> 009c10c0bd28f7dd01433854d9e13e4af220ff2c
   "metadata": {},
   "outputs": [],
   "source": [
    "# Using SMOTE to deal with imbalanced target \n",
    "\n",
    "\n",
    "\n",
    "sm = SMOTE(random_state = 42)\n",
    "\n",
    "X_train_scaled, y_train = sm.fit_resample(X_train_scaled,y_train)"
   ]
  },
  {
   "cell_type": "code",
<<<<<<< HEAD
<<<<<<< HEAD
<<<<<<< HEAD
   "execution_count": null,
=======
   "execution_count": 146,
>>>>>>> 51d9e99e954723218d8902c654ad9f06e551671a
=======
   "execution_count": 455,
>>>>>>> f55d197c1325bb9dd41bd183e80ed0e8701a19e7
=======
   "execution_count": 78,
>>>>>>> 009c10c0bd28f7dd01433854d9e13e4af220ff2c
   "metadata": {},
   "outputs": [],
   "source": [
    "log_model = LogisticRegression(\n",
    "            C=1e3,            \n",
    "            max_iter=1e3,      \n",
    "            solver='lbfgs',   \n",
    "            multi_class='ovr' \n",
    ")"
   ]
  },
  {
   "cell_type": "code",
<<<<<<< HEAD
<<<<<<< HEAD
<<<<<<< HEAD
   "execution_count": null,
   "metadata": {},
   "outputs": [],
=======
   "execution_count": 147,
=======
   "execution_count": 456,
>>>>>>> f55d197c1325bb9dd41bd183e80ed0e8701a19e7
=======
   "execution_count": 79,
>>>>>>> 009c10c0bd28f7dd01433854d9e13e4af220ff2c
   "metadata": {},
   "outputs": [
    {
     "data": {
      "text/plain": [
       "LogisticRegression(C=1000.0, max_iter=1000.0, multi_class='ovr')"
      ]
     },
<<<<<<< HEAD
<<<<<<< HEAD
     "execution_count": 147,
=======
     "execution_count": 456,
>>>>>>> f55d197c1325bb9dd41bd183e80ed0e8701a19e7
=======
     "execution_count": 79,
>>>>>>> 009c10c0bd28f7dd01433854d9e13e4af220ff2c
     "metadata": {},
     "output_type": "execute_result"
    }
   ],
>>>>>>> 51d9e99e954723218d8902c654ad9f06e551671a
   "source": [
    "log_model.fit(X_train_scaled,y_train)"
   ]
  },
  {
   "cell_type": "code",
<<<<<<< HEAD
<<<<<<< HEAD
<<<<<<< HEAD
   "execution_count": null,
   "metadata": {},
   "outputs": [],
=======
   "execution_count": 148,
=======
   "execution_count": 457,
>>>>>>> f55d197c1325bb9dd41bd183e80ed0e8701a19e7
=======
   "execution_count": 80,
>>>>>>> 009c10c0bd28f7dd01433854d9e13e4af220ff2c
   "metadata": {},
   "outputs": [
    {
     "data": {
<<<<<<< HEAD
      "image/png": "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\n",
=======
      "image/png": "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\n",
>>>>>>> f55d197c1325bb9dd41bd183e80ed0e8701a19e7
      "text/plain": [
       "<Figure size 432x288 with 2 Axes>"
      ]
     },
     "metadata": {
      "needs_background": "light"
     },
     "output_type": "display_data"
    }
   ],
>>>>>>> 51d9e99e954723218d8902c654ad9f06e551671a
   "source": [
    "plot_confusion_matrix(log_model,X_train_scaled,y_train);"
   ]
  },
  {
   "cell_type": "code",
<<<<<<< HEAD
<<<<<<< HEAD
<<<<<<< HEAD
   "execution_count": null,
   "metadata": {},
   "outputs": [],
=======
   "execution_count": 149,
=======
   "execution_count": 458,
>>>>>>> f55d197c1325bb9dd41bd183e80ed0e8701a19e7
=======
   "execution_count": 81,
>>>>>>> 009c10c0bd28f7dd01433854d9e13e4af220ff2c
   "metadata": {},
   "outputs": [
    {
     "data": {
      "text/plain": [
<<<<<<< HEAD
       "array([0.79650057, 0.80665716, 0.81226819])"
      ]
     },
     "execution_count": 149,
=======
       "array([0.79355268, 0.80266286, 0.80722777])"
      ]
     },
<<<<<<< HEAD
     "execution_count": 458,
>>>>>>> f55d197c1325bb9dd41bd183e80ed0e8701a19e7
=======
     "execution_count": 81,
>>>>>>> 009c10c0bd28f7dd01433854d9e13e4af220ff2c
     "metadata": {},
     "output_type": "execute_result"
    }
   ],
>>>>>>> 51d9e99e954723218d8902c654ad9f06e551671a
   "source": [
    "\n",
    "cv_scores = cross_val_score(log_model,X_train_scaled,y_train,cv=3)\n",
    "\n",
    "cv_scores"
   ]
  },
  {
   "cell_type": "code",
<<<<<<< HEAD
<<<<<<< HEAD
<<<<<<< HEAD
   "execution_count": null,
=======
   "execution_count": 150,
>>>>>>> 51d9e99e954723218d8902c654ad9f06e551671a
=======
   "execution_count": 459,
>>>>>>> f55d197c1325bb9dd41bd183e80ed0e8701a19e7
=======
   "execution_count": 82,
>>>>>>> 009c10c0bd28f7dd01433854d9e13e4af220ff2c
   "metadata": {},
   "outputs": [],
   "source": [
    "# Preprocessing for test\n",
    "\n",
    "X_test_scaled = numeric_imputer.transform(X_test_scaled)"
   ]
  },
  {
   "cell_type": "code",
<<<<<<< HEAD
<<<<<<< HEAD
<<<<<<< HEAD
   "execution_count": null,
   "metadata": {},
   "outputs": [],
=======
   "execution_count": 151,
=======
   "execution_count": 460,
>>>>>>> f55d197c1325bb9dd41bd183e80ed0e8701a19e7
=======
   "execution_count": 83,
>>>>>>> 009c10c0bd28f7dd01433854d9e13e4af220ff2c
   "metadata": {},
   "outputs": [
    {
     "name": "stdout",
     "output_type": "stream",
     "text": [
<<<<<<< HEAD
      "Accuracy:0.80 ,Recall:0.79, Precision:0.52, F1:0.63\n"
=======
      "Precision:0.80\n",
      "\n"
>>>>>>> f55d197c1325bb9dd41bd183e80ed0e8701a19e7
     ]
    }
   ],
>>>>>>> 51d9e99e954723218d8902c654ad9f06e551671a
   "source": [
    "y_pred_train = log_model.predict(X_train_scaled)\n",
    "\n",
    "\n",
    "model_precision = precision_score(y_train,y_pred_train)\n",
    "\n",
    "\n",
    "\n",
    "print(f\"\"\"\\\n",
    "Precision:{model_precision:1.2f}\n",
    "\"\"\") "
   ]
  },
  {
   "cell_type": "code",
<<<<<<< HEAD
<<<<<<< HEAD
<<<<<<< HEAD
   "execution_count": null,
   "metadata": {
    "scrolled": false
   },
   "outputs": [],
=======
   "execution_count": 152,
   "metadata": {
    "scrolled": false
   },
   "outputs": [
    {
     "data": {
      "text/plain": [
       "<sklearn.metrics._plot.roc_curve.RocCurveDisplay at 0x7fe1f2a48400>"
      ]
     },
     "execution_count": 152,
     "metadata": {},
     "output_type": "execute_result"
    },
    {
     "data": {
      "image/png": "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\n",
      "text/plain": [
       "<Figure size 432x288 with 1 Axes>"
      ]
     },
     "metadata": {
      "needs_background": "light"
     },
     "output_type": "display_data"
=======
   "execution_count": 461,
=======
   "execution_count": 84,
>>>>>>> 009c10c0bd28f7dd01433854d9e13e4af220ff2c
   "metadata": {},
   "outputs": [
    {
     "name": "stdout",
     "output_type": "stream",
     "text": [
      "Precision:0.52\n",
      "\n"
     ]
>>>>>>> f55d197c1325bb9dd41bd183e80ed0e8701a19e7
    }
   ],
>>>>>>> 51d9e99e954723218d8902c654ad9f06e551671a
   "source": [
    "y_pred_test = log_model.predict(X_test_scaled)\n",
    "\n",
    "\n",
    "model_precision = precision_score(y_test,y_pred_test)\n",
    "\n",
    "\n",
    "\n",
    "print(f\"\"\"\\\n",
    "Precision:{model_precision:1.2f}\n",
    "\"\"\") "
   ]
  },
  {
   "cell_type": "code",
<<<<<<< HEAD
<<<<<<< HEAD
<<<<<<< HEAD
   "execution_count": null,
=======
   "execution_count": 142,
>>>>>>> 51d9e99e954723218d8902c654ad9f06e551671a
=======
   "execution_count": 462,
>>>>>>> f55d197c1325bb9dd41bd183e80ed0e8701a19e7
=======
   "execution_count": 85,
>>>>>>> 009c10c0bd28f7dd01433854d9e13e4af220ff2c
   "metadata": {},
   "outputs": [],
   "source": [
    "baseline_logreg_results = ModelWithCV(\n",
    "                        model=log_model,\n",
    "                        model_name='log_model',\n",
    "                        X=X_train_scaled, \n",
    "                        y=y_train\n",
    ")"
   ]
  },
  {
   "cell_type": "code",
<<<<<<< HEAD
<<<<<<< HEAD
<<<<<<< HEAD
   "execution_count": null,
=======
   "execution_count": 143,
>>>>>>> 51d9e99e954723218d8902c654ad9f06e551671a
=======
   "execution_count": 463,
>>>>>>> f55d197c1325bb9dd41bd183e80ed0e8701a19e7
=======
   "execution_count": 86,
>>>>>>> 009c10c0bd28f7dd01433854d9e13e4af220ff2c
   "metadata": {
    "scrolled": false
   },
<<<<<<< HEAD
   "outputs": [],
=======
   "outputs": [
    {
     "name": "stdout",
     "output_type": "stream",
     "text": [
      "CV Results for `log_model` model:\n",
<<<<<<< HEAD
      "            0.80502 ± 0.00787 accuracy\n",
=======
      "            0.80216 ± 0.00730 accuracy\n",
>>>>>>> f55d197c1325bb9dd41bd183e80ed0e8701a19e7
      "        \n"
     ]
    },
    {
     "data": {
<<<<<<< HEAD
<<<<<<< HEAD
      "image/png": "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\n",
=======
      "image/png": "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\n",
>>>>>>> f55d197c1325bb9dd41bd183e80ed0e8701a19e7
=======
      "image/png": "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\n",
>>>>>>> 009c10c0bd28f7dd01433854d9e13e4af220ff2c
      "text/plain": [
       "<Figure size 432x288 with 1 Axes>"
      ]
     },
     "metadata": {
      "needs_background": "light"
     },
     "output_type": "display_data"
    }
   ],
>>>>>>> 51d9e99e954723218d8902c654ad9f06e551671a
   "source": [
    "# Visualizing CV results\n",
    "model_results = baseline_logreg_results\n",
    "\n",
    "\n",
    "fig, ax = plt.subplots()\n",
    "ax = model_results.plot_cv(ax)\n",
    "plt.tight_layout();\n",
    "\n",
    "model_results.print_cv_summary()"
   ]
  },
  {
   "cell_type": "markdown",
   "metadata": {},
   "source": [
<<<<<<< HEAD
    "### Grid Search for LogReg Model"
   ]
  },
  {
   "cell_type": "code",
   "execution_count": 159,
   "metadata": {},
   "outputs": [],
   "source": [
    "params = {\n",
    "    'penalty': ['l1', 'l2', 'elasticnet']\n",
    "    ,'C': [100, 10, 1.0, 0.1, 0.01]\n",
    "    ,'solver': ['saga']\n",
    "    ,'max_iter': [500, 1000]\n",
    "}"
   ]
  },
  {
   "cell_type": "code",
   "execution_count": 158,
   "metadata": {},
   "outputs": [
    {
     "data": {
      "text/plain": [
       "dict_keys(['C', 'class_weight', 'dual', 'fit_intercept', 'intercept_scaling', 'l1_ratio', 'max_iter', 'multi_class', 'n_jobs', 'penalty', 'random_state', 'solver', 'tol', 'verbose', 'warm_start'])"
      ]
     },
     "execution_count": 158,
     "metadata": {},
     "output_type": "execute_result"
    }
   ],
   "source": [
    "log_model.get_params().keys()"
   ]
  },
  {
   "cell_type": "code",
   "execution_count": 160,
   "metadata": {},
   "outputs": [
    {
     "data": {
      "text/plain": [
       "GridSearchCV(cv=5,\n",
       "             estimator=LogisticRegression(C=1000.0, max_iter=1000.0,\n",
       "                                          multi_class='ovr'),\n",
       "             n_jobs=-2,\n",
       "             param_grid={'C': [100, 10, 1.0, 0.1, 0.01],\n",
       "                         'max_iter': [500, 1000],\n",
       "                         'penalty': ['l1', 'l2', 'elasticnet'],\n",
       "                         'solver': ['saga']})"
      ]
     },
     "execution_count": 160,
     "metadata": {},
     "output_type": "execute_result"
    }
   ],
   "source": [
    "grid = GridSearchCV(log_model,\n",
    "                   param_grid = params,\n",
    "                   cv = 5,\n",
    "                   n_jobs = -2)\n",
    "\n",
    "grid.fit(X_train_scaled,y_train)"
   ]
  },
  {
   "cell_type": "code",
   "execution_count": 162,
   "metadata": {},
   "outputs": [
    {
     "data": {
      "text/plain": [
       "{'C': 0.01, 'max_iter': 1000, 'penalty': 'l1', 'solver': 'saga'}"
      ]
     },
     "execution_count": 162,
     "metadata": {},
     "output_type": "execute_result"
    }
   ],
   "source": [
    "grid.best_params_"
   ]
  },
  {
   "cell_type": "code",
   "execution_count": 163,
   "metadata": {},
   "outputs": [
    {
     "data": {
      "text/plain": [
       "0.8050469947216502"
      ]
     },
     "execution_count": 163,
     "metadata": {},
     "output_type": "execute_result"
    }
   ],
   "source": [
    "grid.best_score_"
   ]
  },
  {
   "cell_type": "code",
   "execution_count": 170,
   "metadata": {},
   "outputs": [],
   "source": [
    "log_model_2 = LogisticRegression(C=.01,max_iter=1000,penalty='l1',solver='saga',class_weight='balanced',\\\n",
    "                                 random_state=42)"
   ]
  },
  {
   "cell_type": "code",
   "execution_count": 171,
   "metadata": {},
   "outputs": [
    {
     "data": {
      "text/plain": [
       "LogisticRegression(C=0.01, class_weight='balanced', max_iter=1000, penalty='l1',\n",
       "                   random_state=42, solver='saga')"
      ]
     },
     "execution_count": 171,
     "metadata": {},
     "output_type": "execute_result"
    }
   ],
   "source": [
    "log_model_2.fit(X_train_scaled,y_train)"
   ]
  },
  {
   "cell_type": "code",
   "execution_count": 172,
   "metadata": {},
   "outputs": [
    {
     "data": {
      "text/plain": [
       "0.805205097318202"
      ]
     },
     "execution_count": 172,
     "metadata": {},
     "output_type": "execute_result"
    }
   ],
   "source": [
    "log_model_2.score(X_train_scaled,y_train)"
   ]
  },
  {
   "cell_type": "code",
   "execution_count": 173,
   "metadata": {},
   "outputs": [
    {
     "data": {
      "text/plain": [
       "0.8030552643402725"
      ]
     },
     "execution_count": 173,
     "metadata": {},
     "output_type": "execute_result"
    }
   ],
   "source": [
    "log_model_2.score(X_test_scaled,y_test)"
   ]
  },
  {
   "cell_type": "code",
   "execution_count": 174,
   "metadata": {},
   "outputs": [
    {
     "name": "stdout",
     "output_type": "stream",
     "text": [
      "Accuracy:0.80 ,Recall:0.79, Precision:0.52, F1:0.63\n"
     ]
    }
   ],
   "source": [
    "y_pred_test = log_model_2.predict(X_test_scaled)\n",
    "\n",
    "model_accuracy = accuracy_score(y_test,y_pred_test)\n",
    "model_recall = recall_score(y_test,y_pred_test)\n",
    "model_precision = precision_score(y_test,y_pred_test)\n",
    "model_f1 = f1_score(y_test,y_pred_test)\n",
    "\n",
    "\n",
    "print(f\"\"\"\\\n",
    "Accuracy:{model_accuracy:1.2f} ,Recall:{model_recall:1.2f}, Precision:{model_precision:1.2f}, F1:{model_f1:1.2f}\\\n",
    "\"\"\") "
   ]
  },
  {
   "cell_type": "code",
   "execution_count": 175,
   "metadata": {
    "scrolled": true
   },
   "outputs": [
    {
     "data": {
      "text/plain": [
       "<sklearn.metrics._plot.roc_curve.RocCurveDisplay at 0x7fe1f25a9370>"
      ]
     },
     "execution_count": 175,
     "metadata": {},
     "output_type": "execute_result"
    },
    {
     "data": {
      "image/png": "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\n",
      "text/plain": [
       "<Figure size 432x288 with 1 Axes>"
      ]
     },
     "metadata": {
      "needs_background": "light"
     },
     "output_type": "display_data"
    }
   ],
   "source": [
    "plot_roc_curve(log_model_2,X_test_scaled,y_test)"
   ]
  },
  {
   "cell_type": "markdown",
   "metadata": {},
   "source": [
    "## Random Forest Model"
   ]
  },
  {
   "cell_type": "code",
   "execution_count": 178,
   "metadata": {},
   "outputs": [],
   "source": [
    "rfc = RandomForestClassifier(max_features='sqrt',\n",
    "                            max_samples=0.3,\n",
    "                            random_state=42)"
   ]
  },
  {
   "cell_type": "code",
   "execution_count": 179,
   "metadata": {},
   "outputs": [
    {
     "data": {
      "text/plain": [
       "RandomForestClassifier(max_features='sqrt', max_samples=0.3, random_state=42)"
      ]
     },
     "execution_count": 179,
     "metadata": {},
     "output_type": "execute_result"
    }
   ],
   "source": [
    "rfc.fit(X_train_scaled, y_train)"
   ]
  },
  {
   "cell_type": "code",
   "execution_count": 180,
   "metadata": {},
   "outputs": [
    {
     "data": {
      "text/plain": [
       "array([0.76481775, 0.89839911, 0.9489618 , 0.94801078, 0.95260739])"
      ]
     },
     "execution_count": 180,
     "metadata": {},
     "output_type": "execute_result"
    }
   ],
   "source": [
    "scores = cross_val_score(estimator=rfc, X=X_train_scaled, y=y_train, cv=5)\n",
    "scores"
   ]
  },
  {
   "cell_type": "code",
   "execution_count": 181,
   "metadata": {},
   "outputs": [
    {
     "data": {
      "text/plain": [
       "0.9025593654224251"
      ]
     },
     "execution_count": 181,
     "metadata": {},
     "output_type": "execute_result"
    }
   ],
   "source": [
    "np.mean(scores)"
   ]
  },
  {
   "cell_type": "code",
   "execution_count": 182,
   "metadata": {},
   "outputs": [
    {
     "data": {
      "text/plain": [
       "0.857720533173581"
      ]
     },
     "execution_count": 182,
     "metadata": {},
     "output_type": "execute_result"
    }
   ],
   "source": [
    "score = rfc.score(X_test_scaled, y_test)\n",
    "score"
   ]
  },
  {
   "cell_type": "code",
   "execution_count": 183,
   "metadata": {},
   "outputs": [],
   "source": [
    "rfc_results = ModelWithCV(\n",
    "                        model=rfc,\n",
    "                        model_name='rfc_model',\n",
    "                        X=X_train_scaled, \n",
    "                        y=y_train\n",
    ")"
   ]
  },
  {
   "cell_type": "code",
   "execution_count": 184,
   "metadata": {},
   "outputs": [
    {
     "name": "stdout",
     "output_type": "stream",
     "text": [
      "CV Results for `rfc_model` model:\n",
      "            0.90719 ± 0.07499 accuracy\n",
      "        \n"
     ]
    },
    {
     "data": {
      "image/png": "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\n",
      "text/plain": [
       "<Figure size 432x288 with 1 Axes>"
      ]
     },
     "metadata": {
      "needs_background": "light"
     },
     "output_type": "display_data"
    }
   ],
   "source": [
    "model_results = rfc_results\n",
    "\n",
    "# Plot CV results\n",
    "fig, ax = plt.subplots()\n",
    "ax = model_results.plot_cv(ax)\n",
    "plt.tight_layout();\n",
    "# Print CV results\n",
    "model_results.print_cv_summary()"
   ]
  },
  {
   "cell_type": "markdown",
   "metadata": {},
   "source": [
    "## Random Forest Grid Search"
   ]
  },
  {
   "cell_type": "code",
   "execution_count": 187,
   "metadata": {},
   "outputs": [],
   "source": [
    "params = {\n",
    "     'n_estimators': [800, 1000, 1200]\n",
    "     ,'max_depth': [10, 15, 20]\n",
    "     ,'max_features': [10, 15, 20]\n",
    "     ,'min_samples_leaf': [2, 3, 4]\n",
    "     ,'min_samples_split': [10, 12, 15, 20]\n",
    "}"
   ]
  },
  {
   "cell_type": "code",
   "execution_count": null,
   "metadata": {},
   "outputs": [],
   "source": [
    "grid = GridSearchCV(rfc,\n",
    "                   param_grid = params,\n",
    "                   cv = 5,\n",
    "                   n_jobs = -2)\n",
    "\n",
    "grid.fit(X_train_scaled,y_train)"
   ]
  },
  {
   "cell_type": "code",
   "execution_count": null,
   "metadata": {},
   "outputs": [],
   "source": []
  },
  {
   "cell_type": "code",
   "execution_count": null,
   "metadata": {},
   "outputs": [],
   "source": []
  },
  {
   "cell_type": "code",
   "execution_count": null,
   "metadata": {},
   "outputs": [],
   "source": []
  },
  {
   "cell_type": "code",
   "execution_count": null,
   "metadata": {},
   "outputs": [],
   "source": []
  },
  {
   "cell_type": "code",
   "execution_count": null,
   "metadata": {},
   "outputs": [],
   "source": []
  },
  {
   "cell_type": "markdown",
   "metadata": {},
   "source": [
    "## Trying Different Models "
   ]
  },
  {
   "cell_type": "code",
   "execution_count": null,
   "metadata": {},
   "outputs": [],
   "source": [
    "from sklearn.neighbors import KNeighborsClassifier\n",
    "from sklearn.tree import DecisionTreeClassifier"
=======
    "#### Observation:\n",
    "- The model still seems to be overfitting based on our precision scores, will continue to iterate using grid search"
>>>>>>> f55d197c1325bb9dd41bd183e80ed0e8701a19e7
   ]
  },
  {
   "cell_type": "markdown",
   "metadata": {},
   "source": [
    "### Grid Search for LogReg Model"
   ]
  },
  {
   "cell_type": "code",
<<<<<<< HEAD
<<<<<<< HEAD
   "execution_count": null,
   "metadata": {},
   "outputs": [],
=======
   "execution_count": 464,
=======
   "execution_count": 87,
>>>>>>> 009c10c0bd28f7dd01433854d9e13e4af220ff2c
   "metadata": {},
   "outputs": [],
   "source": [
    "# Setting params for grid search \n",
    "\n",
    "params = {\n",
    "    'penalty': ['l1', 'l2', 'elasticnet']\n",
    "    ,'C': [100, 10, 1.0, 0.1, 0.01]\n",
    "    ,'solver': ['saga']\n",
    "    ,'max_iter': [500, 1000]\n",
    "}"
   ]
  },
  {
   "cell_type": "code",
   "execution_count": 88,
   "metadata": {},
   "outputs": [
    {
     "data": {
      "text/plain": [
       "dict_keys(['C', 'class_weight', 'dual', 'fit_intercept', 'intercept_scaling', 'l1_ratio', 'max_iter', 'multi_class', 'n_jobs', 'penalty', 'random_state', 'solver', 'tol', 'verbose', 'warm_start'])"
      ]
     },
     "execution_count": 88,
     "metadata": {},
     "output_type": "execute_result"
    }
   ],
>>>>>>> f55d197c1325bb9dd41bd183e80ed0e8701a19e7
   "source": [
    "log_model.get_params().keys()"
   ]
  },
  {
   "cell_type": "code",
<<<<<<< HEAD
<<<<<<< HEAD
   "execution_count": null,
   "metadata": {
    "scrolled": true
   },
   "outputs": [],
=======
   "execution_count": 466,
=======
   "execution_count": 89,
>>>>>>> 009c10c0bd28f7dd01433854d9e13e4af220ff2c
   "metadata": {},
   "outputs": [
    {
     "data": {
      "text/plain": [
       "GridSearchCV(cv=5,\n",
       "             estimator=LogisticRegression(C=1000.0, max_iter=1000.0,\n",
       "                                          multi_class='ovr'),\n",
       "             n_jobs=-2,\n",
       "             param_grid={'C': [100, 10, 1.0, 0.1, 0.01],\n",
       "                         'max_iter': [500, 1000],\n",
       "                         'penalty': ['l1', 'l2', 'elasticnet'],\n",
       "                         'solver': ['saga']})"
      ]
     },
     "execution_count": 89,
     "metadata": {},
     "output_type": "execute_result"
    }
   ],
   "source": [
    "grid = GridSearchCV(log_model,\n",
    "                   param_grid = params,\n",
    "                   cv = 5,\n",
    "                   n_jobs = -2)\n",
    "\n",
    "grid.fit(X_train_scaled,y_train)"
   ]
  },
  {
   "cell_type": "code",
   "execution_count": 90,
   "metadata": {},
   "outputs": [
    {
     "data": {
      "text/plain": [
       "{'C': 0.01, 'max_iter': 500, 'penalty': 'l1', 'solver': 'saga'}"
      ]
     },
     "execution_count": 90,
     "metadata": {},
     "output_type": "execute_result"
    }
   ],
   "source": [
    "# Grabbing best parameters for logreg model\n",
    "\n",
    "grid.best_params_"
   ]
  },
  {
   "cell_type": "code",
   "execution_count": 91,
   "metadata": {},
   "outputs": [],
   "source": [
    "# Instantiating second model with best parameters \n",
    "\n",
    "log_model_2 = LogisticRegression(C=.01,max_iter=1000,penalty='l1',solver='saga',class_weight='balanced',\\\n",
    "                                 random_state=42)"
   ]
  },
  {
   "cell_type": "code",
   "execution_count": 92,
   "metadata": {},
   "outputs": [
    {
     "data": {
      "text/plain": [
       "LogisticRegression(C=0.01, class_weight='balanced', max_iter=1000, penalty='l1',\n",
       "                   random_state=42, solver='saga')"
      ]
     },
     "execution_count": 92,
     "metadata": {},
     "output_type": "execute_result"
    }
   ],
   "source": [
    "log_model_2.fit(X_train_scaled,y_train)"
   ]
  },
  {
   "cell_type": "code",
   "execution_count": 93,
   "metadata": {},
   "outputs": [
    {
     "data": {
      "text/plain": [
       "0.8019717238318645"
      ]
     },
     "execution_count": 93,
     "metadata": {},
     "output_type": "execute_result"
    }
   ],
   "source": [
    "#Grabbing mean accuracy for train \n",
    "\n",
    "log_model_2.score(X_train_scaled,y_train)"
   ]
  },
  {
   "cell_type": "code",
   "execution_count": 94,
   "metadata": {
    "scrolled": true
   },
   "outputs": [
    {
     "data": {
      "text/plain": [
       "0.8026059607608207"
      ]
     },
     "execution_count": 94,
     "metadata": {},
     "output_type": "execute_result"
    }
   ],
>>>>>>> f55d197c1325bb9dd41bd183e80ed0e8701a19e7
   "source": [
    "# Grabbing mean accuracy for test \n",
    "\n",
    "log_model_2.score(X_test_scaled,y_test)"
   ]
  },
  {
   "cell_type": "code",
<<<<<<< HEAD
<<<<<<< HEAD
   "execution_count": null,
   "metadata": {},
   "outputs": [],
   "source": [
    "knn_results = ModelWithCV(\n",
    "                        model=knn_model,\n",
    "                        model_name='knn_model',\n",
    "                        X=X_train_scaled, \n",
    "                        y=y_train\n",
    ")"
   ]
  },
  {
   "cell_type": "code",
   "execution_count": null,
   "metadata": {},
   "outputs": [],
   "source": [
    "# Saving variable for convenience\n",
    "model_results = knn_results\n",
    "\n",
    "# Plot CV results\n",
    "fig, ax = plt.subplots()\n",
    "ax = model_results.plot_cv(ax)\n",
    "plt.tight_layout();\n",
    "# Print CV results\n",
    "model_results.print_cv_summary()"
   ]
  },
  {
   "cell_type": "code",
   "execution_count": null,
   "metadata": {},
   "outputs": [],
   "source": [
    "# Decreasing k \n",
    "\n",
    "knn3 = KNeighborsClassifier(n_neighbors=3)\n",
    "\n",
    "knn3.fit(X_train_scaled,y_train)\n",
    "\n",
    "knn3.score(X_train_scaled,y_train)"
   ]
  },
  {
   "cell_type": "code",
   "execution_count": null,
   "metadata": {},
   "outputs": [],
   "source": [
    "knn3_results = ModelWithCV(\n",
    "                        model=knn3,\n",
    "                        model_name='knn3_model',\n",
    "                        X=X_train_scaled, \n",
    "                        y=y_train\n",
    ")"
   ]
  },
  {
   "cell_type": "code",
   "execution_count": null,
   "metadata": {},
   "outputs": [],
   "source": [
    "# Saving variable for convenience\n",
    "model_results = knn3_results\n",
    "\n",
    "# Plot CV results\n",
    "fig, ax = plt.subplots()\n",
    "ax = model_results.plot_cv(ax)\n",
    "plt.tight_layout();\n",
    "# Print CV results\n",
    "model_results.print_cv_summary()"
   ]
  },
  {
   "cell_type": "code",
   "execution_count": null,
   "metadata": {},
   "outputs": [],
   "source": [
    "# Increasing k\n",
    "\n",
    "knn2 = KNeighborsClassifier(n_neighbors=5)\n",
    "\n",
    "knn2.fit(X_train_scaled,y_train)\n",
    "\n",
    "knn2.score(X_train_scaled,y_train)"
   ]
  },
  {
   "cell_type": "code",
   "execution_count": null,
   "metadata": {},
   "outputs": [],
   "source": [
    "knn5_results = ModelWithCV(\n",
    "                        model=knn2,\n",
    "                        model_name='knn5_model',\n",
    "                        X=X_train_scaled, \n",
    "                        y=y_train\n",
    ")"
   ]
  },
  {
   "cell_type": "code",
   "execution_count": null,
   "metadata": {
    "scrolled": true
   },
   "outputs": [],
=======
   "execution_count": 472,
=======
   "execution_count": 95,
>>>>>>> 009c10c0bd28f7dd01433854d9e13e4af220ff2c
   "metadata": {
    "scrolled": true
   },
   "outputs": [
    {
     "name": "stdout",
     "output_type": "stream",
     "text": [
      "Precision:0.52 \n",
      "\n"
     ]
    }
   ],
>>>>>>> f55d197c1325bb9dd41bd183e80ed0e8701a19e7
   "source": [
    "y_pred_test = log_model_2.predict(X_test_scaled)\n",
    "\n",
<<<<<<< HEAD
    "# Plot CV results\n",
    "fig, ax = plt.subplots()\n",
    "ax = model_results.plot_cv(ax)\n",
    "plt.tight_layout();\n",
    "# Print CV results\n",
    "model_results.print_cv_summary()"
   ]
  },
  {
   "cell_type": "markdown",
   "metadata": {},
   "source": [
    "#### Observations:\n",
    "- It looks like all three knn models are overfitting, will need to tune hyperparameters to adjust\""
   ]
  },
  {
   "cell_type": "markdown",
   "metadata": {},
   "source": [
    "### Decision Tree"
   ]
  },
  {
   "cell_type": "code",
   "execution_count": null,
   "metadata": {},
   "outputs": [],
   "source": [
    "ct = DecisionTreeClassifier(random_state=42)\n",
=======
>>>>>>> f55d197c1325bb9dd41bd183e80ed0e8701a19e7
    "\n",
    "model_precision = precision_score(y_test,y_pred_test)\n",
    "\n",
    "\n",
    "print(f\"\"\"\\\n",
    "Precision:{model_precision:1.2f} \n",
    "\"\"\") "
   ]
  },
  {
   "cell_type": "code",
<<<<<<< HEAD
<<<<<<< HEAD
   "execution_count": null,
   "metadata": {},
   "outputs": [],
   "source": [
    "ct.score(X_train_scaled, y_train)"
   ]
  },
  {
   "cell_type": "code",
   "execution_count": null,
   "metadata": {},
   "outputs": [],
   "source": [
    "dt_results = ModelWithCV(\n",
    "                        model=ct,\n",
    "                        model_name='dt_model',\n",
    "                        X=X_train_scaled, \n",
    "                        y=y_train\n",
    ")"
   ]
  },
  {
   "cell_type": "code",
   "execution_count": null,
   "metadata": {},
   "outputs": [],
=======
   "execution_count": 473,
=======
   "execution_count": 96,
>>>>>>> 009c10c0bd28f7dd01433854d9e13e4af220ff2c
   "metadata": {
    "scrolled": true
   },
   "outputs": [
    {
     "name": "stdout",
     "output_type": "stream",
     "text": [
      "Precision:0.80 \n",
      "\n"
     ]
    }
   ],
>>>>>>> f55d197c1325bb9dd41bd183e80ed0e8701a19e7
   "source": [
    "y_pred_train = log_model_2.predict(X_train_scaled)\n",
    "\n",
    "\n",
    "model_precision = precision_score(y_train,y_pred_train)\n",
    "\n",
    "\n",
    "print(f\"\"\"\\\n",
    "Precision:{model_precision:1.2f} \n",
    "\"\"\") "
   ]
  },
  {
   "cell_type": "markdown",
   "metadata": {},
   "source": [
    "#### Observation:\n",
    "- While our accuracy for test and train was almost identical, our precision scores still seem to be overfitting\n",
    "- Our next model will be a Random Forest Model"
   ]
  },
  {
   "cell_type": "markdown",
   "metadata": {},
   "source": [
    "## Random Forest Model"
   ]
  },
  {
   "cell_type": "code",
<<<<<<< HEAD
<<<<<<< HEAD
   "execution_count": null,
=======
   "execution_count": 474,
>>>>>>> f55d197c1325bb9dd41bd183e80ed0e8701a19e7
=======
   "execution_count": 97,
>>>>>>> 009c10c0bd28f7dd01433854d9e13e4af220ff2c
   "metadata": {},
   "outputs": [],
   "source": [
    "# Instantiating random forest \n",
    "\n",
    "rfc = RandomForestClassifier(max_features='sqrt',\n",
    "                            max_samples=0.3,\n",
    "                            random_state=42)"
   ]
  },
  {
   "cell_type": "code",
<<<<<<< HEAD
<<<<<<< HEAD
   "execution_count": null,
   "metadata": {},
   "outputs": [],
=======
   "execution_count": 475,
=======
   "execution_count": 98,
>>>>>>> 009c10c0bd28f7dd01433854d9e13e4af220ff2c
   "metadata": {},
   "outputs": [
    {
     "data": {
      "text/plain": [
       "RandomForestClassifier(max_features='sqrt', max_samples=0.3, random_state=42)"
      ]
     },
     "execution_count": 98,
     "metadata": {},
     "output_type": "execute_result"
    }
   ],
>>>>>>> f55d197c1325bb9dd41bd183e80ed0e8701a19e7
   "source": [
    "rfc.fit(X_train_scaled, y_train)"
   ]
  },
  {
   "cell_type": "code",
<<<<<<< HEAD
<<<<<<< HEAD
   "execution_count": null,
   "metadata": {},
   "outputs": [],
=======
   "execution_count": 476,
=======
   "execution_count": 99,
>>>>>>> 009c10c0bd28f7dd01433854d9e13e4af220ff2c
   "metadata": {},
   "outputs": [
    {
     "data": {
      "text/plain": [
       "array([0.77559429, 0.89618006, 0.9448407 , 0.94341417, 0.9488033 ])"
      ]
     },
     "execution_count": 99,
     "metadata": {},
     "output_type": "execute_result"
    }
   ],
>>>>>>> f55d197c1325bb9dd41bd183e80ed0e8701a19e7
   "source": [
    "scores = cross_val_score(estimator=rfc, X=X_train_scaled, y=y_train, cv=5)\n",
    "scores"
   ]
  },
  {
   "cell_type": "code",
<<<<<<< HEAD
<<<<<<< HEAD
   "execution_count": null,
   "metadata": {},
   "outputs": [],
=======
   "execution_count": 477,
=======
   "execution_count": 100,
>>>>>>> 009c10c0bd28f7dd01433854d9e13e4af220ff2c
   "metadata": {},
   "outputs": [
    {
     "data": {
      "text/plain": [
       "0.9017665051737274"
      ]
     },
     "execution_count": 100,
     "metadata": {},
     "output_type": "execute_result"
    }
   ],
>>>>>>> f55d197c1325bb9dd41bd183e80ed0e8701a19e7
   "source": [
    "# grabbing mean accuracy score for train \n",
    "\n",
    "np.mean(scores)"
   ]
  },
  {
   "cell_type": "code",
<<<<<<< HEAD
<<<<<<< HEAD
   "execution_count": null,
   "metadata": {},
   "outputs": [],
=======
   "execution_count": 478,
=======
   "execution_count": 101,
>>>>>>> 009c10c0bd28f7dd01433854d9e13e4af220ff2c
   "metadata": {},
   "outputs": [
    {
     "data": {
      "text/plain": [
       "0.8542758723977835"
      ]
     },
     "execution_count": 101,
     "metadata": {},
     "output_type": "execute_result"
    }
   ],
>>>>>>> f55d197c1325bb9dd41bd183e80ed0e8701a19e7
   "source": [
    "# grabbing mean accuracy model for test \n",
    "\n",
    "score = rfc.score(X_test_scaled, y_test)\n",
    "score"
   ]
  },
  {
   "cell_type": "code",
<<<<<<< HEAD
<<<<<<< HEAD
   "execution_count": null,
   "metadata": {},
   "outputs": [],
   "source": [
    "rfc_results = ModelWithCV(\n",
    "                        model=rfc,\n",
    "                        model_name='rfc_model',\n",
    "                        X=X_train_scaled, \n",
    "                        y=y_train\n",
    ")"
   ]
  },
  {
   "cell_type": "code",
   "execution_count": null,
   "metadata": {},
   "outputs": [],
=======
   "execution_count": 480,
=======
   "execution_count": 102,
>>>>>>> 009c10c0bd28f7dd01433854d9e13e4af220ff2c
   "metadata": {},
   "outputs": [
    {
     "name": "stdout",
     "output_type": "stream",
     "text": [
      "Precision:0.96 \n",
      "\n"
     ]
    }
   ],
   "source": [
    "y_pred_train = rfc.predict(X_train_scaled)\n",
    "\n",
    "\n",
    "model_precision = precision_score(y_train,y_pred_train)\n",
    "\n",
    "\n",
    "print(f\"\"\"\\\n",
    "Precision:{model_precision:1.2f} \n",
    "\"\"\") "
   ]
  },
  {
   "cell_type": "code",
   "execution_count": 103,
   "metadata": {},
   "outputs": [
    {
     "name": "stdout",
     "output_type": "stream",
     "text": [
      "Precision:0.68 \n",
      "\n"
     ]
    }
   ],
   "source": [
    "y_pred_test = rfc.predict(X_test_scaled)\n",
    "\n",
    "\n",
    "model_precision = precision_score(y_test,y_pred_test)\n",
    "\n",
    "\n",
    "print(f\"\"\"\\\n",
    "Precision:{model_precision:1.2f} \n",
    "\"\"\") "
   ]
  },
  {
   "cell_type": "markdown",
   "metadata": {},
   "source": [
    "#### Observation:\n",
    "- Similar to our previous models, it is overfitting on accuracy and precision, so will conduct a grid search for the best parameters"
   ]
  },
  {
   "cell_type": "markdown",
   "metadata": {},
   "source": [
    "## Random Forest Grid Search"
   ]
  },
  {
   "cell_type": "code",
   "execution_count": 104,
   "metadata": {},
   "outputs": [],
   "source": [
    "# Setting paramaters for RF grid search\n",
    "params = {\n",
    "     'n_estimators': [800, 1000, 1200]\n",
    "     ,'max_depth': [10, 15, 20]\n",
    "     ,'max_features': [10, 15, 20]\n",
    "     ,'min_samples_leaf': [2, 3, 4]\n",
    "     ,'min_samples_split': [10, 12, 15, 20]\n",
    "}"
   ]
  },
  {
   "cell_type": "markdown",
   "metadata": {},
   "source": [
    "#### Note:\n",
    "- The below grid search takes multiple hours to run. "
   ]
  },
  {
   "cell_type": "code",
   "execution_count": 105,
   "metadata": {
    "scrolled": true
   },
   "outputs": [],
   "source": [
    "# grid = GridSearchCV(rfc,\n",
    "#                    param_grid = params,\n",
    "#                    cv = 5,\n",
    "#                    n_jobs = -2)\n",
    "\n",
    "# grid.fit(X_train_scaled,y_train)"
   ]
  },
  {
   "cell_type": "code",
   "execution_count": 106,
   "metadata": {},
   "outputs": [],
   "source": [
    "# grid.best_params_"
   ]
  },
  {
   "cell_type": "code",
   "execution_count": 107,
   "metadata": {},
   "outputs": [],
   "source": [
    "# Instantiating new RF model with best parameters from grid search (stored in previous notebook version)\n",
    "\n",
    "rfc_2 = RandomForestClassifier(max_depth=20,max_features=10,min_samples_leaf=2,min_samples_split=10,\\\n",
    "                              n_estimators=1000,random_state=42)"
   ]
  },
  {
   "cell_type": "code",
   "execution_count": 108,
   "metadata": {},
   "outputs": [
    {
     "data": {
      "text/plain": [
       "RandomForestClassifier(max_depth=20, max_features=10, min_samples_leaf=2,\n",
       "                       min_samples_split=10, n_estimators=1000,\n",
       "                       random_state=42)"
      ]
     },
     "execution_count": 108,
     "metadata": {},
     "output_type": "execute_result"
    }
   ],
   "source": [
    "rfc_2.fit(X_train_scaled,y_train)"
   ]
  },
  {
   "cell_type": "code",
   "execution_count": 109,
   "metadata": {},
   "outputs": [
    {
     "name": "stdout",
     "output_type": "stream",
     "text": [
      "Precision:0.96  Accuracy:0.95 \n",
      "\n"
     ]
    }
   ],
   "source": [
    "y_pred_train = rfc_2.predict(X_train_scaled)\n",
    "\n",
    "model_accuracy = accuracy_score(y_train,y_pred_train)\n",
    "model_precision = precision_score(y_train,y_pred_train)\n",
    "\n",
    "\n",
    "print(f\"\"\"\\\n",
    "Precision:{model_precision:1.2f}  Accuracy:{model_accuracy:1.2f} \n",
    "\"\"\") "
   ]
  },
  {
   "cell_type": "code",
   "execution_count": 110,
   "metadata": {},
   "outputs": [
    {
     "name": "stdout",
     "output_type": "stream",
     "text": [
      "Precision:0.67 , Accuracy:0.85 \n",
      "\n"
     ]
    }
   ],
   "source": [
    "y_pred_test = rfc_2.predict(X_test_scaled)\n",
    "\n",
    "model_accuracy = accuracy_score(y_test,y_pred_test)\n",
    "model_precision = precision_score(y_test,y_pred_test)\n",
    "\n",
    "\n",
    "print(f\"\"\"\\\n",
    "Precision:{model_precision:1.2f} , Accuracy:{model_accuracy:1.2f} \n",
    "\"\"\") "
   ]
  },
  {
   "cell_type": "markdown",
   "metadata": {},
   "source": [
    "#### Observation:\n",
    "- Overall precision and accuracy numbers have improved, but the model is still overfit"
   ]
  },
  {
   "cell_type": "markdown",
   "metadata": {},
   "source": [
    "# Ensemble"
   ]
  },
  {
   "cell_type": "code",
   "execution_count": 111,
   "metadata": {},
   "outputs": [],
   "source": [
    "from sklearn.ensemble import BaggingClassifier, RandomForestClassifier,\\\n",
    "ExtraTreesClassifier, VotingClassifier, StackingRegressor"
   ]
  },
  {
   "cell_type": "code",
   "execution_count": 112,
   "metadata": {},
   "outputs": [
    {
     "data": {
      "text/plain": [
       "VotingClassifier(estimators=[('lr',\n",
       "                              LogisticRegression(C=0.01,\n",
       "                                                 class_weight='balanced',\n",
       "                                                 max_iter=1000, penalty='l1',\n",
       "                                                 random_state=42,\n",
       "                                                 solver='saga')),\n",
       "                             ('ct',\n",
       "                              DecisionTreeClassifier(criterion='entropy',\n",
       "                                                     max_depth=9,\n",
       "                                                     min_samples_leaf=2,\n",
       "                                                     min_samples_split=5,\n",
       "                                                     random_state=42)),\n",
       "                             ('rf',\n",
       "                              RandomForestClassifier(max_depth=20,\n",
       "                                                     max_features=10,\n",
       "                                                     min_samples_leaf=2,\n",
       "                                                     min_samples_split=10,\n",
       "                                                     n_estimators=1000,\n",
       "                                                     random_state=42))])"
      ]
     },
     "execution_count": 112,
     "metadata": {},
     "output_type": "execute_result"
    }
   ],
   "source": [
    "# Using our three best models for an ensemble model - log_model_2, dt (2nd dt model), rfc_2\n",
    "avg = VotingClassifier(estimators=[\n",
    "    ('lr', log_model_2),\n",
    "    ('ct', dt),\n",
    "    ('rf', rfc_2)])\n",
    "\n",
    "avg.fit(X_train_scaled,y_train )"
   ]
  },
  {
   "cell_type": "code",
   "execution_count": 113,
   "metadata": {},
   "outputs": [
    {
     "name": "stdout",
     "output_type": "stream",
     "text": [
      "Precision:0.87  Accuracy:0.89 \n",
      "\n"
     ]
    }
   ],
   "source": [
    "y_pred_train = avg.predict(X_train_scaled)\n",
    "\n",
    "model_accuracy = accuracy_score(y_train,y_pred_train)\n",
    "model_precision = precision_score(y_train,y_pred_train)\n",
    "\n",
    "\n",
    "print(f\"\"\"\\\n",
    "Precision:{model_precision:1.2f}  Accuracy:{model_accuracy:1.2f} \n",
    "\"\"\") "
   ]
  },
  {
   "cell_type": "code",
   "execution_count": 114,
   "metadata": {},
   "outputs": [
    {
     "name": "stdout",
     "output_type": "stream",
     "text": [
      "Precision:0.58 , Accuracy:0.83 \n",
      "\n"
     ]
    }
   ],
   "source": [
    "y_pred_test = avg.predict(X_test_scaled)\n",
    "\n",
    "model_accuracy = accuracy_score(y_test,y_pred_test)\n",
    "model_precision = precision_score(y_test,y_pred_test)\n",
    "\n",
    "\n",
    "print(f\"\"\"\\\n",
    "Precision:{model_precision:1.2f} , Accuracy:{model_accuracy:1.2f} \n",
    "\"\"\") "
   ]
  },
  {
   "cell_type": "code",
   "execution_count": 115,
   "metadata": {},
   "outputs": [
    {
     "data": {
      "text/plain": [
       "VotingClassifier(estimators=[('lr',\n",
       "                              LogisticRegression(C=0.01,\n",
       "                                                 class_weight='balanced',\n",
       "                                                 max_iter=1000, penalty='l1',\n",
       "                                                 random_state=42,\n",
       "                                                 solver='saga')),\n",
       "                             ('ct',\n",
       "                              DecisionTreeClassifier(criterion='entropy',\n",
       "                                                     max_depth=9,\n",
       "                                                     min_samples_leaf=2,\n",
       "                                                     min_samples_split=5,\n",
       "                                                     random_state=42)),\n",
       "                             ('rf',\n",
       "                              RandomForestClassifier(max_depth=20,\n",
       "                                                     max_features=10,\n",
       "                                                     min_samples_leaf=2,\n",
       "                                                     min_samples_split=10,\n",
       "                                                     n_estimators=1000,\n",
       "                                                     random_state=42))],\n",
       "                 weights=[0.1, 0.2, 0.7])"
      ]
     },
     "execution_count": 115,
     "metadata": {},
     "output_type": "execute_result"
    }
   ],
   "source": [
    "# Adjusting weight of each model \n",
    "\n",
    "avg_2 = VotingClassifier(estimators=[\n",
    "    ('lr', log_model_2),\n",
    "    ('ct', dt),\n",
    "    ('rf', rfc_2)],\n",
    "    weights=[.1, .2, .7])\n",
    "\n",
    "avg_2.fit(X_train_scaled,y_train )"
   ]
  },
  {
   "cell_type": "code",
   "execution_count": 116,
   "metadata": {},
   "outputs": [
    {
     "name": "stdout",
     "output_type": "stream",
     "text": [
      "Precision:0.96  Accuracy:0.95 \n",
      "\n"
     ]
    }
   ],
   "source": [
    "y_pred_train = avg_2.predict(X_train_scaled)\n",
    "\n",
    "model_accuracy = accuracy_score(y_train,y_pred_train)\n",
    "model_precision = precision_score(y_train,y_pred_train)\n",
    "\n",
    "\n",
    "print(f\"\"\"\\\n",
    "Precision:{model_precision:1.2f}  Accuracy:{model_accuracy:1.2f} \n",
    "\"\"\") "
   ]
  },
  {
   "cell_type": "code",
   "execution_count": 117,
   "metadata": {},
   "outputs": [
    {
     "name": "stdout",
     "output_type": "stream",
     "text": [
      "Precision:0.67 , Accuracy:0.85 \n",
      "\n"
     ]
    }
   ],
   "source": [
    "y_pred_test = avg_2.predict(X_test_scaled)\n",
    "\n",
    "model_accuracy = accuracy_score(y_test,y_pred_test)\n",
    "model_precision = precision_score(y_test,y_pred_test)\n",
    "\n",
    "\n",
    "print(f\"\"\"\\\n",
    "Precision:{model_precision:1.2f} , Accuracy:{model_accuracy:1.2f} \n",
    "\"\"\") "
   ]
  },
  {
   "cell_type": "markdown",
   "metadata": {},
   "source": [
    "#### Observation:\n",
    "- While the weights improved our second RF model, we still have slightly better results in our second DecisionTree model. \n",
    "- In the future, we will need to try additional types of models that fair better with imbalanced targets than DT based models "
   ]
  },
  {
   "cell_type": "markdown",
   "metadata": {},
   "source": [
    "# Conclusions"
   ]
  },
  {
   "cell_type": "markdown",
   "metadata": {},
   "source": [
    "## Results"
   ]
  },
  {
   "cell_type": "markdown",
   "metadata": {},
   "source": [
    "We decided to use the second DecisionTree model as our final model for this project, due to having the highest percision and accuracy scores. We are trying to optimize for precision, since we want to minimize the amount of false positives in our model- this way we are not missing non-vaccinator groups of people that require additional outreach.\n",
    "\n",
    "### Final Model & Evaluation Metrics:\n",
    "\n",
    "1. **Model Type**: DecisionTree\n",
    "2. **Model Name**: dt\n",
    "3. **Accuracy**: 86%\n",
    "4. **Precision**: 68%\n"
   ]
  },
  {
   "cell_type": "markdown",
   "metadata": {},
   "source": [
    "## Recommendations\n",
    "Below are our recommendations for a public health agency who is trying to use our model results to boost vaccination rates and increase outreach/educational activities"
   ]
  },
  {
   "cell_type": "markdown",
   "metadata": {},
   "source": [
    "1. **Promotion:** Boost vaccination rates by promoting the benefits of vaccination, and we especially need medical professionals to help in that process.\n",
    "<br/><br/>\n",
    "2. **Education:** Healthcare agency and medical professionals should help to popularize basic education on H1N1 vaccine.\n",
    "<br/><br/>\n",
    "3. **Accessibility:** Recommend improving accessibility on vaccination by allocating vaccines resources to major healthcare providers and prioritize the access for vulnerable groups such as elders, children, and chronic illness."
   ]
  },
  {
   "cell_type": "markdown",
   "metadata": {},
   "source": [
    "## Next Steps"
   ]
  },
  {
   "cell_type": "markdown",
   "metadata": {},
   "source": [
    "1. **Enhance modeling:** We expect to further improve models reliability by adopting more sophisticated data preprocessing steps, in order to reduce overfitting and improve precision. Since we have an imbalanced target, we would like to try out different models like Naive Bayes or knn.\n",
    "<br/><br/>\n",
    "2. **Geographical data:** Incorporate more historical and geographical data to gain better understanding on how vaccine opinions and rates differ on a regional level and over time.\n",
    "<br/><br/>\n",
    "3. **Study Non-Vaccinator:** Study the reasoning of anti-vaccinator would allow us to better understand the psychology and behavior of people when encountering the challenge of pandemic, and can provide us with improved features for future models.\n",
    "\n"
   ]
<<<<<<< HEAD
  },
  {
   "cell_type": "markdown",
   "metadata": {},
   "source": [
    "# Presentation Visual"
   ]
  },
  {
   "cell_type": "code",
   "execution_count": 128,
   "metadata": {},
   "outputs": [],
   "source": [
    "final_features = final_features.head()"
   ]
  },
  {
   "cell_type": "code",
   "execution_count": 129,
   "metadata": {},
   "outputs": [
    {
     "data": {
      "text/html": [
       "<div>\n",
       "<style scoped>\n",
       "    .dataframe tbody tr th:only-of-type {\n",
       "        vertical-align: middle;\n",
       "    }\n",
       "\n",
       "    .dataframe tbody tr th {\n",
       "        vertical-align: top;\n",
       "    }\n",
       "\n",
       "    .dataframe thead th {\n",
       "        text-align: right;\n",
       "    }\n",
       "</style>\n",
       "<table border=\"1\" class=\"dataframe\">\n",
       "  <thead>\n",
       "    <tr style=\"text-align: right;\">\n",
       "      <th></th>\n",
       "      <th>0</th>\n",
       "    </tr>\n",
       "  </thead>\n",
       "  <tbody>\n",
       "    <tr>\n",
       "      <th>seasonal_vaccine</th>\n",
       "      <td>0.346675</td>\n",
       "    </tr>\n",
       "    <tr>\n",
       "      <th>doctor_recc_h1n1</th>\n",
       "      <td>0.128061</td>\n",
       "    </tr>\n",
       "    <tr>\n",
       "      <th>health_insurance</th>\n",
       "      <td>0.087609</td>\n",
       "    </tr>\n",
       "    <tr>\n",
       "      <th>opinion_h1n1_vacc_effective</th>\n",
       "      <td>0.056391</td>\n",
       "    </tr>\n",
       "    <tr>\n",
       "      <th>opinion_h1n1_risk</th>\n",
       "      <td>0.038376</td>\n",
       "    </tr>\n",
       "  </tbody>\n",
       "</table>\n",
       "</div>"
      ],
      "text/plain": [
       "                                    0\n",
       "seasonal_vaccine             0.346675\n",
       "doctor_recc_h1n1             0.128061\n",
       "health_insurance             0.087609\n",
       "opinion_h1n1_vacc_effective  0.056391\n",
       "opinion_h1n1_risk            0.038376"
      ]
     },
     "execution_count": 129,
     "metadata": {},
     "output_type": "execute_result"
    }
   ],
   "source": [
    "final_features"
   ]
  },
  {
   "cell_type": "code",
   "execution_count": 131,
   "metadata": {
    "scrolled": false
   },
   "outputs": [
    {
     "name": "stderr",
     "output_type": "stream",
     "text": [
      "/Users/brandonmenendez/opt/anaconda3/envs/learn-env/lib/python3.8/site-packages/seaborn/_decorators.py:36: FutureWarning: Pass the following variables as keyword args: x, y. From version 0.12, the only valid positional argument will be `data`, and passing other arguments without an explicit keyword will result in an error or misinterpretation.\n",
      "  warnings.warn(\n"
     ]
    },
    {
     "data": {
      "image/png": "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\n",
      "text/plain": [
       "<Figure size 1440x864 with 1 Axes>"
      ]
     },
     "metadata": {
      "needs_background": "light"
     },
     "output_type": "display_data"
    }
   ],
>>>>>>> f55d197c1325bb9dd41bd183e80ed0e8701a19e7
   "source": [
    "fig,ax = plt.subplots(figsize=(20,12))\n",
    "\n",
    "sns.set_color_codes(\"pastel\")\n",
    "sns.set_palette('Blues')\n",
    "\n",
    "y_labels = ['Seasonal Flu Vaccination', 'Doctor Recommended','Health Insurance','Vaccine Efficacy',\\\n",
    "            'H1N1 Risk Opinion']\n",
    "\n",
    "y= y_labels\n",
    "x= final_features[0]\n",
    "\n",
    "sns.barplot(x, y, orient='h')\n",
    "\n",
    "plt.xlabel('Importance',fontsize=16)\n",
    "\n",
    "ax.yaxis.set_tick_params(labelsize=16)"
   ]
  },
  {
   "cell_type": "code",
   "execution_count": null,
   "metadata": {},
   "outputs": [],
   "source": []
=======
>>>>>>> 009c10c0bd28f7dd01433854d9e13e4af220ff2c
  }
 ],
 "metadata": {
  "kernelspec": {
   "display_name": "Python (learn-env)",
   "language": "python",
   "name": "learn-env"
  },
  "language_info": {
   "codemirror_mode": {
    "name": "ipython",
    "version": 3
   },
   "file_extension": ".py",
   "mimetype": "text/x-python",
   "name": "python",
   "nbconvert_exporter": "python",
   "pygments_lexer": "ipython3",
   "version": "3.8.5"
  }
 },
 "nbformat": 4,
 "nbformat_minor": 4
}
