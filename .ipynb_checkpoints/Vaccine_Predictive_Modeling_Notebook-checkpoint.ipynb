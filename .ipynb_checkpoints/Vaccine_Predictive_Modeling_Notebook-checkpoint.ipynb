{
 "cells": [
  {
   "cell_type": "markdown",
   "metadata": {},
   "source": [
    "# H1N1 & Seasonal Flu Vaccine - Predictive Modeling Project"
   ]
  },
  {
   "cell_type": "markdown",
   "metadata": {},
   "source": [
    "## Data Understanding"
   ]
  },
  {
   "cell_type": "code",
   "execution_count": 101,
   "metadata": {},
   "outputs": [],
   "source": [
    "# Imports\n",
    "\n",
    "import numpy as np\n",
    "import pandas as pd\n",
    "\n",
    "from matplotlib import pyplot as plt\n",
    "\n",
    "from sklearn.utils import resample\n",
    "from sklearn.datasets import load_breast_cancer, load_iris, make_classification\n",
    "from sklearn.model_selection import train_test_split\n",
    "from sklearn.preprocessing import StandardScaler\n",
    "from sklearn.linear_model import LogisticRegression\n",
    "\n",
    "from sklearn.metrics import confusion_matrix, plot_confusion_matrix,\\\n",
    "    precision_score, recall_score, accuracy_score, f1_score, log_loss,\\\n",
    "    roc_curve, roc_auc_score, classification_report"
   ]
  },
  {
   "cell_type": "code",
   "execution_count": 102,
   "metadata": {},
   "outputs": [
    {
     "data": {
      "text/html": [
       "<div>\n",
       "<style scoped>\n",
       "    .dataframe tbody tr th:only-of-type {\n",
       "        vertical-align: middle;\n",
       "    }\n",
       "\n",
       "    .dataframe tbody tr th {\n",
       "        vertical-align: top;\n",
       "    }\n",
       "\n",
       "    .dataframe thead th {\n",
       "        text-align: right;\n",
       "    }\n",
       "</style>\n",
       "<table border=\"1\" class=\"dataframe\">\n",
       "  <thead>\n",
       "    <tr style=\"text-align: right;\">\n",
       "      <th></th>\n",
       "      <th>respondent_id</th>\n",
       "      <th>h1n1_concern</th>\n",
       "      <th>h1n1_knowledge</th>\n",
       "      <th>behavioral_antiviral_meds</th>\n",
       "      <th>behavioral_avoidance</th>\n",
       "      <th>behavioral_face_mask</th>\n",
       "      <th>behavioral_wash_hands</th>\n",
       "      <th>behavioral_large_gatherings</th>\n",
       "      <th>behavioral_outside_home</th>\n",
       "      <th>behavioral_touch_face</th>\n",
       "      <th>doctor_recc_h1n1</th>\n",
       "      <th>doctor_recc_seasonal</th>\n",
       "      <th>chronic_med_condition</th>\n",
       "      <th>child_under_6_months</th>\n",
       "      <th>health_worker</th>\n",
       "      <th>health_insurance</th>\n",
       "      <th>opinion_h1n1_vacc_effective</th>\n",
       "      <th>opinion_h1n1_risk</th>\n",
       "      <th>opinion_h1n1_sick_from_vacc</th>\n",
       "      <th>opinion_seas_vacc_effective</th>\n",
       "      <th>opinion_seas_risk</th>\n",
       "      <th>opinion_seas_sick_from_vacc</th>\n",
       "      <th>age_group</th>\n",
       "      <th>education</th>\n",
       "      <th>race</th>\n",
       "      <th>sex</th>\n",
       "      <th>income_poverty</th>\n",
       "      <th>marital_status</th>\n",
       "      <th>rent_or_own</th>\n",
       "      <th>employment_status</th>\n",
       "      <th>hhs_geo_region</th>\n",
       "      <th>census_msa</th>\n",
       "      <th>household_adults</th>\n",
       "      <th>household_children</th>\n",
       "      <th>employment_industry</th>\n",
       "      <th>employment_occupation</th>\n",
       "    </tr>\n",
       "  </thead>\n",
       "  <tbody>\n",
       "    <tr>\n",
       "      <th>0</th>\n",
       "      <td>0</td>\n",
       "      <td>1.0</td>\n",
       "      <td>0.0</td>\n",
       "      <td>0.0</td>\n",
       "      <td>0.0</td>\n",
       "      <td>0.0</td>\n",
       "      <td>0.0</td>\n",
       "      <td>0.0</td>\n",
       "      <td>1.0</td>\n",
       "      <td>1.0</td>\n",
       "      <td>0.0</td>\n",
       "      <td>0.0</td>\n",
       "      <td>0.0</td>\n",
       "      <td>0.0</td>\n",
       "      <td>0.0</td>\n",
       "      <td>1.0</td>\n",
       "      <td>3.0</td>\n",
       "      <td>1.0</td>\n",
       "      <td>2.0</td>\n",
       "      <td>2.0</td>\n",
       "      <td>1.0</td>\n",
       "      <td>2.0</td>\n",
       "      <td>55 - 64 Years</td>\n",
       "      <td>&lt; 12 Years</td>\n",
       "      <td>White</td>\n",
       "      <td>Female</td>\n",
       "      <td>Below Poverty</td>\n",
       "      <td>Not Married</td>\n",
       "      <td>Own</td>\n",
       "      <td>Not in Labor Force</td>\n",
       "      <td>oxchjgsf</td>\n",
       "      <td>Non-MSA</td>\n",
       "      <td>0.0</td>\n",
       "      <td>0.0</td>\n",
       "      <td>NaN</td>\n",
       "      <td>NaN</td>\n",
       "    </tr>\n",
       "    <tr>\n",
       "      <th>1</th>\n",
       "      <td>1</td>\n",
       "      <td>3.0</td>\n",
       "      <td>2.0</td>\n",
       "      <td>0.0</td>\n",
       "      <td>1.0</td>\n",
       "      <td>0.0</td>\n",
       "      <td>1.0</td>\n",
       "      <td>0.0</td>\n",
       "      <td>1.0</td>\n",
       "      <td>1.0</td>\n",
       "      <td>0.0</td>\n",
       "      <td>0.0</td>\n",
       "      <td>0.0</td>\n",
       "      <td>0.0</td>\n",
       "      <td>0.0</td>\n",
       "      <td>1.0</td>\n",
       "      <td>5.0</td>\n",
       "      <td>4.0</td>\n",
       "      <td>4.0</td>\n",
       "      <td>4.0</td>\n",
       "      <td>2.0</td>\n",
       "      <td>4.0</td>\n",
       "      <td>35 - 44 Years</td>\n",
       "      <td>12 Years</td>\n",
       "      <td>White</td>\n",
       "      <td>Male</td>\n",
       "      <td>Below Poverty</td>\n",
       "      <td>Not Married</td>\n",
       "      <td>Rent</td>\n",
       "      <td>Employed</td>\n",
       "      <td>bhuqouqj</td>\n",
       "      <td>MSA, Not Principle  City</td>\n",
       "      <td>0.0</td>\n",
       "      <td>0.0</td>\n",
       "      <td>pxcmvdjn</td>\n",
       "      <td>xgwztkwe</td>\n",
       "    </tr>\n",
       "    <tr>\n",
       "      <th>2</th>\n",
       "      <td>2</td>\n",
       "      <td>1.0</td>\n",
       "      <td>1.0</td>\n",
       "      <td>0.0</td>\n",
       "      <td>1.0</td>\n",
       "      <td>0.0</td>\n",
       "      <td>0.0</td>\n",
       "      <td>0.0</td>\n",
       "      <td>0.0</td>\n",
       "      <td>0.0</td>\n",
       "      <td>NaN</td>\n",
       "      <td>NaN</td>\n",
       "      <td>1.0</td>\n",
       "      <td>0.0</td>\n",
       "      <td>0.0</td>\n",
       "      <td>NaN</td>\n",
       "      <td>3.0</td>\n",
       "      <td>1.0</td>\n",
       "      <td>1.0</td>\n",
       "      <td>4.0</td>\n",
       "      <td>1.0</td>\n",
       "      <td>2.0</td>\n",
       "      <td>18 - 34 Years</td>\n",
       "      <td>College Graduate</td>\n",
       "      <td>White</td>\n",
       "      <td>Male</td>\n",
       "      <td>&lt;= $75,000, Above Poverty</td>\n",
       "      <td>Not Married</td>\n",
       "      <td>Own</td>\n",
       "      <td>Employed</td>\n",
       "      <td>qufhixun</td>\n",
       "      <td>MSA, Not Principle  City</td>\n",
       "      <td>2.0</td>\n",
       "      <td>0.0</td>\n",
       "      <td>rucpziij</td>\n",
       "      <td>xtkaffoo</td>\n",
       "    </tr>\n",
       "    <tr>\n",
       "      <th>3</th>\n",
       "      <td>3</td>\n",
       "      <td>1.0</td>\n",
       "      <td>1.0</td>\n",
       "      <td>0.0</td>\n",
       "      <td>1.0</td>\n",
       "      <td>0.0</td>\n",
       "      <td>1.0</td>\n",
       "      <td>1.0</td>\n",
       "      <td>0.0</td>\n",
       "      <td>0.0</td>\n",
       "      <td>0.0</td>\n",
       "      <td>1.0</td>\n",
       "      <td>1.0</td>\n",
       "      <td>0.0</td>\n",
       "      <td>0.0</td>\n",
       "      <td>NaN</td>\n",
       "      <td>3.0</td>\n",
       "      <td>3.0</td>\n",
       "      <td>5.0</td>\n",
       "      <td>5.0</td>\n",
       "      <td>4.0</td>\n",
       "      <td>1.0</td>\n",
       "      <td>65+ Years</td>\n",
       "      <td>12 Years</td>\n",
       "      <td>White</td>\n",
       "      <td>Female</td>\n",
       "      <td>Below Poverty</td>\n",
       "      <td>Not Married</td>\n",
       "      <td>Rent</td>\n",
       "      <td>Not in Labor Force</td>\n",
       "      <td>lrircsnp</td>\n",
       "      <td>MSA, Principle City</td>\n",
       "      <td>0.0</td>\n",
       "      <td>0.0</td>\n",
       "      <td>NaN</td>\n",
       "      <td>NaN</td>\n",
       "    </tr>\n",
       "    <tr>\n",
       "      <th>4</th>\n",
       "      <td>4</td>\n",
       "      <td>2.0</td>\n",
       "      <td>1.0</td>\n",
       "      <td>0.0</td>\n",
       "      <td>1.0</td>\n",
       "      <td>0.0</td>\n",
       "      <td>1.0</td>\n",
       "      <td>1.0</td>\n",
       "      <td>0.0</td>\n",
       "      <td>1.0</td>\n",
       "      <td>0.0</td>\n",
       "      <td>0.0</td>\n",
       "      <td>0.0</td>\n",
       "      <td>0.0</td>\n",
       "      <td>0.0</td>\n",
       "      <td>NaN</td>\n",
       "      <td>3.0</td>\n",
       "      <td>3.0</td>\n",
       "      <td>2.0</td>\n",
       "      <td>3.0</td>\n",
       "      <td>1.0</td>\n",
       "      <td>4.0</td>\n",
       "      <td>45 - 54 Years</td>\n",
       "      <td>Some College</td>\n",
       "      <td>White</td>\n",
       "      <td>Female</td>\n",
       "      <td>&lt;= $75,000, Above Poverty</td>\n",
       "      <td>Married</td>\n",
       "      <td>Own</td>\n",
       "      <td>Employed</td>\n",
       "      <td>qufhixun</td>\n",
       "      <td>MSA, Not Principle  City</td>\n",
       "      <td>1.0</td>\n",
       "      <td>0.0</td>\n",
       "      <td>wxleyezf</td>\n",
       "      <td>emcorrxb</td>\n",
       "    </tr>\n",
       "  </tbody>\n",
       "</table>\n",
       "</div>"
      ],
      "text/plain": [
       "   respondent_id  h1n1_concern  h1n1_knowledge  behavioral_antiviral_meds  \\\n",
       "0              0           1.0             0.0                        0.0   \n",
       "1              1           3.0             2.0                        0.0   \n",
       "2              2           1.0             1.0                        0.0   \n",
       "3              3           1.0             1.0                        0.0   \n",
       "4              4           2.0             1.0                        0.0   \n",
       "\n",
       "   behavioral_avoidance  behavioral_face_mask  behavioral_wash_hands  \\\n",
       "0                   0.0                   0.0                    0.0   \n",
       "1                   1.0                   0.0                    1.0   \n",
       "2                   1.0                   0.0                    0.0   \n",
       "3                   1.0                   0.0                    1.0   \n",
       "4                   1.0                   0.0                    1.0   \n",
       "\n",
       "   behavioral_large_gatherings  behavioral_outside_home  \\\n",
       "0                          0.0                      1.0   \n",
       "1                          0.0                      1.0   \n",
       "2                          0.0                      0.0   \n",
       "3                          1.0                      0.0   \n",
       "4                          1.0                      0.0   \n",
       "\n",
       "   behavioral_touch_face  doctor_recc_h1n1  doctor_recc_seasonal  \\\n",
       "0                    1.0               0.0                   0.0   \n",
       "1                    1.0               0.0                   0.0   \n",
       "2                    0.0               NaN                   NaN   \n",
       "3                    0.0               0.0                   1.0   \n",
       "4                    1.0               0.0                   0.0   \n",
       "\n",
       "   chronic_med_condition  child_under_6_months  health_worker  \\\n",
       "0                    0.0                   0.0            0.0   \n",
       "1                    0.0                   0.0            0.0   \n",
       "2                    1.0                   0.0            0.0   \n",
       "3                    1.0                   0.0            0.0   \n",
       "4                    0.0                   0.0            0.0   \n",
       "\n",
       "   health_insurance  opinion_h1n1_vacc_effective  opinion_h1n1_risk  \\\n",
       "0               1.0                          3.0                1.0   \n",
       "1               1.0                          5.0                4.0   \n",
       "2               NaN                          3.0                1.0   \n",
       "3               NaN                          3.0                3.0   \n",
       "4               NaN                          3.0                3.0   \n",
       "\n",
       "   opinion_h1n1_sick_from_vacc  opinion_seas_vacc_effective  \\\n",
       "0                          2.0                          2.0   \n",
       "1                          4.0                          4.0   \n",
       "2                          1.0                          4.0   \n",
       "3                          5.0                          5.0   \n",
       "4                          2.0                          3.0   \n",
       "\n",
       "   opinion_seas_risk  opinion_seas_sick_from_vacc      age_group  \\\n",
       "0                1.0                          2.0  55 - 64 Years   \n",
       "1                2.0                          4.0  35 - 44 Years   \n",
       "2                1.0                          2.0  18 - 34 Years   \n",
       "3                4.0                          1.0      65+ Years   \n",
       "4                1.0                          4.0  45 - 54 Years   \n",
       "\n",
       "          education   race     sex             income_poverty marital_status  \\\n",
       "0        < 12 Years  White  Female              Below Poverty    Not Married   \n",
       "1          12 Years  White    Male              Below Poverty    Not Married   \n",
       "2  College Graduate  White    Male  <= $75,000, Above Poverty    Not Married   \n",
       "3          12 Years  White  Female              Below Poverty    Not Married   \n",
       "4      Some College  White  Female  <= $75,000, Above Poverty        Married   \n",
       "\n",
       "  rent_or_own   employment_status hhs_geo_region                census_msa  \\\n",
       "0         Own  Not in Labor Force       oxchjgsf                   Non-MSA   \n",
       "1        Rent            Employed       bhuqouqj  MSA, Not Principle  City   \n",
       "2         Own            Employed       qufhixun  MSA, Not Principle  City   \n",
       "3        Rent  Not in Labor Force       lrircsnp       MSA, Principle City   \n",
       "4         Own            Employed       qufhixun  MSA, Not Principle  City   \n",
       "\n",
       "   household_adults  household_children employment_industry  \\\n",
       "0               0.0                 0.0                 NaN   \n",
       "1               0.0                 0.0            pxcmvdjn   \n",
       "2               2.0                 0.0            rucpziij   \n",
       "3               0.0                 0.0                 NaN   \n",
       "4               1.0                 0.0            wxleyezf   \n",
       "\n",
       "  employment_occupation  \n",
       "0                   NaN  \n",
       "1              xgwztkwe  \n",
       "2              xtkaffoo  \n",
       "3                   NaN  \n",
       "4              emcorrxb  "
      ]
     },
     "execution_count": 102,
     "metadata": {},
     "output_type": "execute_result"
    }
   ],
   "source": [
    "# Reading in training data\n",
    "\n",
    "h1n1_train = pd.read_csv('./data/h1n1_training_data.csv')\n",
    "h1n1_train.to_csv()\n",
    "h1n1_train.head()"
   ]
  },
  {
   "cell_type": "code",
   "execution_count": 103,
   "metadata": {},
   "outputs": [
    {
     "name": "stdout",
     "output_type": "stream",
     "text": [
      "<class 'pandas.core.frame.DataFrame'>\n",
      "RangeIndex: 26707 entries, 0 to 26706\n",
      "Data columns (total 36 columns):\n",
      " #   Column                       Non-Null Count  Dtype  \n",
      "---  ------                       --------------  -----  \n",
      " 0   respondent_id                26707 non-null  int64  \n",
      " 1   h1n1_concern                 26615 non-null  float64\n",
      " 2   h1n1_knowledge               26591 non-null  float64\n",
      " 3   behavioral_antiviral_meds    26636 non-null  float64\n",
      " 4   behavioral_avoidance         26499 non-null  float64\n",
      " 5   behavioral_face_mask         26688 non-null  float64\n",
      " 6   behavioral_wash_hands        26665 non-null  float64\n",
      " 7   behavioral_large_gatherings  26620 non-null  float64\n",
      " 8   behavioral_outside_home      26625 non-null  float64\n",
      " 9   behavioral_touch_face        26579 non-null  float64\n",
      " 10  doctor_recc_h1n1             24547 non-null  float64\n",
      " 11  doctor_recc_seasonal         24547 non-null  float64\n",
      " 12  chronic_med_condition        25736 non-null  float64\n",
      " 13  child_under_6_months         25887 non-null  float64\n",
      " 14  health_worker                25903 non-null  float64\n",
      " 15  health_insurance             14433 non-null  float64\n",
      " 16  opinion_h1n1_vacc_effective  26316 non-null  float64\n",
      " 17  opinion_h1n1_risk            26319 non-null  float64\n",
      " 18  opinion_h1n1_sick_from_vacc  26312 non-null  float64\n",
      " 19  opinion_seas_vacc_effective  26245 non-null  float64\n",
      " 20  opinion_seas_risk            26193 non-null  float64\n",
      " 21  opinion_seas_sick_from_vacc  26170 non-null  float64\n",
      " 22  age_group                    26707 non-null  object \n",
      " 23  education                    25300 non-null  object \n",
      " 24  race                         26707 non-null  object \n",
      " 25  sex                          26707 non-null  object \n",
      " 26  income_poverty               22284 non-null  object \n",
      " 27  marital_status               25299 non-null  object \n",
      " 28  rent_or_own                  24665 non-null  object \n",
      " 29  employment_status            25244 non-null  object \n",
      " 30  hhs_geo_region               26707 non-null  object \n",
      " 31  census_msa                   26707 non-null  object \n",
      " 32  household_adults             26458 non-null  float64\n",
      " 33  household_children           26458 non-null  float64\n",
      " 34  employment_industry          13377 non-null  object \n",
      " 35  employment_occupation        13237 non-null  object \n",
      "dtypes: float64(23), int64(1), object(12)\n",
      "memory usage: 7.3+ MB\n"
     ]
    }
   ],
   "source": [
    "h1n1_train.info()"
   ]
  },
  {
   "cell_type": "code",
   "execution_count": 104,
   "metadata": {},
   "outputs": [
    {
     "name": "stdout",
     "output_type": "stream",
     "text": [
      "<class 'pandas.core.frame.DataFrame'>\n",
      "RangeIndex: 26707 entries, 0 to 26706\n",
      "Data columns (total 3 columns):\n",
      " #   Column            Non-Null Count  Dtype\n",
      "---  ------            --------------  -----\n",
      " 0   respondent_id     26707 non-null  int64\n",
      " 1   h1n1_vaccine      26707 non-null  int64\n",
      " 2   seasonal_vaccine  26707 non-null  int64\n",
      "dtypes: int64(3)\n",
      "memory usage: 626.1 KB\n"
     ]
    }
   ],
   "source": [
    "# Reading in training label data \n",
    "\n",
    "training_labels = pd.read_csv('./data/training_labels.csv')\n",
    "\n",
    "training_labels.to_csv()\n",
    "\n",
    "training_labels.info()"
   ]
  },
  {
   "cell_type": "code",
   "execution_count": 105,
   "metadata": {},
   "outputs": [
    {
     "data": {
      "text/plain": [
       "respondent_id       26707\n",
       "h1n1_vaccine            2\n",
       "seasonal_vaccine        2\n",
       "dtype: int64"
      ]
     },
     "execution_count": 105,
     "metadata": {},
     "output_type": "execute_result"
    }
   ],
   "source": [
    "# Checking for duplicates in labels df\n",
    "\n",
    "training_labels.nunique()"
   ]
  },
  {
   "cell_type": "code",
   "execution_count": 106,
   "metadata": {},
   "outputs": [],
   "source": [
    "# Merging labels and training features dataset \n",
    "\n",
    "vaccine_data = training_labels.merge(h1n1_train,how = 'left',left_on = 'respondent_id',right_on = 'respondent_id')"
   ]
  },
  {
   "cell_type": "code",
   "execution_count": 107,
   "metadata": {},
   "outputs": [
    {
     "name": "stdout",
     "output_type": "stream",
     "text": [
      "<class 'pandas.core.frame.DataFrame'>\n",
      "Int64Index: 26707 entries, 0 to 26706\n",
      "Data columns (total 38 columns):\n",
      " #   Column                       Non-Null Count  Dtype  \n",
      "---  ------                       --------------  -----  \n",
      " 0   respondent_id                26707 non-null  int64  \n",
      " 1   h1n1_vaccine                 26707 non-null  int64  \n",
      " 2   seasonal_vaccine             26707 non-null  int64  \n",
      " 3   h1n1_concern                 26615 non-null  float64\n",
      " 4   h1n1_knowledge               26591 non-null  float64\n",
      " 5   behavioral_antiviral_meds    26636 non-null  float64\n",
      " 6   behavioral_avoidance         26499 non-null  float64\n",
      " 7   behavioral_face_mask         26688 non-null  float64\n",
      " 8   behavioral_wash_hands        26665 non-null  float64\n",
      " 9   behavioral_large_gatherings  26620 non-null  float64\n",
      " 10  behavioral_outside_home      26625 non-null  float64\n",
      " 11  behavioral_touch_face        26579 non-null  float64\n",
      " 12  doctor_recc_h1n1             24547 non-null  float64\n",
      " 13  doctor_recc_seasonal         24547 non-null  float64\n",
      " 14  chronic_med_condition        25736 non-null  float64\n",
      " 15  child_under_6_months         25887 non-null  float64\n",
      " 16  health_worker                25903 non-null  float64\n",
      " 17  health_insurance             14433 non-null  float64\n",
      " 18  opinion_h1n1_vacc_effective  26316 non-null  float64\n",
      " 19  opinion_h1n1_risk            26319 non-null  float64\n",
      " 20  opinion_h1n1_sick_from_vacc  26312 non-null  float64\n",
      " 21  opinion_seas_vacc_effective  26245 non-null  float64\n",
      " 22  opinion_seas_risk            26193 non-null  float64\n",
      " 23  opinion_seas_sick_from_vacc  26170 non-null  float64\n",
      " 24  age_group                    26707 non-null  object \n",
      " 25  education                    25300 non-null  object \n",
      " 26  race                         26707 non-null  object \n",
      " 27  sex                          26707 non-null  object \n",
      " 28  income_poverty               22284 non-null  object \n",
      " 29  marital_status               25299 non-null  object \n",
      " 30  rent_or_own                  24665 non-null  object \n",
      " 31  employment_status            25244 non-null  object \n",
      " 32  hhs_geo_region               26707 non-null  object \n",
      " 33  census_msa                   26707 non-null  object \n",
      " 34  household_adults             26458 non-null  float64\n",
      " 35  household_children           26458 non-null  float64\n",
      " 36  employment_industry          13377 non-null  object \n",
      " 37  employment_occupation        13237 non-null  object \n",
      "dtypes: float64(23), int64(3), object(12)\n",
      "memory usage: 7.9+ MB\n"
     ]
    }
   ],
   "source": [
    "vaccine_data.info()"
   ]
  },
  {
   "cell_type": "markdown",
   "metadata": {},
   "source": [
    "### Note: \n",
    "- large null values in health insurance, employement_industry, employment_occupation \n",
    "- survey allows for \"don't know\" and \"refused to answer\" choices\n",
    "- assuming these null values are related to those options, I am going to"
   ]
  },
  {
   "cell_type": "code",
   "execution_count": 108,
   "metadata": {
    "scrolled": true
   },
   "outputs": [
    {
     "name": "stdout",
     "output_type": "stream",
     "text": [
      "2047     1\n",
      "7657     1\n",
      "3371     1\n",
      "13612    1\n",
      "15661    1\n",
      "        ..\n",
      "12979    1\n",
      "2740     1\n",
      "693      1\n",
      "6838     1\n",
      "0        1\n",
      "Name: respondent_id, Length: 26707, dtype: int64\n",
      "0    21033\n",
      "1     5674\n",
      "Name: h1n1_vaccine, dtype: int64\n",
      "0    14272\n",
      "1    12435\n",
      "Name: seasonal_vaccine, dtype: int64\n",
      "2.0    10575\n",
      "1.0     8153\n",
      "3.0     4591\n",
      "0.0     3296\n",
      "Name: h1n1_concern, dtype: int64\n",
      "1.0    14598\n",
      "2.0     9487\n",
      "0.0     2506\n",
      "Name: h1n1_knowledge, dtype: int64\n",
      "0.0    25335\n",
      "1.0     1301\n",
      "Name: behavioral_antiviral_meds, dtype: int64\n",
      "1.0    19228\n",
      "0.0     7271\n",
      "Name: behavioral_avoidance, dtype: int64\n",
      "0.0    24847\n",
      "1.0     1841\n",
      "Name: behavioral_face_mask, dtype: int64\n",
      "1.0    22015\n",
      "0.0     4650\n",
      "Name: behavioral_wash_hands, dtype: int64\n",
      "0.0    17073\n",
      "1.0     9547\n",
      "Name: behavioral_large_gatherings, dtype: int64\n",
      "0.0    17644\n",
      "1.0     8981\n",
      "Name: behavioral_outside_home, dtype: int64\n",
      "1.0    18001\n",
      "0.0     8578\n",
      "Name: behavioral_touch_face, dtype: int64\n",
      "0.0    19139\n",
      "1.0     5408\n",
      "Name: doctor_recc_h1n1, dtype: int64\n",
      "0.0    16453\n",
      "1.0     8094\n",
      "Name: doctor_recc_seasonal, dtype: int64\n",
      "0.0    18446\n",
      "1.0     7290\n",
      "Name: chronic_med_condition, dtype: int64\n",
      "0.0    23749\n",
      "1.0     2138\n",
      "Name: child_under_6_months, dtype: int64\n",
      "0.0    23004\n",
      "1.0     2899\n",
      "Name: health_worker, dtype: int64\n",
      "1.0    12697\n",
      "0.0     1736\n",
      "Name: health_insurance, dtype: int64\n",
      "4.0    11683\n",
      "5.0     7166\n",
      "3.0     4723\n",
      "2.0     1858\n",
      "1.0      886\n",
      "Name: opinion_h1n1_vacc_effective, dtype: int64\n",
      "2.0    9919\n",
      "1.0    8139\n",
      "4.0    5394\n",
      "5.0    1750\n",
      "3.0    1117\n",
      "Name: opinion_h1n1_risk, dtype: int64\n",
      "2.0    9129\n",
      "1.0    8998\n",
      "4.0    5850\n",
      "5.0    2187\n",
      "3.0     148\n",
      "Name: opinion_h1n1_sick_from_vacc, dtype: int64\n",
      "4.0    11629\n",
      "5.0     9973\n",
      "2.0     2206\n",
      "1.0     1221\n",
      "3.0     1216\n",
      "Name: opinion_seas_vacc_effective, dtype: int64\n",
      "2.0    8954\n",
      "4.0    7630\n",
      "1.0    5974\n",
      "5.0    2958\n",
      "3.0     677\n",
      "Name: opinion_seas_risk, dtype: int64\n",
      "1.0    11870\n",
      "2.0     7633\n",
      "4.0     4852\n",
      "5.0     1721\n",
      "3.0       94\n",
      "Name: opinion_seas_sick_from_vacc, dtype: int64\n",
      "65+ Years        6843\n",
      "55 - 64 Years    5563\n",
      "45 - 54 Years    5238\n",
      "18 - 34 Years    5215\n",
      "35 - 44 Years    3848\n",
      "Name: age_group, dtype: int64\n",
      "College Graduate    10097\n",
      "Some College         7043\n",
      "12 Years             5797\n",
      "< 12 Years           2363\n",
      "Name: education, dtype: int64\n",
      "White                21222\n",
      "Black                 2118\n",
      "Hispanic              1755\n",
      "Other or Multiple     1612\n",
      "Name: race, dtype: int64\n",
      "Female    15858\n",
      "Male      10849\n",
      "Name: sex, dtype: int64\n",
      "<= $75,000, Above Poverty    12777\n",
      "> $75,000                     6810\n",
      "Below Poverty                 2697\n",
      "Name: income_poverty, dtype: int64\n",
      "Married        13555\n",
      "Not Married    11744\n",
      "Name: marital_status, dtype: int64\n",
      "Own     18736\n",
      "Rent     5929\n",
      "Name: rent_or_own, dtype: int64\n",
      "Employed              13560\n",
      "Not in Labor Force    10231\n",
      "Unemployed             1453\n",
      "Name: employment_status, dtype: int64\n",
      "lzgpxyit    4297\n",
      "fpwskwrf    3265\n",
      "qufhixun    3102\n",
      "oxchjgsf    2859\n",
      "kbazzjca    2858\n",
      "bhuqouqj    2846\n",
      "mlyzmhmf    2243\n",
      "lrircsnp    2078\n",
      "atmpeygn    2033\n",
      "dqpwygqj    1126\n",
      "Name: hhs_geo_region, dtype: int64\n",
      "MSA, Not Principle  City    11645\n",
      "MSA, Principle City          7864\n",
      "Non-MSA                      7198\n",
      "Name: census_msa, dtype: int64\n",
      "1.0    14474\n",
      "0.0     8056\n",
      "2.0     2803\n",
      "3.0     1125\n",
      "Name: household_adults, dtype: int64\n",
      "0.0    18672\n",
      "1.0     3175\n",
      "2.0     2864\n",
      "3.0     1747\n",
      "Name: household_children, dtype: int64\n",
      "fcxhlnwr    2468\n",
      "wxleyezf    1804\n",
      "ldnlellj    1231\n",
      "pxcmvdjn    1037\n",
      "atmlpfrs     926\n",
      "arjwrbjb     871\n",
      "xicduogh     851\n",
      "mfikgejo     614\n",
      "vjjrobsf     527\n",
      "rucpziij     523\n",
      "xqicxuve     511\n",
      "saaquncn     338\n",
      "cfqqtusy     325\n",
      "nduyfdeo     286\n",
      "mcubkhph     275\n",
      "wlfvacwt     215\n",
      "dotnnunm     201\n",
      "haxffmxo     148\n",
      "msuufmds     124\n",
      "phxvnwax      89\n",
      "qnlwzans      13\n",
      "Name: employment_industry, dtype: int64\n",
      "xtkaffoo    1778\n",
      "mxkfnird    1509\n",
      "emcorrxb    1270\n",
      "cmhcxjea    1247\n",
      "xgwztkwe    1082\n",
      "hfxkjkmi     766\n",
      "qxajmpny     548\n",
      "xqwwgdyp     485\n",
      "kldqjyjy     469\n",
      "uqqtjvyb     452\n",
      "tfqavkke     388\n",
      "ukymxvdu     372\n",
      "vlluhbov     354\n",
      "oijqvulv     344\n",
      "ccgxvspp     341\n",
      "bxpfxfdn     331\n",
      "haliazsg     296\n",
      "rcertsgn     276\n",
      "xzmlyyjv     248\n",
      "dlvbwzss     227\n",
      "hodpvpew     208\n",
      "dcjcmpih     148\n",
      "pvmttkik      98\n",
      "Name: employment_occupation, dtype: int64\n"
     ]
    }
   ],
   "source": [
    "for row in vaccine_data:\n",
    "    print(vaccine_data[row].value_counts())"
   ]
  },
  {
   "cell_type": "code",
   "execution_count": 109,
   "metadata": {
    "scrolled": true
   },
   "outputs": [
    {
     "data": {
      "text/plain": [
       "1.0    12697\n",
       "0.0     1736\n",
       "Name: health_insurance, dtype: int64"
      ]
     },
     "execution_count": 109,
     "metadata": {},
     "output_type": "execute_result"
    }
   ],
   "source": [
    "vaccine_data['health_insurance'].value_counts()\n"
   ]
  },
  {
   "cell_type": "code",
   "execution_count": 110,
   "metadata": {},
   "outputs": [],
   "source": [
    "# Filling in health insurance with 3rd option to represent dont know/refused to answer \n",
    "\n",
    "vaccine_data['health_insurance'].fillna(value=2,inplace=True)\n"
   ]
  },
  {
   "cell_type": "code",
   "execution_count": 111,
   "metadata": {},
   "outputs": [],
   "source": [
    "# Dropping irrelevant columns: respondent_id, seas-opinion \n",
    "\n",
    "vaccine_data.drop(columns=['doctor_recc_seasonal','opinion_seas_vacc_effective'\\\n",
    "                          ,'opinion_seas_risk','opinion_seas_sick_from_vacc'],inplace=True)"
   ]
  },
  {
   "cell_type": "code",
   "execution_count": 112,
   "metadata": {},
   "outputs": [
    {
     "data": {
      "text/plain": [
       "0    21033\n",
       "1     5674\n",
       "Name: h1n1_vaccine, dtype: int64"
      ]
     },
     "execution_count": 112,
     "metadata": {},
     "output_type": "execute_result"
    }
   ],
   "source": [
    "# Checking for class imbalance in target \n",
    "\n",
    "vaccine_data['h1n1_vaccine'].value_counts()"
   ]
  },
  {
   "cell_type": "markdown",
   "metadata": {},
   "source": [
    "**Note:** There is imbalance in the H1N1 target. Will need to use SMOTE to oversample the minority class"
   ]
  },
  {
   "cell_type": "code",
   "execution_count": 113,
   "metadata": {},
   "outputs": [],
   "source": [
    "# Defining function to plot relevant columns against target\n",
    "\n",
    "def vaccination_rate_plot(col, target, data, ax=None):\n",
    "    \"\"\"Stacked bar chart of vaccination rate for `target` against \n",
    "    `col`. \n",
    "    \n",
    "    Args:\n",
    "        col (string): column name of feature variable\n",
    "        target (string): column name of target variable\n",
    "        data (pandas DataFrame): dataframe that contains columns \n",
    "            `col` and `target`\n",
    "        ax (matplotlib axes object, optional): matplotlib axes \n",
    "            object to attach plot to\n",
    "    \"\"\"\n",
    "    counts = (vaccine_data[[target, col]]\n",
    "                  .groupby([target, col])\n",
    "                  .size()\n",
    "                  .unstack(target)\n",
    "             )\n",
    "    group_counts = counts.sum(axis='columns')\n",
    "    props = counts.div(group_counts, axis='index')\n",
    "\n",
    "    props.plot(kind=\"barh\", stacked=True, ax=ax)\n",
    "    ax.invert_yaxis()\n",
    "    ax.legend().remove()"
   ]
  },
  {
   "cell_type": "code",
   "execution_count": 114,
   "metadata": {
    "scrolled": true
   },
   "outputs": [
    {
     "data": {
      "image/png": "[encoded data removed]",
      "text/plain": [
       "<Figure size 648x1440 with 16 Axes>"
      ]
     },
     "metadata": {
      "needs_background": "light"
     },
     "output_type": "display_data"
    }
   ],
   "source": [
    "cols_to_plot = [\n",
    "    'h1n1_concern',\n",
    "    'h1n1_knowledge',\n",
    "    'opinion_h1n1_vacc_effective',\n",
    "    'opinion_h1n1_risk',\n",
    "    'opinion_h1n1_sick_from_vacc',\n",
    "    'sex',\n",
    "    'age_group',\n",
    "    'race',\n",
    "]\n",
    "\n",
    "fig, ax = plt.subplots(\n",
    "    len(cols_to_plot), 2,  figsize=(9,len(cols_to_plot)*2.5)\n",
    ")\n",
    "for idx, col in enumerate(cols_to_plot):\n",
    "    vaccination_rate_plot(\n",
    "        col, 'h1n1_vaccine', vaccine_data,ax=ax[idx, 0]\n",
    "    )\n",
    "    \n",
    "ax[0, 0].legend(\n",
    "    loc='lower center', bbox_to_anchor=(0.5, 1.05), title='h1n1_vaccine'\n",
    ")\n",
    "\n",
    "fig.tight_layout()"
   ]
  },
  {
   "cell_type": "markdown",
   "metadata": {},
   "source": [
    "## Identifying Predictors and Targets"
   ]
  },
  {
   "cell_type": "code",
   "execution_count": 115,
   "metadata": {},
   "outputs": [],
   "source": [
    "# Isolating numeric columns\n",
    "numeric_cols = vaccine_data.columns[vaccine_data.dtypes != \"object\"].values\n",
    "\n",
    "numeric_data = vaccine_data[numeric_cols]"
   ]
  },
  {
   "cell_type": "code",
   "execution_count": 116,
   "metadata": {},
   "outputs": [],
   "source": [
    "# Isolating object columns\n",
    "\n",
    "object_cols = vaccine_data.columns[vaccine_data.dtypes == 'object'].values\n",
    "\n",
    "df_object = vaccine_data[object_cols]"
   ]
  },
  {
   "cell_type": "code",
   "execution_count": 117,
   "metadata": {},
   "outputs": [],
   "source": [
    "# Dropping columns due to large amount of unknown information\n",
    "\n",
    "df_object = df_object.drop(labels=['employment_industry', 'employment_occupation', 'hhs_geo_region'], axis=1)"
   ]
  },
  {
   "cell_type": "code",
   "execution_count": 118,
   "metadata": {},
   "outputs": [],
   "source": [
    "df_full_object = df_object.join(training_labels)"
   ]
  },
  {
   "cell_type": "code",
   "execution_count": 119,
   "metadata": {},
   "outputs": [
    {
     "name": "stdout",
     "output_type": "stream",
     "text": [
      "<class 'pandas.core.frame.DataFrame'>\n",
      "Int64Index: 26707 entries, 0 to 26706\n",
      "Data columns (total 12 columns):\n",
      " #   Column             Non-Null Count  Dtype \n",
      "---  ------             --------------  ----- \n",
      " 0   age_group          26707 non-null  object\n",
      " 1   education          25300 non-null  object\n",
      " 2   race               26707 non-null  object\n",
      " 3   sex                26707 non-null  object\n",
      " 4   income_poverty     22284 non-null  object\n",
      " 5   marital_status     25299 non-null  object\n",
      " 6   rent_or_own        24665 non-null  object\n",
      " 7   employment_status  25244 non-null  object\n",
      " 8   census_msa         26707 non-null  object\n",
      " 9   respondent_id      26707 non-null  int64 \n",
      " 10  h1n1_vaccine       26707 non-null  int64 \n",
      " 11  seasonal_vaccine   26707 non-null  int64 \n",
      "dtypes: int64(3), object(9)\n",
      "memory usage: 3.9+ MB\n"
     ]
    }
   ],
   "source": [
    "df_full_object.info()"
   ]
  },
  {
   "cell_type": "code",
   "execution_count": 120,
   "metadata": {},
   "outputs": [],
   "source": [
    "df_full_object.drop(labels=['seasonal_vaccine'], axis=1, inplace = True)"
   ]
  },
  {
   "cell_type": "code",
   "execution_count": 121,
   "metadata": {},
   "outputs": [
    {
     "data": {
      "text/plain": [
       "SimpleImputer(strategy='most_frequent')"
      ]
     },
     "execution_count": 121,
     "metadata": {},
     "output_type": "execute_result"
    }
   ],
   "source": [
    "## most frequent would add bias in the data\n",
    "\n",
    "categorical_feature_names = [\"age_group\", \"education\", \"race\", \"sex\", \"income_poverty\", \"marital_status\", \"rent_or_own\",\n",
    "                            \"employment_status\", \"census_msa\"]\n",
    "\n",
    "categorical_imputer = SimpleImputer(strategy=\"most_frequent\")\n",
    "\n",
    "categorical_imputer.fit(df_full_object)\n"
   ]
  },
  {
   "cell_type": "code",
   "execution_count": 122,
   "metadata": {},
   "outputs": [],
   "source": [
    "def impute_missing_values(X, imputer):\n",
    "    \"\"\"\n",
    "    Given a DataFrame and an imputer, use the imputer to fill in all\n",
    "    missing values in the DataFrame\n",
    "    \"\"\"\n",
    "    imputed_array = imputer.transform(X)\n",
    "    imputed_df = pd.DataFrame(imputed_array, columns=X.columns, index=X.index)\n",
    "    return imputed_df"
   ]
  },
  {
   "cell_type": "code",
   "execution_count": 123,
   "metadata": {},
   "outputs": [
    {
     "data": {
      "text/html": [
       "<div>\n",
       "<style scoped>\n",
       "    .dataframe tbody tr th:only-of-type {\n",
       "        vertical-align: middle;\n",
       "    }\n",
       "\n",
       "    .dataframe tbody tr th {\n",
       "        vertical-align: top;\n",
       "    }\n",
       "\n",
       "    .dataframe thead th {\n",
       "        text-align: right;\n",
       "    }\n",
       "</style>\n",
       "<table border=\"1\" class=\"dataframe\">\n",
       "  <thead>\n",
       "    <tr style=\"text-align: right;\">\n",
       "      <th></th>\n",
       "      <th>age_group</th>\n",
       "      <th>education</th>\n",
       "      <th>race</th>\n",
       "      <th>sex</th>\n",
       "      <th>income_poverty</th>\n",
       "      <th>marital_status</th>\n",
       "      <th>rent_or_own</th>\n",
       "      <th>employment_status</th>\n",
       "      <th>census_msa</th>\n",
       "      <th>respondent_id</th>\n",
       "      <th>h1n1_vaccine</th>\n",
       "    </tr>\n",
       "  </thead>\n",
       "  <tbody>\n",
       "    <tr>\n",
       "      <th>0</th>\n",
       "      <td>55 - 64 Years</td>\n",
       "      <td>&lt; 12 Years</td>\n",
       "      <td>White</td>\n",
       "      <td>Female</td>\n",
       "      <td>Below Poverty</td>\n",
       "      <td>Not Married</td>\n",
       "      <td>Own</td>\n",
       "      <td>Not in Labor Force</td>\n",
       "      <td>Non-MSA</td>\n",
       "      <td>0</td>\n",
       "      <td>0</td>\n",
       "    </tr>\n",
       "    <tr>\n",
       "      <th>1</th>\n",
       "      <td>35 - 44 Years</td>\n",
       "      <td>12 Years</td>\n",
       "      <td>White</td>\n",
       "      <td>Male</td>\n",
       "      <td>Below Poverty</td>\n",
       "      <td>Not Married</td>\n",
       "      <td>Rent</td>\n",
       "      <td>Employed</td>\n",
       "      <td>MSA, Not Principle  City</td>\n",
       "      <td>1</td>\n",
       "      <td>0</td>\n",
       "    </tr>\n",
       "    <tr>\n",
       "      <th>2</th>\n",
       "      <td>18 - 34 Years</td>\n",
       "      <td>College Graduate</td>\n",
       "      <td>White</td>\n",
       "      <td>Male</td>\n",
       "      <td>&lt;= $75,000, Above Poverty</td>\n",
       "      <td>Not Married</td>\n",
       "      <td>Own</td>\n",
       "      <td>Employed</td>\n",
       "      <td>MSA, Not Principle  City</td>\n",
       "      <td>2</td>\n",
       "      <td>0</td>\n",
       "    </tr>\n",
       "    <tr>\n",
       "      <th>3</th>\n",
       "      <td>65+ Years</td>\n",
       "      <td>12 Years</td>\n",
       "      <td>White</td>\n",
       "      <td>Female</td>\n",
       "      <td>Below Poverty</td>\n",
       "      <td>Not Married</td>\n",
       "      <td>Rent</td>\n",
       "      <td>Not in Labor Force</td>\n",
       "      <td>MSA, Principle City</td>\n",
       "      <td>3</td>\n",
       "      <td>0</td>\n",
       "    </tr>\n",
       "    <tr>\n",
       "      <th>4</th>\n",
       "      <td>45 - 54 Years</td>\n",
       "      <td>Some College</td>\n",
       "      <td>White</td>\n",
       "      <td>Female</td>\n",
       "      <td>&lt;= $75,000, Above Poverty</td>\n",
       "      <td>Married</td>\n",
       "      <td>Own</td>\n",
       "      <td>Employed</td>\n",
       "      <td>MSA, Not Principle  City</td>\n",
       "      <td>4</td>\n",
       "      <td>0</td>\n",
       "    </tr>\n",
       "  </tbody>\n",
       "</table>\n",
       "</div>"
      ],
      "text/plain": [
       "       age_group         education   race     sex             income_poverty  \\\n",
       "0  55 - 64 Years        < 12 Years  White  Female              Below Poverty   \n",
       "1  35 - 44 Years          12 Years  White    Male              Below Poverty   \n",
       "2  18 - 34 Years  College Graduate  White    Male  <= $75,000, Above Poverty   \n",
       "3      65+ Years          12 Years  White  Female              Below Poverty   \n",
       "4  45 - 54 Years      Some College  White  Female  <= $75,000, Above Poverty   \n",
       "\n",
       "  marital_status rent_or_own   employment_status                census_msa  \\\n",
       "0    Not Married         Own  Not in Labor Force                   Non-MSA   \n",
       "1    Not Married        Rent            Employed  MSA, Not Principle  City   \n",
       "2    Not Married         Own            Employed  MSA, Not Principle  City   \n",
       "3    Not Married        Rent  Not in Labor Force       MSA, Principle City   \n",
       "4        Married         Own            Employed  MSA, Not Principle  City   \n",
       "\n",
       "  respondent_id h1n1_vaccine  \n",
       "0             0            0  \n",
       "1             1            0  \n",
       "2             2            0  \n",
       "3             3            0  \n",
       "4             4            0  "
      ]
     },
     "execution_count": 123,
     "metadata": {},
     "output_type": "execute_result"
    }
   ],
   "source": [
    "df_full_categorical = impute_missing_values(df_full_object, categorical_imputer)\n",
    "\n",
    "df_full_categorical.head()"
   ]
  },
  {
   "cell_type": "code",
   "execution_count": 124,
   "metadata": {},
   "outputs": [
    {
     "data": {
      "text/plain": [
       "age_group            0\n",
       "education            0\n",
       "race                 0\n",
       "sex                  0\n",
       "income_poverty       0\n",
       "marital_status       0\n",
       "rent_or_own          0\n",
       "employment_status    0\n",
       "census_msa           0\n",
       "respondent_id        0\n",
       "h1n1_vaccine         0\n",
       "dtype: int64"
      ]
     },
     "execution_count": 124,
     "metadata": {},
     "output_type": "execute_result"
    }
   ],
   "source": [
    "# Confirming there are no remaining nulls \n",
    "\n",
    "df_full_categorical.isna().sum()\n"
   ]
  },
  {
   "cell_type": "code",
   "execution_count": 125,
   "metadata": {},
   "outputs": [],
   "source": [
    "def encode_and_concat_feature_train(X_train, feature_name):\n",
    "    \"\"\"\n",
    "    Helper function for transforming training data.  It takes in the full X dataframe and\n",
    "    feature name, makes a one-hot encoder, and returns the encoder as well as the dataframe\n",
    "    with that feature transformed into multiple columns of 1s and 0s\n",
    "    \"\"\"\n",
    "    # make a one-hot encoder and fit it to the training data\n",
    "    ohe = OneHotEncoder(categories=\"auto\", handle_unknown=\"ignore\")\n",
    "    single_feature_df = X_train[[feature_name]]\n",
    "    ohe.fit(single_feature_df)\n",
    "    \n",
    "    # call helper function that actually encodes the feature and concats it\n",
    "    X_train = encode_and_concat_feature(X_train, feature_name, ohe)\n",
    "    \n",
    "    return ohe, X_train"
   ]
  },
  {
   "cell_type": "code",
   "execution_count": 126,
   "metadata": {},
   "outputs": [],
   "source": [
    "def encode_and_concat_feature(X, feature_name, ohe):\n",
    "    \"\"\"\n",
    "    Helper function for transforming a feature into multiple columns of 1s and 0s. Used\n",
    "    in both training and testing steps.  Takes in the full X dataframe, feature name, \n",
    "    and encoder, and returns the dataframe with that feature transformed into multiple\n",
    "    columns of 1s and 0s\n",
    "    \"\"\"\n",
    "    # create new one-hot encoded df based on the feature\n",
    "    single_feature_df = X[[feature_name]]\n",
    "    feature_array = ohe.transform(single_feature_df).toarray()\n",
    "    ohe_df = pd.DataFrame(feature_array, columns=ohe.categories_[0], index=X.index)\n",
    "    \n",
    "    # drop the old feature from X and concat the new one-hot encoded df\n",
    "    X = X.drop(feature_name, axis=1)\n",
    "    X = pd.concat([X, ohe_df], axis=1)\n",
    "    \n",
    "    return X"
   ]
  },
  {
   "cell_type": "code",
   "execution_count": 127,
   "metadata": {},
   "outputs": [],
   "source": [
    "from sklearn.preprocessing import OneHotEncoder\n",
    "\n",
    "encoders = {}\n",
    "\n",
    "for categorical_feature in categorical_feature_names:\n",
    "    ohe, df_full_categorical = encode_and_concat_feature_train(df_full_categorical, categorical_feature)\n",
    "    encoders[categorical_feature] = ohe"
   ]
  },
  {
   "cell_type": "code",
   "execution_count": 128,
   "metadata": {},
   "outputs": [],
   "source": [
    "pd.set_option('display.max_columns', None)"
   ]
  },
  {
   "cell_type": "code",
   "execution_count": 129,
   "metadata": {},
   "outputs": [
    {
     "data": {
      "text/plain": [
       "(26707, 30)"
      ]
     },
     "execution_count": 129,
     "metadata": {},
     "output_type": "execute_result"
    }
   ],
   "source": [
    "df_full_categorical.shape"
   ]
  },
  {
   "cell_type": "code",
   "execution_count": 130,
   "metadata": {},
   "outputs": [
    {
     "name": "stdout",
     "output_type": "stream",
     "text": [
      "<class 'pandas.core.frame.DataFrame'>\n",
      "Int64Index: 26707 entries, 0 to 26706\n",
      "Data columns (total 30 columns):\n",
      " #   Column                     Non-Null Count  Dtype  \n",
      "---  ------                     --------------  -----  \n",
      " 0   respondent_id              26707 non-null  object \n",
      " 1   h1n1_vaccine               26707 non-null  object \n",
      " 2   18 - 34 Years              26707 non-null  float64\n",
      " 3   35 - 44 Years              26707 non-null  float64\n",
      " 4   45 - 54 Years              26707 non-null  float64\n",
      " 5   55 - 64 Years              26707 non-null  float64\n",
      " 6   65+ Years                  26707 non-null  float64\n",
      " 7   12 Years                   26707 non-null  float64\n",
      " 8   < 12 Years                 26707 non-null  float64\n",
      " 9   College Graduate           26707 non-null  float64\n",
      " 10  Some College               26707 non-null  float64\n",
      " 11  Black                      26707 non-null  float64\n",
      " 12  Hispanic                   26707 non-null  float64\n",
      " 13  Other or Multiple          26707 non-null  float64\n",
      " 14  White                      26707 non-null  float64\n",
      " 15  Female                     26707 non-null  float64\n",
      " 16  Male                       26707 non-null  float64\n",
      " 17  <= $75,000, Above Poverty  26707 non-null  float64\n",
      " 18  > $75,000                  26707 non-null  float64\n",
      " 19  Below Poverty              26707 non-null  float64\n",
      " 20  Married                    26707 non-null  float64\n",
      " 21  Not Married                26707 non-null  float64\n",
      " 22  Own                        26707 non-null  float64\n",
      " 23  Rent                       26707 non-null  float64\n",
      " 24  Employed                   26707 non-null  float64\n",
      " 25  Not in Labor Force         26707 non-null  float64\n",
      " 26  Unemployed                 26707 non-null  float64\n",
      " 27  MSA, Not Principle  City   26707 non-null  float64\n",
      " 28  MSA, Principle City        26707 non-null  float64\n",
      " 29  Non-MSA                    26707 non-null  float64\n",
      "dtypes: float64(28), object(2)\n",
      "memory usage: 7.6+ MB\n"
     ]
    }
   ],
   "source": [
    "df_full_categorical.info()"
   ]
  },
  {
   "cell_type": "code",
   "execution_count": 131,
   "metadata": {},
   "outputs": [
    {
     "name": "stdout",
     "output_type": "stream",
     "text": [
      "<class 'pandas.core.frame.DataFrame'>\n",
      "Int64Index: 26707 entries, 0 to 26706\n",
      "Data columns (total 34 columns):\n",
      " #   Column                       Non-Null Count  Dtype  \n",
      "---  ------                       --------------  -----  \n",
      " 0   respondent_id                26707 non-null  int64  \n",
      " 1   h1n1_vaccine                 26707 non-null  int64  \n",
      " 2   seasonal_vaccine             26707 non-null  int64  \n",
      " 3   h1n1_concern                 26615 non-null  float64\n",
      " 4   h1n1_knowledge               26591 non-null  float64\n",
      " 5   behavioral_antiviral_meds    26636 non-null  float64\n",
      " 6   behavioral_avoidance         26499 non-null  float64\n",
      " 7   behavioral_face_mask         26688 non-null  float64\n",
      " 8   behavioral_wash_hands        26665 non-null  float64\n",
      " 9   behavioral_large_gatherings  26620 non-null  float64\n",
      " 10  behavioral_outside_home      26625 non-null  float64\n",
      " 11  behavioral_touch_face        26579 non-null  float64\n",
      " 12  doctor_recc_h1n1             24547 non-null  float64\n",
      " 13  chronic_med_condition        25736 non-null  float64\n",
      " 14  child_under_6_months         25887 non-null  float64\n",
      " 15  health_worker                25903 non-null  float64\n",
      " 16  health_insurance             26707 non-null  float64\n",
      " 17  opinion_h1n1_vacc_effective  26316 non-null  float64\n",
      " 18  opinion_h1n1_risk            26319 non-null  float64\n",
      " 19  opinion_h1n1_sick_from_vacc  26312 non-null  float64\n",
      " 20  age_group                    26707 non-null  object \n",
      " 21  education                    25300 non-null  object \n",
      " 22  race                         26707 non-null  object \n",
      " 23  sex                          26707 non-null  object \n",
      " 24  income_poverty               22284 non-null  object \n",
      " 25  marital_status               25299 non-null  object \n",
      " 26  rent_or_own                  24665 non-null  object \n",
      " 27  employment_status            25244 non-null  object \n",
      " 28  hhs_geo_region               26707 non-null  object \n",
      " 29  census_msa                   26707 non-null  object \n",
      " 30  household_adults             26458 non-null  float64\n",
      " 31  household_children           26458 non-null  float64\n",
      " 32  employment_industry          13377 non-null  object \n",
      " 33  employment_occupation        13237 non-null  object \n",
      "dtypes: float64(19), int64(3), object(12)\n",
      "memory usage: 8.4+ MB\n"
     ]
    }
   ],
   "source": [
    "vaccine_data.info()"
   ]
  },
  {
   "cell_type": "code",
   "execution_count": 133,
   "metadata": {
    "scrolled": true
   },
   "outputs": [
    {
     "name": "stdout",
     "output_type": "stream",
     "text": [
      "<class 'pandas.core.frame.DataFrame'>\n",
      "Int64Index: 26707 entries, 0 to 26706\n",
      "Data columns (total 63 columns):\n",
      " #   Column                       Non-Null Count  Dtype  \n",
      "---  ------                       --------------  -----  \n",
      " 0   respondent_id                26707 non-null  object \n",
      " 1   h1n1_vaccine_x               26707 non-null  int64  \n",
      " 2   seasonal_vaccine             26707 non-null  int64  \n",
      " 3   h1n1_concern                 26615 non-null  float64\n",
      " 4   h1n1_knowledge               26591 non-null  float64\n",
      " 5   behavioral_antiviral_meds    26636 non-null  float64\n",
      " 6   behavioral_avoidance         26499 non-null  float64\n",
      " 7   behavioral_face_mask         26688 non-null  float64\n",
      " 8   behavioral_wash_hands        26665 non-null  float64\n",
      " 9   behavioral_large_gatherings  26620 non-null  float64\n",
      " 10  behavioral_outside_home      26625 non-null  float64\n",
      " 11  behavioral_touch_face        26579 non-null  float64\n",
      " 12  doctor_recc_h1n1             24547 non-null  float64\n",
      " 13  chronic_med_condition        25736 non-null  float64\n",
      " 14  child_under_6_months         25887 non-null  float64\n",
      " 15  health_worker                25903 non-null  float64\n",
      " 16  health_insurance             26707 non-null  float64\n",
      " 17  opinion_h1n1_vacc_effective  26316 non-null  float64\n",
      " 18  opinion_h1n1_risk            26319 non-null  float64\n",
      " 19  opinion_h1n1_sick_from_vacc  26312 non-null  float64\n",
      " 20  age_group                    26707 non-null  object \n",
      " 21  education                    25300 non-null  object \n",
      " 22  race                         26707 non-null  object \n",
      " 23  sex                          26707 non-null  object \n",
      " 24  income_poverty               22284 non-null  object \n",
      " 25  marital_status               25299 non-null  object \n",
      " 26  rent_or_own                  24665 non-null  object \n",
      " 27  employment_status            25244 non-null  object \n",
      " 28  hhs_geo_region               26707 non-null  object \n",
      " 29  census_msa                   26707 non-null  object \n",
      " 30  household_adults             26458 non-null  float64\n",
      " 31  household_children           26458 non-null  float64\n",
      " 32  employment_industry          13377 non-null  object \n",
      " 33  employment_occupation        13237 non-null  object \n",
      " 34  h1n1_vaccine_y               26707 non-null  object \n",
      " 35  18 - 34 Years                26707 non-null  float64\n",
      " 36  35 - 44 Years                26707 non-null  float64\n",
      " 37  45 - 54 Years                26707 non-null  float64\n",
      " 38  55 - 64 Years                26707 non-null  float64\n",
      " 39  65+ Years                    26707 non-null  float64\n",
      " 40  12 Years                     26707 non-null  float64\n",
      " 41  < 12 Years                   26707 non-null  float64\n",
      " 42  College Graduate             26707 non-null  float64\n",
      " 43  Some College                 26707 non-null  float64\n",
      " 44  Black                        26707 non-null  float64\n",
      " 45  Hispanic                     26707 non-null  float64\n",
      " 46  Other or Multiple            26707 non-null  float64\n",
      " 47  White                        26707 non-null  float64\n",
      " 48  Female                       26707 non-null  float64\n",
      " 49  Male                         26707 non-null  float64\n",
      " 50  <= $75,000, Above Poverty    26707 non-null  float64\n",
      " 51  > $75,000                    26707 non-null  float64\n",
      " 52  Below Poverty                26707 non-null  float64\n",
      " 53  Married                      26707 non-null  float64\n",
      " 54  Not Married                  26707 non-null  float64\n",
      " 55  Own                          26707 non-null  float64\n",
      " 56  Rent                         26707 non-null  float64\n",
      " 57  Employed                     26707 non-null  float64\n",
      " 58  Not in Labor Force           26707 non-null  float64\n",
      " 59  Unemployed                   26707 non-null  float64\n",
      " 60  MSA, Not Principle  City     26707 non-null  float64\n",
      " 61  MSA, Principle City          26707 non-null  float64\n",
      " 62  Non-MSA                      26707 non-null  float64\n",
      "dtypes: float64(47), int64(2), object(14)\n",
      "memory usage: 13.0+ MB\n"
     ]
    }
   ],
   "source": [
    "vaccine_df = vaccine_data.merge(df_full_categorical,how='left',left_on = 'respondent_id',\\\n",
    "                                right_on = 'respondent_id')\n",
    "\n",
    "vaccine_df.info()"
   ]
  },
  {
   "cell_type": "code",
   "execution_count": 134,
   "metadata": {},
   "outputs": [],
   "source": [
    "vaccine_df.drop(columns=['employment_industry','employment_occupation'],inplace=True)"
   ]
  },
  {
   "cell_type": "code",
   "execution_count": 138,
   "metadata": {},
   "outputs": [
    {
     "name": "stdout",
     "output_type": "stream",
     "text": [
      "<class 'pandas.core.frame.DataFrame'>\n",
      "Int64Index: 26707 entries, 0 to 26706\n",
      "Data columns (total 49 columns):\n",
      " #   Column                       Non-Null Count  Dtype  \n",
      "---  ------                       --------------  -----  \n",
      " 0   seasonal_vaccine             26707 non-null  int64  \n",
      " 1   h1n1_concern                 26615 non-null  float64\n",
      " 2   h1n1_knowledge               26591 non-null  float64\n",
      " 3   behavioral_antiviral_meds    26636 non-null  float64\n",
      " 4   behavioral_avoidance         26499 non-null  float64\n",
      " 5   behavioral_face_mask         26688 non-null  float64\n",
      " 6   behavioral_wash_hands        26665 non-null  float64\n",
      " 7   behavioral_large_gatherings  26620 non-null  float64\n",
      " 8   behavioral_outside_home      26625 non-null  float64\n",
      " 9   behavioral_touch_face        26579 non-null  float64\n",
      " 10  doctor_recc_h1n1             24547 non-null  float64\n",
      " 11  chronic_med_condition        25736 non-null  float64\n",
      " 12  child_under_6_months         25887 non-null  float64\n",
      " 13  health_worker                25903 non-null  float64\n",
      " 14  health_insurance             26707 non-null  float64\n",
      " 15  opinion_h1n1_vacc_effective  26316 non-null  float64\n",
      " 16  opinion_h1n1_risk            26319 non-null  float64\n",
      " 17  opinion_h1n1_sick_from_vacc  26312 non-null  float64\n",
      " 18  household_adults             26458 non-null  float64\n",
      " 19  household_children           26458 non-null  float64\n",
      " 20  18 - 34 Years                26707 non-null  float64\n",
      " 21  35 - 44 Years                26707 non-null  float64\n",
      " 22  45 - 54 Years                26707 non-null  float64\n",
      " 23  55 - 64 Years                26707 non-null  float64\n",
      " 24  65+ Years                    26707 non-null  float64\n",
      " 25  12 Years                     26707 non-null  float64\n",
      " 26  < 12 Years                   26707 non-null  float64\n",
      " 27  College Graduate             26707 non-null  float64\n",
      " 28  Some College                 26707 non-null  float64\n",
      " 29  Black                        26707 non-null  float64\n",
      " 30  Hispanic                     26707 non-null  float64\n",
      " 31  Other or Multiple            26707 non-null  float64\n",
      " 32  White                        26707 non-null  float64\n",
      " 33  Female                       26707 non-null  float64\n",
      " 34  Male                         26707 non-null  float64\n",
      " 35  <= $75,000, Above Poverty    26707 non-null  float64\n",
      " 36  > $75,000                    26707 non-null  float64\n",
      " 37  Below Poverty                26707 non-null  float64\n",
      " 38  Married                      26707 non-null  float64\n",
      " 39  Not Married                  26707 non-null  float64\n",
      " 40  Own                          26707 non-null  float64\n",
      " 41  Rent                         26707 non-null  float64\n",
      " 42  Employed                     26707 non-null  float64\n",
      " 43  Not in Labor Force           26707 non-null  float64\n",
      " 44  Unemployed                   26707 non-null  float64\n",
      " 45  MSA, Not Principle  City     26707 non-null  float64\n",
      " 46  MSA, Principle City          26707 non-null  float64\n",
      " 47  Non-MSA                      26707 non-null  float64\n",
      " 48  h1n1_vaccine                 26707 non-null  int64  \n",
      "dtypes: float64(47), int64(2)\n",
      "memory usage: 10.2 MB\n"
     ]
    }
   ],
   "source": [
    "vaccine_df['h1n1_vaccine'] = vaccine_df['h1n1_vaccine_x']\n",
    "\n",
    "vaccine_df.drop(columns='h1n1_vaccine_x',inplace=True)\n",
    "\n",
    "vaccine_df.info()"
   ]
  },
  {
   "cell_type": "code",
   "execution_count": 139,
   "metadata": {},
   "outputs": [
    {
     "name": "stdout",
     "output_type": "stream",
     "text": [
      "<class 'pandas.core.frame.DataFrame'>\n",
      "Int64Index: 26707 entries, 0 to 26706\n",
      "Data columns (total 49 columns):\n",
      " #   Column                       Non-Null Count  Dtype  \n",
      "---  ------                       --------------  -----  \n",
      " 0   seasonal_vaccine             26707 non-null  int64  \n",
      " 1   h1n1_concern                 26615 non-null  float64\n",
      " 2   h1n1_knowledge               26591 non-null  float64\n",
      " 3   behavioral_antiviral_meds    26636 non-null  float64\n",
      " 4   behavioral_avoidance         26499 non-null  float64\n",
      " 5   behavioral_face_mask         26688 non-null  float64\n",
      " 6   behavioral_wash_hands        26665 non-null  float64\n",
      " 7   behavioral_large_gatherings  26620 non-null  float64\n",
      " 8   behavioral_outside_home      26625 non-null  float64\n",
      " 9   behavioral_touch_face        26579 non-null  float64\n",
      " 10  doctor_recc_h1n1             24547 non-null  float64\n",
      " 11  chronic_med_condition        25736 non-null  float64\n",
      " 12  child_under_6_months         25887 non-null  float64\n",
      " 13  health_worker                25903 non-null  float64\n",
      " 14  health_insurance             26707 non-null  float64\n",
      " 15  opinion_h1n1_vacc_effective  26316 non-null  float64\n",
      " 16  opinion_h1n1_risk            26319 non-null  float64\n",
      " 17  opinion_h1n1_sick_from_vacc  26312 non-null  float64\n",
      " 18  household_adults             26458 non-null  float64\n",
      " 19  household_children           26458 non-null  float64\n",
      " 20  18 - 34 Years                26707 non-null  float64\n",
      " 21  35 - 44 Years                26707 non-null  float64\n",
      " 22  45 - 54 Years                26707 non-null  float64\n",
      " 23  55 - 64 Years                26707 non-null  float64\n",
      " 24  65+ Years                    26707 non-null  float64\n",
      " 25  12 Years                     26707 non-null  float64\n",
      " 26  < 12 Years                   26707 non-null  float64\n",
      " 27  College Graduate             26707 non-null  float64\n",
      " 28  Some College                 26707 non-null  float64\n",
      " 29  Black                        26707 non-null  float64\n",
      " 30  Hispanic                     26707 non-null  float64\n",
      " 31  Other or Multiple            26707 non-null  float64\n",
      " 32  White                        26707 non-null  float64\n",
      " 33  Female                       26707 non-null  float64\n",
      " 34  Male                         26707 non-null  float64\n",
      " 35  <= $75,000, Above Poverty    26707 non-null  float64\n",
      " 36  > $75,000                    26707 non-null  float64\n",
      " 37  Below Poverty                26707 non-null  float64\n",
      " 38  Married                      26707 non-null  float64\n",
      " 39  Not Married                  26707 non-null  float64\n",
      " 40  Own                          26707 non-null  float64\n",
      " 41  Rent                         26707 non-null  float64\n",
      " 42  Employed                     26707 non-null  float64\n",
      " 43  Not in Labor Force           26707 non-null  float64\n",
      " 44  Unemployed                   26707 non-null  float64\n",
      " 45  MSA, Not Principle  City     26707 non-null  float64\n",
      " 46  MSA, Principle City          26707 non-null  float64\n",
      " 47  Non-MSA                      26707 non-null  float64\n",
      " 48  h1n1_vaccine                 26707 non-null  int64  \n",
      "dtypes: float64(47), int64(2)\n",
      "memory usage: 10.2 MB\n"
     ]
    }
   ],
   "source": [
    "# combine with above in final notebook - Brandon\n",
    "\n",
    "vaccine_df = vaccine_df.select_dtypes(exclude=['object'])\n",
    "vaccine_df.info()\n",
    "\n"
   ]
  },
  {
   "cell_type": "code",
   "execution_count": 140,
   "metadata": {},
   "outputs": [
    {
     "data": {
      "text/html": [
       "<div>\n",
       "<style scoped>\n",
       "    .dataframe tbody tr th:only-of-type {\n",
       "        vertical-align: middle;\n",
       "    }\n",
       "\n",
       "    .dataframe tbody tr th {\n",
       "        vertical-align: top;\n",
       "    }\n",
       "\n",
       "    .dataframe thead th {\n",
       "        text-align: right;\n",
       "    }\n",
       "</style>\n",
       "<table border=\"1\" class=\"dataframe\">\n",
       "  <thead>\n",
       "    <tr style=\"text-align: right;\">\n",
       "      <th></th>\n",
       "      <th>seasonal_vaccine</th>\n",
       "      <th>h1n1_concern</th>\n",
       "      <th>h1n1_knowledge</th>\n",
       "      <th>behavioral_antiviral_meds</th>\n",
       "      <th>behavioral_avoidance</th>\n",
       "      <th>behavioral_face_mask</th>\n",
       "      <th>behavioral_wash_hands</th>\n",
       "      <th>behavioral_large_gatherings</th>\n",
       "      <th>behavioral_outside_home</th>\n",
       "      <th>behavioral_touch_face</th>\n",
       "      <th>doctor_recc_h1n1</th>\n",
       "      <th>chronic_med_condition</th>\n",
       "      <th>child_under_6_months</th>\n",
       "      <th>health_worker</th>\n",
       "      <th>health_insurance</th>\n",
       "      <th>opinion_h1n1_vacc_effective</th>\n",
       "      <th>opinion_h1n1_risk</th>\n",
       "      <th>opinion_h1n1_sick_from_vacc</th>\n",
       "      <th>household_adults</th>\n",
       "      <th>household_children</th>\n",
       "      <th>18 - 34 Years</th>\n",
       "      <th>35 - 44 Years</th>\n",
       "      <th>45 - 54 Years</th>\n",
       "      <th>55 - 64 Years</th>\n",
       "      <th>65+ Years</th>\n",
       "      <th>12 Years</th>\n",
       "      <th>&lt; 12 Years</th>\n",
       "      <th>College Graduate</th>\n",
       "      <th>Some College</th>\n",
       "      <th>Black</th>\n",
       "      <th>Hispanic</th>\n",
       "      <th>Other or Multiple</th>\n",
       "      <th>White</th>\n",
       "      <th>Female</th>\n",
       "      <th>Male</th>\n",
       "      <th>&lt;= $75,000, Above Poverty</th>\n",
       "      <th>&gt; $75,000</th>\n",
       "      <th>Below Poverty</th>\n",
       "      <th>Married</th>\n",
       "      <th>Not Married</th>\n",
       "      <th>Own</th>\n",
       "      <th>Rent</th>\n",
       "      <th>Employed</th>\n",
       "      <th>Not in Labor Force</th>\n",
       "      <th>Unemployed</th>\n",
       "      <th>MSA, Not Principle  City</th>\n",
       "      <th>MSA, Principle City</th>\n",
       "      <th>Non-MSA</th>\n",
       "      <th>h1n1_vaccine</th>\n",
       "    </tr>\n",
       "  </thead>\n",
       "  <tbody>\n",
       "    <tr>\n",
       "      <th>0</th>\n",
       "      <td>0</td>\n",
       "      <td>1.0</td>\n",
       "      <td>0.0</td>\n",
       "      <td>0.0</td>\n",
       "      <td>0.0</td>\n",
       "      <td>0.0</td>\n",
       "      <td>0.0</td>\n",
       "      <td>0.0</td>\n",
       "      <td>1.0</td>\n",
       "      <td>1.0</td>\n",
       "      <td>0.0</td>\n",
       "      <td>0.0</td>\n",
       "      <td>0.0</td>\n",
       "      <td>0.0</td>\n",
       "      <td>1.0</td>\n",
       "      <td>3.0</td>\n",
       "      <td>1.0</td>\n",
       "      <td>2.0</td>\n",
       "      <td>0.0</td>\n",
       "      <td>0.0</td>\n",
       "      <td>0.0</td>\n",
       "      <td>0.0</td>\n",
       "      <td>0.0</td>\n",
       "      <td>1.0</td>\n",
       "      <td>0.0</td>\n",
       "      <td>0.0</td>\n",
       "      <td>1.0</td>\n",
       "      <td>0.0</td>\n",
       "      <td>0.0</td>\n",
       "      <td>0.0</td>\n",
       "      <td>0.0</td>\n",
       "      <td>0.0</td>\n",
       "      <td>1.0</td>\n",
       "      <td>1.0</td>\n",
       "      <td>0.0</td>\n",
       "      <td>0.0</td>\n",
       "      <td>0.0</td>\n",
       "      <td>1.0</td>\n",
       "      <td>0.0</td>\n",
       "      <td>1.0</td>\n",
       "      <td>1.0</td>\n",
       "      <td>0.0</td>\n",
       "      <td>0.0</td>\n",
       "      <td>1.0</td>\n",
       "      <td>0.0</td>\n",
       "      <td>0.0</td>\n",
       "      <td>0.0</td>\n",
       "      <td>1.0</td>\n",
       "      <td>0</td>\n",
       "    </tr>\n",
       "    <tr>\n",
       "      <th>1</th>\n",
       "      <td>1</td>\n",
       "      <td>3.0</td>\n",
       "      <td>2.0</td>\n",
       "      <td>0.0</td>\n",
       "      <td>1.0</td>\n",
       "      <td>0.0</td>\n",
       "      <td>1.0</td>\n",
       "      <td>0.0</td>\n",
       "      <td>1.0</td>\n",
       "      <td>1.0</td>\n",
       "      <td>0.0</td>\n",
       "      <td>0.0</td>\n",
       "      <td>0.0</td>\n",
       "      <td>0.0</td>\n",
       "      <td>1.0</td>\n",
       "      <td>5.0</td>\n",
       "      <td>4.0</td>\n",
       "      <td>4.0</td>\n",
       "      <td>0.0</td>\n",
       "      <td>0.0</td>\n",
       "      <td>0.0</td>\n",
       "      <td>1.0</td>\n",
       "      <td>0.0</td>\n",
       "      <td>0.0</td>\n",
       "      <td>0.0</td>\n",
       "      <td>1.0</td>\n",
       "      <td>0.0</td>\n",
       "      <td>0.0</td>\n",
       "      <td>0.0</td>\n",
       "      <td>0.0</td>\n",
       "      <td>0.0</td>\n",
       "      <td>0.0</td>\n",
       "      <td>1.0</td>\n",
       "      <td>0.0</td>\n",
       "      <td>1.0</td>\n",
       "      <td>0.0</td>\n",
       "      <td>0.0</td>\n",
       "      <td>1.0</td>\n",
       "      <td>0.0</td>\n",
       "      <td>1.0</td>\n",
       "      <td>0.0</td>\n",
       "      <td>1.0</td>\n",
       "      <td>1.0</td>\n",
       "      <td>0.0</td>\n",
       "      <td>0.0</td>\n",
       "      <td>1.0</td>\n",
       "      <td>0.0</td>\n",
       "      <td>0.0</td>\n",
       "      <td>0</td>\n",
       "    </tr>\n",
       "    <tr>\n",
       "      <th>2</th>\n",
       "      <td>0</td>\n",
       "      <td>1.0</td>\n",
       "      <td>1.0</td>\n",
       "      <td>0.0</td>\n",
       "      <td>1.0</td>\n",
       "      <td>0.0</td>\n",
       "      <td>0.0</td>\n",
       "      <td>0.0</td>\n",
       "      <td>0.0</td>\n",
       "      <td>0.0</td>\n",
       "      <td>NaN</td>\n",
       "      <td>1.0</td>\n",
       "      <td>0.0</td>\n",
       "      <td>0.0</td>\n",
       "      <td>2.0</td>\n",
       "      <td>3.0</td>\n",
       "      <td>1.0</td>\n",
       "      <td>1.0</td>\n",
       "      <td>2.0</td>\n",
       "      <td>0.0</td>\n",
       "      <td>1.0</td>\n",
       "      <td>0.0</td>\n",
       "      <td>0.0</td>\n",
       "      <td>0.0</td>\n",
       "      <td>0.0</td>\n",
       "      <td>0.0</td>\n",
       "      <td>0.0</td>\n",
       "      <td>1.0</td>\n",
       "      <td>0.0</td>\n",
       "      <td>0.0</td>\n",
       "      <td>0.0</td>\n",
       "      <td>0.0</td>\n",
       "      <td>1.0</td>\n",
       "      <td>0.0</td>\n",
       "      <td>1.0</td>\n",
       "      <td>1.0</td>\n",
       "      <td>0.0</td>\n",
       "      <td>0.0</td>\n",
       "      <td>0.0</td>\n",
       "      <td>1.0</td>\n",
       "      <td>1.0</td>\n",
       "      <td>0.0</td>\n",
       "      <td>1.0</td>\n",
       "      <td>0.0</td>\n",
       "      <td>0.0</td>\n",
       "      <td>1.0</td>\n",
       "      <td>0.0</td>\n",
       "      <td>0.0</td>\n",
       "      <td>0</td>\n",
       "    </tr>\n",
       "    <tr>\n",
       "      <th>3</th>\n",
       "      <td>1</td>\n",
       "      <td>1.0</td>\n",
       "      <td>1.0</td>\n",
       "      <td>0.0</td>\n",
       "      <td>1.0</td>\n",
       "      <td>0.0</td>\n",
       "      <td>1.0</td>\n",
       "      <td>1.0</td>\n",
       "      <td>0.0</td>\n",
       "      <td>0.0</td>\n",
       "      <td>0.0</td>\n",
       "      <td>1.0</td>\n",
       "      <td>0.0</td>\n",
       "      <td>0.0</td>\n",
       "      <td>2.0</td>\n",
       "      <td>3.0</td>\n",
       "      <td>3.0</td>\n",
       "      <td>5.0</td>\n",
       "      <td>0.0</td>\n",
       "      <td>0.0</td>\n",
       "      <td>0.0</td>\n",
       "      <td>0.0</td>\n",
       "      <td>0.0</td>\n",
       "      <td>0.0</td>\n",
       "      <td>1.0</td>\n",
       "      <td>1.0</td>\n",
       "      <td>0.0</td>\n",
       "      <td>0.0</td>\n",
       "      <td>0.0</td>\n",
       "      <td>0.0</td>\n",
       "      <td>0.0</td>\n",
       "      <td>0.0</td>\n",
       "      <td>1.0</td>\n",
       "      <td>1.0</td>\n",
       "      <td>0.0</td>\n",
       "      <td>0.0</td>\n",
       "      <td>0.0</td>\n",
       "      <td>1.0</td>\n",
       "      <td>0.0</td>\n",
       "      <td>1.0</td>\n",
       "      <td>0.0</td>\n",
       "      <td>1.0</td>\n",
       "      <td>0.0</td>\n",
       "      <td>1.0</td>\n",
       "      <td>0.0</td>\n",
       "      <td>0.0</td>\n",
       "      <td>1.0</td>\n",
       "      <td>0.0</td>\n",
       "      <td>0</td>\n",
       "    </tr>\n",
       "    <tr>\n",
       "      <th>4</th>\n",
       "      <td>0</td>\n",
       "      <td>2.0</td>\n",
       "      <td>1.0</td>\n",
       "      <td>0.0</td>\n",
       "      <td>1.0</td>\n",
       "      <td>0.0</td>\n",
       "      <td>1.0</td>\n",
       "      <td>1.0</td>\n",
       "      <td>0.0</td>\n",
       "      <td>1.0</td>\n",
       "      <td>0.0</td>\n",
       "      <td>0.0</td>\n",
       "      <td>0.0</td>\n",
       "      <td>0.0</td>\n",
       "      <td>2.0</td>\n",
       "      <td>3.0</td>\n",
       "      <td>3.0</td>\n",
       "      <td>2.0</td>\n",
       "      <td>1.0</td>\n",
       "      <td>0.0</td>\n",
       "      <td>0.0</td>\n",
       "      <td>0.0</td>\n",
       "      <td>1.0</td>\n",
       "      <td>0.0</td>\n",
       "      <td>0.0</td>\n",
       "      <td>0.0</td>\n",
       "      <td>0.0</td>\n",
       "      <td>0.0</td>\n",
       "      <td>1.0</td>\n",
       "      <td>0.0</td>\n",
       "      <td>0.0</td>\n",
       "      <td>0.0</td>\n",
       "      <td>1.0</td>\n",
       "      <td>1.0</td>\n",
       "      <td>0.0</td>\n",
       "      <td>1.0</td>\n",
       "      <td>0.0</td>\n",
       "      <td>0.0</td>\n",
       "      <td>1.0</td>\n",
       "      <td>0.0</td>\n",
       "      <td>1.0</td>\n",
       "      <td>0.0</td>\n",
       "      <td>1.0</td>\n",
       "      <td>0.0</td>\n",
       "      <td>0.0</td>\n",
       "      <td>1.0</td>\n",
       "      <td>0.0</td>\n",
       "      <td>0.0</td>\n",
       "      <td>0</td>\n",
       "    </tr>\n",
       "  </tbody>\n",
       "</table>\n",
       "</div>"
      ],
      "text/plain": [
       "   seasonal_vaccine  h1n1_concern  h1n1_knowledge  behavioral_antiviral_meds  \\\n",
       "0                 0           1.0             0.0                        0.0   \n",
       "1                 1           3.0             2.0                        0.0   \n",
       "2                 0           1.0             1.0                        0.0   \n",
       "3                 1           1.0             1.0                        0.0   \n",
       "4                 0           2.0             1.0                        0.0   \n",
       "\n",
       "   behavioral_avoidance  behavioral_face_mask  behavioral_wash_hands  \\\n",
       "0                   0.0                   0.0                    0.0   \n",
       "1                   1.0                   0.0                    1.0   \n",
       "2                   1.0                   0.0                    0.0   \n",
       "3                   1.0                   0.0                    1.0   \n",
       "4                   1.0                   0.0                    1.0   \n",
       "\n",
       "   behavioral_large_gatherings  behavioral_outside_home  \\\n",
       "0                          0.0                      1.0   \n",
       "1                          0.0                      1.0   \n",
       "2                          0.0                      0.0   \n",
       "3                          1.0                      0.0   \n",
       "4                          1.0                      0.0   \n",
       "\n",
       "   behavioral_touch_face  doctor_recc_h1n1  chronic_med_condition  \\\n",
       "0                    1.0               0.0                    0.0   \n",
       "1                    1.0               0.0                    0.0   \n",
       "2                    0.0               NaN                    1.0   \n",
       "3                    0.0               0.0                    1.0   \n",
       "4                    1.0               0.0                    0.0   \n",
       "\n",
       "   child_under_6_months  health_worker  health_insurance  \\\n",
       "0                   0.0            0.0               1.0   \n",
       "1                   0.0            0.0               1.0   \n",
       "2                   0.0            0.0               2.0   \n",
       "3                   0.0            0.0               2.0   \n",
       "4                   0.0            0.0               2.0   \n",
       "\n",
       "   opinion_h1n1_vacc_effective  opinion_h1n1_risk  \\\n",
       "0                          3.0                1.0   \n",
       "1                          5.0                4.0   \n",
       "2                          3.0                1.0   \n",
       "3                          3.0                3.0   \n",
       "4                          3.0                3.0   \n",
       "\n",
       "   opinion_h1n1_sick_from_vacc  household_adults  household_children  \\\n",
       "0                          2.0               0.0                 0.0   \n",
       "1                          4.0               0.0                 0.0   \n",
       "2                          1.0               2.0                 0.0   \n",
       "3                          5.0               0.0                 0.0   \n",
       "4                          2.0               1.0                 0.0   \n",
       "\n",
       "   18 - 34 Years  35 - 44 Years  45 - 54 Years  55 - 64 Years  65+ Years  \\\n",
       "0            0.0            0.0            0.0            1.0        0.0   \n",
       "1            0.0            1.0            0.0            0.0        0.0   \n",
       "2            1.0            0.0            0.0            0.0        0.0   \n",
       "3            0.0            0.0            0.0            0.0        1.0   \n",
       "4            0.0            0.0            1.0            0.0        0.0   \n",
       "\n",
       "   12 Years  < 12 Years  College Graduate  Some College  Black  Hispanic  \\\n",
       "0       0.0         1.0               0.0           0.0    0.0       0.0   \n",
       "1       1.0         0.0               0.0           0.0    0.0       0.0   \n",
       "2       0.0         0.0               1.0           0.0    0.0       0.0   \n",
       "3       1.0         0.0               0.0           0.0    0.0       0.0   \n",
       "4       0.0         0.0               0.0           1.0    0.0       0.0   \n",
       "\n",
       "   Other or Multiple  White  Female  Male  <= $75,000, Above Poverty  \\\n",
       "0                0.0    1.0     1.0   0.0                        0.0   \n",
       "1                0.0    1.0     0.0   1.0                        0.0   \n",
       "2                0.0    1.0     0.0   1.0                        1.0   \n",
       "3                0.0    1.0     1.0   0.0                        0.0   \n",
       "4                0.0    1.0     1.0   0.0                        1.0   \n",
       "\n",
       "   > $75,000  Below Poverty  Married  Not Married  Own  Rent  Employed  \\\n",
       "0        0.0            1.0      0.0          1.0  1.0   0.0       0.0   \n",
       "1        0.0            1.0      0.0          1.0  0.0   1.0       1.0   \n",
       "2        0.0            0.0      0.0          1.0  1.0   0.0       1.0   \n",
       "3        0.0            1.0      0.0          1.0  0.0   1.0       0.0   \n",
       "4        0.0            0.0      1.0          0.0  1.0   0.0       1.0   \n",
       "\n",
       "   Not in Labor Force  Unemployed  MSA, Not Principle  City  \\\n",
       "0                 1.0         0.0                       0.0   \n",
       "1                 0.0         0.0                       1.0   \n",
       "2                 0.0         0.0                       1.0   \n",
       "3                 1.0         0.0                       0.0   \n",
       "4                 0.0         0.0                       1.0   \n",
       "\n",
       "   MSA, Principle City  Non-MSA  h1n1_vaccine  \n",
       "0                  0.0      1.0             0  \n",
       "1                  0.0      0.0             0  \n",
       "2                  0.0      0.0             0  \n",
       "3                  1.0      0.0             0  \n",
       "4                  0.0      0.0             0  "
      ]
     },
     "execution_count": 140,
     "metadata": {},
     "output_type": "execute_result"
    }
   ],
   "source": [
    "vaccine_df.head()"
   ]
  },
  {
   "cell_type": "code",
   "execution_count": 141,
   "metadata": {},
   "outputs": [],
   "source": [
    "# Identifying Predictors and Targets from numeric columns\n",
    "\n",
    "X = vaccine_df.drop(columns=['h1n1_vaccine'])\n",
    "y = vaccine_df['h1n1_vaccine']"
   ]
  },
  {
   "cell_type": "markdown",
   "metadata": {},
   "source": [
    "## Setting up train-test split"
   ]
  },
  {
   "cell_type": "code",
   "execution_count": 142,
   "metadata": {},
   "outputs": [],
   "source": [
    "X_train, X_test, y_train, y_test = train_test_split(X, y, test_size=.25,random_state=42)"
   ]
  },
  {
   "cell_type": "markdown",
   "metadata": {},
   "source": [
    "## Prepare Cross Validation Function for Model Testing"
   ]
  },
  {
   "cell_type": "code",
   "execution_count": 143,
   "metadata": {},
   "outputs": [],
   "source": [
    "class ModelWithCV():\n",
    "    '''Structure to save the model and more easily see its crossvalidation'''\n",
    "    \n",
    "    def __init__(self, model, model_name, X, y, cv_now=True):\n",
    "        self.model = model\n",
    "        self.name = model_name\n",
    "        self.X = X\n",
    "        self.y = y\n",
    "        # For CV results\n",
    "        self.cv_results = None\n",
    "        self.cv_mean = None\n",
    "        self.cv_median = None\n",
    "        self.cv_std = None\n",
    "        #\n",
    "        if cv_now:\n",
    "            self.cross_validate()\n",
    "        \n",
    "    def cross_validate(self, X=None, y=None, kfolds=10):\n",
    "        '''\n",
    "        Perform cross-validation and return results.\n",
    "        \n",
    "        Args: \n",
    "          X:\n",
    "            Optional; Training data to perform CV on. Otherwise use X from object\n",
    "          y:\n",
    "            Optional; Training data to perform CV on. Otherwise use y from object\n",
    "          kfolds:\n",
    "            Optional; Number of folds for CV (default is 10)  \n",
    "        '''\n",
    "        \n",
    "        cv_X = X if X else self.X\n",
    "        cv_y = y if y else self.y\n",
    "\n",
    "        self.cv_results = cross_val_score(self.model, cv_X, cv_y, cv=kfolds)\n",
    "        self.cv_mean = np.mean(self.cv_results)\n",
    "        self.cv_median = np.median(self.cv_results)\n",
    "        self.cv_std = np.std(self.cv_results)\n",
    "\n",
    "        \n",
    "    def print_cv_summary(self):\n",
    "        cv_summary = (\n",
    "        f'''CV Results for `{self.name}` model:\n",
    "            {self.cv_mean:.5f} ± {self.cv_std:.5f} accuracy\n",
    "        ''')\n",
    "        print(cv_summary)\n",
    "\n",
    "        \n",
    "    def plot_cv(self, ax):\n",
    "        '''\n",
    "        Plot the cross-validation values using the array of results and given \n",
    "        Axis for plotting.\n",
    "        '''\n",
    "        ax.set_title(f'CV Results for `{self.name}` Model')\n",
    "        # Thinner violinplot with higher bw\n",
    "        sns.violinplot(y=self.cv_results, ax=ax, bw=.4)\n",
    "        sns.swarmplot(\n",
    "                y=self.cv_results,\n",
    "                color='orange',\n",
    "                size=10,\n",
    "                alpha= 0.8,\n",
    "                ax=ax\n",
    "        )\n",
    "\n",
    "        return ax"
   ]
  },
  {
   "cell_type": "markdown",
   "metadata": {},
   "source": [
    "## Model 1 - Dummy Model"
   ]
  },
  {
   "cell_type": "markdown",
   "metadata": {},
   "source": [
    "Using a dummy model to figure out baseline model performance for comparison later "
   ]
  },
  {
   "cell_type": "code",
   "execution_count": 144,
   "metadata": {},
   "outputs": [],
   "source": [
    "from sklearn.dummy import DummyClassifier\n",
    "\n",
    "dummy_model = DummyClassifier(strategy = 'most_frequent')"
   ]
  },
  {
   "cell_type": "code",
   "execution_count": 145,
   "metadata": {},
   "outputs": [
    {
     "data": {
      "text/plain": [
       "DummyClassifier(strategy='most_frequent')"
      ]
     },
     "execution_count": 145,
     "metadata": {},
     "output_type": "execute_result"
    }
   ],
   "source": [
    "dummy_model.fit(X_train,y_train)"
   ]
  },
  {
   "cell_type": "code",
   "execution_count": 146,
   "metadata": {},
   "outputs": [],
   "source": [
    "from sklearn.model_selection import cross_val_score\n",
    "\n",
    "\n",
    "\n",
    "dummy_cv = ModelWithCV(dummy_model, model_name='dummy_model', X=X_train, y=y_train)"
   ]
  },
  {
   "cell_type": "code",
   "execution_count": 147,
   "metadata": {},
   "outputs": [
    {
     "name": "stdout",
     "output_type": "stream",
     "text": [
      "CV Results for `dummy_model` model:\n",
      "            0.78747 ± 0.00023 accuracy\n",
      "        \n"
     ]
    },
    {
     "data": {
      "image/png": "[encoded data removed]",
      "text/plain": [
       "<Figure size 432x288 with 1 Axes>"
      ]
     },
     "metadata": {
      "needs_background": "light"
     },
     "output_type": "display_data"
    }
   ],
   "source": [
    "import seaborn as sns \n",
    "\n",
    "dummy_cv.print_cv_summary()\n",
    "fig, ax = plt.subplots()\n",
    "\n",
    "dummy_cv.plot_cv(ax=ax);"
   ]
  },
  {
   "cell_type": "markdown",
   "metadata": {},
   "source": [
    "## Model 2 - Logistic Regression"
   ]
  },
  {
   "cell_type": "code",
   "execution_count": 148,
   "metadata": {},
   "outputs": [],
   "source": [
    "log_scaler = StandardScaler()\n",
    "\n",
    "# Fit and transform train, transform test\n",
    "\n",
    "X_train_scaled = log_scaler.fit_transform(X_train)\n",
    "X_test_scaled = log_scaler.transform(X_test)"
   ]
  },
  {
   "cell_type": "code",
   "execution_count": 149,
   "metadata": {},
   "outputs": [],
   "source": [
    "# Using SimpleImputer to deal with null values not addressed yet\n",
    "\n",
    "from sklearn.impute import SimpleImputer\n",
    "\n",
    "numeric_imputer = SimpleImputer(strategy='median')\n",
    "\n",
    "numeric_imputer = numeric_imputer.fit(X_train_scaled)\n",
    "\n",
    "X_train_scaled = numeric_imputer.transform(X_train_scaled)\n"
   ]
  },
  {
   "cell_type": "code",
   "execution_count": 150,
   "metadata": {},
   "outputs": [],
   "source": [
    "# Using SMOTE to deal with imbalanced target \n",
    "\n",
    "from imblearn.over_sampling import SMOTE\n",
    "\n",
    "# Create the oversampler object\n",
    "\n",
    "sm = SMOTE(random_state = 42)\n",
    "\n",
    "X_train_scaled, y_train = sm.fit_resample(X_train_scaled,y_train)"
   ]
  },
  {
   "cell_type": "code",
   "execution_count": 151,
   "metadata": {},
   "outputs": [],
   "source": [
    "log_model = LogisticRegression(\n",
    "            C=1e3,            \n",
    "            max_iter=1e3,      # Ensure we eventually reach a solution\n",
    "            solver='lbfgs',   \n",
    "            multi_class='ovr' \n",
    ")"
   ]
  },
  {
   "cell_type": "code",
   "execution_count": 152,
   "metadata": {},
   "outputs": [
    {
     "data": {
      "text/plain": [
       "LogisticRegression(C=1000.0, max_iter=1000.0, multi_class='ovr')"
      ]
     },
     "execution_count": 152,
     "metadata": {},
     "output_type": "execute_result"
    }
   ],
   "source": [
    "log_model.fit(X_train_scaled,y_train)"
   ]
  },
  {
   "cell_type": "code",
   "execution_count": 153,
   "metadata": {},
   "outputs": [
    {
     "data": {
      "image/png": "[encoded data removed]",
      "text/plain": [
       "<Figure size 432x288 with 2 Axes>"
      ]
     },
     "metadata": {
      "needs_background": "light"
     },
     "output_type": "display_data"
    }
   ],
   "source": [
    "plot_confusion_matrix(log_model,X_train_scaled,y_train);"
   ]
  },
  {
   "cell_type": "code",
   "execution_count": 154,
   "metadata": {},
   "outputs": [
    {
     "data": {
      "text/plain": [
       "array([0.79849753, 0.81540656, 0.81835473])"
      ]
     },
     "execution_count": 154,
     "metadata": {},
     "output_type": "execute_result"
    }
   ],
   "source": [
    "\n",
    "cv_scores = cross_val_score(log_model,X_train_scaled,y_train,cv=3)\n",
    "\n",
    "cv_scores"
   ]
  },
  {
   "cell_type": "code",
   "execution_count": 155,
   "metadata": {},
   "outputs": [],
   "source": [
    "# Preprocessing for test\n",
    "\n",
    "X_test_scaled = numeric_imputer.transform(X_test_scaled)"
   ]
  },
  {
   "cell_type": "code",
   "execution_count": 156,
   "metadata": {},
   "outputs": [
    {
     "name": "stdout",
     "output_type": "stream",
     "text": [
      "Accuracy:0.80 ,Recall:0.78, Precision:0.52, F1:0.63\n"
     ]
    }
   ],
   "source": [
    "from sklearn.metrics import accuracy_score, recall_score, precision_score, f1_score\n",
    "\n",
    "\n",
    "y_pred_test = log_model.predict(X_test_scaled)\n",
    "\n",
    "model_accuracy = accuracy_score(y_test,y_pred_test)\n",
    "model_recall = recall_score(y_test,y_pred_test)\n",
    "model_precision = precision_score(y_test,y_pred_test)\n",
    "model_f1 = f1_score(y_test,y_pred_test)\n",
    "\n",
    "\n",
    "print(f\"\"\"\\\n",
    "Accuracy:{model_accuracy:1.2f} ,Recall:{model_recall:1.2f}, Precision:{model_precision:1.2f}, F1:{model_f1:1.2f}\\\n",
    "\"\"\") "
   ]
  },
  {
   "cell_type": "code",
   "execution_count": 157,
   "metadata": {
    "scrolled": false
   },
   "outputs": [
    {
     "data": {
      "text/plain": [
       "<sklearn.metrics._plot.roc_curve.RocCurveDisplay at 0x7fb21a341ee0>"
      ]
     },
     "execution_count": 157,
     "metadata": {},
     "output_type": "execute_result"
    },
    {
     "data": {
      "image/png": "[encoded data removed]",
      "text/plain": [
       "<Figure size 432x288 with 1 Axes>"
      ]
     },
     "metadata": {
      "needs_background": "light"
     },
     "output_type": "display_data"
    }
   ],
   "source": [
    "from sklearn.metrics import plot_roc_curve\n",
    "\n",
    "plot_roc_curve(log_model, X_train_scaled, y_train)"
   ]
  },
  {
   "cell_type": "code",
   "execution_count": 158,
   "metadata": {},
   "outputs": [],
   "source": [
    "baseline_logreg_results = ModelWithCV(\n",
    "                        model=log_model,\n",
    "                        model_name='log_model',\n",
    "                        X=X_train_scaled, \n",
    "                        y=y_train\n",
    ")"
   ]
  },
  {
   "cell_type": "code",
   "execution_count": 159,
   "metadata": {
    "scrolled": true
   },
   "outputs": [
    {
     "name": "stdout",
     "output_type": "stream",
     "text": [
      "CV Results for `log_model` model:\n",
      "            0.81075 ± 0.01096 accuracy\n",
      "        \n"
     ]
    },
    {
     "data": {
      "image/png": "[encoded data removed]",
      "text/plain": [
       "<Figure size 432x288 with 1 Axes>"
      ]
     },
     "metadata": {
      "needs_background": "light"
     },
     "output_type": "display_data"
    }
   ],
   "source": [
    "import seaborn as sns\n",
    "\n",
    "# Saving variable for convenience\n",
    "model_results = baseline_logreg_results\n",
    "\n",
    "# Plot CV results\n",
    "fig, ax = plt.subplots()\n",
    "ax = model_results.plot_cv(ax)\n",
    "plt.tight_layout();\n",
    "# Print CV results\n",
    "model_results.print_cv_summary()"
   ]
  },
  {
   "cell_type": "markdown",
   "metadata": {},
   "source": [
    "## Trying Different Models "
   ]
  },
  {
   "cell_type": "code",
   "execution_count": 160,
   "metadata": {},
   "outputs": [],
   "source": [
    "from sklearn.neighbors import KNeighborsClassifier\n",
    "from sklearn.tree import DecisionTreeClassifier"
   ]
  },
  {
   "cell_type": "markdown",
   "metadata": {},
   "source": [
    "### KNN "
   ]
  },
  {
   "cell_type": "code",
   "execution_count": 161,
   "metadata": {},
   "outputs": [
    {
     "data": {
      "text/plain": [
       "KNeighborsClassifier()"
      ]
     },
     "execution_count": 161,
     "metadata": {},
     "output_type": "execute_result"
    }
   ],
   "source": [
    "knn_model = KNeighborsClassifier()\n",
    "\n",
    "knn_model.fit(X_train_scaled,y_train)"
   ]
  },
  {
   "cell_type": "code",
   "execution_count": 162,
   "metadata": {
    "scrolled": true
   },
   "outputs": [
    {
     "data": {
      "text/plain": [
       "0.88429594877322"
      ]
     },
     "execution_count": 162,
     "metadata": {},
     "output_type": "execute_result"
    }
   ],
   "source": [
    "knn_model.score(X_train_scaled,y_train)"
   ]
  },
  {
   "cell_type": "code",
   "execution_count": 163,
   "metadata": {},
   "outputs": [],
   "source": [
    "knn_results = ModelWithCV(\n",
    "                        model=knn_model,\n",
    "                        model_name='knn_model',\n",
    "                        X=X_train_scaled, \n",
    "                        y=y_train\n",
    ")"
   ]
  },
  {
   "cell_type": "code",
   "execution_count": 164,
   "metadata": {},
   "outputs": [
    {
     "name": "stdout",
     "output_type": "stream",
     "text": [
      "CV Results for `knn_model` model:\n",
      "            0.82847 ± 0.01434 accuracy\n",
      "        \n"
     ]
    },
    {
     "data": {
      "image/png": "[encoded data removed]",
      "text/plain": [
       "<Figure size 432x288 with 1 Axes>"
      ]
     },
     "metadata": {
      "needs_background": "light"
     },
     "output_type": "display_data"
    }
   ],
   "source": [
    "# Saving variable for convenience\n",
    "model_results = knn_results\n",
    "\n",
    "# Plot CV results\n",
    "fig, ax = plt.subplots()\n",
    "ax = model_results.plot_cv(ax)\n",
    "plt.tight_layout();\n",
    "# Print CV results\n",
    "model_results.print_cv_summary()"
   ]
  },
  {
   "cell_type": "code",
   "execution_count": 165,
   "metadata": {},
   "outputs": [
    {
     "data": {
      "text/plain": [
       "0.9222088378875293"
      ]
     },
     "execution_count": 165,
     "metadata": {},
     "output_type": "execute_result"
    }
   ],
   "source": [
    "# Decreasing k \n",
    "\n",
    "knn3 = KNeighborsClassifier(n_neighbors=3)\n",
    "\n",
    "knn3.fit(X_train_scaled,y_train)\n",
    "\n",
    "knn3.score(X_train_scaled,y_train)"
   ]
  },
  {
   "cell_type": "code",
   "execution_count": 166,
   "metadata": {},
   "outputs": [],
   "source": [
    "knn3_results = ModelWithCV(\n",
    "                        model=knn3,\n",
    "                        model_name='knn3_model',\n",
    "                        X=X_train_scaled, \n",
    "                        y=y_train\n",
    ")"
   ]
  },
  {
   "cell_type": "code",
   "execution_count": 167,
   "metadata": {},
   "outputs": [
    {
     "name": "stdout",
     "output_type": "stream",
     "text": [
      "CV Results for `knn3_model` model:\n",
      "            0.85095 ± 0.01227 accuracy\n",
      "        \n"
     ]
    },
    {
     "data": {
      "image/png": "[encoded data removed]",
      "text/plain": [
       "<Figure size 432x288 with 1 Axes>"
      ]
     },
     "metadata": {
      "needs_background": "light"
     },
     "output_type": "display_data"
    }
   ],
   "source": [
    "# Saving variable for convenience\n",
    "model_results = knn3_results\n",
    "\n",
    "# Plot CV results\n",
    "fig, ax = plt.subplots()\n",
    "ax = model_results.plot_cv(ax)\n",
    "plt.tight_layout();\n",
    "# Print CV results\n",
    "model_results.print_cv_summary()"
   ]
  },
  {
   "cell_type": "code",
   "execution_count": 168,
   "metadata": {},
   "outputs": [
    {
     "data": {
      "text/plain": [
       "0.88429594877322"
      ]
     },
     "execution_count": 168,
     "metadata": {},
     "output_type": "execute_result"
    }
   ],
   "source": [
    "# Increasing k\n",
    "\n",
    "knn2 = KNeighborsClassifier(n_neighbors=5)\n",
    "\n",
    "knn2.fit(X_train_scaled,y_train)\n",
    "\n",
    "knn2.score(X_train_scaled,y_train)"
   ]
  },
  {
   "cell_type": "code",
   "execution_count": 169,
   "metadata": {},
   "outputs": [],
   "source": [
    "knn5_results = ModelWithCV(\n",
    "                        model=knn2,\n",
    "                        model_name='knn5_model',\n",
    "                        X=X_train_scaled, \n",
    "                        y=y_train\n",
    ")"
   ]
  },
  {
   "cell_type": "code",
   "execution_count": 170,
   "metadata": {
    "scrolled": true
   },
   "outputs": [
    {
     "name": "stdout",
     "output_type": "stream",
     "text": [
      "CV Results for `knn5_model` model:\n",
      "            0.82847 ± 0.01434 accuracy\n",
      "        \n"
     ]
    },
    {
     "data": {
      "image/png": "[encoded data removed]",
      "text/plain": [
       "<Figure size 432x288 with 1 Axes>"
      ]
     },
     "metadata": {
      "needs_background": "light"
     },
     "output_type": "display_data"
    }
   ],
   "source": [
    "# Saving variable for convenience\n",
    "model_results = knn5_results\n",
    "\n",
    "# Plot CV results\n",
    "fig, ax = plt.subplots()\n",
    "ax = model_results.plot_cv(ax)\n",
    "plt.tight_layout();\n",
    "# Print CV results\n",
    "model_results.print_cv_summary()"
   ]
  },
  {
   "cell_type": "markdown",
   "metadata": {},
   "source": [
    "#### Observations:\n",
    "- It looks like all three knn models are overfitting, will need to tune hyperparameters to adjust\""
   ]
  },
  {
   "cell_type": "markdown",
   "metadata": {},
   "source": [
    "### Decision Tree"
   ]
  },
  {
   "cell_type": "code",
   "execution_count": 171,
   "metadata": {},
   "outputs": [
    {
     "data": {
      "text/plain": [
       "DecisionTreeClassifier(random_state=42)"
      ]
     },
     "execution_count": 171,
     "metadata": {},
     "output_type": "execute_result"
    }
   ],
   "source": [
    "ct = DecisionTreeClassifier(random_state=42)\n",
    "\n",
    "ct.fit(X_train_scaled, y_train)"
   ]
  },
  {
   "cell_type": "code",
   "execution_count": 172,
   "metadata": {},
   "outputs": [
    {
     "data": {
      "text/plain": [
       "0.9998415012996893"
      ]
     },
     "execution_count": 172,
     "metadata": {},
     "output_type": "execute_result"
    }
   ],
   "source": [
    "ct.score(X_train_scaled, y_train)"
   ]
  },
  {
   "cell_type": "code",
   "execution_count": 173,
   "metadata": {},
   "outputs": [],
   "source": [
    "dt_results = ModelWithCV(\n",
    "                        model=ct,\n",
    "                        model_name='dt_model',\n",
    "                        X=X_train_scaled, \n",
    "                        y=y_train\n",
    ")"
   ]
  },
  {
   "cell_type": "code",
   "execution_count": 174,
   "metadata": {},
   "outputs": [
    {
     "name": "stdout",
     "output_type": "stream",
     "text": [
      "CV Results for `dt_model` model:\n",
      "            0.86081 ± 0.09026 accuracy\n",
      "        \n"
     ]
    },
    {
     "data": {
      "image/png": "[encoded data removed]",
      "text/plain": [
       "<Figure size 432x288 with 1 Axes>"
      ]
     },
     "metadata": {
      "needs_background": "light"
     },
     "output_type": "display_data"
    }
   ],
   "source": [
    "# Saving variable for convenience\n",
    "model_results = dt_results\n",
    "\n",
    "# Plot CV results\n",
    "fig, ax = plt.subplots()\n",
    "ax = model_results.plot_cv(ax)\n",
    "plt.tight_layout();\n",
    "# Print CV results\n",
    "model_results.print_cv_summary()"
   ]
  },
  {
   "cell_type": "code",
   "execution_count": null,
   "metadata": {},
   "outputs": [],
   "source": []
  }
 ],
 "metadata": {
  "kernelspec": {
   "display_name": "Python (learn-env)",
   "language": "python",
   "name": "learn-env"
  },
  "language_info": {
   "codemirror_mode": {
    "name": "ipython",
    "version": 3
   },
   "file_extension": ".py",
   "mimetype": "text/x-python",
   "name": "python",
   "nbconvert_exporter": "python",
   "pygments_lexer": "ipython3",
   "version": "3.8.5"
  }
 },
 "nbformat": 4,
 "nbformat_minor": 4
}
