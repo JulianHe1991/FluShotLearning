{
 "cells": [
  {
   "cell_type": "markdown",
   "metadata": {},
   "source": [
    "#  Predicting H1N1 Vaccinations \n",
    "\n",
    "**Authors:** Julian He & Brandon Menendez"
   ]
  },
  {
   "cell_type": "markdown",
   "metadata": {},
   "source": [
    "![](https://www.clinicaladvisor.com/wp-content/uploads/sites/11/2018/12/ca0712h1n1_276557.jpg)"
   ]
  },
  {
   "cell_type": "markdown",
   "metadata": {},
   "source": [
    "## Overview"
   ]
  },
  {
   "cell_type": "markdown",
   "metadata": {},
   "source": [
    "During the 2009 H1N1 (Swine Flu) global pandemic, it is estimated that 250K - 280K people died worldwide from the virus between the years 2009 and 2010. While the global pandemic has since dissapated, the H1N1 virus is still very much present throughout the world. Most recently, there have been outbreaks in Malta, Iran and Morocco. It is just as important as ever to ensure that people are getting their H1N1 vaccines, as another global outbreak is possible.\n",
    "\n",
    "The primary goal of this project is to predict whether or not people will receive the H1N1 vaccination, based on information collected through the 2009 National Health Flu Survey (NHFS) surrounding demographics and vaccine opinions from Americans over the age of six. Using machine learning classification models, we identified the most important factors that influences someones H1N1 vaccination status. The output of these models is intended to help public health agencies identify populations that are less likely to get vaccinated for H1N1, so they can focus their outreach and education efforts where it matters the most."
   ]
  },
  {
   "cell_type": "markdown",
   "metadata": {},
   "source": [
    "## Business Problem"
   ]
  },
  {
   "cell_type": "markdown",
   "metadata": {},
   "source": [
    "![](https://www.statnews.com/wp-content/uploads/2019/06/Helen-Vaccine-Graph-1-768x432.jpg)"
   ]
  },
  {
   "cell_type": "markdown",
   "metadata": {},
   "source": [
    "In the US and around the world, the primary functions of public health agencies like the CDC and others include: 1) Educating the public about health concerns and best practices and 2) Providing the public with the necessary tools to maintain public health. As you can see in the chart above from the Center for Infectious Disease Research and Policy, there is a significant gap during the 2009 pandemic between the number of vaccines shipped and the number of vaccine doses administered. Predictive machine learning modeling can help public health agencies determine where to ship vaccines and where additional outreach is needed to promote vaccination.\n",
    "\n",
    "For this project, we will be presenting to the CDC and helping them to answer the following questions:\n",
    "\n",
    "1. What factors determine whether or not someone is likely to get an H1N1 vaccine?\n",
    "\n",
    "2. What populations of people require additional outreach and education improve vaccination rates?\n",
    "\n"
   ]
  },
  {
   "cell_type": "markdown",
   "metadata": {},
   "source": [
    "## Data Understanding"
   ]
  },
  {
<<<<<<< HEAD
   "cell_type": "code",
<<<<<<< HEAD
   "execution_count": 31,
=======
   "execution_count": 39,
>>>>>>> 51d9e99e954723218d8902c654ad9f06e551671a
=======
   "cell_type": "markdown",
>>>>>>> f55d197c1325bb9dd41bd183e80ed0e8701a19e7
   "metadata": {},
   "source": [
<<<<<<< HEAD
    "# Import standard packages\n",
    "import pandas as pd\n",
    "import numpy as np\n",
    "import matplotlib.pyplot as plt\n",
    "import seaborn as sns\n",
    "# Importing possible needed libraries\n",
    "\n",
    "import pandas as pd\n",
    "import numpy as np\n",
    "from matplotlib import pyplot as plt\n",
    "from matplotlib import ticker\n",
    "from mpl_toolkits.mplot3d import Axes3D\n",
    "from random import gauss\n",
    "from scipy import stats\n",
    "import seaborn as sns\n",
    "from mpl_toolkits import mplot3d\n",
    "import statsmodels.api as sm\n",
    "from statsmodels.formula.api import ols\n",
    "from statsmodels.stats.multicomp import pairwise_tukeyhsd\n",
    "from statsmodels.stats.outliers_influence import variance_inflation_factor\n",
    "from sklearn.dummy import DummyClassifier\n",
<<<<<<< HEAD
    "from sklearn.preprocessing import OneHotEncoder\n",
    "from sklearn.utils import resample\n",
    "from sklearn.datasets import load_breast_cancer, load_iris, make_classification\n",
    "from sklearn.model_selection import train_test_split\n",
    "from sklearn.preprocessing import StandardScaler\n",
    "from sklearn.linear_model import LogisticRegression\n",
    "from sklearn.impute import MissingIndicator, SimpleImputer\n",
    "from sklearn.ensemble import BaggingClassifier, RandomForestClassifier\n",
=======
    "\n",
    "import sys\n",
    "import os\n",
    "module_path = os.path.abspath(os.pardir)\n",
    "if module_path not in sys.path:\n",
    "    sys.path.append(module_path)\n",
>>>>>>> 51d9e99e954723218d8902c654ad9f06e551671a
    "\n",
    "%matplotlib inline\n",
    "from sklearn.model_selection import train_test_split, cross_val_score\n",
    "from sklearn.svm import SVR\n",
    "from sklearn.datasets import make_regression\n",
    "from sklearn.linear_model import LinearRegression\n",
    "from sklearn.dummy import DummyRegressor\n",
    "from sklearn.metrics import mean_squared_error\n",
    "from sklearn.feature_selection import RFE\n",
    "from sklearn.preprocessing import PolynomialFeatures, StandardScaler, OneHotEncoder\n",
    "from sklearn.model_selection import train_test_split, cross_validate, ShuffleSplit\n",
    "from sklearn.compose import ColumnTransformer\n",
    "from sklearn.feature_selection import RFECV\n",
    "import sklearn.metrics as metrics\n",
    "from sklearn.metrics import r2_score, mean_squared_error\n",
    "from patsy import dmatrices\n",
    "\n",
    "\n",
    "import folium\n",
    "from folium import plugins\n",
    "from folium.plugins import HeatMap\n",
    "%matplotlib inline\n",
    "\n",
    "import pandas as pd\n",
    "import numpy as np\n",
    "import math\n",
    "\n",
    "import matplotlib.pyplot as plt\n",
    "import seaborn as sns\n",
    "%matplotlib inline\n",
    "\n",
    "from sklearn.preprocessing import OneHotEncoder, StandardScaler\n",
    "\n",
    "from sklearn.impute import MissingIndicator, SimpleImputer\n",
    "\n",
    "from sklearn.dummy import DummyClassifier\n",
    "from sklearn.linear_model import LogisticRegression\n",
    "\n",
    "from sklearn.model_selection import train_test_split, cross_val_score\n",
    "from sklearn.feature_selection import SelectFromModel\n",
    "\n",
    "# plot_confusion_matrix is a handy visual tool, added in the latest version of scikit-learn\n",
    "# if you are running an older version, comment out this line and just use confusion_matrix\n",
    "from sklearn.metrics import plot_confusion_matrix\n",
    "from sklearn.metrics import confusion_matrix\n",
    "from sklearn.metrics import plot_roc_curve"
=======
    "Data for this project was downloaded from the DataDriven Flu Shot Learning competition website. The survey data used was collected from the 2009 NHFS and the training dataset contains 26.7K rows of data. \n",
    "\n",
    "There are many features included in this dataset available to train our models. The features primarily cover respondents demographics information (race, sex, age etc.), opinions on the flu and vaccines, and employment status. "
>>>>>>> f55d197c1325bb9dd41bd183e80ed0e8701a19e7
   ]
  },
  {
   "cell_type": "code",
<<<<<<< HEAD
<<<<<<< HEAD
   "execution_count": 2,
=======
   "execution_count": 40,
>>>>>>> 51d9e99e954723218d8902c654ad9f06e551671a
=======
   "execution_count": 376,
>>>>>>> f55d197c1325bb9dd41bd183e80ed0e8701a19e7
   "metadata": {},
   "outputs": [],
   "source": [
    "# Import standard packages\n",
    "import pandas as pd\n",
    "import numpy as np\n",
    "import matplotlib.pyplot as plt\n",
    "import seaborn as sns\n",
    "# Importing possible needed libraries\n",
    "\n",
    "import pandas as pd\n",
    "import numpy as np\n",
    "from matplotlib import pyplot as plt\n",
    "from matplotlib import ticker\n",
    "import seaborn as sns\n",
    "from mpl_toolkits import mplot3d\n",
    "import statsmodels.api as sm\n",
    "from statsmodels.formula.api import ols\n",
    "from sklearn.dummy import DummyClassifier\n",
    "\n",
    "%matplotlib inline\n",
    "from sklearn.model_selection import train_test_split, cross_val_score\n",
    "from sklearn.svm import SVR\n",
    "from sklearn.datasets import make_regression\n",
    "from sklearn.linear_model import LinearRegression\n",
    "from sklearn.dummy import DummyRegressor\n",
    "from sklearn.metrics import mean_squared_error\n",
    "from sklearn.feature_selection import RFE\n",
    "from sklearn.preprocessing import PolynomialFeatures, StandardScaler, OneHotEncoder\n",
    "from sklearn.model_selection import train_test_split, cross_validate, ShuffleSplit\n",
    "from sklearn.compose import ColumnTransformer\n",
    "from sklearn.feature_selection import RFECV\n",
    "import sklearn.metrics as metrics\n",
    "from sklearn.metrics import r2_score, mean_squared_error\n",
    "from patsy import dmatrices\n",
    "\n",
    "from sklearn.preprocessing import OneHotEncoder, StandardScaler\n",
    "\n",
    "from sklearn.impute import MissingIndicator, SimpleImputer\n",
    "\n",
    "from sklearn.linear_model import LogisticRegression\n",
    "from sklearn.feature_selection import SelectFromModel\n",
    "from sklearn.ensemble import RandomForestClassifier\n",
    "# plot_confusion_matrix is a handy visual tool, added in the latest version of scikit-learn\n",
    "# if you are running an older version, comment out this line and just use confusion_matrix\n",
    "from sklearn.metrics import plot_confusion_matrix\n",
    "from sklearn.metrics import confusion_matrix\n",
    "from sklearn.metrics import plot_roc_curve"
   ]
  },
  {
   "cell_type": "code",
   "execution_count": 377,
   "metadata": {},
   "outputs": [],
   "source": [
    "# Setting display of DFs to show all columns \n",
    "\n",
    "pd.set_option('display.max_columns', None)"
   ]
  },
  {
   "cell_type": "code",
<<<<<<< HEAD
<<<<<<< HEAD
   "execution_count": 3,
=======
   "execution_count": 41,
>>>>>>> 51d9e99e954723218d8902c654ad9f06e551671a
=======
   "execution_count": 378,
>>>>>>> f55d197c1325bb9dd41bd183e80ed0e8701a19e7
   "metadata": {},
   "outputs": [
    {
     "data": {
      "text/html": [
       "<div>\n",
       "<style scoped>\n",
       "    .dataframe tbody tr th:only-of-type {\n",
       "        vertical-align: middle;\n",
       "    }\n",
       "\n",
       "    .dataframe tbody tr th {\n",
       "        vertical-align: top;\n",
       "    }\n",
       "\n",
       "    .dataframe thead th {\n",
       "        text-align: right;\n",
       "    }\n",
       "</style>\n",
       "<table border=\"1\" class=\"dataframe\">\n",
       "  <thead>\n",
       "    <tr style=\"text-align: right;\">\n",
       "      <th></th>\n",
       "      <th>respondent_id</th>\n",
       "      <th>h1n1_concern</th>\n",
       "      <th>h1n1_knowledge</th>\n",
       "      <th>behavioral_antiviral_meds</th>\n",
       "      <th>behavioral_avoidance</th>\n",
       "      <th>behavioral_face_mask</th>\n",
       "      <th>behavioral_wash_hands</th>\n",
       "      <th>behavioral_large_gatherings</th>\n",
       "      <th>behavioral_outside_home</th>\n",
       "      <th>behavioral_touch_face</th>\n",
       "      <th>doctor_recc_h1n1</th>\n",
       "      <th>doctor_recc_seasonal</th>\n",
       "      <th>chronic_med_condition</th>\n",
       "      <th>child_under_6_months</th>\n",
       "      <th>health_worker</th>\n",
       "      <th>health_insurance</th>\n",
       "      <th>opinion_h1n1_vacc_effective</th>\n",
       "      <th>opinion_h1n1_risk</th>\n",
       "      <th>opinion_h1n1_sick_from_vacc</th>\n",
       "      <th>opinion_seas_vacc_effective</th>\n",
       "      <th>opinion_seas_risk</th>\n",
       "      <th>opinion_seas_sick_from_vacc</th>\n",
       "      <th>age_group</th>\n",
       "      <th>education</th>\n",
       "      <th>race</th>\n",
       "      <th>sex</th>\n",
       "      <th>income_poverty</th>\n",
       "      <th>marital_status</th>\n",
       "      <th>rent_or_own</th>\n",
       "      <th>employment_status</th>\n",
       "      <th>hhs_geo_region</th>\n",
       "      <th>census_msa</th>\n",
       "      <th>household_adults</th>\n",
       "      <th>household_children</th>\n",
       "      <th>employment_industry</th>\n",
       "      <th>employment_occupation</th>\n",
       "    </tr>\n",
       "  </thead>\n",
       "  <tbody>\n",
       "    <tr>\n",
       "      <th>0</th>\n",
       "      <td>0</td>\n",
       "      <td>1.0</td>\n",
       "      <td>0.0</td>\n",
       "      <td>0.0</td>\n",
       "      <td>0.0</td>\n",
       "      <td>0.0</td>\n",
       "      <td>0.0</td>\n",
       "      <td>0.0</td>\n",
       "      <td>1.0</td>\n",
       "      <td>1.0</td>\n",
       "      <td>0.0</td>\n",
       "      <td>0.0</td>\n",
       "      <td>0.0</td>\n",
       "      <td>0.0</td>\n",
       "      <td>0.0</td>\n",
       "      <td>1.0</td>\n",
       "      <td>3.0</td>\n",
       "      <td>1.0</td>\n",
       "      <td>2.0</td>\n",
       "      <td>2.0</td>\n",
       "      <td>1.0</td>\n",
       "      <td>2.0</td>\n",
       "      <td>55 - 64 Years</td>\n",
       "      <td>&lt; 12 Years</td>\n",
       "      <td>White</td>\n",
       "      <td>Female</td>\n",
       "      <td>Below Poverty</td>\n",
       "      <td>Not Married</td>\n",
       "      <td>Own</td>\n",
       "      <td>Not in Labor Force</td>\n",
       "      <td>oxchjgsf</td>\n",
       "      <td>Non-MSA</td>\n",
       "      <td>0.0</td>\n",
       "      <td>0.0</td>\n",
       "      <td>NaN</td>\n",
       "      <td>NaN</td>\n",
       "    </tr>\n",
       "    <tr>\n",
       "      <th>1</th>\n",
       "      <td>1</td>\n",
       "      <td>3.0</td>\n",
       "      <td>2.0</td>\n",
       "      <td>0.0</td>\n",
       "      <td>1.0</td>\n",
       "      <td>0.0</td>\n",
       "      <td>1.0</td>\n",
       "      <td>0.0</td>\n",
       "      <td>1.0</td>\n",
       "      <td>1.0</td>\n",
       "      <td>0.0</td>\n",
       "      <td>0.0</td>\n",
       "      <td>0.0</td>\n",
       "      <td>0.0</td>\n",
       "      <td>0.0</td>\n",
       "      <td>1.0</td>\n",
       "      <td>5.0</td>\n",
       "      <td>4.0</td>\n",
       "      <td>4.0</td>\n",
       "      <td>4.0</td>\n",
       "      <td>2.0</td>\n",
       "      <td>4.0</td>\n",
       "      <td>35 - 44 Years</td>\n",
       "      <td>12 Years</td>\n",
       "      <td>White</td>\n",
       "      <td>Male</td>\n",
       "      <td>Below Poverty</td>\n",
       "      <td>Not Married</td>\n",
       "      <td>Rent</td>\n",
       "      <td>Employed</td>\n",
       "      <td>bhuqouqj</td>\n",
       "      <td>MSA, Not Principle  City</td>\n",
       "      <td>0.0</td>\n",
       "      <td>0.0</td>\n",
       "      <td>pxcmvdjn</td>\n",
       "      <td>xgwztkwe</td>\n",
       "    </tr>\n",
       "    <tr>\n",
       "      <th>2</th>\n",
       "      <td>2</td>\n",
       "      <td>1.0</td>\n",
       "      <td>1.0</td>\n",
       "      <td>0.0</td>\n",
       "      <td>1.0</td>\n",
       "      <td>0.0</td>\n",
       "      <td>0.0</td>\n",
       "      <td>0.0</td>\n",
       "      <td>0.0</td>\n",
       "      <td>0.0</td>\n",
       "      <td>NaN</td>\n",
       "      <td>NaN</td>\n",
       "      <td>1.0</td>\n",
       "      <td>0.0</td>\n",
       "      <td>0.0</td>\n",
       "      <td>NaN</td>\n",
       "      <td>3.0</td>\n",
       "      <td>1.0</td>\n",
       "      <td>1.0</td>\n",
       "      <td>4.0</td>\n",
       "      <td>1.0</td>\n",
       "      <td>2.0</td>\n",
       "      <td>18 - 34 Years</td>\n",
       "      <td>College Graduate</td>\n",
       "      <td>White</td>\n",
       "      <td>Male</td>\n",
       "      <td>&lt;= $75,000, Above Poverty</td>\n",
       "      <td>Not Married</td>\n",
       "      <td>Own</td>\n",
       "      <td>Employed</td>\n",
       "      <td>qufhixun</td>\n",
       "      <td>MSA, Not Principle  City</td>\n",
       "      <td>2.0</td>\n",
       "      <td>0.0</td>\n",
       "      <td>rucpziij</td>\n",
       "      <td>xtkaffoo</td>\n",
       "    </tr>\n",
       "    <tr>\n",
       "      <th>3</th>\n",
       "      <td>3</td>\n",
       "      <td>1.0</td>\n",
       "      <td>1.0</td>\n",
       "      <td>0.0</td>\n",
       "      <td>1.0</td>\n",
       "      <td>0.0</td>\n",
       "      <td>1.0</td>\n",
       "      <td>1.0</td>\n",
       "      <td>0.0</td>\n",
       "      <td>0.0</td>\n",
       "      <td>0.0</td>\n",
       "      <td>1.0</td>\n",
       "      <td>1.0</td>\n",
       "      <td>0.0</td>\n",
       "      <td>0.0</td>\n",
       "      <td>NaN</td>\n",
       "      <td>3.0</td>\n",
       "      <td>3.0</td>\n",
       "      <td>5.0</td>\n",
       "      <td>5.0</td>\n",
       "      <td>4.0</td>\n",
       "      <td>1.0</td>\n",
       "      <td>65+ Years</td>\n",
       "      <td>12 Years</td>\n",
       "      <td>White</td>\n",
       "      <td>Female</td>\n",
       "      <td>Below Poverty</td>\n",
       "      <td>Not Married</td>\n",
       "      <td>Rent</td>\n",
       "      <td>Not in Labor Force</td>\n",
       "      <td>lrircsnp</td>\n",
       "      <td>MSA, Principle City</td>\n",
       "      <td>0.0</td>\n",
       "      <td>0.0</td>\n",
       "      <td>NaN</td>\n",
       "      <td>NaN</td>\n",
       "    </tr>\n",
       "    <tr>\n",
       "      <th>4</th>\n",
       "      <td>4</td>\n",
       "      <td>2.0</td>\n",
       "      <td>1.0</td>\n",
       "      <td>0.0</td>\n",
       "      <td>1.0</td>\n",
       "      <td>0.0</td>\n",
       "      <td>1.0</td>\n",
       "      <td>1.0</td>\n",
       "      <td>0.0</td>\n",
       "      <td>1.0</td>\n",
       "      <td>0.0</td>\n",
       "      <td>0.0</td>\n",
       "      <td>0.0</td>\n",
       "      <td>0.0</td>\n",
       "      <td>0.0</td>\n",
       "      <td>NaN</td>\n",
       "      <td>3.0</td>\n",
       "      <td>3.0</td>\n",
       "      <td>2.0</td>\n",
       "      <td>3.0</td>\n",
       "      <td>1.0</td>\n",
       "      <td>4.0</td>\n",
       "      <td>45 - 54 Years</td>\n",
       "      <td>Some College</td>\n",
       "      <td>White</td>\n",
       "      <td>Female</td>\n",
       "      <td>&lt;= $75,000, Above Poverty</td>\n",
       "      <td>Married</td>\n",
       "      <td>Own</td>\n",
       "      <td>Employed</td>\n",
       "      <td>qufhixun</td>\n",
       "      <td>MSA, Not Principle  City</td>\n",
       "      <td>1.0</td>\n",
       "      <td>0.0</td>\n",
       "      <td>wxleyezf</td>\n",
       "      <td>emcorrxb</td>\n",
       "    </tr>\n",
       "  </tbody>\n",
       "</table>\n",
       "</div>"
      ],
      "text/plain": [
       "   respondent_id  h1n1_concern  h1n1_knowledge  behavioral_antiviral_meds  \\\n",
       "0              0           1.0             0.0                        0.0   \n",
       "1              1           3.0             2.0                        0.0   \n",
       "2              2           1.0             1.0                        0.0   \n",
       "3              3           1.0             1.0                        0.0   \n",
       "4              4           2.0             1.0                        0.0   \n",
       "\n",
       "   behavioral_avoidance  behavioral_face_mask  behavioral_wash_hands  \\\n",
       "0                   0.0                   0.0                    0.0   \n",
       "1                   1.0                   0.0                    1.0   \n",
       "2                   1.0                   0.0                    0.0   \n",
       "3                   1.0                   0.0                    1.0   \n",
       "4                   1.0                   0.0                    1.0   \n",
       "\n",
       "   behavioral_large_gatherings  behavioral_outside_home  \\\n",
       "0                          0.0                      1.0   \n",
       "1                          0.0                      1.0   \n",
       "2                          0.0                      0.0   \n",
       "3                          1.0                      0.0   \n",
       "4                          1.0                      0.0   \n",
       "\n",
       "   behavioral_touch_face  doctor_recc_h1n1  doctor_recc_seasonal  \\\n",
       "0                    1.0               0.0                   0.0   \n",
       "1                    1.0               0.0                   0.0   \n",
       "2                    0.0               NaN                   NaN   \n",
       "3                    0.0               0.0                   1.0   \n",
       "4                    1.0               0.0                   0.0   \n",
       "\n",
       "   chronic_med_condition  child_under_6_months  health_worker  \\\n",
       "0                    0.0                   0.0            0.0   \n",
       "1                    0.0                   0.0            0.0   \n",
       "2                    1.0                   0.0            0.0   \n",
       "3                    1.0                   0.0            0.0   \n",
       "4                    0.0                   0.0            0.0   \n",
       "\n",
       "   health_insurance  opinion_h1n1_vacc_effective  opinion_h1n1_risk  \\\n",
       "0               1.0                          3.0                1.0   \n",
       "1               1.0                          5.0                4.0   \n",
       "2               NaN                          3.0                1.0   \n",
       "3               NaN                          3.0                3.0   \n",
       "4               NaN                          3.0                3.0   \n",
       "\n",
       "   opinion_h1n1_sick_from_vacc  opinion_seas_vacc_effective  \\\n",
       "0                          2.0                          2.0   \n",
       "1                          4.0                          4.0   \n",
       "2                          1.0                          4.0   \n",
       "3                          5.0                          5.0   \n",
       "4                          2.0                          3.0   \n",
       "\n",
       "   opinion_seas_risk  opinion_seas_sick_from_vacc      age_group  \\\n",
       "0                1.0                          2.0  55 - 64 Years   \n",
       "1                2.0                          4.0  35 - 44 Years   \n",
       "2                1.0                          2.0  18 - 34 Years   \n",
       "3                4.0                          1.0      65+ Years   \n",
       "4                1.0                          4.0  45 - 54 Years   \n",
       "\n",
       "          education   race     sex             income_poverty marital_status  \\\n",
       "0        < 12 Years  White  Female              Below Poverty    Not Married   \n",
       "1          12 Years  White    Male              Below Poverty    Not Married   \n",
       "2  College Graduate  White    Male  <= $75,000, Above Poverty    Not Married   \n",
       "3          12 Years  White  Female              Below Poverty    Not Married   \n",
       "4      Some College  White  Female  <= $75,000, Above Poverty        Married   \n",
       "\n",
       "  rent_or_own   employment_status hhs_geo_region                census_msa  \\\n",
       "0         Own  Not in Labor Force       oxchjgsf                   Non-MSA   \n",
       "1        Rent            Employed       bhuqouqj  MSA, Not Principle  City   \n",
       "2         Own            Employed       qufhixun  MSA, Not Principle  City   \n",
       "3        Rent  Not in Labor Force       lrircsnp       MSA, Principle City   \n",
       "4         Own            Employed       qufhixun  MSA, Not Principle  City   \n",
       "\n",
       "   household_adults  household_children employment_industry  \\\n",
       "0               0.0                 0.0                 NaN   \n",
       "1               0.0                 0.0            pxcmvdjn   \n",
       "2               2.0                 0.0            rucpziij   \n",
       "3               0.0                 0.0                 NaN   \n",
       "4               1.0                 0.0            wxleyezf   \n",
       "\n",
       "  employment_occupation  \n",
       "0                   NaN  \n",
       "1              xgwztkwe  \n",
       "2              xtkaffoo  \n",
       "3                   NaN  \n",
       "4              emcorrxb  "
      ]
     },
<<<<<<< HEAD
<<<<<<< HEAD
     "execution_count": 3,
=======
     "execution_count": 41,
>>>>>>> 51d9e99e954723218d8902c654ad9f06e551671a
=======
     "execution_count": 378,
>>>>>>> f55d197c1325bb9dd41bd183e80ed0e8701a19e7
     "metadata": {},
     "output_type": "execute_result"
    }
   ],
   "source": [
    "# Reading in training data\n",
    "\n",
    "h1n1_train = pd.read_csv('data/training_set_features.csv')\n",
    "h1n1_train.head()"
   ]
  },
  {
   "cell_type": "code",
<<<<<<< HEAD
<<<<<<< HEAD
   "execution_count": 4,
=======
   "execution_count": 42,
>>>>>>> 51d9e99e954723218d8902c654ad9f06e551671a
=======
   "execution_count": 379,
>>>>>>> f55d197c1325bb9dd41bd183e80ed0e8701a19e7
   "metadata": {},
   "outputs": [
    {
     "name": "stdout",
     "output_type": "stream",
     "text": [
      "<class 'pandas.core.frame.DataFrame'>\n",
      "RangeIndex: 26707 entries, 0 to 26706\n",
      "Data columns (total 36 columns):\n",
      " #   Column                       Non-Null Count  Dtype  \n",
      "---  ------                       --------------  -----  \n",
      " 0   respondent_id                26707 non-null  int64  \n",
      " 1   h1n1_concern                 26615 non-null  float64\n",
      " 2   h1n1_knowledge               26591 non-null  float64\n",
      " 3   behavioral_antiviral_meds    26636 non-null  float64\n",
      " 4   behavioral_avoidance         26499 non-null  float64\n",
      " 5   behavioral_face_mask         26688 non-null  float64\n",
      " 6   behavioral_wash_hands        26665 non-null  float64\n",
      " 7   behavioral_large_gatherings  26620 non-null  float64\n",
      " 8   behavioral_outside_home      26625 non-null  float64\n",
      " 9   behavioral_touch_face        26579 non-null  float64\n",
      " 10  doctor_recc_h1n1             24547 non-null  float64\n",
      " 11  doctor_recc_seasonal         24547 non-null  float64\n",
      " 12  chronic_med_condition        25736 non-null  float64\n",
      " 13  child_under_6_months         25887 non-null  float64\n",
      " 14  health_worker                25903 non-null  float64\n",
      " 15  health_insurance             14433 non-null  float64\n",
      " 16  opinion_h1n1_vacc_effective  26316 non-null  float64\n",
      " 17  opinion_h1n1_risk            26319 non-null  float64\n",
      " 18  opinion_h1n1_sick_from_vacc  26312 non-null  float64\n",
      " 19  opinion_seas_vacc_effective  26245 non-null  float64\n",
      " 20  opinion_seas_risk            26193 non-null  float64\n",
      " 21  opinion_seas_sick_from_vacc  26170 non-null  float64\n",
      " 22  age_group                    26707 non-null  object \n",
      " 23  education                    25300 non-null  object \n",
      " 24  race                         26707 non-null  object \n",
      " 25  sex                          26707 non-null  object \n",
      " 26  income_poverty               22284 non-null  object \n",
      " 27  marital_status               25299 non-null  object \n",
      " 28  rent_or_own                  24665 non-null  object \n",
      " 29  employment_status            25244 non-null  object \n",
      " 30  hhs_geo_region               26707 non-null  object \n",
      " 31  census_msa                   26707 non-null  object \n",
      " 32  household_adults             26458 non-null  float64\n",
      " 33  household_children           26458 non-null  float64\n",
      " 34  employment_industry          13377 non-null  object \n",
      " 35  employment_occupation        13237 non-null  object \n",
      "dtypes: float64(23), int64(1), object(12)\n",
      "memory usage: 7.3+ MB\n"
     ]
    }
   ],
   "source": [
    "h1n1_train.info()"
   ]
  },
  {
   "cell_type": "code",
<<<<<<< HEAD
<<<<<<< HEAD
   "execution_count": 5,
=======
   "execution_count": 43,
>>>>>>> 51d9e99e954723218d8902c654ad9f06e551671a
=======
   "execution_count": 380,
>>>>>>> f55d197c1325bb9dd41bd183e80ed0e8701a19e7
   "metadata": {},
   "outputs": [
    {
     "data": {
      "text/html": [
       "<div>\n",
       "<style scoped>\n",
       "    .dataframe tbody tr th:only-of-type {\n",
       "        vertical-align: middle;\n",
       "    }\n",
       "\n",
       "    .dataframe tbody tr th {\n",
       "        vertical-align: top;\n",
       "    }\n",
       "\n",
       "    .dataframe thead th {\n",
       "        text-align: right;\n",
       "    }\n",
       "</style>\n",
       "<table border=\"1\" class=\"dataframe\">\n",
       "  <thead>\n",
       "    <tr style=\"text-align: right;\">\n",
       "      <th></th>\n",
       "      <th>respondent_id</th>\n",
       "      <th>h1n1_vaccine</th>\n",
       "      <th>seasonal_vaccine</th>\n",
       "    </tr>\n",
       "  </thead>\n",
       "  <tbody>\n",
       "    <tr>\n",
       "      <th>0</th>\n",
       "      <td>0</td>\n",
       "      <td>0</td>\n",
       "      <td>0</td>\n",
       "    </tr>\n",
       "    <tr>\n",
       "      <th>1</th>\n",
       "      <td>1</td>\n",
       "      <td>0</td>\n",
       "      <td>1</td>\n",
       "    </tr>\n",
       "    <tr>\n",
       "      <th>2</th>\n",
       "      <td>2</td>\n",
       "      <td>0</td>\n",
       "      <td>0</td>\n",
       "    </tr>\n",
       "    <tr>\n",
       "      <th>3</th>\n",
       "      <td>3</td>\n",
       "      <td>0</td>\n",
       "      <td>1</td>\n",
       "    </tr>\n",
       "    <tr>\n",
       "      <th>4</th>\n",
       "      <td>4</td>\n",
       "      <td>0</td>\n",
       "      <td>0</td>\n",
       "    </tr>\n",
       "    <tr>\n",
       "      <th>...</th>\n",
       "      <td>...</td>\n",
       "      <td>...</td>\n",
       "      <td>...</td>\n",
       "    </tr>\n",
       "    <tr>\n",
       "      <th>26702</th>\n",
       "      <td>26702</td>\n",
       "      <td>0</td>\n",
       "      <td>0</td>\n",
       "    </tr>\n",
       "    <tr>\n",
       "      <th>26703</th>\n",
       "      <td>26703</td>\n",
       "      <td>0</td>\n",
       "      <td>0</td>\n",
       "    </tr>\n",
       "    <tr>\n",
       "      <th>26704</th>\n",
       "      <td>26704</td>\n",
       "      <td>0</td>\n",
       "      <td>1</td>\n",
       "    </tr>\n",
       "    <tr>\n",
       "      <th>26705</th>\n",
       "      <td>26705</td>\n",
       "      <td>0</td>\n",
       "      <td>0</td>\n",
       "    </tr>\n",
       "    <tr>\n",
       "      <th>26706</th>\n",
       "      <td>26706</td>\n",
       "      <td>0</td>\n",
       "      <td>0</td>\n",
       "    </tr>\n",
       "  </tbody>\n",
       "</table>\n",
       "<p>26707 rows × 3 columns</p>\n",
       "</div>"
      ],
      "text/plain": [
       "       respondent_id  h1n1_vaccine  seasonal_vaccine\n",
       "0                  0             0                 0\n",
       "1                  1             0                 1\n",
       "2                  2             0                 0\n",
       "3                  3             0                 1\n",
       "4                  4             0                 0\n",
       "...              ...           ...               ...\n",
       "26702          26702             0                 0\n",
       "26703          26703             0                 0\n",
       "26704          26704             0                 1\n",
       "26705          26705             0                 0\n",
       "26706          26706             0                 0\n",
       "\n",
       "[26707 rows x 3 columns]"
      ]
     },
<<<<<<< HEAD
<<<<<<< HEAD
     "execution_count": 5,
=======
     "execution_count": 43,
>>>>>>> 51d9e99e954723218d8902c654ad9f06e551671a
=======
     "execution_count": 380,
>>>>>>> f55d197c1325bb9dd41bd183e80ed0e8701a19e7
     "metadata": {},
     "output_type": "execute_result"
    }
   ],
   "source": [
    "# Reading in training label data containing the targets for seasonal and H1N1 vaccination\n",
    "\n",
    "training_labels = pd.read_csv('./data/training_set_labels.csv')\n",
    "training_labels"
   ]
  },
  {
   "cell_type": "code",
<<<<<<< HEAD
<<<<<<< HEAD
   "execution_count": 6,
=======
   "execution_count": 44,
>>>>>>> 51d9e99e954723218d8902c654ad9f06e551671a
=======
   "execution_count": 381,
>>>>>>> f55d197c1325bb9dd41bd183e80ed0e8701a19e7
   "metadata": {},
   "outputs": [
    {
     "data": {
      "text/plain": [
       "respondent_id       26707\n",
       "h1n1_vaccine            2\n",
       "seasonal_vaccine        2\n",
       "dtype: int64"
      ]
     },
<<<<<<< HEAD
<<<<<<< HEAD
     "execution_count": 6,
=======
     "execution_count": 44,
>>>>>>> 51d9e99e954723218d8902c654ad9f06e551671a
=======
     "execution_count": 381,
>>>>>>> f55d197c1325bb9dd41bd183e80ed0e8701a19e7
     "metadata": {},
     "output_type": "execute_result"
    }
   ],
   "source": [
    "# Checking for duplicates in labels df\n",
    "training_labels.nunique()"
   ]
  },
  {
   "cell_type": "code",
<<<<<<< HEAD
<<<<<<< HEAD
   "execution_count": 7,
=======
   "execution_count": 45,
>>>>>>> 51d9e99e954723218d8902c654ad9f06e551671a
=======
   "execution_count": 382,
>>>>>>> f55d197c1325bb9dd41bd183e80ed0e8701a19e7
   "metadata": {},
   "outputs": [
    {
     "data": {
      "text/html": [
       "<div>\n",
       "<style scoped>\n",
       "    .dataframe tbody tr th:only-of-type {\n",
       "        vertical-align: middle;\n",
       "    }\n",
       "\n",
       "    .dataframe tbody tr th {\n",
       "        vertical-align: top;\n",
       "    }\n",
       "\n",
       "    .dataframe thead th {\n",
       "        text-align: right;\n",
       "    }\n",
       "</style>\n",
       "<table border=\"1\" class=\"dataframe\">\n",
       "  <thead>\n",
       "    <tr style=\"text-align: right;\">\n",
       "      <th></th>\n",
       "      <th>respondent_id</th>\n",
       "      <th>h1n1_vaccine</th>\n",
       "      <th>seasonal_vaccine</th>\n",
       "      <th>h1n1_concern</th>\n",
       "      <th>h1n1_knowledge</th>\n",
       "      <th>behavioral_antiviral_meds</th>\n",
       "      <th>behavioral_avoidance</th>\n",
       "      <th>behavioral_face_mask</th>\n",
       "      <th>behavioral_wash_hands</th>\n",
       "      <th>behavioral_large_gatherings</th>\n",
       "      <th>behavioral_outside_home</th>\n",
       "      <th>behavioral_touch_face</th>\n",
       "      <th>doctor_recc_h1n1</th>\n",
       "      <th>doctor_recc_seasonal</th>\n",
       "      <th>chronic_med_condition</th>\n",
       "      <th>child_under_6_months</th>\n",
       "      <th>health_worker</th>\n",
       "      <th>health_insurance</th>\n",
       "      <th>opinion_h1n1_vacc_effective</th>\n",
       "      <th>opinion_h1n1_risk</th>\n",
       "      <th>opinion_h1n1_sick_from_vacc</th>\n",
       "      <th>opinion_seas_vacc_effective</th>\n",
       "      <th>opinion_seas_risk</th>\n",
       "      <th>opinion_seas_sick_from_vacc</th>\n",
       "      <th>age_group</th>\n",
       "      <th>education</th>\n",
       "      <th>race</th>\n",
       "      <th>sex</th>\n",
       "      <th>income_poverty</th>\n",
       "      <th>marital_status</th>\n",
       "      <th>rent_or_own</th>\n",
       "      <th>employment_status</th>\n",
       "      <th>hhs_geo_region</th>\n",
       "      <th>census_msa</th>\n",
       "      <th>household_adults</th>\n",
       "      <th>household_children</th>\n",
       "      <th>employment_industry</th>\n",
       "      <th>employment_occupation</th>\n",
       "    </tr>\n",
       "  </thead>\n",
       "  <tbody>\n",
       "    <tr>\n",
       "      <th>0</th>\n",
       "      <td>0</td>\n",
       "      <td>0</td>\n",
       "      <td>0</td>\n",
       "      <td>1.0</td>\n",
       "      <td>0.0</td>\n",
       "      <td>0.0</td>\n",
       "      <td>0.0</td>\n",
       "      <td>0.0</td>\n",
       "      <td>0.0</td>\n",
       "      <td>0.0</td>\n",
       "      <td>1.0</td>\n",
       "      <td>1.0</td>\n",
       "      <td>0.0</td>\n",
       "      <td>0.0</td>\n",
       "      <td>0.0</td>\n",
       "      <td>0.0</td>\n",
       "      <td>0.0</td>\n",
       "      <td>1.0</td>\n",
       "      <td>3.0</td>\n",
       "      <td>1.0</td>\n",
       "      <td>2.0</td>\n",
       "      <td>2.0</td>\n",
       "      <td>1.0</td>\n",
       "      <td>2.0</td>\n",
       "      <td>55 - 64 Years</td>\n",
       "      <td>&lt; 12 Years</td>\n",
       "      <td>White</td>\n",
       "      <td>Female</td>\n",
       "      <td>Below Poverty</td>\n",
       "      <td>Not Married</td>\n",
       "      <td>Own</td>\n",
       "      <td>Not in Labor Force</td>\n",
       "      <td>oxchjgsf</td>\n",
       "      <td>Non-MSA</td>\n",
       "      <td>0.0</td>\n",
       "      <td>0.0</td>\n",
       "      <td>NaN</td>\n",
       "      <td>NaN</td>\n",
       "    </tr>\n",
       "    <tr>\n",
       "      <th>1</th>\n",
       "      <td>1</td>\n",
       "      <td>0</td>\n",
       "      <td>1</td>\n",
       "      <td>3.0</td>\n",
       "      <td>2.0</td>\n",
       "      <td>0.0</td>\n",
       "      <td>1.0</td>\n",
       "      <td>0.0</td>\n",
       "      <td>1.0</td>\n",
       "      <td>0.0</td>\n",
       "      <td>1.0</td>\n",
       "      <td>1.0</td>\n",
       "      <td>0.0</td>\n",
       "      <td>0.0</td>\n",
       "      <td>0.0</td>\n",
       "      <td>0.0</td>\n",
       "      <td>0.0</td>\n",
       "      <td>1.0</td>\n",
       "      <td>5.0</td>\n",
       "      <td>4.0</td>\n",
       "      <td>4.0</td>\n",
       "      <td>4.0</td>\n",
       "      <td>2.0</td>\n",
       "      <td>4.0</td>\n",
       "      <td>35 - 44 Years</td>\n",
       "      <td>12 Years</td>\n",
       "      <td>White</td>\n",
       "      <td>Male</td>\n",
       "      <td>Below Poverty</td>\n",
       "      <td>Not Married</td>\n",
       "      <td>Rent</td>\n",
       "      <td>Employed</td>\n",
       "      <td>bhuqouqj</td>\n",
       "      <td>MSA, Not Principle  City</td>\n",
       "      <td>0.0</td>\n",
       "      <td>0.0</td>\n",
       "      <td>pxcmvdjn</td>\n",
       "      <td>xgwztkwe</td>\n",
       "    </tr>\n",
       "    <tr>\n",
       "      <th>2</th>\n",
       "      <td>2</td>\n",
       "      <td>0</td>\n",
       "      <td>0</td>\n",
       "      <td>1.0</td>\n",
       "      <td>1.0</td>\n",
       "      <td>0.0</td>\n",
       "      <td>1.0</td>\n",
       "      <td>0.0</td>\n",
       "      <td>0.0</td>\n",
       "      <td>0.0</td>\n",
       "      <td>0.0</td>\n",
       "      <td>0.0</td>\n",
       "      <td>NaN</td>\n",
       "      <td>NaN</td>\n",
       "      <td>1.0</td>\n",
       "      <td>0.0</td>\n",
       "      <td>0.0</td>\n",
       "      <td>NaN</td>\n",
       "      <td>3.0</td>\n",
       "      <td>1.0</td>\n",
       "      <td>1.0</td>\n",
       "      <td>4.0</td>\n",
       "      <td>1.0</td>\n",
       "      <td>2.0</td>\n",
       "      <td>18 - 34 Years</td>\n",
       "      <td>College Graduate</td>\n",
       "      <td>White</td>\n",
       "      <td>Male</td>\n",
       "      <td>&lt;= $75,000, Above Poverty</td>\n",
       "      <td>Not Married</td>\n",
       "      <td>Own</td>\n",
       "      <td>Employed</td>\n",
       "      <td>qufhixun</td>\n",
       "      <td>MSA, Not Principle  City</td>\n",
       "      <td>2.0</td>\n",
       "      <td>0.0</td>\n",
       "      <td>rucpziij</td>\n",
       "      <td>xtkaffoo</td>\n",
       "    </tr>\n",
       "    <tr>\n",
       "      <th>3</th>\n",
       "      <td>3</td>\n",
       "      <td>0</td>\n",
       "      <td>1</td>\n",
       "      <td>1.0</td>\n",
       "      <td>1.0</td>\n",
       "      <td>0.0</td>\n",
       "      <td>1.0</td>\n",
       "      <td>0.0</td>\n",
       "      <td>1.0</td>\n",
       "      <td>1.0</td>\n",
       "      <td>0.0</td>\n",
       "      <td>0.0</td>\n",
       "      <td>0.0</td>\n",
       "      <td>1.0</td>\n",
       "      <td>1.0</td>\n",
       "      <td>0.0</td>\n",
       "      <td>0.0</td>\n",
       "      <td>NaN</td>\n",
       "      <td>3.0</td>\n",
       "      <td>3.0</td>\n",
       "      <td>5.0</td>\n",
       "      <td>5.0</td>\n",
       "      <td>4.0</td>\n",
       "      <td>1.0</td>\n",
       "      <td>65+ Years</td>\n",
       "      <td>12 Years</td>\n",
       "      <td>White</td>\n",
       "      <td>Female</td>\n",
       "      <td>Below Poverty</td>\n",
       "      <td>Not Married</td>\n",
       "      <td>Rent</td>\n",
       "      <td>Not in Labor Force</td>\n",
       "      <td>lrircsnp</td>\n",
       "      <td>MSA, Principle City</td>\n",
       "      <td>0.0</td>\n",
       "      <td>0.0</td>\n",
       "      <td>NaN</td>\n",
       "      <td>NaN</td>\n",
       "    </tr>\n",
       "    <tr>\n",
       "      <th>4</th>\n",
       "      <td>4</td>\n",
       "      <td>0</td>\n",
       "      <td>0</td>\n",
       "      <td>2.0</td>\n",
       "      <td>1.0</td>\n",
       "      <td>0.0</td>\n",
       "      <td>1.0</td>\n",
       "      <td>0.0</td>\n",
       "      <td>1.0</td>\n",
       "      <td>1.0</td>\n",
       "      <td>0.0</td>\n",
       "      <td>1.0</td>\n",
       "      <td>0.0</td>\n",
       "      <td>0.0</td>\n",
       "      <td>0.0</td>\n",
       "      <td>0.0</td>\n",
       "      <td>0.0</td>\n",
       "      <td>NaN</td>\n",
       "      <td>3.0</td>\n",
       "      <td>3.0</td>\n",
       "      <td>2.0</td>\n",
       "      <td>3.0</td>\n",
       "      <td>1.0</td>\n",
       "      <td>4.0</td>\n",
       "      <td>45 - 54 Years</td>\n",
       "      <td>Some College</td>\n",
       "      <td>White</td>\n",
       "      <td>Female</td>\n",
       "      <td>&lt;= $75,000, Above Poverty</td>\n",
       "      <td>Married</td>\n",
       "      <td>Own</td>\n",
       "      <td>Employed</td>\n",
       "      <td>qufhixun</td>\n",
       "      <td>MSA, Not Principle  City</td>\n",
       "      <td>1.0</td>\n",
       "      <td>0.0</td>\n",
       "      <td>wxleyezf</td>\n",
       "      <td>emcorrxb</td>\n",
       "    </tr>\n",
       "    <tr>\n",
       "      <th>...</th>\n",
       "      <td>...</td>\n",
       "      <td>...</td>\n",
       "      <td>...</td>\n",
       "      <td>...</td>\n",
       "      <td>...</td>\n",
       "      <td>...</td>\n",
       "      <td>...</td>\n",
       "      <td>...</td>\n",
       "      <td>...</td>\n",
       "      <td>...</td>\n",
       "      <td>...</td>\n",
       "      <td>...</td>\n",
       "      <td>...</td>\n",
       "      <td>...</td>\n",
       "      <td>...</td>\n",
       "      <td>...</td>\n",
       "      <td>...</td>\n",
       "      <td>...</td>\n",
       "      <td>...</td>\n",
       "      <td>...</td>\n",
       "      <td>...</td>\n",
       "      <td>...</td>\n",
       "      <td>...</td>\n",
       "      <td>...</td>\n",
       "      <td>...</td>\n",
       "      <td>...</td>\n",
       "      <td>...</td>\n",
       "      <td>...</td>\n",
       "      <td>...</td>\n",
       "      <td>...</td>\n",
       "      <td>...</td>\n",
       "      <td>...</td>\n",
       "      <td>...</td>\n",
       "      <td>...</td>\n",
       "      <td>...</td>\n",
       "      <td>...</td>\n",
       "      <td>...</td>\n",
       "      <td>...</td>\n",
       "    </tr>\n",
       "    <tr>\n",
       "      <th>26702</th>\n",
       "      <td>26702</td>\n",
       "      <td>0</td>\n",
       "      <td>0</td>\n",
       "      <td>2.0</td>\n",
       "      <td>0.0</td>\n",
       "      <td>0.0</td>\n",
       "      <td>1.0</td>\n",
       "      <td>0.0</td>\n",
       "      <td>0.0</td>\n",
       "      <td>0.0</td>\n",
       "      <td>1.0</td>\n",
       "      <td>0.0</td>\n",
       "      <td>0.0</td>\n",
       "      <td>0.0</td>\n",
       "      <td>0.0</td>\n",
       "      <td>0.0</td>\n",
       "      <td>0.0</td>\n",
       "      <td>NaN</td>\n",
       "      <td>3.0</td>\n",
       "      <td>1.0</td>\n",
       "      <td>1.0</td>\n",
       "      <td>5.0</td>\n",
       "      <td>2.0</td>\n",
       "      <td>2.0</td>\n",
       "      <td>65+ Years</td>\n",
       "      <td>Some College</td>\n",
       "      <td>White</td>\n",
       "      <td>Female</td>\n",
       "      <td>&lt;= $75,000, Above Poverty</td>\n",
       "      <td>Not Married</td>\n",
       "      <td>Own</td>\n",
       "      <td>Not in Labor Force</td>\n",
       "      <td>qufhixun</td>\n",
       "      <td>Non-MSA</td>\n",
       "      <td>0.0</td>\n",
       "      <td>0.0</td>\n",
       "      <td>NaN</td>\n",
       "      <td>NaN</td>\n",
       "    </tr>\n",
       "    <tr>\n",
       "      <th>26703</th>\n",
       "      <td>26703</td>\n",
       "      <td>0</td>\n",
       "      <td>0</td>\n",
       "      <td>1.0</td>\n",
       "      <td>2.0</td>\n",
       "      <td>0.0</td>\n",
       "      <td>1.0</td>\n",
       "      <td>0.0</td>\n",
       "      <td>1.0</td>\n",
       "      <td>0.0</td>\n",
       "      <td>0.0</td>\n",
       "      <td>0.0</td>\n",
       "      <td>1.0</td>\n",
       "      <td>1.0</td>\n",
       "      <td>0.0</td>\n",
       "      <td>0.0</td>\n",
       "      <td>1.0</td>\n",
       "      <td>1.0</td>\n",
       "      <td>4.0</td>\n",
       "      <td>2.0</td>\n",
       "      <td>2.0</td>\n",
       "      <td>5.0</td>\n",
       "      <td>1.0</td>\n",
       "      <td>1.0</td>\n",
       "      <td>18 - 34 Years</td>\n",
       "      <td>College Graduate</td>\n",
       "      <td>White</td>\n",
       "      <td>Male</td>\n",
       "      <td>&lt;= $75,000, Above Poverty</td>\n",
       "      <td>Not Married</td>\n",
       "      <td>Rent</td>\n",
       "      <td>Employed</td>\n",
       "      <td>lzgpxyit</td>\n",
       "      <td>MSA, Principle City</td>\n",
       "      <td>1.0</td>\n",
       "      <td>0.0</td>\n",
       "      <td>fcxhlnwr</td>\n",
       "      <td>cmhcxjea</td>\n",
       "    </tr>\n",
       "    <tr>\n",
       "      <th>26704</th>\n",
       "      <td>26704</td>\n",
       "      <td>0</td>\n",
       "      <td>1</td>\n",
       "      <td>2.0</td>\n",
       "      <td>2.0</td>\n",
       "      <td>0.0</td>\n",
       "      <td>1.0</td>\n",
       "      <td>1.0</td>\n",
       "      <td>1.0</td>\n",
       "      <td>1.0</td>\n",
       "      <td>0.0</td>\n",
       "      <td>1.0</td>\n",
       "      <td>0.0</td>\n",
       "      <td>0.0</td>\n",
       "      <td>0.0</td>\n",
       "      <td>0.0</td>\n",
       "      <td>0.0</td>\n",
       "      <td>NaN</td>\n",
       "      <td>4.0</td>\n",
       "      <td>4.0</td>\n",
       "      <td>2.0</td>\n",
       "      <td>5.0</td>\n",
       "      <td>4.0</td>\n",
       "      <td>2.0</td>\n",
       "      <td>55 - 64 Years</td>\n",
       "      <td>Some College</td>\n",
       "      <td>White</td>\n",
       "      <td>Female</td>\n",
       "      <td>NaN</td>\n",
       "      <td>Not Married</td>\n",
       "      <td>Own</td>\n",
       "      <td>NaN</td>\n",
       "      <td>lzgpxyit</td>\n",
       "      <td>MSA, Not Principle  City</td>\n",
       "      <td>0.0</td>\n",
       "      <td>0.0</td>\n",
       "      <td>NaN</td>\n",
       "      <td>NaN</td>\n",
       "    </tr>\n",
       "    <tr>\n",
       "      <th>26705</th>\n",
       "      <td>26705</td>\n",
       "      <td>0</td>\n",
       "      <td>0</td>\n",
       "      <td>1.0</td>\n",
       "      <td>1.0</td>\n",
       "      <td>0.0</td>\n",
       "      <td>0.0</td>\n",
       "      <td>0.0</td>\n",
       "      <td>0.0</td>\n",
       "      <td>0.0</td>\n",
       "      <td>0.0</td>\n",
       "      <td>NaN</td>\n",
       "      <td>0.0</td>\n",
       "      <td>0.0</td>\n",
       "      <td>0.0</td>\n",
       "      <td>0.0</td>\n",
       "      <td>0.0</td>\n",
       "      <td>0.0</td>\n",
       "      <td>3.0</td>\n",
       "      <td>1.0</td>\n",
       "      <td>2.0</td>\n",
       "      <td>2.0</td>\n",
       "      <td>1.0</td>\n",
       "      <td>2.0</td>\n",
       "      <td>18 - 34 Years</td>\n",
       "      <td>Some College</td>\n",
       "      <td>Hispanic</td>\n",
       "      <td>Female</td>\n",
       "      <td>&lt;= $75,000, Above Poverty</td>\n",
       "      <td>Married</td>\n",
       "      <td>Rent</td>\n",
       "      <td>Employed</td>\n",
       "      <td>lrircsnp</td>\n",
       "      <td>Non-MSA</td>\n",
       "      <td>1.0</td>\n",
       "      <td>0.0</td>\n",
       "      <td>fcxhlnwr</td>\n",
       "      <td>haliazsg</td>\n",
       "    </tr>\n",
       "    <tr>\n",
       "      <th>26706</th>\n",
       "      <td>26706</td>\n",
       "      <td>0</td>\n",
       "      <td>0</td>\n",
       "      <td>0.0</td>\n",
       "      <td>0.0</td>\n",
       "      <td>0.0</td>\n",
       "      <td>1.0</td>\n",
       "      <td>0.0</td>\n",
       "      <td>0.0</td>\n",
       "      <td>0.0</td>\n",
       "      <td>0.0</td>\n",
       "      <td>0.0</td>\n",
       "      <td>0.0</td>\n",
       "      <td>0.0</td>\n",
       "      <td>0.0</td>\n",
       "      <td>0.0</td>\n",
       "      <td>0.0</td>\n",
       "      <td>1.0</td>\n",
       "      <td>5.0</td>\n",
       "      <td>1.0</td>\n",
       "      <td>1.0</td>\n",
       "      <td>5.0</td>\n",
       "      <td>1.0</td>\n",
       "      <td>1.0</td>\n",
       "      <td>65+ Years</td>\n",
       "      <td>Some College</td>\n",
       "      <td>White</td>\n",
       "      <td>Male</td>\n",
       "      <td>&lt;= $75,000, Above Poverty</td>\n",
       "      <td>Married</td>\n",
       "      <td>Own</td>\n",
       "      <td>Not in Labor Force</td>\n",
       "      <td>mlyzmhmf</td>\n",
       "      <td>MSA, Principle City</td>\n",
       "      <td>1.0</td>\n",
       "      <td>0.0</td>\n",
       "      <td>NaN</td>\n",
       "      <td>NaN</td>\n",
       "    </tr>\n",
       "  </tbody>\n",
       "</table>\n",
       "<p>26707 rows × 38 columns</p>\n",
       "</div>"
      ],
      "text/plain": [
       "       respondent_id  h1n1_vaccine  seasonal_vaccine  h1n1_concern  \\\n",
       "0                  0             0                 0           1.0   \n",
       "1                  1             0                 1           3.0   \n",
       "2                  2             0                 0           1.0   \n",
       "3                  3             0                 1           1.0   \n",
       "4                  4             0                 0           2.0   \n",
       "...              ...           ...               ...           ...   \n",
       "26702          26702             0                 0           2.0   \n",
       "26703          26703             0                 0           1.0   \n",
       "26704          26704             0                 1           2.0   \n",
       "26705          26705             0                 0           1.0   \n",
       "26706          26706             0                 0           0.0   \n",
       "\n",
       "       h1n1_knowledge  behavioral_antiviral_meds  behavioral_avoidance  \\\n",
       "0                 0.0                        0.0                   0.0   \n",
       "1                 2.0                        0.0                   1.0   \n",
       "2                 1.0                        0.0                   1.0   \n",
       "3                 1.0                        0.0                   1.0   \n",
       "4                 1.0                        0.0                   1.0   \n",
       "...               ...                        ...                   ...   \n",
       "26702             0.0                        0.0                   1.0   \n",
       "26703             2.0                        0.0                   1.0   \n",
       "26704             2.0                        0.0                   1.0   \n",
       "26705             1.0                        0.0                   0.0   \n",
       "26706             0.0                        0.0                   1.0   \n",
       "\n",
       "       behavioral_face_mask  behavioral_wash_hands  \\\n",
       "0                       0.0                    0.0   \n",
       "1                       0.0                    1.0   \n",
       "2                       0.0                    0.0   \n",
       "3                       0.0                    1.0   \n",
       "4                       0.0                    1.0   \n",
       "...                     ...                    ...   \n",
       "26702                   0.0                    0.0   \n",
       "26703                   0.0                    1.0   \n",
       "26704                   1.0                    1.0   \n",
       "26705                   0.0                    0.0   \n",
       "26706                   0.0                    0.0   \n",
       "\n",
       "       behavioral_large_gatherings  behavioral_outside_home  \\\n",
       "0                              0.0                      1.0   \n",
       "1                              0.0                      1.0   \n",
       "2                              0.0                      0.0   \n",
       "3                              1.0                      0.0   \n",
       "4                              1.0                      0.0   \n",
       "...                            ...                      ...   \n",
       "26702                          0.0                      1.0   \n",
       "26703                          0.0                      0.0   \n",
       "26704                          1.0                      0.0   \n",
       "26705                          0.0                      0.0   \n",
       "26706                          0.0                      0.0   \n",
       "\n",
       "       behavioral_touch_face  doctor_recc_h1n1  doctor_recc_seasonal  \\\n",
       "0                        1.0               0.0                   0.0   \n",
       "1                        1.0               0.0                   0.0   \n",
       "2                        0.0               NaN                   NaN   \n",
       "3                        0.0               0.0                   1.0   \n",
       "4                        1.0               0.0                   0.0   \n",
       "...                      ...               ...                   ...   \n",
       "26702                    0.0               0.0                   0.0   \n",
       "26703                    0.0               1.0                   1.0   \n",
       "26704                    1.0               0.0                   0.0   \n",
       "26705                    NaN               0.0                   0.0   \n",
       "26706                    0.0               0.0                   0.0   \n",
       "\n",
       "       chronic_med_condition  child_under_6_months  health_worker  \\\n",
       "0                        0.0                   0.0            0.0   \n",
       "1                        0.0                   0.0            0.0   \n",
       "2                        1.0                   0.0            0.0   \n",
       "3                        1.0                   0.0            0.0   \n",
       "4                        0.0                   0.0            0.0   \n",
       "...                      ...                   ...            ...   \n",
       "26702                    0.0                   0.0            0.0   \n",
       "26703                    0.0                   0.0            1.0   \n",
       "26704                    0.0                   0.0            0.0   \n",
       "26705                    0.0                   0.0            0.0   \n",
       "26706                    0.0                   0.0            0.0   \n",
       "\n",
       "       health_insurance  opinion_h1n1_vacc_effective  opinion_h1n1_risk  \\\n",
       "0                   1.0                          3.0                1.0   \n",
       "1                   1.0                          5.0                4.0   \n",
       "2                   NaN                          3.0                1.0   \n",
       "3                   NaN                          3.0                3.0   \n",
       "4                   NaN                          3.0                3.0   \n",
       "...                 ...                          ...                ...   \n",
       "26702               NaN                          3.0                1.0   \n",
       "26703               1.0                          4.0                2.0   \n",
       "26704               NaN                          4.0                4.0   \n",
       "26705               0.0                          3.0                1.0   \n",
       "26706               1.0                          5.0                1.0   \n",
       "\n",
       "       opinion_h1n1_sick_from_vacc  opinion_seas_vacc_effective  \\\n",
       "0                              2.0                          2.0   \n",
       "1                              4.0                          4.0   \n",
       "2                              1.0                          4.0   \n",
       "3                              5.0                          5.0   \n",
       "4                              2.0                          3.0   \n",
       "...                            ...                          ...   \n",
       "26702                          1.0                          5.0   \n",
       "26703                          2.0                          5.0   \n",
       "26704                          2.0                          5.0   \n",
       "26705                          2.0                          2.0   \n",
       "26706                          1.0                          5.0   \n",
       "\n",
       "       opinion_seas_risk  opinion_seas_sick_from_vacc      age_group  \\\n",
       "0                    1.0                          2.0  55 - 64 Years   \n",
       "1                    2.0                          4.0  35 - 44 Years   \n",
       "2                    1.0                          2.0  18 - 34 Years   \n",
       "3                    4.0                          1.0      65+ Years   \n",
       "4                    1.0                          4.0  45 - 54 Years   \n",
       "...                  ...                          ...            ...   \n",
       "26702                2.0                          2.0      65+ Years   \n",
       "26703                1.0                          1.0  18 - 34 Years   \n",
       "26704                4.0                          2.0  55 - 64 Years   \n",
       "26705                1.0                          2.0  18 - 34 Years   \n",
       "26706                1.0                          1.0      65+ Years   \n",
       "\n",
       "              education      race     sex             income_poverty  \\\n",
       "0            < 12 Years     White  Female              Below Poverty   \n",
       "1              12 Years     White    Male              Below Poverty   \n",
       "2      College Graduate     White    Male  <= $75,000, Above Poverty   \n",
       "3              12 Years     White  Female              Below Poverty   \n",
       "4          Some College     White  Female  <= $75,000, Above Poverty   \n",
       "...                 ...       ...     ...                        ...   \n",
       "26702      Some College     White  Female  <= $75,000, Above Poverty   \n",
       "26703  College Graduate     White    Male  <= $75,000, Above Poverty   \n",
       "26704      Some College     White  Female                        NaN   \n",
       "26705      Some College  Hispanic  Female  <= $75,000, Above Poverty   \n",
       "26706      Some College     White    Male  <= $75,000, Above Poverty   \n",
       "\n",
       "      marital_status rent_or_own   employment_status hhs_geo_region  \\\n",
       "0        Not Married         Own  Not in Labor Force       oxchjgsf   \n",
       "1        Not Married        Rent            Employed       bhuqouqj   \n",
       "2        Not Married         Own            Employed       qufhixun   \n",
       "3        Not Married        Rent  Not in Labor Force       lrircsnp   \n",
       "4            Married         Own            Employed       qufhixun   \n",
       "...              ...         ...                 ...            ...   \n",
       "26702    Not Married         Own  Not in Labor Force       qufhixun   \n",
       "26703    Not Married        Rent            Employed       lzgpxyit   \n",
       "26704    Not Married         Own                 NaN       lzgpxyit   \n",
       "26705        Married        Rent            Employed       lrircsnp   \n",
       "26706        Married         Own  Not in Labor Force       mlyzmhmf   \n",
       "\n",
       "                     census_msa  household_adults  household_children  \\\n",
       "0                       Non-MSA               0.0                 0.0   \n",
       "1      MSA, Not Principle  City               0.0                 0.0   \n",
       "2      MSA, Not Principle  City               2.0                 0.0   \n",
       "3           MSA, Principle City               0.0                 0.0   \n",
       "4      MSA, Not Principle  City               1.0                 0.0   \n",
       "...                         ...               ...                 ...   \n",
       "26702                   Non-MSA               0.0                 0.0   \n",
       "26703       MSA, Principle City               1.0                 0.0   \n",
       "26704  MSA, Not Principle  City               0.0                 0.0   \n",
       "26705                   Non-MSA               1.0                 0.0   \n",
       "26706       MSA, Principle City               1.0                 0.0   \n",
       "\n",
       "      employment_industry employment_occupation  \n",
       "0                     NaN                   NaN  \n",
       "1                pxcmvdjn              xgwztkwe  \n",
       "2                rucpziij              xtkaffoo  \n",
       "3                     NaN                   NaN  \n",
       "4                wxleyezf              emcorrxb  \n",
       "...                   ...                   ...  \n",
       "26702                 NaN                   NaN  \n",
       "26703            fcxhlnwr              cmhcxjea  \n",
       "26704                 NaN                   NaN  \n",
       "26705            fcxhlnwr              haliazsg  \n",
       "26706                 NaN                   NaN  \n",
       "\n",
       "[26707 rows x 38 columns]"
      ]
     },
<<<<<<< HEAD
<<<<<<< HEAD
     "execution_count": 7,
=======
     "execution_count": 45,
>>>>>>> 51d9e99e954723218d8902c654ad9f06e551671a
=======
     "execution_count": 382,
>>>>>>> f55d197c1325bb9dd41bd183e80ed0e8701a19e7
     "metadata": {},
     "output_type": "execute_result"
    }
   ],
   "source": [
    "# Merging labels and training features dataset.\n",
    "\n",
    "vaccine_data = training_labels.merge(h1n1_train,how = 'left',left_on = 'respondent_id',right_on = 'respondent_id')\n",
    "vaccine_data"
   ]
  },
  {
   "cell_type": "code",
<<<<<<< HEAD
<<<<<<< HEAD
   "execution_count": 8,
=======
   "execution_count": 46,
>>>>>>> 51d9e99e954723218d8902c654ad9f06e551671a
=======
   "execution_count": 383,
>>>>>>> f55d197c1325bb9dd41bd183e80ed0e8701a19e7
   "metadata": {},
   "outputs": [
    {
     "name": "stdout",
     "output_type": "stream",
     "text": [
      "<class 'pandas.core.frame.DataFrame'>\n",
      "Int64Index: 26707 entries, 0 to 26706\n",
      "Data columns (total 38 columns):\n",
      " #   Column                       Non-Null Count  Dtype  \n",
      "---  ------                       --------------  -----  \n",
      " 0   respondent_id                26707 non-null  int64  \n",
      " 1   h1n1_vaccine                 26707 non-null  int64  \n",
      " 2   seasonal_vaccine             26707 non-null  int64  \n",
      " 3   h1n1_concern                 26615 non-null  float64\n",
      " 4   h1n1_knowledge               26591 non-null  float64\n",
      " 5   behavioral_antiviral_meds    26636 non-null  float64\n",
      " 6   behavioral_avoidance         26499 non-null  float64\n",
      " 7   behavioral_face_mask         26688 non-null  float64\n",
      " 8   behavioral_wash_hands        26665 non-null  float64\n",
      " 9   behavioral_large_gatherings  26620 non-null  float64\n",
      " 10  behavioral_outside_home      26625 non-null  float64\n",
      " 11  behavioral_touch_face        26579 non-null  float64\n",
      " 12  doctor_recc_h1n1             24547 non-null  float64\n",
      " 13  doctor_recc_seasonal         24547 non-null  float64\n",
      " 14  chronic_med_condition        25736 non-null  float64\n",
      " 15  child_under_6_months         25887 non-null  float64\n",
      " 16  health_worker                25903 non-null  float64\n",
      " 17  health_insurance             14433 non-null  float64\n",
      " 18  opinion_h1n1_vacc_effective  26316 non-null  float64\n",
      " 19  opinion_h1n1_risk            26319 non-null  float64\n",
      " 20  opinion_h1n1_sick_from_vacc  26312 non-null  float64\n",
      " 21  opinion_seas_vacc_effective  26245 non-null  float64\n",
      " 22  opinion_seas_risk            26193 non-null  float64\n",
      " 23  opinion_seas_sick_from_vacc  26170 non-null  float64\n",
      " 24  age_group                    26707 non-null  object \n",
      " 25  education                    25300 non-null  object \n",
      " 26  race                         26707 non-null  object \n",
      " 27  sex                          26707 non-null  object \n",
      " 28  income_poverty               22284 non-null  object \n",
      " 29  marital_status               25299 non-null  object \n",
      " 30  rent_or_own                  24665 non-null  object \n",
      " 31  employment_status            25244 non-null  object \n",
      " 32  hhs_geo_region               26707 non-null  object \n",
      " 33  census_msa                   26707 non-null  object \n",
      " 34  household_adults             26458 non-null  float64\n",
      " 35  household_children           26458 non-null  float64\n",
      " 36  employment_industry          13377 non-null  object \n",
      " 37  employment_occupation        13237 non-null  object \n",
      "dtypes: float64(23), int64(3), object(12)\n",
      "memory usage: 7.9+ MB\n"
     ]
    }
   ],
   "source": [
    "vaccine_data.info()"
   ]
  },
  {
   "cell_type": "markdown",
   "metadata": {},
   "source": [
    "#### Observations: \n",
    "- Large null values in health_insurance, employement_industry, employment_occupation \n",
    "- Survey allows for \"don't know\" and \"refused to answer\" choices, assuming that is the reason for nulls"
   ]
  },
  {
   "cell_type": "code",
<<<<<<< HEAD
<<<<<<< HEAD
   "execution_count": 9,
=======
   "execution_count": 47,
>>>>>>> 51d9e99e954723218d8902c654ad9f06e551671a
   "metadata": {
    "scrolled": true
   },
   "outputs": [
    {
     "name": "stdout",
     "output_type": "stream",
     "text": [
      "2047     1\n",
      "7657     1\n",
      "3371     1\n",
      "13612    1\n",
      "15661    1\n",
      "        ..\n",
      "12979    1\n",
      "2740     1\n",
      "693      1\n",
      "6838     1\n",
      "0        1\n",
      "Name: respondent_id, Length: 26707, dtype: int64\n",
      "0    21033\n",
      "1     5674\n",
      "Name: h1n1_vaccine, dtype: int64\n",
      "0    14272\n",
      "1    12435\n",
      "Name: seasonal_vaccine, dtype: int64\n",
      "2.0    10575\n",
      "1.0     8153\n",
      "3.0     4591\n",
      "0.0     3296\n",
      "Name: h1n1_concern, dtype: int64\n",
      "1.0    14598\n",
      "2.0     9487\n",
      "0.0     2506\n",
      "Name: h1n1_knowledge, dtype: int64\n",
      "0.0    25335\n",
      "1.0     1301\n",
      "Name: behavioral_antiviral_meds, dtype: int64\n",
      "1.0    19228\n",
      "0.0     7271\n",
      "Name: behavioral_avoidance, dtype: int64\n",
      "0.0    24847\n",
      "1.0     1841\n",
      "Name: behavioral_face_mask, dtype: int64\n",
      "1.0    22015\n",
      "0.0     4650\n",
      "Name: behavioral_wash_hands, dtype: int64\n",
      "0.0    17073\n",
      "1.0     9547\n",
      "Name: behavioral_large_gatherings, dtype: int64\n",
      "0.0    17644\n",
      "1.0     8981\n",
      "Name: behavioral_outside_home, dtype: int64\n",
      "1.0    18001\n",
      "0.0     8578\n",
      "Name: behavioral_touch_face, dtype: int64\n",
      "0.0    19139\n",
      "1.0     5408\n",
      "Name: doctor_recc_h1n1, dtype: int64\n",
      "0.0    16453\n",
      "1.0     8094\n",
      "Name: doctor_recc_seasonal, dtype: int64\n",
      "0.0    18446\n",
      "1.0     7290\n",
      "Name: chronic_med_condition, dtype: int64\n",
      "0.0    23749\n",
      "1.0     2138\n",
      "Name: child_under_6_months, dtype: int64\n",
      "0.0    23004\n",
      "1.0     2899\n",
      "Name: health_worker, dtype: int64\n",
      "1.0    12697\n",
      "0.0     1736\n",
      "Name: health_insurance, dtype: int64\n",
      "4.0    11683\n",
      "5.0     7166\n",
      "3.0     4723\n",
      "2.0     1858\n",
      "1.0      886\n",
      "Name: opinion_h1n1_vacc_effective, dtype: int64\n",
      "2.0    9919\n",
      "1.0    8139\n",
      "4.0    5394\n",
      "5.0    1750\n",
      "3.0    1117\n",
      "Name: opinion_h1n1_risk, dtype: int64\n",
      "2.0    9129\n",
      "1.0    8998\n",
      "4.0    5850\n",
      "5.0    2187\n",
      "3.0     148\n",
      "Name: opinion_h1n1_sick_from_vacc, dtype: int64\n",
      "4.0    11629\n",
      "5.0     9973\n",
      "2.0     2206\n",
      "1.0     1221\n",
      "3.0     1216\n",
      "Name: opinion_seas_vacc_effective, dtype: int64\n",
      "2.0    8954\n",
      "4.0    7630\n",
      "1.0    5974\n",
      "5.0    2958\n",
      "3.0     677\n",
      "Name: opinion_seas_risk, dtype: int64\n",
      "1.0    11870\n",
      "2.0     7633\n",
      "4.0     4852\n",
      "5.0     1721\n",
      "3.0       94\n",
      "Name: opinion_seas_sick_from_vacc, dtype: int64\n",
      "65+ Years        6843\n",
      "55 - 64 Years    5563\n",
      "45 - 54 Years    5238\n",
      "18 - 34 Years    5215\n",
      "35 - 44 Years    3848\n",
      "Name: age_group, dtype: int64\n",
      "College Graduate    10097\n",
      "Some College         7043\n",
      "12 Years             5797\n",
      "< 12 Years           2363\n",
      "Name: education, dtype: int64\n",
      "White                21222\n",
      "Black                 2118\n",
      "Hispanic              1755\n",
      "Other or Multiple     1612\n",
      "Name: race, dtype: int64\n",
      "Female    15858\n",
      "Male      10849\n",
      "Name: sex, dtype: int64\n",
      "<= $75,000, Above Poverty    12777\n",
      "> $75,000                     6810\n",
      "Below Poverty                 2697\n",
      "Name: income_poverty, dtype: int64\n",
      "Married        13555\n",
      "Not Married    11744\n",
      "Name: marital_status, dtype: int64\n",
      "Own     18736\n",
      "Rent     5929\n",
      "Name: rent_or_own, dtype: int64\n",
      "Employed              13560\n",
      "Not in Labor Force    10231\n",
      "Unemployed             1453\n",
      "Name: employment_status, dtype: int64\n",
      "lzgpxyit    4297\n",
      "fpwskwrf    3265\n",
      "qufhixun    3102\n",
      "oxchjgsf    2859\n",
      "kbazzjca    2858\n",
      "bhuqouqj    2846\n",
      "mlyzmhmf    2243\n",
      "lrircsnp    2078\n",
      "atmpeygn    2033\n",
      "dqpwygqj    1126\n",
      "Name: hhs_geo_region, dtype: int64\n",
      "MSA, Not Principle  City    11645\n",
      "MSA, Principle City          7864\n",
      "Non-MSA                      7198\n",
      "Name: census_msa, dtype: int64\n",
      "1.0    14474\n",
      "0.0     8056\n",
      "2.0     2803\n",
      "3.0     1125\n",
      "Name: household_adults, dtype: int64\n",
      "0.0    18672\n",
      "1.0     3175\n",
      "2.0     2864\n",
      "3.0     1747\n",
      "Name: household_children, dtype: int64\n",
      "fcxhlnwr    2468\n",
      "wxleyezf    1804\n",
      "ldnlellj    1231\n",
      "pxcmvdjn    1037\n",
      "atmlpfrs     926\n",
      "arjwrbjb     871\n",
      "xicduogh     851\n",
      "mfikgejo     614\n",
      "vjjrobsf     527\n",
      "rucpziij     523\n",
      "xqicxuve     511\n",
      "saaquncn     338\n",
      "cfqqtusy     325\n",
      "nduyfdeo     286\n",
      "mcubkhph     275\n",
      "wlfvacwt     215\n",
      "dotnnunm     201\n",
      "haxffmxo     148\n",
      "msuufmds     124\n",
      "phxvnwax      89\n",
      "qnlwzans      13\n",
      "Name: employment_industry, dtype: int64\n",
      "xtkaffoo    1778\n",
      "mxkfnird    1509\n",
      "emcorrxb    1270\n",
      "cmhcxjea    1247\n",
      "xgwztkwe    1082\n",
      "hfxkjkmi     766\n",
      "qxajmpny     548\n",
      "xqwwgdyp     485\n",
      "kldqjyjy     469\n",
      "uqqtjvyb     452\n",
      "tfqavkke     388\n",
      "ukymxvdu     372\n",
      "vlluhbov     354\n",
      "oijqvulv     344\n",
      "ccgxvspp     341\n",
      "bxpfxfdn     331\n",
      "haliazsg     296\n",
      "rcertsgn     276\n",
      "xzmlyyjv     248\n",
      "dlvbwzss     227\n",
      "hodpvpew     208\n",
      "dcjcmpih     148\n",
      "pvmttkik      98\n",
      "Name: employment_occupation, dtype: int64\n"
     ]
    }
   ],
   "source": [
    "for row in vaccine_data:\n",
    "    print(vaccine_data[row].value_counts())"
   ]
  },
  {
   "cell_type": "code",
<<<<<<< HEAD
   "execution_count": 10,
=======
   "execution_count": 48,
>>>>>>> 51d9e99e954723218d8902c654ad9f06e551671a
=======
   "execution_count": 384,
>>>>>>> f55d197c1325bb9dd41bd183e80ed0e8701a19e7
   "metadata": {
    "scrolled": true
   },
   "outputs": [
    {
     "data": {
      "text/plain": [
       "1.0    12697\n",
       "0.0     1736\n",
       "Name: health_insurance, dtype: int64"
      ]
     },
<<<<<<< HEAD
<<<<<<< HEAD
     "execution_count": 10,
=======
     "execution_count": 48,
>>>>>>> 51d9e99e954723218d8902c654ad9f06e551671a
=======
     "execution_count": 384,
>>>>>>> f55d197c1325bb9dd41bd183e80ed0e8701a19e7
     "metadata": {},
     "output_type": "execute_result"
    }
   ],
   "source": [
    "# Checking health insurance value counts \n",
    "\n",
    "vaccine_data['health_insurance'].value_counts()"
   ]
  },
  {
   "cell_type": "code",
<<<<<<< HEAD
<<<<<<< HEAD
   "execution_count": 11,
=======
   "execution_count": 49,
>>>>>>> 51d9e99e954723218d8902c654ad9f06e551671a
=======
   "execution_count": 385,
>>>>>>> f55d197c1325bb9dd41bd183e80ed0e8701a19e7
   "metadata": {},
   "outputs": [],
   "source": [
    "# Filling in health insurance with 3rd option to represent dont know/refused to answer \n",
    "\n",
    "vaccine_data['health_insurance'].fillna(value=2,inplace=True)"
   ]
  },
  {
   "cell_type": "code",
<<<<<<< HEAD
<<<<<<< HEAD
   "execution_count": 12,
=======
   "execution_count": 50,
>>>>>>> 51d9e99e954723218d8902c654ad9f06e551671a
=======
   "execution_count": 386,
>>>>>>> f55d197c1325bb9dd41bd183e80ed0e8701a19e7
   "metadata": {},
   "outputs": [],
   "source": [
    "# Dropping irrelevant columns related to the seasonal vaccine. Leaving in seasonal_vaccine target as potential\n",
    "# feature for informing the H1N1 model\n",
    "\n",
    "vaccine_data.drop(columns=['doctor_recc_seasonal','opinion_seas_vacc_effective'\\\n",
    "                          ,'opinion_seas_risk','opinion_seas_sick_from_vacc'],inplace=True)"
   ]
  },
  {
   "cell_type": "code",
<<<<<<< HEAD
<<<<<<< HEAD
   "execution_count": 13,
=======
   "execution_count": 51,
>>>>>>> 51d9e99e954723218d8902c654ad9f06e551671a
   "metadata": {},
   "outputs": [
    {
     "data": {
      "text/html": [
       "<div>\n",
       "<style scoped>\n",
       "    .dataframe tbody tr th:only-of-type {\n",
       "        vertical-align: middle;\n",
       "    }\n",
       "\n",
       "    .dataframe tbody tr th {\n",
       "        vertical-align: top;\n",
       "    }\n",
       "\n",
       "    .dataframe thead th {\n",
       "        text-align: right;\n",
       "    }\n",
       "</style>\n",
       "<table border=\"1\" class=\"dataframe\">\n",
       "  <thead>\n",
       "    <tr style=\"text-align: right;\">\n",
       "      <th></th>\n",
       "      <th>respondent_id</th>\n",
       "      <th>h1n1_vaccine</th>\n",
       "      <th>seasonal_vaccine</th>\n",
       "      <th>h1n1_concern</th>\n",
       "      <th>h1n1_knowledge</th>\n",
       "      <th>behavioral_antiviral_meds</th>\n",
       "      <th>behavioral_avoidance</th>\n",
       "      <th>behavioral_face_mask</th>\n",
       "      <th>behavioral_wash_hands</th>\n",
       "      <th>behavioral_large_gatherings</th>\n",
       "      <th>behavioral_outside_home</th>\n",
       "      <th>behavioral_touch_face</th>\n",
       "      <th>doctor_recc_h1n1</th>\n",
       "      <th>chronic_med_condition</th>\n",
       "      <th>child_under_6_months</th>\n",
       "      <th>health_worker</th>\n",
       "      <th>health_insurance</th>\n",
       "      <th>opinion_h1n1_vacc_effective</th>\n",
       "      <th>opinion_h1n1_risk</th>\n",
       "      <th>opinion_h1n1_sick_from_vacc</th>\n",
       "      <th>age_group</th>\n",
       "      <th>education</th>\n",
       "      <th>race</th>\n",
       "      <th>sex</th>\n",
       "      <th>income_poverty</th>\n",
       "      <th>marital_status</th>\n",
       "      <th>rent_or_own</th>\n",
       "      <th>employment_status</th>\n",
       "      <th>hhs_geo_region</th>\n",
       "      <th>census_msa</th>\n",
       "      <th>household_adults</th>\n",
       "      <th>household_children</th>\n",
       "      <th>employment_industry</th>\n",
       "      <th>employment_occupation</th>\n",
       "    </tr>\n",
       "  </thead>\n",
       "  <tbody>\n",
       "    <tr>\n",
       "      <th>26697</th>\n",
       "      <td>26697</td>\n",
       "      <td>0</td>\n",
       "      <td>0</td>\n",
       "      <td>1.0</td>\n",
       "      <td>1.0</td>\n",
       "      <td>0.0</td>\n",
       "      <td>1.0</td>\n",
       "      <td>0.0</td>\n",
       "      <td>1.0</td>\n",
       "      <td>0.0</td>\n",
       "      <td>1.0</td>\n",
       "      <td>1.0</td>\n",
       "      <td>1.0</td>\n",
       "      <td>0.0</td>\n",
       "      <td>0.0</td>\n",
       "      <td>0.0</td>\n",
       "      <td>1.0</td>\n",
       "      <td>4.0</td>\n",
       "      <td>2.0</td>\n",
       "      <td>2.0</td>\n",
       "      <td>65+ Years</td>\n",
       "      <td>College Graduate</td>\n",
       "      <td>White</td>\n",
       "      <td>Male</td>\n",
       "      <td>&gt; $75,000</td>\n",
       "      <td>Married</td>\n",
       "      <td>Own</td>\n",
       "      <td>Not in Labor Force</td>\n",
       "      <td>kbazzjca</td>\n",
       "      <td>MSA, Principle City</td>\n",
       "      <td>1.0</td>\n",
       "      <td>0.0</td>\n",
       "      <td>NaN</td>\n",
       "      <td>NaN</td>\n",
       "    </tr>\n",
       "    <tr>\n",
       "      <th>26698</th>\n",
       "      <td>26698</td>\n",
       "      <td>0</td>\n",
       "      <td>1</td>\n",
       "      <td>2.0</td>\n",
       "      <td>1.0</td>\n",
       "      <td>0.0</td>\n",
       "      <td>1.0</td>\n",
       "      <td>0.0</td>\n",
       "      <td>1.0</td>\n",
       "      <td>0.0</td>\n",
       "      <td>0.0</td>\n",
       "      <td>1.0</td>\n",
       "      <td>0.0</td>\n",
       "      <td>0.0</td>\n",
       "      <td>0.0</td>\n",
       "      <td>0.0</td>\n",
       "      <td>2.0</td>\n",
       "      <td>5.0</td>\n",
       "      <td>4.0</td>\n",
       "      <td>2.0</td>\n",
       "      <td>35 - 44 Years</td>\n",
       "      <td>College Graduate</td>\n",
       "      <td>White</td>\n",
       "      <td>Female</td>\n",
       "      <td>&gt; $75,000</td>\n",
       "      <td>Married</td>\n",
       "      <td>Own</td>\n",
       "      <td>Employed</td>\n",
       "      <td>atmpeygn</td>\n",
       "      <td>MSA, Not Principle  City</td>\n",
       "      <td>1.0</td>\n",
       "      <td>1.0</td>\n",
       "      <td>dotnnunm</td>\n",
       "      <td>mxkfnird</td>\n",
       "    </tr>\n",
       "    <tr>\n",
       "      <th>26699</th>\n",
       "      <td>26699</td>\n",
       "      <td>0</td>\n",
       "      <td>0</td>\n",
       "      <td>2.0</td>\n",
       "      <td>2.0</td>\n",
       "      <td>0.0</td>\n",
       "      <td>1.0</td>\n",
       "      <td>0.0</td>\n",
       "      <td>1.0</td>\n",
       "      <td>1.0</td>\n",
       "      <td>0.0</td>\n",
       "      <td>1.0</td>\n",
       "      <td>0.0</td>\n",
       "      <td>0.0</td>\n",
       "      <td>0.0</td>\n",
       "      <td>0.0</td>\n",
       "      <td>1.0</td>\n",
       "      <td>5.0</td>\n",
       "      <td>1.0</td>\n",
       "      <td>5.0</td>\n",
       "      <td>45 - 54 Years</td>\n",
       "      <td>Some College</td>\n",
       "      <td>White</td>\n",
       "      <td>Female</td>\n",
       "      <td>&lt;= $75,000, Above Poverty</td>\n",
       "      <td>Married</td>\n",
       "      <td>Own</td>\n",
       "      <td>Employed</td>\n",
       "      <td>qufhixun</td>\n",
       "      <td>MSA, Not Principle  City</td>\n",
       "      <td>1.0</td>\n",
       "      <td>0.0</td>\n",
       "      <td>pxcmvdjn</td>\n",
       "      <td>xgwztkwe</td>\n",
       "    </tr>\n",
       "    <tr>\n",
       "      <th>26700</th>\n",
       "      <td>26700</td>\n",
       "      <td>0</td>\n",
       "      <td>1</td>\n",
       "      <td>3.0</td>\n",
       "      <td>1.0</td>\n",
       "      <td>0.0</td>\n",
       "      <td>1.0</td>\n",
       "      <td>0.0</td>\n",
       "      <td>1.0</td>\n",
       "      <td>0.0</td>\n",
       "      <td>0.0</td>\n",
       "      <td>1.0</td>\n",
       "      <td>1.0</td>\n",
       "      <td>0.0</td>\n",
       "      <td>0.0</td>\n",
       "      <td>0.0</td>\n",
       "      <td>2.0</td>\n",
       "      <td>4.0</td>\n",
       "      <td>2.0</td>\n",
       "      <td>5.0</td>\n",
       "      <td>55 - 64 Years</td>\n",
       "      <td>12 Years</td>\n",
       "      <td>White</td>\n",
       "      <td>Female</td>\n",
       "      <td>&gt; $75,000</td>\n",
       "      <td>Married</td>\n",
       "      <td>Own</td>\n",
       "      <td>Not in Labor Force</td>\n",
       "      <td>lzgpxyit</td>\n",
       "      <td>MSA, Principle City</td>\n",
       "      <td>1.0</td>\n",
       "      <td>0.0</td>\n",
       "      <td>NaN</td>\n",
       "      <td>NaN</td>\n",
       "    </tr>\n",
       "    <tr>\n",
       "      <th>26701</th>\n",
       "      <td>26701</td>\n",
       "      <td>0</td>\n",
       "      <td>0</td>\n",
       "      <td>2.0</td>\n",
       "      <td>2.0</td>\n",
       "      <td>0.0</td>\n",
       "      <td>0.0</td>\n",
       "      <td>0.0</td>\n",
       "      <td>1.0</td>\n",
       "      <td>0.0</td>\n",
       "      <td>0.0</td>\n",
       "      <td>1.0</td>\n",
       "      <td>0.0</td>\n",
       "      <td>0.0</td>\n",
       "      <td>1.0</td>\n",
       "      <td>0.0</td>\n",
       "      <td>1.0</td>\n",
       "      <td>4.0</td>\n",
       "      <td>2.0</td>\n",
       "      <td>4.0</td>\n",
       "      <td>18 - 34 Years</td>\n",
       "      <td>College Graduate</td>\n",
       "      <td>White</td>\n",
       "      <td>Female</td>\n",
       "      <td>&gt; $75,000</td>\n",
       "      <td>Not Married</td>\n",
       "      <td>Rent</td>\n",
       "      <td>Not in Labor Force</td>\n",
       "      <td>fpwskwrf</td>\n",
       "      <td>MSA, Principle City</td>\n",
       "      <td>3.0</td>\n",
       "      <td>0.0</td>\n",
       "      <td>NaN</td>\n",
       "      <td>NaN</td>\n",
       "    </tr>\n",
       "    <tr>\n",
       "      <th>26702</th>\n",
       "      <td>26702</td>\n",
       "      <td>0</td>\n",
       "      <td>0</td>\n",
       "      <td>2.0</td>\n",
       "      <td>0.0</td>\n",
       "      <td>0.0</td>\n",
       "      <td>1.0</td>\n",
       "      <td>0.0</td>\n",
       "      <td>0.0</td>\n",
       "      <td>0.0</td>\n",
       "      <td>1.0</td>\n",
       "      <td>0.0</td>\n",
       "      <td>0.0</td>\n",
       "      <td>0.0</td>\n",
       "      <td>0.0</td>\n",
       "      <td>0.0</td>\n",
       "      <td>2.0</td>\n",
       "      <td>3.0</td>\n",
       "      <td>1.0</td>\n",
       "      <td>1.0</td>\n",
       "      <td>65+ Years</td>\n",
       "      <td>Some College</td>\n",
       "      <td>White</td>\n",
       "      <td>Female</td>\n",
       "      <td>&lt;= $75,000, Above Poverty</td>\n",
       "      <td>Not Married</td>\n",
       "      <td>Own</td>\n",
       "      <td>Not in Labor Force</td>\n",
       "      <td>qufhixun</td>\n",
       "      <td>Non-MSA</td>\n",
       "      <td>0.0</td>\n",
       "      <td>0.0</td>\n",
       "      <td>NaN</td>\n",
       "      <td>NaN</td>\n",
       "    </tr>\n",
       "    <tr>\n",
       "      <th>26703</th>\n",
       "      <td>26703</td>\n",
       "      <td>0</td>\n",
       "      <td>0</td>\n",
       "      <td>1.0</td>\n",
       "      <td>2.0</td>\n",
       "      <td>0.0</td>\n",
       "      <td>1.0</td>\n",
       "      <td>0.0</td>\n",
       "      <td>1.0</td>\n",
       "      <td>0.0</td>\n",
       "      <td>0.0</td>\n",
       "      <td>0.0</td>\n",
       "      <td>1.0</td>\n",
       "      <td>0.0</td>\n",
       "      <td>0.0</td>\n",
       "      <td>1.0</td>\n",
       "      <td>1.0</td>\n",
       "      <td>4.0</td>\n",
       "      <td>2.0</td>\n",
       "      <td>2.0</td>\n",
       "      <td>18 - 34 Years</td>\n",
       "      <td>College Graduate</td>\n",
       "      <td>White</td>\n",
       "      <td>Male</td>\n",
       "      <td>&lt;= $75,000, Above Poverty</td>\n",
       "      <td>Not Married</td>\n",
       "      <td>Rent</td>\n",
       "      <td>Employed</td>\n",
       "      <td>lzgpxyit</td>\n",
       "      <td>MSA, Principle City</td>\n",
       "      <td>1.0</td>\n",
       "      <td>0.0</td>\n",
       "      <td>fcxhlnwr</td>\n",
       "      <td>cmhcxjea</td>\n",
       "    </tr>\n",
       "    <tr>\n",
       "      <th>26704</th>\n",
       "      <td>26704</td>\n",
       "      <td>0</td>\n",
       "      <td>1</td>\n",
       "      <td>2.0</td>\n",
       "      <td>2.0</td>\n",
       "      <td>0.0</td>\n",
       "      <td>1.0</td>\n",
       "      <td>1.0</td>\n",
       "      <td>1.0</td>\n",
       "      <td>1.0</td>\n",
       "      <td>0.0</td>\n",
       "      <td>1.0</td>\n",
       "      <td>0.0</td>\n",
       "      <td>0.0</td>\n",
       "      <td>0.0</td>\n",
       "      <td>0.0</td>\n",
       "      <td>2.0</td>\n",
       "      <td>4.0</td>\n",
       "      <td>4.0</td>\n",
       "      <td>2.0</td>\n",
       "      <td>55 - 64 Years</td>\n",
       "      <td>Some College</td>\n",
       "      <td>White</td>\n",
       "      <td>Female</td>\n",
       "      <td>NaN</td>\n",
       "      <td>Not Married</td>\n",
       "      <td>Own</td>\n",
       "      <td>NaN</td>\n",
       "      <td>lzgpxyit</td>\n",
       "      <td>MSA, Not Principle  City</td>\n",
       "      <td>0.0</td>\n",
       "      <td>0.0</td>\n",
       "      <td>NaN</td>\n",
       "      <td>NaN</td>\n",
       "    </tr>\n",
       "    <tr>\n",
       "      <th>26705</th>\n",
       "      <td>26705</td>\n",
       "      <td>0</td>\n",
       "      <td>0</td>\n",
       "      <td>1.0</td>\n",
       "      <td>1.0</td>\n",
       "      <td>0.0</td>\n",
       "      <td>0.0</td>\n",
       "      <td>0.0</td>\n",
       "      <td>0.0</td>\n",
       "      <td>0.0</td>\n",
       "      <td>0.0</td>\n",
       "      <td>NaN</td>\n",
       "      <td>0.0</td>\n",
       "      <td>0.0</td>\n",
       "      <td>0.0</td>\n",
       "      <td>0.0</td>\n",
       "      <td>0.0</td>\n",
       "      <td>3.0</td>\n",
       "      <td>1.0</td>\n",
       "      <td>2.0</td>\n",
       "      <td>18 - 34 Years</td>\n",
       "      <td>Some College</td>\n",
       "      <td>Hispanic</td>\n",
       "      <td>Female</td>\n",
       "      <td>&lt;= $75,000, Above Poverty</td>\n",
       "      <td>Married</td>\n",
       "      <td>Rent</td>\n",
       "      <td>Employed</td>\n",
       "      <td>lrircsnp</td>\n",
       "      <td>Non-MSA</td>\n",
       "      <td>1.0</td>\n",
       "      <td>0.0</td>\n",
       "      <td>fcxhlnwr</td>\n",
       "      <td>haliazsg</td>\n",
       "    </tr>\n",
       "    <tr>\n",
       "      <th>26706</th>\n",
       "      <td>26706</td>\n",
       "      <td>0</td>\n",
       "      <td>0</td>\n",
       "      <td>0.0</td>\n",
       "      <td>0.0</td>\n",
       "      <td>0.0</td>\n",
       "      <td>1.0</td>\n",
       "      <td>0.0</td>\n",
       "      <td>0.0</td>\n",
       "      <td>0.0</td>\n",
       "      <td>0.0</td>\n",
       "      <td>0.0</td>\n",
       "      <td>0.0</td>\n",
       "      <td>0.0</td>\n",
       "      <td>0.0</td>\n",
       "      <td>0.0</td>\n",
       "      <td>1.0</td>\n",
       "      <td>5.0</td>\n",
       "      <td>1.0</td>\n",
       "      <td>1.0</td>\n",
       "      <td>65+ Years</td>\n",
       "      <td>Some College</td>\n",
       "      <td>White</td>\n",
       "      <td>Male</td>\n",
       "      <td>&lt;= $75,000, Above Poverty</td>\n",
       "      <td>Married</td>\n",
       "      <td>Own</td>\n",
       "      <td>Not in Labor Force</td>\n",
       "      <td>mlyzmhmf</td>\n",
       "      <td>MSA, Principle City</td>\n",
       "      <td>1.0</td>\n",
       "      <td>0.0</td>\n",
       "      <td>NaN</td>\n",
       "      <td>NaN</td>\n",
       "    </tr>\n",
       "  </tbody>\n",
       "</table>\n",
       "</div>"
      ],
      "text/plain": [
       "       respondent_id  h1n1_vaccine  seasonal_vaccine  h1n1_concern  \\\n",
       "26697          26697             0                 0           1.0   \n",
       "26698          26698             0                 1           2.0   \n",
       "26699          26699             0                 0           2.0   \n",
       "26700          26700             0                 1           3.0   \n",
       "26701          26701             0                 0           2.0   \n",
       "26702          26702             0                 0           2.0   \n",
       "26703          26703             0                 0           1.0   \n",
       "26704          26704             0                 1           2.0   \n",
       "26705          26705             0                 0           1.0   \n",
       "26706          26706             0                 0           0.0   \n",
       "\n",
       "       h1n1_knowledge  behavioral_antiviral_meds  behavioral_avoidance  \\\n",
       "26697             1.0                        0.0                   1.0   \n",
       "26698             1.0                        0.0                   1.0   \n",
       "26699             2.0                        0.0                   1.0   \n",
       "26700             1.0                        0.0                   1.0   \n",
       "26701             2.0                        0.0                   0.0   \n",
       "26702             0.0                        0.0                   1.0   \n",
       "26703             2.0                        0.0                   1.0   \n",
       "26704             2.0                        0.0                   1.0   \n",
       "26705             1.0                        0.0                   0.0   \n",
       "26706             0.0                        0.0                   1.0   \n",
       "\n",
       "       behavioral_face_mask  behavioral_wash_hands  \\\n",
       "26697                   0.0                    1.0   \n",
       "26698                   0.0                    1.0   \n",
       "26699                   0.0                    1.0   \n",
       "26700                   0.0                    1.0   \n",
       "26701                   0.0                    1.0   \n",
       "26702                   0.0                    0.0   \n",
       "26703                   0.0                    1.0   \n",
       "26704                   1.0                    1.0   \n",
       "26705                   0.0                    0.0   \n",
       "26706                   0.0                    0.0   \n",
       "\n",
       "       behavioral_large_gatherings  behavioral_outside_home  \\\n",
       "26697                          0.0                      1.0   \n",
       "26698                          0.0                      0.0   \n",
       "26699                          1.0                      0.0   \n",
       "26700                          0.0                      0.0   \n",
       "26701                          0.0                      0.0   \n",
       "26702                          0.0                      1.0   \n",
       "26703                          0.0                      0.0   \n",
       "26704                          1.0                      0.0   \n",
       "26705                          0.0                      0.0   \n",
       "26706                          0.0                      0.0   \n",
       "\n",
       "       behavioral_touch_face  doctor_recc_h1n1  chronic_med_condition  \\\n",
       "26697                    1.0               1.0                    0.0   \n",
       "26698                    1.0               0.0                    0.0   \n",
       "26699                    1.0               0.0                    0.0   \n",
       "26700                    1.0               1.0                    0.0   \n",
       "26701                    1.0               0.0                    0.0   \n",
       "26702                    0.0               0.0                    0.0   \n",
       "26703                    0.0               1.0                    0.0   \n",
       "26704                    1.0               0.0                    0.0   \n",
       "26705                    NaN               0.0                    0.0   \n",
       "26706                    0.0               0.0                    0.0   \n",
       "\n",
       "       child_under_6_months  health_worker  health_insurance  \\\n",
       "26697                   0.0            0.0               1.0   \n",
       "26698                   0.0            0.0               2.0   \n",
       "26699                   0.0            0.0               1.0   \n",
       "26700                   0.0            0.0               2.0   \n",
       "26701                   1.0            0.0               1.0   \n",
       "26702                   0.0            0.0               2.0   \n",
       "26703                   0.0            1.0               1.0   \n",
       "26704                   0.0            0.0               2.0   \n",
       "26705                   0.0            0.0               0.0   \n",
       "26706                   0.0            0.0               1.0   \n",
       "\n",
       "       opinion_h1n1_vacc_effective  opinion_h1n1_risk  \\\n",
       "26697                          4.0                2.0   \n",
       "26698                          5.0                4.0   \n",
       "26699                          5.0                1.0   \n",
       "26700                          4.0                2.0   \n",
       "26701                          4.0                2.0   \n",
       "26702                          3.0                1.0   \n",
       "26703                          4.0                2.0   \n",
       "26704                          4.0                4.0   \n",
       "26705                          3.0                1.0   \n",
       "26706                          5.0                1.0   \n",
       "\n",
       "       opinion_h1n1_sick_from_vacc      age_group         education      race  \\\n",
       "26697                          2.0      65+ Years  College Graduate     White   \n",
       "26698                          2.0  35 - 44 Years  College Graduate     White   \n",
       "26699                          5.0  45 - 54 Years      Some College     White   \n",
       "26700                          5.0  55 - 64 Years          12 Years     White   \n",
       "26701                          4.0  18 - 34 Years  College Graduate     White   \n",
       "26702                          1.0      65+ Years      Some College     White   \n",
       "26703                          2.0  18 - 34 Years  College Graduate     White   \n",
       "26704                          2.0  55 - 64 Years      Some College     White   \n",
       "26705                          2.0  18 - 34 Years      Some College  Hispanic   \n",
       "26706                          1.0      65+ Years      Some College     White   \n",
       "\n",
       "          sex             income_poverty marital_status rent_or_own  \\\n",
       "26697    Male                  > $75,000        Married         Own   \n",
       "26698  Female                  > $75,000        Married         Own   \n",
       "26699  Female  <= $75,000, Above Poverty        Married         Own   \n",
       "26700  Female                  > $75,000        Married         Own   \n",
       "26701  Female                  > $75,000    Not Married        Rent   \n",
       "26702  Female  <= $75,000, Above Poverty    Not Married         Own   \n",
       "26703    Male  <= $75,000, Above Poverty    Not Married        Rent   \n",
       "26704  Female                        NaN    Not Married         Own   \n",
       "26705  Female  <= $75,000, Above Poverty        Married        Rent   \n",
       "26706    Male  <= $75,000, Above Poverty        Married         Own   \n",
       "\n",
       "        employment_status hhs_geo_region                census_msa  \\\n",
       "26697  Not in Labor Force       kbazzjca       MSA, Principle City   \n",
       "26698            Employed       atmpeygn  MSA, Not Principle  City   \n",
       "26699            Employed       qufhixun  MSA, Not Principle  City   \n",
       "26700  Not in Labor Force       lzgpxyit       MSA, Principle City   \n",
       "26701  Not in Labor Force       fpwskwrf       MSA, Principle City   \n",
       "26702  Not in Labor Force       qufhixun                   Non-MSA   \n",
       "26703            Employed       lzgpxyit       MSA, Principle City   \n",
       "26704                 NaN       lzgpxyit  MSA, Not Principle  City   \n",
       "26705            Employed       lrircsnp                   Non-MSA   \n",
       "26706  Not in Labor Force       mlyzmhmf       MSA, Principle City   \n",
       "\n",
       "       household_adults  household_children employment_industry  \\\n",
       "26697               1.0                 0.0                 NaN   \n",
       "26698               1.0                 1.0            dotnnunm   \n",
       "26699               1.0                 0.0            pxcmvdjn   \n",
       "26700               1.0                 0.0                 NaN   \n",
       "26701               3.0                 0.0                 NaN   \n",
       "26702               0.0                 0.0                 NaN   \n",
       "26703               1.0                 0.0            fcxhlnwr   \n",
       "26704               0.0                 0.0                 NaN   \n",
       "26705               1.0                 0.0            fcxhlnwr   \n",
       "26706               1.0                 0.0                 NaN   \n",
       "\n",
       "      employment_occupation  \n",
       "26697                   NaN  \n",
       "26698              mxkfnird  \n",
       "26699              xgwztkwe  \n",
       "26700                   NaN  \n",
       "26701                   NaN  \n",
       "26702                   NaN  \n",
       "26703              cmhcxjea  \n",
       "26704                   NaN  \n",
       "26705              haliazsg  \n",
       "26706                   NaN  "
      ]
     },
<<<<<<< HEAD
     "execution_count": 13,
=======
     "execution_count": 51,
>>>>>>> 51d9e99e954723218d8902c654ad9f06e551671a
     "metadata": {},
     "output_type": "execute_result"
    }
   ],
   "source": [
    "vaccine_data.tail(10)"
   ]
  },
  {
   "cell_type": "code",
<<<<<<< HEAD
   "execution_count": 14,
=======
   "execution_count": 52,
>>>>>>> 51d9e99e954723218d8902c654ad9f06e551671a
=======
   "execution_count": 387,
>>>>>>> f55d197c1325bb9dd41bd183e80ed0e8701a19e7
   "metadata": {},
   "outputs": [
    {
     "data": {
      "text/plain": [
       "0    21033\n",
       "1     5674\n",
       "Name: h1n1_vaccine, dtype: int64"
      ]
     },
<<<<<<< HEAD
<<<<<<< HEAD
     "execution_count": 14,
=======
     "execution_count": 52,
>>>>>>> 51d9e99e954723218d8902c654ad9f06e551671a
=======
     "execution_count": 387,
>>>>>>> f55d197c1325bb9dd41bd183e80ed0e8701a19e7
     "metadata": {},
     "output_type": "execute_result"
    }
   ],
   "source": [
    "# Checking for class imbalance in target \n",
    "\n",
    "vaccine_data['h1n1_vaccine'].value_counts()"
   ]
  },
  {
   "cell_type": "markdown",
   "metadata": {},
   "source": [
    "**Note:** There is imbalance in the H1N1 target. Will need to use SMOTE to oversample the minority class ahead of making our models "
   ]
  },
  {
   "cell_type": "code",
<<<<<<< HEAD
<<<<<<< HEAD
   "execution_count": 15,
=======
   "execution_count": 53,
>>>>>>> 51d9e99e954723218d8902c654ad9f06e551671a
=======
   "execution_count": 388,
>>>>>>> f55d197c1325bb9dd41bd183e80ed0e8701a19e7
   "metadata": {},
   "outputs": [],
   "source": [
    "# Defining function to plot relevant columns against target\n",
    "\n",
    "def vaccination_rate_plot(col, target, data, ax=None):\n",
    "    \"\"\"Stacked bar chart of vaccination rate for `target` against \n",
    "    `col`. \n",
    "    \n",
    "    Args:\n",
    "        col (string): column name of feature variable\n",
    "        target (string): column name of target variable\n",
    "        data (pandas DataFrame): dataframe that contains columns \n",
    "            `col` and `target`\n",
    "        ax (matplotlib axes object, optional): matplotlib axes \n",
    "            object to attach plot to\n",
    "    \"\"\"\n",
    "    counts = (vaccine_data[[target, col]]\n",
    "                  .groupby([target, col])\n",
    "                  .size()\n",
    "                  .unstack(target)\n",
    "             )\n",
    "    group_counts = counts.sum(axis='columns')\n",
    "    props = counts.div(group_counts, axis='index')\n",
    "\n",
    "    props.plot(kind=\"barh\", stacked=True, ax=ax)\n",
    "    ax.invert_yaxis()\n",
    "    ax.legend().remove()"
   ]
  },
  {
   "cell_type": "code",
<<<<<<< HEAD
<<<<<<< HEAD
   "execution_count": 16,
=======
   "execution_count": 54,
>>>>>>> 51d9e99e954723218d8902c654ad9f06e551671a
=======
   "execution_count": 389,
>>>>>>> f55d197c1325bb9dd41bd183e80ed0e8701a19e7
   "metadata": {
    "scrolled": false
   },
   "outputs": [
    {
     "data": {
      "image/png": "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\n",
      "text/plain": [
       "<Figure size 648x1440 with 8 Axes>"
      ]
     },
     "metadata": {
      "needs_background": "light"
     },
     "output_type": "display_data"
    }
   ],
   "source": [
    "# Visualizing relationships between target and select features covering knowledge, opinions and demographics\n",
    "\n",
    "cols_to_plot = [\n",
    "    'h1n1_concern',\n",
    "    'h1n1_knowledge',\n",
    "    'opinion_h1n1_vacc_effective',\n",
    "    'opinion_h1n1_risk',\n",
    "    'opinion_h1n1_sick_from_vacc',\n",
    "    'sex',\n",
    "    'age_group',\n",
    "    'race',\n",
    "]\n",
    "\n",
    "fig, ax = plt.subplots(\n",
    "    len(cols_to_plot), 1,  figsize=(9,len(cols_to_plot)*2.5)\n",
    ")\n",
    "for  idx,col in enumerate(cols_to_plot):\n",
    "    vaccination_rate_plot(\n",
    "        col, 'h1n1_vaccine', vaccine_data,ax=ax[idx] \n",
    "    )\n",
    "    \n",
    "ax[0].legend(\n",
    "     bbox_to_anchor=(0.5, 1.05), title='h1n1_vaccine'\n",
    ")\n",
    "\n",
    "fig.tight_layout()"
   ]
  },
  {
   "cell_type": "markdown",
   "metadata": {},
   "source": [
    "## Identifying Predictors and Targets"
   ]
  },
  {
   "cell_type": "code",
<<<<<<< HEAD
<<<<<<< HEAD
   "execution_count": 17,
=======
   "execution_count": 55,
>>>>>>> 51d9e99e954723218d8902c654ad9f06e551671a
=======
   "execution_count": 390,
>>>>>>> f55d197c1325bb9dd41bd183e80ed0e8701a19e7
   "metadata": {},
   "outputs": [],
   "source": [
    "# Isolating numeric columns into new DF\n",
    "\n",
    "numeric_cols = vaccine_data.columns[vaccine_data.dtypes != \"object\"].values\n",
    "numeric_data = vaccine_data[numeric_cols]"
   ]
  },
  {
   "cell_type": "code",
<<<<<<< HEAD
<<<<<<< HEAD
   "execution_count": 18,
=======
   "execution_count": 56,
>>>>>>> 51d9e99e954723218d8902c654ad9f06e551671a
=======
   "execution_count": 391,
>>>>>>> f55d197c1325bb9dd41bd183e80ed0e8701a19e7
   "metadata": {},
   "outputs": [
    {
     "data": {
      "text/html": [
       "<div>\n",
       "<style scoped>\n",
       "    .dataframe tbody tr th:only-of-type {\n",
       "        vertical-align: middle;\n",
       "    }\n",
       "\n",
       "    .dataframe tbody tr th {\n",
       "        vertical-align: top;\n",
       "    }\n",
       "\n",
       "    .dataframe thead th {\n",
       "        text-align: right;\n",
       "    }\n",
       "</style>\n",
       "<table border=\"1\" class=\"dataframe\">\n",
       "  <thead>\n",
       "    <tr style=\"text-align: right;\">\n",
       "      <th></th>\n",
       "      <th>respondent_id</th>\n",
       "      <th>h1n1_vaccine</th>\n",
       "      <th>seasonal_vaccine</th>\n",
       "      <th>h1n1_concern</th>\n",
       "      <th>h1n1_knowledge</th>\n",
       "      <th>behavioral_antiviral_meds</th>\n",
       "      <th>behavioral_avoidance</th>\n",
       "      <th>behavioral_face_mask</th>\n",
       "      <th>behavioral_wash_hands</th>\n",
       "      <th>behavioral_large_gatherings</th>\n",
       "      <th>behavioral_outside_home</th>\n",
       "      <th>behavioral_touch_face</th>\n",
       "      <th>doctor_recc_h1n1</th>\n",
       "      <th>chronic_med_condition</th>\n",
       "      <th>child_under_6_months</th>\n",
       "      <th>health_worker</th>\n",
       "      <th>health_insurance</th>\n",
       "      <th>opinion_h1n1_vacc_effective</th>\n",
       "      <th>opinion_h1n1_risk</th>\n",
       "      <th>opinion_h1n1_sick_from_vacc</th>\n",
       "      <th>household_adults</th>\n",
       "      <th>household_children</th>\n",
       "    </tr>\n",
       "  </thead>\n",
       "  <tbody>\n",
       "    <tr>\n",
       "      <th>0</th>\n",
       "      <td>0</td>\n",
       "      <td>0</td>\n",
       "      <td>0</td>\n",
       "      <td>1.0</td>\n",
       "      <td>0.0</td>\n",
       "      <td>0.0</td>\n",
       "      <td>0.0</td>\n",
       "      <td>0.0</td>\n",
       "      <td>0.0</td>\n",
       "      <td>0.0</td>\n",
       "      <td>1.0</td>\n",
       "      <td>1.0</td>\n",
       "      <td>0.0</td>\n",
       "      <td>0.0</td>\n",
       "      <td>0.0</td>\n",
       "      <td>0.0</td>\n",
       "      <td>1.0</td>\n",
       "      <td>3.0</td>\n",
       "      <td>1.0</td>\n",
       "      <td>2.0</td>\n",
       "      <td>0.0</td>\n",
       "      <td>0.0</td>\n",
       "    </tr>\n",
       "    <tr>\n",
       "      <th>1</th>\n",
       "      <td>1</td>\n",
       "      <td>0</td>\n",
       "      <td>1</td>\n",
       "      <td>3.0</td>\n",
       "      <td>2.0</td>\n",
       "      <td>0.0</td>\n",
       "      <td>1.0</td>\n",
       "      <td>0.0</td>\n",
       "      <td>1.0</td>\n",
       "      <td>0.0</td>\n",
       "      <td>1.0</td>\n",
       "      <td>1.0</td>\n",
       "      <td>0.0</td>\n",
       "      <td>0.0</td>\n",
       "      <td>0.0</td>\n",
       "      <td>0.0</td>\n",
       "      <td>1.0</td>\n",
       "      <td>5.0</td>\n",
       "      <td>4.0</td>\n",
       "      <td>4.0</td>\n",
       "      <td>0.0</td>\n",
       "      <td>0.0</td>\n",
       "    </tr>\n",
       "    <tr>\n",
       "      <th>2</th>\n",
       "      <td>2</td>\n",
       "      <td>0</td>\n",
       "      <td>0</td>\n",
       "      <td>1.0</td>\n",
       "      <td>1.0</td>\n",
       "      <td>0.0</td>\n",
       "      <td>1.0</td>\n",
       "      <td>0.0</td>\n",
       "      <td>0.0</td>\n",
       "      <td>0.0</td>\n",
       "      <td>0.0</td>\n",
       "      <td>0.0</td>\n",
       "      <td>NaN</td>\n",
       "      <td>1.0</td>\n",
       "      <td>0.0</td>\n",
       "      <td>0.0</td>\n",
       "      <td>2.0</td>\n",
       "      <td>3.0</td>\n",
       "      <td>1.0</td>\n",
       "      <td>1.0</td>\n",
       "      <td>2.0</td>\n",
       "      <td>0.0</td>\n",
       "    </tr>\n",
       "    <tr>\n",
       "      <th>3</th>\n",
       "      <td>3</td>\n",
       "      <td>0</td>\n",
       "      <td>1</td>\n",
       "      <td>1.0</td>\n",
       "      <td>1.0</td>\n",
       "      <td>0.0</td>\n",
       "      <td>1.0</td>\n",
       "      <td>0.0</td>\n",
       "      <td>1.0</td>\n",
       "      <td>1.0</td>\n",
       "      <td>0.0</td>\n",
       "      <td>0.0</td>\n",
       "      <td>0.0</td>\n",
       "      <td>1.0</td>\n",
       "      <td>0.0</td>\n",
       "      <td>0.0</td>\n",
       "      <td>2.0</td>\n",
       "      <td>3.0</td>\n",
       "      <td>3.0</td>\n",
       "      <td>5.0</td>\n",
       "      <td>0.0</td>\n",
       "      <td>0.0</td>\n",
       "    </tr>\n",
       "    <tr>\n",
       "      <th>4</th>\n",
       "      <td>4</td>\n",
       "      <td>0</td>\n",
       "      <td>0</td>\n",
       "      <td>2.0</td>\n",
       "      <td>1.0</td>\n",
       "      <td>0.0</td>\n",
       "      <td>1.0</td>\n",
       "      <td>0.0</td>\n",
       "      <td>1.0</td>\n",
       "      <td>1.0</td>\n",
       "      <td>0.0</td>\n",
       "      <td>1.0</td>\n",
       "      <td>0.0</td>\n",
       "      <td>0.0</td>\n",
       "      <td>0.0</td>\n",
       "      <td>0.0</td>\n",
       "      <td>2.0</td>\n",
       "      <td>3.0</td>\n",
       "      <td>3.0</td>\n",
       "      <td>2.0</td>\n",
       "      <td>1.0</td>\n",
       "      <td>0.0</td>\n",
       "    </tr>\n",
       "    <tr>\n",
       "      <th>...</th>\n",
       "      <td>...</td>\n",
       "      <td>...</td>\n",
       "      <td>...</td>\n",
       "      <td>...</td>\n",
       "      <td>...</td>\n",
       "      <td>...</td>\n",
       "      <td>...</td>\n",
       "      <td>...</td>\n",
       "      <td>...</td>\n",
       "      <td>...</td>\n",
       "      <td>...</td>\n",
       "      <td>...</td>\n",
       "      <td>...</td>\n",
       "      <td>...</td>\n",
       "      <td>...</td>\n",
       "      <td>...</td>\n",
       "      <td>...</td>\n",
       "      <td>...</td>\n",
       "      <td>...</td>\n",
       "      <td>...</td>\n",
       "      <td>...</td>\n",
       "      <td>...</td>\n",
       "    </tr>\n",
       "    <tr>\n",
       "      <th>26702</th>\n",
       "      <td>26702</td>\n",
       "      <td>0</td>\n",
       "      <td>0</td>\n",
       "      <td>2.0</td>\n",
       "      <td>0.0</td>\n",
       "      <td>0.0</td>\n",
       "      <td>1.0</td>\n",
       "      <td>0.0</td>\n",
       "      <td>0.0</td>\n",
       "      <td>0.0</td>\n",
       "      <td>1.0</td>\n",
       "      <td>0.0</td>\n",
       "      <td>0.0</td>\n",
       "      <td>0.0</td>\n",
       "      <td>0.0</td>\n",
       "      <td>0.0</td>\n",
       "      <td>2.0</td>\n",
       "      <td>3.0</td>\n",
       "      <td>1.0</td>\n",
       "      <td>1.0</td>\n",
       "      <td>0.0</td>\n",
       "      <td>0.0</td>\n",
       "    </tr>\n",
       "    <tr>\n",
       "      <th>26703</th>\n",
       "      <td>26703</td>\n",
       "      <td>0</td>\n",
       "      <td>0</td>\n",
       "      <td>1.0</td>\n",
       "      <td>2.0</td>\n",
       "      <td>0.0</td>\n",
       "      <td>1.0</td>\n",
       "      <td>0.0</td>\n",
       "      <td>1.0</td>\n",
       "      <td>0.0</td>\n",
       "      <td>0.0</td>\n",
       "      <td>0.0</td>\n",
       "      <td>1.0</td>\n",
       "      <td>0.0</td>\n",
       "      <td>0.0</td>\n",
       "      <td>1.0</td>\n",
       "      <td>1.0</td>\n",
       "      <td>4.0</td>\n",
       "      <td>2.0</td>\n",
       "      <td>2.0</td>\n",
       "      <td>1.0</td>\n",
       "      <td>0.0</td>\n",
       "    </tr>\n",
       "    <tr>\n",
       "      <th>26704</th>\n",
       "      <td>26704</td>\n",
       "      <td>0</td>\n",
       "      <td>1</td>\n",
       "      <td>2.0</td>\n",
       "      <td>2.0</td>\n",
       "      <td>0.0</td>\n",
       "      <td>1.0</td>\n",
       "      <td>1.0</td>\n",
       "      <td>1.0</td>\n",
       "      <td>1.0</td>\n",
       "      <td>0.0</td>\n",
       "      <td>1.0</td>\n",
       "      <td>0.0</td>\n",
       "      <td>0.0</td>\n",
       "      <td>0.0</td>\n",
       "      <td>0.0</td>\n",
       "      <td>2.0</td>\n",
       "      <td>4.0</td>\n",
       "      <td>4.0</td>\n",
       "      <td>2.0</td>\n",
       "      <td>0.0</td>\n",
       "      <td>0.0</td>\n",
       "    </tr>\n",
       "    <tr>\n",
       "      <th>26705</th>\n",
       "      <td>26705</td>\n",
       "      <td>0</td>\n",
       "      <td>0</td>\n",
       "      <td>1.0</td>\n",
       "      <td>1.0</td>\n",
       "      <td>0.0</td>\n",
       "      <td>0.0</td>\n",
       "      <td>0.0</td>\n",
       "      <td>0.0</td>\n",
       "      <td>0.0</td>\n",
       "      <td>0.0</td>\n",
       "      <td>NaN</td>\n",
       "      <td>0.0</td>\n",
       "      <td>0.0</td>\n",
       "      <td>0.0</td>\n",
       "      <td>0.0</td>\n",
       "      <td>0.0</td>\n",
       "      <td>3.0</td>\n",
       "      <td>1.0</td>\n",
       "      <td>2.0</td>\n",
       "      <td>1.0</td>\n",
       "      <td>0.0</td>\n",
       "    </tr>\n",
       "    <tr>\n",
       "      <th>26706</th>\n",
       "      <td>26706</td>\n",
       "      <td>0</td>\n",
       "      <td>0</td>\n",
       "      <td>0.0</td>\n",
       "      <td>0.0</td>\n",
       "      <td>0.0</td>\n",
       "      <td>1.0</td>\n",
       "      <td>0.0</td>\n",
       "      <td>0.0</td>\n",
       "      <td>0.0</td>\n",
       "      <td>0.0</td>\n",
       "      <td>0.0</td>\n",
       "      <td>0.0</td>\n",
       "      <td>0.0</td>\n",
       "      <td>0.0</td>\n",
       "      <td>0.0</td>\n",
       "      <td>1.0</td>\n",
       "      <td>5.0</td>\n",
       "      <td>1.0</td>\n",
       "      <td>1.0</td>\n",
       "      <td>1.0</td>\n",
       "      <td>0.0</td>\n",
       "    </tr>\n",
       "  </tbody>\n",
       "</table>\n",
       "<p>26707 rows × 22 columns</p>\n",
       "</div>"
      ],
      "text/plain": [
       "       respondent_id  h1n1_vaccine  seasonal_vaccine  h1n1_concern  \\\n",
       "0                  0             0                 0           1.0   \n",
       "1                  1             0                 1           3.0   \n",
       "2                  2             0                 0           1.0   \n",
       "3                  3             0                 1           1.0   \n",
       "4                  4             0                 0           2.0   \n",
       "...              ...           ...               ...           ...   \n",
       "26702          26702             0                 0           2.0   \n",
       "26703          26703             0                 0           1.0   \n",
       "26704          26704             0                 1           2.0   \n",
       "26705          26705             0                 0           1.0   \n",
       "26706          26706             0                 0           0.0   \n",
       "\n",
       "       h1n1_knowledge  behavioral_antiviral_meds  behavioral_avoidance  \\\n",
       "0                 0.0                        0.0                   0.0   \n",
       "1                 2.0                        0.0                   1.0   \n",
       "2                 1.0                        0.0                   1.0   \n",
       "3                 1.0                        0.0                   1.0   \n",
       "4                 1.0                        0.0                   1.0   \n",
       "...               ...                        ...                   ...   \n",
       "26702             0.0                        0.0                   1.0   \n",
       "26703             2.0                        0.0                   1.0   \n",
       "26704             2.0                        0.0                   1.0   \n",
       "26705             1.0                        0.0                   0.0   \n",
       "26706             0.0                        0.0                   1.0   \n",
       "\n",
       "       behavioral_face_mask  behavioral_wash_hands  \\\n",
       "0                       0.0                    0.0   \n",
       "1                       0.0                    1.0   \n",
       "2                       0.0                    0.0   \n",
       "3                       0.0                    1.0   \n",
       "4                       0.0                    1.0   \n",
       "...                     ...                    ...   \n",
       "26702                   0.0                    0.0   \n",
       "26703                   0.0                    1.0   \n",
       "26704                   1.0                    1.0   \n",
       "26705                   0.0                    0.0   \n",
       "26706                   0.0                    0.0   \n",
       "\n",
       "       behavioral_large_gatherings  behavioral_outside_home  \\\n",
       "0                              0.0                      1.0   \n",
       "1                              0.0                      1.0   \n",
       "2                              0.0                      0.0   \n",
       "3                              1.0                      0.0   \n",
       "4                              1.0                      0.0   \n",
       "...                            ...                      ...   \n",
       "26702                          0.0                      1.0   \n",
       "26703                          0.0                      0.0   \n",
       "26704                          1.0                      0.0   \n",
       "26705                          0.0                      0.0   \n",
       "26706                          0.0                      0.0   \n",
       "\n",
       "       behavioral_touch_face  doctor_recc_h1n1  chronic_med_condition  \\\n",
       "0                        1.0               0.0                    0.0   \n",
       "1                        1.0               0.0                    0.0   \n",
       "2                        0.0               NaN                    1.0   \n",
       "3                        0.0               0.0                    1.0   \n",
       "4                        1.0               0.0                    0.0   \n",
       "...                      ...               ...                    ...   \n",
       "26702                    0.0               0.0                    0.0   \n",
       "26703                    0.0               1.0                    0.0   \n",
       "26704                    1.0               0.0                    0.0   \n",
       "26705                    NaN               0.0                    0.0   \n",
       "26706                    0.0               0.0                    0.0   \n",
       "\n",
       "       child_under_6_months  health_worker  health_insurance  \\\n",
       "0                       0.0            0.0               1.0   \n",
       "1                       0.0            0.0               1.0   \n",
       "2                       0.0            0.0               2.0   \n",
       "3                       0.0            0.0               2.0   \n",
       "4                       0.0            0.0               2.0   \n",
       "...                     ...            ...               ...   \n",
       "26702                   0.0            0.0               2.0   \n",
       "26703                   0.0            1.0               1.0   \n",
       "26704                   0.0            0.0               2.0   \n",
       "26705                   0.0            0.0               0.0   \n",
       "26706                   0.0            0.0               1.0   \n",
       "\n",
       "       opinion_h1n1_vacc_effective  opinion_h1n1_risk  \\\n",
       "0                              3.0                1.0   \n",
       "1                              5.0                4.0   \n",
       "2                              3.0                1.0   \n",
       "3                              3.0                3.0   \n",
       "4                              3.0                3.0   \n",
       "...                            ...                ...   \n",
       "26702                          3.0                1.0   \n",
       "26703                          4.0                2.0   \n",
       "26704                          4.0                4.0   \n",
       "26705                          3.0                1.0   \n",
       "26706                          5.0                1.0   \n",
       "\n",
       "       opinion_h1n1_sick_from_vacc  household_adults  household_children  \n",
       "0                              2.0               0.0                 0.0  \n",
       "1                              4.0               0.0                 0.0  \n",
       "2                              1.0               2.0                 0.0  \n",
       "3                              5.0               0.0                 0.0  \n",
       "4                              2.0               1.0                 0.0  \n",
       "...                            ...               ...                 ...  \n",
       "26702                          1.0               0.0                 0.0  \n",
       "26703                          2.0               1.0                 0.0  \n",
       "26704                          2.0               0.0                 0.0  \n",
       "26705                          2.0               1.0                 0.0  \n",
       "26706                          1.0               1.0                 0.0  \n",
       "\n",
       "[26707 rows x 22 columns]"
      ]
     },
<<<<<<< HEAD
<<<<<<< HEAD
     "execution_count": 18,
=======
     "execution_count": 56,
>>>>>>> 51d9e99e954723218d8902c654ad9f06e551671a
=======
     "execution_count": 391,
>>>>>>> f55d197c1325bb9dd41bd183e80ed0e8701a19e7
     "metadata": {},
     "output_type": "execute_result"
    }
   ],
   "source": [
    "numeric_data"
   ]
  },
  {
   "cell_type": "code",
<<<<<<< HEAD
<<<<<<< HEAD
   "execution_count": 19,
=======
   "execution_count": 57,
>>>>>>> 51d9e99e954723218d8902c654ad9f06e551671a
=======
   "execution_count": 392,
>>>>>>> f55d197c1325bb9dd41bd183e80ed0e8701a19e7
   "metadata": {},
   "outputs": [],
   "source": [
    "# Isolating object columns\n",
    "\n",
    "object_cols = vaccine_data.columns[vaccine_data.dtypes == 'object'].values\n",
    "df_object = vaccine_data[object_cols]"
   ]
  },
  {
   "cell_type": "code",
<<<<<<< HEAD
<<<<<<< HEAD
   "execution_count": 20,
=======
   "execution_count": 58,
>>>>>>> 51d9e99e954723218d8902c654ad9f06e551671a
=======
   "execution_count": 393,
>>>>>>> f55d197c1325bb9dd41bd183e80ed0e8701a19e7
   "metadata": {},
   "outputs": [],
   "source": [
    "# Dropping columns due to large amount of unknown information\n",
    "\n",
    "df_object = df_object.drop(labels=['employment_industry', 'employment_occupation', 'hhs_geo_region'], axis=1)"
   ]
  },
  {
   "cell_type": "code",
<<<<<<< HEAD
<<<<<<< HEAD
   "execution_count": 21,
=======
   "execution_count": 59,
>>>>>>> 51d9e99e954723218d8902c654ad9f06e551671a
=======
   "execution_count": 394,
>>>>>>> f55d197c1325bb9dd41bd183e80ed0e8701a19e7
   "metadata": {},
   "outputs": [],
   "source": [
    "# Joining object columns with training lables \n",
    "\n",
    "df_full_object = df_object.join(training_labels)"
   ]
  },
  {
   "cell_type": "code",
<<<<<<< HEAD
<<<<<<< HEAD
   "execution_count": 22,
=======
   "execution_count": 60,
>>>>>>> 51d9e99e954723218d8902c654ad9f06e551671a
=======
   "execution_count": 395,
>>>>>>> f55d197c1325bb9dd41bd183e80ed0e8701a19e7
   "metadata": {},
   "outputs": [
    {
     "name": "stdout",
     "output_type": "stream",
     "text": [
      "<class 'pandas.core.frame.DataFrame'>\n",
      "Int64Index: 26707 entries, 0 to 26706\n",
      "Data columns (total 12 columns):\n",
      " #   Column             Non-Null Count  Dtype \n",
      "---  ------             --------------  ----- \n",
      " 0   age_group          26707 non-null  object\n",
      " 1   education          25300 non-null  object\n",
      " 2   race               26707 non-null  object\n",
      " 3   sex                26707 non-null  object\n",
      " 4   income_poverty     22284 non-null  object\n",
      " 5   marital_status     25299 non-null  object\n",
      " 6   rent_or_own        24665 non-null  object\n",
      " 7   employment_status  25244 non-null  object\n",
      " 8   census_msa         26707 non-null  object\n",
      " 9   respondent_id      26707 non-null  int64 \n",
      " 10  h1n1_vaccine       26707 non-null  int64 \n",
      " 11  seasonal_vaccine   26707 non-null  int64 \n",
      "dtypes: int64(3), object(9)\n",
      "memory usage: 3.9+ MB\n"
     ]
    }
   ],
   "source": [
    "df_full_object.info()"
   ]
  },
  {
   "cell_type": "code",
<<<<<<< HEAD
<<<<<<< HEAD
   "execution_count": 23,
=======
   "execution_count": 61,
>>>>>>> 51d9e99e954723218d8902c654ad9f06e551671a
=======
   "execution_count": 396,
>>>>>>> f55d197c1325bb9dd41bd183e80ed0e8701a19e7
   "metadata": {},
   "outputs": [],
   "source": [
    "# Dropping seasonal vaccine target from object dataframe\n",
    "\n",
    "df_full_object.drop(labels=['seasonal_vaccine'], axis=1, inplace = True)"
   ]
  },
  {
   "cell_type": "code",
<<<<<<< HEAD
<<<<<<< HEAD
   "execution_count": 24,
=======
   "execution_count": 62,
>>>>>>> 51d9e99e954723218d8902c654ad9f06e551671a
=======
   "execution_count": 397,
>>>>>>> f55d197c1325bb9dd41bd183e80ed0e8701a19e7
   "metadata": {},
   "outputs": [
    {
     "data": {
      "text/plain": [
       "SimpleImputer(strategy='most_frequent')"
      ]
     },
<<<<<<< HEAD
<<<<<<< HEAD
     "execution_count": 24,
=======
     "execution_count": 62,
>>>>>>> 51d9e99e954723218d8902c654ad9f06e551671a
=======
     "execution_count": 397,
>>>>>>> f55d197c1325bb9dd41bd183e80ed0e8701a19e7
     "metadata": {},
     "output_type": "execute_result"
    }
   ],
   "source": [
    "## Imputing missing values with the most frequent value \n",
    "\n",
    "categorical_feature_names = [\"age_group\", \"education\", \"race\", \"sex\", \"income_poverty\", \"marital_status\", \"rent_or_own\",\n",
    "                            \"employment_status\", \"census_msa\"]\n",
    "\n",
    "categorical_imputer = SimpleImputer(strategy=\"most_frequent\")\n",
    "\n",
    "categorical_imputer.fit(df_full_object)\n"
   ]
  },
  {
   "cell_type": "code",
<<<<<<< HEAD
<<<<<<< HEAD
   "execution_count": 25,
=======
   "execution_count": 63,
>>>>>>> 51d9e99e954723218d8902c654ad9f06e551671a
=======
   "execution_count": 398,
>>>>>>> f55d197c1325bb9dd41bd183e80ed0e8701a19e7
   "metadata": {},
   "outputs": [],
   "source": [
    "# defining function impute missing data from a DF\n",
    "\n",
    "def impute_missing_values(X, imputer):\n",
    "    \"\"\"\n",
    "    Given a DataFrame and an imputer, use the imputer to fill in all\n",
    "    missing values in the DataFrame\n",
    "    \"\"\"\n",
    "    imputed_array = imputer.transform(X)\n",
    "    imputed_df = pd.DataFrame(imputed_array, columns=X.columns, index=X.index)\n",
    "    return imputed_df"
   ]
  },
  {
   "cell_type": "code",
<<<<<<< HEAD
<<<<<<< HEAD
   "execution_count": 26,
=======
   "execution_count": 64,
>>>>>>> 51d9e99e954723218d8902c654ad9f06e551671a
=======
   "execution_count": 399,
>>>>>>> f55d197c1325bb9dd41bd183e80ed0e8701a19e7
   "metadata": {},
   "outputs": [
    {
     "data": {
      "text/html": [
       "<div>\n",
       "<style scoped>\n",
       "    .dataframe tbody tr th:only-of-type {\n",
       "        vertical-align: middle;\n",
       "    }\n",
       "\n",
       "    .dataframe tbody tr th {\n",
       "        vertical-align: top;\n",
       "    }\n",
       "\n",
       "    .dataframe thead th {\n",
       "        text-align: right;\n",
       "    }\n",
       "</style>\n",
       "<table border=\"1\" class=\"dataframe\">\n",
       "  <thead>\n",
       "    <tr style=\"text-align: right;\">\n",
       "      <th></th>\n",
       "      <th>age_group</th>\n",
       "      <th>education</th>\n",
       "      <th>race</th>\n",
       "      <th>sex</th>\n",
       "      <th>income_poverty</th>\n",
       "      <th>marital_status</th>\n",
       "      <th>rent_or_own</th>\n",
       "      <th>employment_status</th>\n",
       "      <th>census_msa</th>\n",
       "      <th>respondent_id</th>\n",
       "      <th>h1n1_vaccine</th>\n",
       "    </tr>\n",
       "  </thead>\n",
       "  <tbody>\n",
       "    <tr>\n",
       "      <th>0</th>\n",
       "      <td>55 - 64 Years</td>\n",
       "      <td>&lt; 12 Years</td>\n",
       "      <td>White</td>\n",
       "      <td>Female</td>\n",
       "      <td>Below Poverty</td>\n",
       "      <td>Not Married</td>\n",
       "      <td>Own</td>\n",
       "      <td>Not in Labor Force</td>\n",
       "      <td>Non-MSA</td>\n",
       "      <td>0</td>\n",
       "      <td>0</td>\n",
       "    </tr>\n",
       "    <tr>\n",
       "      <th>1</th>\n",
       "      <td>35 - 44 Years</td>\n",
       "      <td>12 Years</td>\n",
       "      <td>White</td>\n",
       "      <td>Male</td>\n",
       "      <td>Below Poverty</td>\n",
       "      <td>Not Married</td>\n",
       "      <td>Rent</td>\n",
       "      <td>Employed</td>\n",
       "      <td>MSA, Not Principle  City</td>\n",
       "      <td>1</td>\n",
       "      <td>0</td>\n",
       "    </tr>\n",
       "    <tr>\n",
       "      <th>2</th>\n",
       "      <td>18 - 34 Years</td>\n",
       "      <td>College Graduate</td>\n",
       "      <td>White</td>\n",
       "      <td>Male</td>\n",
       "      <td>&lt;= $75,000, Above Poverty</td>\n",
       "      <td>Not Married</td>\n",
       "      <td>Own</td>\n",
       "      <td>Employed</td>\n",
       "      <td>MSA, Not Principle  City</td>\n",
       "      <td>2</td>\n",
       "      <td>0</td>\n",
       "    </tr>\n",
       "    <tr>\n",
       "      <th>3</th>\n",
       "      <td>65+ Years</td>\n",
       "      <td>12 Years</td>\n",
       "      <td>White</td>\n",
       "      <td>Female</td>\n",
       "      <td>Below Poverty</td>\n",
       "      <td>Not Married</td>\n",
       "      <td>Rent</td>\n",
       "      <td>Not in Labor Force</td>\n",
       "      <td>MSA, Principle City</td>\n",
       "      <td>3</td>\n",
       "      <td>0</td>\n",
       "    </tr>\n",
       "    <tr>\n",
       "      <th>4</th>\n",
       "      <td>45 - 54 Years</td>\n",
       "      <td>Some College</td>\n",
       "      <td>White</td>\n",
       "      <td>Female</td>\n",
       "      <td>&lt;= $75,000, Above Poverty</td>\n",
       "      <td>Married</td>\n",
       "      <td>Own</td>\n",
       "      <td>Employed</td>\n",
       "      <td>MSA, Not Principle  City</td>\n",
       "      <td>4</td>\n",
       "      <td>0</td>\n",
       "    </tr>\n",
       "  </tbody>\n",
       "</table>\n",
       "</div>"
      ],
      "text/plain": [
       "       age_group         education   race     sex             income_poverty  \\\n",
       "0  55 - 64 Years        < 12 Years  White  Female              Below Poverty   \n",
       "1  35 - 44 Years          12 Years  White    Male              Below Poverty   \n",
       "2  18 - 34 Years  College Graduate  White    Male  <= $75,000, Above Poverty   \n",
       "3      65+ Years          12 Years  White  Female              Below Poverty   \n",
       "4  45 - 54 Years      Some College  White  Female  <= $75,000, Above Poverty   \n",
       "\n",
       "  marital_status rent_or_own   employment_status                census_msa  \\\n",
       "0    Not Married         Own  Not in Labor Force                   Non-MSA   \n",
       "1    Not Married        Rent            Employed  MSA, Not Principle  City   \n",
       "2    Not Married         Own            Employed  MSA, Not Principle  City   \n",
       "3    Not Married        Rent  Not in Labor Force       MSA, Principle City   \n",
       "4        Married         Own            Employed  MSA, Not Principle  City   \n",
       "\n",
       "  respondent_id h1n1_vaccine  \n",
       "0             0            0  \n",
       "1             1            0  \n",
       "2             2            0  \n",
       "3             3            0  \n",
       "4             4            0  "
      ]
     },
<<<<<<< HEAD
<<<<<<< HEAD
     "execution_count": 26,
=======
     "execution_count": 64,
>>>>>>> 51d9e99e954723218d8902c654ad9f06e551671a
=======
     "execution_count": 399,
>>>>>>> f55d197c1325bb9dd41bd183e80ed0e8701a19e7
     "metadata": {},
     "output_type": "execute_result"
    }
   ],
   "source": [
    "df_full_categorical = impute_missing_values(df_full_object, categorical_imputer)\n",
    "\n",
    "df_full_categorical.head()"
   ]
  },
  {
   "cell_type": "code",
<<<<<<< HEAD
<<<<<<< HEAD
   "execution_count": 27,
=======
   "execution_count": 65,
>>>>>>> 51d9e99e954723218d8902c654ad9f06e551671a
=======
   "execution_count": 400,
>>>>>>> f55d197c1325bb9dd41bd183e80ed0e8701a19e7
   "metadata": {},
   "outputs": [
    {
     "data": {
      "text/plain": [
       "age_group            0\n",
       "education            0\n",
       "race                 0\n",
       "sex                  0\n",
       "income_poverty       0\n",
       "marital_status       0\n",
       "rent_or_own          0\n",
       "employment_status    0\n",
       "census_msa           0\n",
       "respondent_id        0\n",
       "h1n1_vaccine         0\n",
       "dtype: int64"
      ]
     },
<<<<<<< HEAD
<<<<<<< HEAD
     "execution_count": 27,
=======
     "execution_count": 65,
>>>>>>> 51d9e99e954723218d8902c654ad9f06e551671a
=======
     "execution_count": 400,
>>>>>>> f55d197c1325bb9dd41bd183e80ed0e8701a19e7
     "metadata": {},
     "output_type": "execute_result"
    }
   ],
   "source": [
    "# Confirming there are no remaining nulls \n",
    "\n",
    "df_full_categorical.isna().sum()\n"
   ]
  },
  {
   "cell_type": "code",
<<<<<<< HEAD
<<<<<<< HEAD
   "execution_count": 28,
=======
   "execution_count": 66,
>>>>>>> 51d9e99e954723218d8902c654ad9f06e551671a
=======
   "execution_count": 401,
>>>>>>> f55d197c1325bb9dd41bd183e80ed0e8701a19e7
   "metadata": {},
   "outputs": [],
   "source": [
    "def encode_and_concat_feature_train(X_train, feature_name):\n",
    "    \"\"\"\n",
    "    Helper function for transforming training data.  It takes in the full X dataframe and\n",
    "    feature name, makes a one-hot encoder, and returns the encoder as well as the dataframe\n",
    "    with that feature transformed into multiple columns of 1s and 0s\n",
    "    \"\"\"\n",
    "    # make a one-hot encoder and fit it to the training data\n",
    "    ohe = OneHotEncoder(categories=\"auto\", handle_unknown=\"ignore\")\n",
    "    single_feature_df = X_train[[feature_name]]\n",
    "    ohe.fit(single_feature_df)\n",
    "    \n",
    "    # call helper function that actually encodes the feature and concats it\n",
    "    X_train = encode_and_concat_feature(X_train, feature_name, ohe)\n",
    "    \n",
    "    return ohe, X_train"
   ]
  },
  {
   "cell_type": "code",
<<<<<<< HEAD
<<<<<<< HEAD
   "execution_count": 29,
=======
   "execution_count": 67,
>>>>>>> 51d9e99e954723218d8902c654ad9f06e551671a
=======
   "execution_count": 402,
>>>>>>> f55d197c1325bb9dd41bd183e80ed0e8701a19e7
   "metadata": {},
   "outputs": [],
   "source": [
    "def encode_and_concat_feature(X, feature_name, ohe):\n",
    "    \"\"\"\n",
    "    Helper function for transforming a feature into multiple columns of 1s and 0s. Used\n",
    "    in both training and testing steps.  Takes in the full X dataframe, feature name, \n",
    "    and encoder, and returns the dataframe with that feature transformed into multiple\n",
    "    columns of 1s and 0s\n",
    "    \"\"\"\n",
    "    # create new one-hot encoded df based on the feature\n",
    "    single_feature_df = X[[feature_name]]\n",
    "    feature_array = ohe.transform(single_feature_df).toarray()\n",
    "    ohe_df = pd.DataFrame(feature_array, columns=ohe.categories_[0], index=X.index)\n",
    "    \n",
    "    # drop the old feature from X and concat the new one-hot encoded df\n",
    "    X = X.drop(feature_name, axis=1)\n",
    "    X = pd.concat([X, ohe_df], axis=1)\n",
    "    \n",
    "    return X"
   ]
  },
  {
   "cell_type": "code",
<<<<<<< HEAD
<<<<<<< HEAD
   "execution_count": 32,
=======
   "execution_count": 68,
>>>>>>> 51d9e99e954723218d8902c654ad9f06e551671a
=======
   "execution_count": 403,
>>>>>>> f55d197c1325bb9dd41bd183e80ed0e8701a19e7
   "metadata": {},
   "outputs": [],
   "source": [
    "# Settign up encoder \n",
    "\n",
    "encoders = {}\n",
    "for categorical_feature in categorical_feature_names:\n",
    "    ohe, df_full_categorical = encode_and_concat_feature_train(df_full_categorical, categorical_feature)\n",
    "    encoders[categorical_feature] = ohe"
   ]
  },
  {
   "cell_type": "code",
<<<<<<< HEAD
<<<<<<< HEAD
   "execution_count": 33,
=======
   "execution_count": 69,
>>>>>>> 51d9e99e954723218d8902c654ad9f06e551671a
=======
   "execution_count": 404,
>>>>>>> f55d197c1325bb9dd41bd183e80ed0e8701a19e7
   "metadata": {},
   "outputs": [],
   "source": [
    "# Dropping unnecessary columns ahead of join \n",
    "\n",
    "df_full_categorical = df_full_categorical.drop(labels=['respondent_id', 'h1n1_vaccine'], axis=1)"
   ]
  },
  {
   "cell_type": "code",
<<<<<<< HEAD
<<<<<<< HEAD
   "execution_count": 34,
=======
   "execution_count": 70,
>>>>>>> 51d9e99e954723218d8902c654ad9f06e551671a
   "metadata": {},
   "outputs": [
    {
     "data": {
      "text/html": [
       "<div>\n",
       "<style scoped>\n",
       "    .dataframe tbody tr th:only-of-type {\n",
       "        vertical-align: middle;\n",
       "    }\n",
       "\n",
       "    .dataframe tbody tr th {\n",
       "        vertical-align: top;\n",
       "    }\n",
       "\n",
       "    .dataframe thead th {\n",
       "        text-align: right;\n",
       "    }\n",
       "</style>\n",
       "<table border=\"1\" class=\"dataframe\">\n",
       "  <thead>\n",
       "    <tr style=\"text-align: right;\">\n",
       "      <th></th>\n",
       "      <th>18 - 34 Years</th>\n",
       "      <th>35 - 44 Years</th>\n",
       "      <th>45 - 54 Years</th>\n",
       "      <th>55 - 64 Years</th>\n",
       "      <th>65+ Years</th>\n",
       "      <th>12 Years</th>\n",
       "      <th>&lt; 12 Years</th>\n",
       "      <th>College Graduate</th>\n",
       "      <th>Some College</th>\n",
       "      <th>Black</th>\n",
       "      <th>Hispanic</th>\n",
       "      <th>Other or Multiple</th>\n",
       "      <th>White</th>\n",
       "      <th>Female</th>\n",
       "      <th>Male</th>\n",
       "      <th>&lt;= $75,000, Above Poverty</th>\n",
       "      <th>&gt; $75,000</th>\n",
       "      <th>Below Poverty</th>\n",
       "      <th>Married</th>\n",
       "      <th>Not Married</th>\n",
       "      <th>Own</th>\n",
       "      <th>Rent</th>\n",
       "      <th>Employed</th>\n",
       "      <th>Not in Labor Force</th>\n",
       "      <th>Unemployed</th>\n",
       "      <th>MSA, Not Principle  City</th>\n",
       "      <th>MSA, Principle City</th>\n",
       "      <th>Non-MSA</th>\n",
       "    </tr>\n",
       "  </thead>\n",
       "  <tbody>\n",
       "    <tr>\n",
       "      <th>0</th>\n",
       "      <td>0.0</td>\n",
       "      <td>0.0</td>\n",
       "      <td>0.0</td>\n",
       "      <td>1.0</td>\n",
       "      <td>0.0</td>\n",
       "      <td>0.0</td>\n",
       "      <td>1.0</td>\n",
       "      <td>0.0</td>\n",
       "      <td>0.0</td>\n",
       "      <td>0.0</td>\n",
       "      <td>0.0</td>\n",
       "      <td>0.0</td>\n",
       "      <td>1.0</td>\n",
       "      <td>1.0</td>\n",
       "      <td>0.0</td>\n",
       "      <td>0.0</td>\n",
       "      <td>0.0</td>\n",
       "      <td>1.0</td>\n",
       "      <td>0.0</td>\n",
       "      <td>1.0</td>\n",
       "      <td>1.0</td>\n",
       "      <td>0.0</td>\n",
       "      <td>0.0</td>\n",
       "      <td>1.0</td>\n",
       "      <td>0.0</td>\n",
       "      <td>0.0</td>\n",
       "      <td>0.0</td>\n",
       "      <td>1.0</td>\n",
       "    </tr>\n",
       "    <tr>\n",
       "      <th>1</th>\n",
       "      <td>0.0</td>\n",
       "      <td>1.0</td>\n",
       "      <td>0.0</td>\n",
       "      <td>0.0</td>\n",
       "      <td>0.0</td>\n",
       "      <td>1.0</td>\n",
       "      <td>0.0</td>\n",
       "      <td>0.0</td>\n",
       "      <td>0.0</td>\n",
       "      <td>0.0</td>\n",
       "      <td>0.0</td>\n",
       "      <td>0.0</td>\n",
       "      <td>1.0</td>\n",
       "      <td>0.0</td>\n",
       "      <td>1.0</td>\n",
       "      <td>0.0</td>\n",
       "      <td>0.0</td>\n",
       "      <td>1.0</td>\n",
       "      <td>0.0</td>\n",
       "      <td>1.0</td>\n",
       "      <td>0.0</td>\n",
       "      <td>1.0</td>\n",
       "      <td>1.0</td>\n",
       "      <td>0.0</td>\n",
       "      <td>0.0</td>\n",
       "      <td>1.0</td>\n",
       "      <td>0.0</td>\n",
       "      <td>0.0</td>\n",
       "    </tr>\n",
       "    <tr>\n",
       "      <th>2</th>\n",
       "      <td>1.0</td>\n",
       "      <td>0.0</td>\n",
       "      <td>0.0</td>\n",
       "      <td>0.0</td>\n",
       "      <td>0.0</td>\n",
       "      <td>0.0</td>\n",
       "      <td>0.0</td>\n",
       "      <td>1.0</td>\n",
       "      <td>0.0</td>\n",
       "      <td>0.0</td>\n",
       "      <td>0.0</td>\n",
       "      <td>0.0</td>\n",
       "      <td>1.0</td>\n",
       "      <td>0.0</td>\n",
       "      <td>1.0</td>\n",
       "      <td>1.0</td>\n",
       "      <td>0.0</td>\n",
       "      <td>0.0</td>\n",
       "      <td>0.0</td>\n",
       "      <td>1.0</td>\n",
       "      <td>1.0</td>\n",
       "      <td>0.0</td>\n",
       "      <td>1.0</td>\n",
       "      <td>0.0</td>\n",
       "      <td>0.0</td>\n",
       "      <td>1.0</td>\n",
       "      <td>0.0</td>\n",
       "      <td>0.0</td>\n",
       "    </tr>\n",
       "    <tr>\n",
       "      <th>3</th>\n",
       "      <td>0.0</td>\n",
       "      <td>0.0</td>\n",
       "      <td>0.0</td>\n",
       "      <td>0.0</td>\n",
       "      <td>1.0</td>\n",
       "      <td>1.0</td>\n",
       "      <td>0.0</td>\n",
       "      <td>0.0</td>\n",
       "      <td>0.0</td>\n",
       "      <td>0.0</td>\n",
       "      <td>0.0</td>\n",
       "      <td>0.0</td>\n",
       "      <td>1.0</td>\n",
       "      <td>1.0</td>\n",
       "      <td>0.0</td>\n",
       "      <td>0.0</td>\n",
       "      <td>0.0</td>\n",
       "      <td>1.0</td>\n",
       "      <td>0.0</td>\n",
       "      <td>1.0</td>\n",
       "      <td>0.0</td>\n",
       "      <td>1.0</td>\n",
       "      <td>0.0</td>\n",
       "      <td>1.0</td>\n",
       "      <td>0.0</td>\n",
       "      <td>0.0</td>\n",
       "      <td>1.0</td>\n",
       "      <td>0.0</td>\n",
       "    </tr>\n",
       "    <tr>\n",
       "      <th>4</th>\n",
       "      <td>0.0</td>\n",
       "      <td>0.0</td>\n",
       "      <td>1.0</td>\n",
       "      <td>0.0</td>\n",
       "      <td>0.0</td>\n",
       "      <td>0.0</td>\n",
       "      <td>0.0</td>\n",
       "      <td>0.0</td>\n",
       "      <td>1.0</td>\n",
       "      <td>0.0</td>\n",
       "      <td>0.0</td>\n",
       "      <td>0.0</td>\n",
       "      <td>1.0</td>\n",
       "      <td>1.0</td>\n",
       "      <td>0.0</td>\n",
       "      <td>1.0</td>\n",
       "      <td>0.0</td>\n",
       "      <td>0.0</td>\n",
       "      <td>1.0</td>\n",
       "      <td>0.0</td>\n",
       "      <td>1.0</td>\n",
       "      <td>0.0</td>\n",
       "      <td>1.0</td>\n",
       "      <td>0.0</td>\n",
       "      <td>0.0</td>\n",
       "      <td>1.0</td>\n",
       "      <td>0.0</td>\n",
       "      <td>0.0</td>\n",
       "    </tr>\n",
       "    <tr>\n",
       "      <th>...</th>\n",
       "      <td>...</td>\n",
       "      <td>...</td>\n",
       "      <td>...</td>\n",
       "      <td>...</td>\n",
       "      <td>...</td>\n",
       "      <td>...</td>\n",
       "      <td>...</td>\n",
       "      <td>...</td>\n",
       "      <td>...</td>\n",
       "      <td>...</td>\n",
       "      <td>...</td>\n",
       "      <td>...</td>\n",
       "      <td>...</td>\n",
       "      <td>...</td>\n",
       "      <td>...</td>\n",
       "      <td>...</td>\n",
       "      <td>...</td>\n",
       "      <td>...</td>\n",
       "      <td>...</td>\n",
       "      <td>...</td>\n",
       "      <td>...</td>\n",
       "      <td>...</td>\n",
       "      <td>...</td>\n",
       "      <td>...</td>\n",
       "      <td>...</td>\n",
       "      <td>...</td>\n",
       "      <td>...</td>\n",
       "      <td>...</td>\n",
       "    </tr>\n",
       "    <tr>\n",
       "      <th>26702</th>\n",
       "      <td>0.0</td>\n",
       "      <td>0.0</td>\n",
       "      <td>0.0</td>\n",
       "      <td>0.0</td>\n",
       "      <td>1.0</td>\n",
       "      <td>0.0</td>\n",
       "      <td>0.0</td>\n",
       "      <td>0.0</td>\n",
       "      <td>1.0</td>\n",
       "      <td>0.0</td>\n",
       "      <td>0.0</td>\n",
       "      <td>0.0</td>\n",
       "      <td>1.0</td>\n",
       "      <td>1.0</td>\n",
       "      <td>0.0</td>\n",
       "      <td>1.0</td>\n",
       "      <td>0.0</td>\n",
       "      <td>0.0</td>\n",
       "      <td>0.0</td>\n",
       "      <td>1.0</td>\n",
       "      <td>1.0</td>\n",
       "      <td>0.0</td>\n",
       "      <td>0.0</td>\n",
       "      <td>1.0</td>\n",
       "      <td>0.0</td>\n",
       "      <td>0.0</td>\n",
       "      <td>0.0</td>\n",
       "      <td>1.0</td>\n",
       "    </tr>\n",
       "    <tr>\n",
       "      <th>26703</th>\n",
       "      <td>1.0</td>\n",
       "      <td>0.0</td>\n",
       "      <td>0.0</td>\n",
       "      <td>0.0</td>\n",
       "      <td>0.0</td>\n",
       "      <td>0.0</td>\n",
       "      <td>0.0</td>\n",
       "      <td>1.0</td>\n",
       "      <td>0.0</td>\n",
       "      <td>0.0</td>\n",
       "      <td>0.0</td>\n",
       "      <td>0.0</td>\n",
       "      <td>1.0</td>\n",
       "      <td>0.0</td>\n",
       "      <td>1.0</td>\n",
       "      <td>1.0</td>\n",
       "      <td>0.0</td>\n",
       "      <td>0.0</td>\n",
       "      <td>0.0</td>\n",
       "      <td>1.0</td>\n",
       "      <td>0.0</td>\n",
       "      <td>1.0</td>\n",
       "      <td>1.0</td>\n",
       "      <td>0.0</td>\n",
       "      <td>0.0</td>\n",
       "      <td>0.0</td>\n",
       "      <td>1.0</td>\n",
       "      <td>0.0</td>\n",
       "    </tr>\n",
       "    <tr>\n",
       "      <th>26704</th>\n",
       "      <td>0.0</td>\n",
       "      <td>0.0</td>\n",
       "      <td>0.0</td>\n",
       "      <td>1.0</td>\n",
       "      <td>0.0</td>\n",
       "      <td>0.0</td>\n",
       "      <td>0.0</td>\n",
       "      <td>0.0</td>\n",
       "      <td>1.0</td>\n",
       "      <td>0.0</td>\n",
       "      <td>0.0</td>\n",
       "      <td>0.0</td>\n",
       "      <td>1.0</td>\n",
       "      <td>1.0</td>\n",
       "      <td>0.0</td>\n",
       "      <td>1.0</td>\n",
       "      <td>0.0</td>\n",
       "      <td>0.0</td>\n",
       "      <td>0.0</td>\n",
       "      <td>1.0</td>\n",
       "      <td>1.0</td>\n",
       "      <td>0.0</td>\n",
       "      <td>1.0</td>\n",
       "      <td>0.0</td>\n",
       "      <td>0.0</td>\n",
       "      <td>1.0</td>\n",
       "      <td>0.0</td>\n",
       "      <td>0.0</td>\n",
       "    </tr>\n",
       "    <tr>\n",
       "      <th>26705</th>\n",
       "      <td>1.0</td>\n",
       "      <td>0.0</td>\n",
       "      <td>0.0</td>\n",
       "      <td>0.0</td>\n",
       "      <td>0.0</td>\n",
       "      <td>0.0</td>\n",
       "      <td>0.0</td>\n",
       "      <td>0.0</td>\n",
       "      <td>1.0</td>\n",
       "      <td>0.0</td>\n",
       "      <td>1.0</td>\n",
       "      <td>0.0</td>\n",
       "      <td>0.0</td>\n",
       "      <td>1.0</td>\n",
       "      <td>0.0</td>\n",
       "      <td>1.0</td>\n",
       "      <td>0.0</td>\n",
       "      <td>0.0</td>\n",
       "      <td>1.0</td>\n",
       "      <td>0.0</td>\n",
       "      <td>0.0</td>\n",
       "      <td>1.0</td>\n",
       "      <td>1.0</td>\n",
       "      <td>0.0</td>\n",
       "      <td>0.0</td>\n",
       "      <td>0.0</td>\n",
       "      <td>0.0</td>\n",
       "      <td>1.0</td>\n",
       "    </tr>\n",
       "    <tr>\n",
       "      <th>26706</th>\n",
       "      <td>0.0</td>\n",
       "      <td>0.0</td>\n",
       "      <td>0.0</td>\n",
       "      <td>0.0</td>\n",
       "      <td>1.0</td>\n",
       "      <td>0.0</td>\n",
       "      <td>0.0</td>\n",
       "      <td>0.0</td>\n",
       "      <td>1.0</td>\n",
       "      <td>0.0</td>\n",
       "      <td>0.0</td>\n",
       "      <td>0.0</td>\n",
       "      <td>1.0</td>\n",
       "      <td>0.0</td>\n",
       "      <td>1.0</td>\n",
       "      <td>1.0</td>\n",
       "      <td>0.0</td>\n",
       "      <td>0.0</td>\n",
       "      <td>1.0</td>\n",
       "      <td>0.0</td>\n",
       "      <td>1.0</td>\n",
       "      <td>0.0</td>\n",
       "      <td>0.0</td>\n",
       "      <td>1.0</td>\n",
       "      <td>0.0</td>\n",
       "      <td>0.0</td>\n",
       "      <td>1.0</td>\n",
       "      <td>0.0</td>\n",
       "    </tr>\n",
       "  </tbody>\n",
       "</table>\n",
       "<p>26707 rows × 28 columns</p>\n",
       "</div>"
      ],
      "text/plain": [
       "       18 - 34 Years  35 - 44 Years  45 - 54 Years  55 - 64 Years  65+ Years  \\\n",
       "0                0.0            0.0            0.0            1.0        0.0   \n",
       "1                0.0            1.0            0.0            0.0        0.0   \n",
       "2                1.0            0.0            0.0            0.0        0.0   \n",
       "3                0.0            0.0            0.0            0.0        1.0   \n",
       "4                0.0            0.0            1.0            0.0        0.0   \n",
       "...              ...            ...            ...            ...        ...   \n",
       "26702            0.0            0.0            0.0            0.0        1.0   \n",
       "26703            1.0            0.0            0.0            0.0        0.0   \n",
       "26704            0.0            0.0            0.0            1.0        0.0   \n",
       "26705            1.0            0.0            0.0            0.0        0.0   \n",
       "26706            0.0            0.0            0.0            0.0        1.0   \n",
       "\n",
       "       12 Years  < 12 Years  College Graduate  Some College  Black  Hispanic  \\\n",
       "0           0.0         1.0               0.0           0.0    0.0       0.0   \n",
       "1           1.0         0.0               0.0           0.0    0.0       0.0   \n",
       "2           0.0         0.0               1.0           0.0    0.0       0.0   \n",
       "3           1.0         0.0               0.0           0.0    0.0       0.0   \n",
       "4           0.0         0.0               0.0           1.0    0.0       0.0   \n",
       "...         ...         ...               ...           ...    ...       ...   \n",
       "26702       0.0         0.0               0.0           1.0    0.0       0.0   \n",
       "26703       0.0         0.0               1.0           0.0    0.0       0.0   \n",
       "26704       0.0         0.0               0.0           1.0    0.0       0.0   \n",
       "26705       0.0         0.0               0.0           1.0    0.0       1.0   \n",
       "26706       0.0         0.0               0.0           1.0    0.0       0.0   \n",
       "\n",
       "       Other or Multiple  White  Female  Male  <= $75,000, Above Poverty  \\\n",
       "0                    0.0    1.0     1.0   0.0                        0.0   \n",
       "1                    0.0    1.0     0.0   1.0                        0.0   \n",
       "2                    0.0    1.0     0.0   1.0                        1.0   \n",
       "3                    0.0    1.0     1.0   0.0                        0.0   \n",
       "4                    0.0    1.0     1.0   0.0                        1.0   \n",
       "...                  ...    ...     ...   ...                        ...   \n",
       "26702                0.0    1.0     1.0   0.0                        1.0   \n",
       "26703                0.0    1.0     0.0   1.0                        1.0   \n",
       "26704                0.0    1.0     1.0   0.0                        1.0   \n",
       "26705                0.0    0.0     1.0   0.0                        1.0   \n",
       "26706                0.0    1.0     0.0   1.0                        1.0   \n",
       "\n",
       "       > $75,000  Below Poverty  Married  Not Married  Own  Rent  Employed  \\\n",
       "0            0.0            1.0      0.0          1.0  1.0   0.0       0.0   \n",
       "1            0.0            1.0      0.0          1.0  0.0   1.0       1.0   \n",
       "2            0.0            0.0      0.0          1.0  1.0   0.0       1.0   \n",
       "3            0.0            1.0      0.0          1.0  0.0   1.0       0.0   \n",
       "4            0.0            0.0      1.0          0.0  1.0   0.0       1.0   \n",
       "...          ...            ...      ...          ...  ...   ...       ...   \n",
       "26702        0.0            0.0      0.0          1.0  1.0   0.0       0.0   \n",
       "26703        0.0            0.0      0.0          1.0  0.0   1.0       1.0   \n",
       "26704        0.0            0.0      0.0          1.0  1.0   0.0       1.0   \n",
       "26705        0.0            0.0      1.0          0.0  0.0   1.0       1.0   \n",
       "26706        0.0            0.0      1.0          0.0  1.0   0.0       0.0   \n",
       "\n",
       "       Not in Labor Force  Unemployed  MSA, Not Principle  City  \\\n",
       "0                     1.0         0.0                       0.0   \n",
       "1                     0.0         0.0                       1.0   \n",
       "2                     0.0         0.0                       1.0   \n",
       "3                     1.0         0.0                       0.0   \n",
       "4                     0.0         0.0                       1.0   \n",
       "...                   ...         ...                       ...   \n",
       "26702                 1.0         0.0                       0.0   \n",
       "26703                 0.0         0.0                       0.0   \n",
       "26704                 0.0         0.0                       1.0   \n",
       "26705                 0.0         0.0                       0.0   \n",
       "26706                 1.0         0.0                       0.0   \n",
       "\n",
       "       MSA, Principle City  Non-MSA  \n",
       "0                      0.0      1.0  \n",
       "1                      0.0      0.0  \n",
       "2                      0.0      0.0  \n",
       "3                      1.0      0.0  \n",
       "4                      0.0      0.0  \n",
       "...                    ...      ...  \n",
       "26702                  0.0      1.0  \n",
       "26703                  1.0      0.0  \n",
       "26704                  0.0      0.0  \n",
       "26705                  0.0      1.0  \n",
       "26706                  1.0      0.0  \n",
       "\n",
       "[26707 rows x 28 columns]"
      ]
     },
<<<<<<< HEAD
     "execution_count": 34,
=======
     "execution_count": 70,
>>>>>>> 51d9e99e954723218d8902c654ad9f06e551671a
     "metadata": {},
     "output_type": "execute_result"
    }
   ],
   "source": [
    "df_full_categorical"
   ]
  },
  {
   "cell_type": "code",
<<<<<<< HEAD
   "execution_count": null,
   "metadata": {
    "scrolled": true
   },
   "outputs": [],
=======
   "execution_count": 71,
=======
   "execution_count": 405,
>>>>>>> f55d197c1325bb9dd41bd183e80ed0e8701a19e7
   "metadata": {
    "scrolled": true
   },
   "outputs": [
    {
     "data": {
      "text/html": [
       "<div>\n",
       "<style scoped>\n",
       "    .dataframe tbody tr th:only-of-type {\n",
       "        vertical-align: middle;\n",
       "    }\n",
       "\n",
       "    .dataframe tbody tr th {\n",
       "        vertical-align: top;\n",
       "    }\n",
       "\n",
       "    .dataframe thead th {\n",
       "        text-align: right;\n",
       "    }\n",
       "</style>\n",
       "<table border=\"1\" class=\"dataframe\">\n",
       "  <thead>\n",
       "    <tr style=\"text-align: right;\">\n",
       "      <th></th>\n",
       "      <th>respondent_id</th>\n",
       "      <th>h1n1_vaccine</th>\n",
       "      <th>seasonal_vaccine</th>\n",
       "      <th>h1n1_concern</th>\n",
       "      <th>h1n1_knowledge</th>\n",
       "      <th>behavioral_antiviral_meds</th>\n",
       "      <th>behavioral_avoidance</th>\n",
       "      <th>behavioral_face_mask</th>\n",
       "      <th>behavioral_wash_hands</th>\n",
       "      <th>behavioral_large_gatherings</th>\n",
       "      <th>behavioral_outside_home</th>\n",
       "      <th>behavioral_touch_face</th>\n",
       "      <th>doctor_recc_h1n1</th>\n",
       "      <th>chronic_med_condition</th>\n",
       "      <th>child_under_6_months</th>\n",
       "      <th>health_worker</th>\n",
       "      <th>health_insurance</th>\n",
       "      <th>opinion_h1n1_vacc_effective</th>\n",
       "      <th>opinion_h1n1_risk</th>\n",
       "      <th>opinion_h1n1_sick_from_vacc</th>\n",
       "      <th>household_adults</th>\n",
       "      <th>household_children</th>\n",
       "      <th>18 - 34 Years</th>\n",
       "      <th>35 - 44 Years</th>\n",
       "      <th>45 - 54 Years</th>\n",
       "      <th>55 - 64 Years</th>\n",
       "      <th>65+ Years</th>\n",
       "      <th>12 Years</th>\n",
       "      <th>&lt; 12 Years</th>\n",
       "      <th>College Graduate</th>\n",
       "      <th>Some College</th>\n",
       "      <th>Black</th>\n",
       "      <th>Hispanic</th>\n",
       "      <th>Other or Multiple</th>\n",
       "      <th>White</th>\n",
       "      <th>Female</th>\n",
       "      <th>Male</th>\n",
       "      <th>&lt;= $75,000, Above Poverty</th>\n",
       "      <th>&gt; $75,000</th>\n",
       "      <th>Below Poverty</th>\n",
       "      <th>Married</th>\n",
       "      <th>Not Married</th>\n",
       "      <th>Own</th>\n",
       "      <th>Rent</th>\n",
       "      <th>Employed</th>\n",
       "      <th>Not in Labor Force</th>\n",
       "      <th>Unemployed</th>\n",
       "      <th>MSA, Not Principle  City</th>\n",
       "      <th>MSA, Principle City</th>\n",
       "      <th>Non-MSA</th>\n",
       "    </tr>\n",
       "  </thead>\n",
       "  <tbody>\n",
       "    <tr>\n",
       "      <th>0</th>\n",
       "      <td>0</td>\n",
       "      <td>0</td>\n",
       "      <td>0</td>\n",
       "      <td>1.0</td>\n",
       "      <td>0.0</td>\n",
       "      <td>0.0</td>\n",
       "      <td>0.0</td>\n",
       "      <td>0.0</td>\n",
       "      <td>0.0</td>\n",
       "      <td>0.0</td>\n",
       "      <td>1.0</td>\n",
       "      <td>1.0</td>\n",
       "      <td>0.0</td>\n",
       "      <td>0.0</td>\n",
       "      <td>0.0</td>\n",
       "      <td>0.0</td>\n",
       "      <td>1.0</td>\n",
       "      <td>3.0</td>\n",
       "      <td>1.0</td>\n",
       "      <td>2.0</td>\n",
       "      <td>0.0</td>\n",
       "      <td>0.0</td>\n",
       "      <td>0.0</td>\n",
       "      <td>0.0</td>\n",
       "      <td>0.0</td>\n",
       "      <td>1.0</td>\n",
       "      <td>0.0</td>\n",
       "      <td>0.0</td>\n",
       "      <td>1.0</td>\n",
       "      <td>0.0</td>\n",
       "      <td>0.0</td>\n",
       "      <td>0.0</td>\n",
       "      <td>0.0</td>\n",
       "      <td>0.0</td>\n",
       "      <td>1.0</td>\n",
       "      <td>1.0</td>\n",
       "      <td>0.0</td>\n",
       "      <td>0.0</td>\n",
       "      <td>0.0</td>\n",
       "      <td>1.0</td>\n",
       "      <td>0.0</td>\n",
       "      <td>1.0</td>\n",
       "      <td>1.0</td>\n",
       "      <td>0.0</td>\n",
       "      <td>0.0</td>\n",
       "      <td>1.0</td>\n",
       "      <td>0.0</td>\n",
       "      <td>0.0</td>\n",
       "      <td>0.0</td>\n",
       "      <td>1.0</td>\n",
       "    </tr>\n",
       "    <tr>\n",
       "      <th>1</th>\n",
       "      <td>1</td>\n",
       "      <td>0</td>\n",
       "      <td>1</td>\n",
       "      <td>3.0</td>\n",
       "      <td>2.0</td>\n",
       "      <td>0.0</td>\n",
       "      <td>1.0</td>\n",
       "      <td>0.0</td>\n",
       "      <td>1.0</td>\n",
       "      <td>0.0</td>\n",
       "      <td>1.0</td>\n",
       "      <td>1.0</td>\n",
       "      <td>0.0</td>\n",
       "      <td>0.0</td>\n",
       "      <td>0.0</td>\n",
       "      <td>0.0</td>\n",
       "      <td>1.0</td>\n",
       "      <td>5.0</td>\n",
       "      <td>4.0</td>\n",
       "      <td>4.0</td>\n",
       "      <td>0.0</td>\n",
       "      <td>0.0</td>\n",
       "      <td>0.0</td>\n",
       "      <td>1.0</td>\n",
       "      <td>0.0</td>\n",
       "      <td>0.0</td>\n",
       "      <td>0.0</td>\n",
       "      <td>1.0</td>\n",
       "      <td>0.0</td>\n",
       "      <td>0.0</td>\n",
       "      <td>0.0</td>\n",
       "      <td>0.0</td>\n",
       "      <td>0.0</td>\n",
       "      <td>0.0</td>\n",
       "      <td>1.0</td>\n",
       "      <td>0.0</td>\n",
       "      <td>1.0</td>\n",
       "      <td>0.0</td>\n",
       "      <td>0.0</td>\n",
       "      <td>1.0</td>\n",
       "      <td>0.0</td>\n",
       "      <td>1.0</td>\n",
       "      <td>0.0</td>\n",
       "      <td>1.0</td>\n",
       "      <td>1.0</td>\n",
       "      <td>0.0</td>\n",
       "      <td>0.0</td>\n",
       "      <td>1.0</td>\n",
       "      <td>0.0</td>\n",
       "      <td>0.0</td>\n",
       "    </tr>\n",
       "    <tr>\n",
       "      <th>2</th>\n",
       "      <td>2</td>\n",
       "      <td>0</td>\n",
       "      <td>0</td>\n",
       "      <td>1.0</td>\n",
       "      <td>1.0</td>\n",
       "      <td>0.0</td>\n",
       "      <td>1.0</td>\n",
       "      <td>0.0</td>\n",
       "      <td>0.0</td>\n",
       "      <td>0.0</td>\n",
       "      <td>0.0</td>\n",
       "      <td>0.0</td>\n",
       "      <td>NaN</td>\n",
       "      <td>1.0</td>\n",
       "      <td>0.0</td>\n",
       "      <td>0.0</td>\n",
       "      <td>2.0</td>\n",
       "      <td>3.0</td>\n",
       "      <td>1.0</td>\n",
       "      <td>1.0</td>\n",
       "      <td>2.0</td>\n",
       "      <td>0.0</td>\n",
       "      <td>1.0</td>\n",
       "      <td>0.0</td>\n",
       "      <td>0.0</td>\n",
       "      <td>0.0</td>\n",
       "      <td>0.0</td>\n",
       "      <td>0.0</td>\n",
       "      <td>0.0</td>\n",
       "      <td>1.0</td>\n",
       "      <td>0.0</td>\n",
       "      <td>0.0</td>\n",
       "      <td>0.0</td>\n",
       "      <td>0.0</td>\n",
       "      <td>1.0</td>\n",
       "      <td>0.0</td>\n",
       "      <td>1.0</td>\n",
       "      <td>1.0</td>\n",
       "      <td>0.0</td>\n",
       "      <td>0.0</td>\n",
       "      <td>0.0</td>\n",
       "      <td>1.0</td>\n",
       "      <td>1.0</td>\n",
       "      <td>0.0</td>\n",
       "      <td>1.0</td>\n",
       "      <td>0.0</td>\n",
       "      <td>0.0</td>\n",
       "      <td>1.0</td>\n",
       "      <td>0.0</td>\n",
       "      <td>0.0</td>\n",
       "    </tr>\n",
       "    <tr>\n",
       "      <th>3</th>\n",
       "      <td>3</td>\n",
       "      <td>0</td>\n",
       "      <td>1</td>\n",
       "      <td>1.0</td>\n",
       "      <td>1.0</td>\n",
       "      <td>0.0</td>\n",
       "      <td>1.0</td>\n",
       "      <td>0.0</td>\n",
       "      <td>1.0</td>\n",
       "      <td>1.0</td>\n",
       "      <td>0.0</td>\n",
       "      <td>0.0</td>\n",
       "      <td>0.0</td>\n",
       "      <td>1.0</td>\n",
       "      <td>0.0</td>\n",
       "      <td>0.0</td>\n",
       "      <td>2.0</td>\n",
       "      <td>3.0</td>\n",
       "      <td>3.0</td>\n",
       "      <td>5.0</td>\n",
       "      <td>0.0</td>\n",
       "      <td>0.0</td>\n",
       "      <td>0.0</td>\n",
       "      <td>0.0</td>\n",
       "      <td>0.0</td>\n",
       "      <td>0.0</td>\n",
       "      <td>1.0</td>\n",
       "      <td>1.0</td>\n",
       "      <td>0.0</td>\n",
       "      <td>0.0</td>\n",
       "      <td>0.0</td>\n",
       "      <td>0.0</td>\n",
       "      <td>0.0</td>\n",
       "      <td>0.0</td>\n",
       "      <td>1.0</td>\n",
       "      <td>1.0</td>\n",
       "      <td>0.0</td>\n",
       "      <td>0.0</td>\n",
       "      <td>0.0</td>\n",
       "      <td>1.0</td>\n",
       "      <td>0.0</td>\n",
       "      <td>1.0</td>\n",
       "      <td>0.0</td>\n",
       "      <td>1.0</td>\n",
       "      <td>0.0</td>\n",
       "      <td>1.0</td>\n",
       "      <td>0.0</td>\n",
       "      <td>0.0</td>\n",
       "      <td>1.0</td>\n",
       "      <td>0.0</td>\n",
       "    </tr>\n",
       "    <tr>\n",
       "      <th>4</th>\n",
       "      <td>4</td>\n",
       "      <td>0</td>\n",
       "      <td>0</td>\n",
       "      <td>2.0</td>\n",
       "      <td>1.0</td>\n",
       "      <td>0.0</td>\n",
       "      <td>1.0</td>\n",
       "      <td>0.0</td>\n",
       "      <td>1.0</td>\n",
       "      <td>1.0</td>\n",
       "      <td>0.0</td>\n",
       "      <td>1.0</td>\n",
       "      <td>0.0</td>\n",
       "      <td>0.0</td>\n",
       "      <td>0.0</td>\n",
       "      <td>0.0</td>\n",
       "      <td>2.0</td>\n",
       "      <td>3.0</td>\n",
       "      <td>3.0</td>\n",
       "      <td>2.0</td>\n",
       "      <td>1.0</td>\n",
       "      <td>0.0</td>\n",
       "      <td>0.0</td>\n",
       "      <td>0.0</td>\n",
       "      <td>1.0</td>\n",
       "      <td>0.0</td>\n",
       "      <td>0.0</td>\n",
       "      <td>0.0</td>\n",
       "      <td>0.0</td>\n",
       "      <td>0.0</td>\n",
       "      <td>1.0</td>\n",
       "      <td>0.0</td>\n",
       "      <td>0.0</td>\n",
       "      <td>0.0</td>\n",
       "      <td>1.0</td>\n",
       "      <td>1.0</td>\n",
       "      <td>0.0</td>\n",
       "      <td>1.0</td>\n",
       "      <td>0.0</td>\n",
       "      <td>0.0</td>\n",
       "      <td>1.0</td>\n",
       "      <td>0.0</td>\n",
       "      <td>1.0</td>\n",
       "      <td>0.0</td>\n",
       "      <td>1.0</td>\n",
       "      <td>0.0</td>\n",
       "      <td>0.0</td>\n",
       "      <td>1.0</td>\n",
       "      <td>0.0</td>\n",
       "      <td>0.0</td>\n",
       "    </tr>\n",
       "  </tbody>\n",
       "</table>\n",
       "</div>"
      ],
      "text/plain": [
       "   respondent_id  h1n1_vaccine  seasonal_vaccine  h1n1_concern  \\\n",
       "0              0             0                 0           1.0   \n",
       "1              1             0                 1           3.0   \n",
       "2              2             0                 0           1.0   \n",
       "3              3             0                 1           1.0   \n",
       "4              4             0                 0           2.0   \n",
       "\n",
       "   h1n1_knowledge  behavioral_antiviral_meds  behavioral_avoidance  \\\n",
       "0             0.0                        0.0                   0.0   \n",
       "1             2.0                        0.0                   1.0   \n",
       "2             1.0                        0.0                   1.0   \n",
       "3             1.0                        0.0                   1.0   \n",
       "4             1.0                        0.0                   1.0   \n",
       "\n",
       "   behavioral_face_mask  behavioral_wash_hands  behavioral_large_gatherings  \\\n",
       "0                   0.0                    0.0                          0.0   \n",
       "1                   0.0                    1.0                          0.0   \n",
       "2                   0.0                    0.0                          0.0   \n",
       "3                   0.0                    1.0                          1.0   \n",
       "4                   0.0                    1.0                          1.0   \n",
       "\n",
       "   behavioral_outside_home  behavioral_touch_face  doctor_recc_h1n1  \\\n",
       "0                      1.0                    1.0               0.0   \n",
       "1                      1.0                    1.0               0.0   \n",
       "2                      0.0                    0.0               NaN   \n",
       "3                      0.0                    0.0               0.0   \n",
       "4                      0.0                    1.0               0.0   \n",
       "\n",
       "   chronic_med_condition  child_under_6_months  health_worker  \\\n",
       "0                    0.0                   0.0            0.0   \n",
       "1                    0.0                   0.0            0.0   \n",
       "2                    1.0                   0.0            0.0   \n",
       "3                    1.0                   0.0            0.0   \n",
       "4                    0.0                   0.0            0.0   \n",
       "\n",
       "   health_insurance  opinion_h1n1_vacc_effective  opinion_h1n1_risk  \\\n",
       "0               1.0                          3.0                1.0   \n",
       "1               1.0                          5.0                4.0   \n",
       "2               2.0                          3.0                1.0   \n",
       "3               2.0                          3.0                3.0   \n",
       "4               2.0                          3.0                3.0   \n",
       "\n",
       "   opinion_h1n1_sick_from_vacc  household_adults  household_children  \\\n",
       "0                          2.0               0.0                 0.0   \n",
       "1                          4.0               0.0                 0.0   \n",
       "2                          1.0               2.0                 0.0   \n",
       "3                          5.0               0.0                 0.0   \n",
       "4                          2.0               1.0                 0.0   \n",
       "\n",
       "   18 - 34 Years  35 - 44 Years  45 - 54 Years  55 - 64 Years  65+ Years  \\\n",
       "0            0.0            0.0            0.0            1.0        0.0   \n",
       "1            0.0            1.0            0.0            0.0        0.0   \n",
       "2            1.0            0.0            0.0            0.0        0.0   \n",
       "3            0.0            0.0            0.0            0.0        1.0   \n",
       "4            0.0            0.0            1.0            0.0        0.0   \n",
       "\n",
       "   12 Years  < 12 Years  College Graduate  Some College  Black  Hispanic  \\\n",
       "0       0.0         1.0               0.0           0.0    0.0       0.0   \n",
       "1       1.0         0.0               0.0           0.0    0.0       0.0   \n",
       "2       0.0         0.0               1.0           0.0    0.0       0.0   \n",
       "3       1.0         0.0               0.0           0.0    0.0       0.0   \n",
       "4       0.0         0.0               0.0           1.0    0.0       0.0   \n",
       "\n",
       "   Other or Multiple  White  Female  Male  <= $75,000, Above Poverty  \\\n",
       "0                0.0    1.0     1.0   0.0                        0.0   \n",
       "1                0.0    1.0     0.0   1.0                        0.0   \n",
       "2                0.0    1.0     0.0   1.0                        1.0   \n",
       "3                0.0    1.0     1.0   0.0                        0.0   \n",
       "4                0.0    1.0     1.0   0.0                        1.0   \n",
       "\n",
       "   > $75,000  Below Poverty  Married  Not Married  Own  Rent  Employed  \\\n",
       "0        0.0            1.0      0.0          1.0  1.0   0.0       0.0   \n",
       "1        0.0            1.0      0.0          1.0  0.0   1.0       1.0   \n",
       "2        0.0            0.0      0.0          1.0  1.0   0.0       1.0   \n",
       "3        0.0            1.0      0.0          1.0  0.0   1.0       0.0   \n",
       "4        0.0            0.0      1.0          0.0  1.0   0.0       1.0   \n",
       "\n",
       "   Not in Labor Force  Unemployed  MSA, Not Principle  City  \\\n",
       "0                 1.0         0.0                       0.0   \n",
       "1                 0.0         0.0                       1.0   \n",
       "2                 0.0         0.0                       1.0   \n",
       "3                 1.0         0.0                       0.0   \n",
       "4                 0.0         0.0                       1.0   \n",
       "\n",
       "   MSA, Principle City  Non-MSA  \n",
       "0                  0.0      1.0  \n",
       "1                  0.0      0.0  \n",
       "2                  0.0      0.0  \n",
       "3                  1.0      0.0  \n",
       "4                  0.0      0.0  "
      ]
     },
<<<<<<< HEAD
     "execution_count": 71,
=======
     "execution_count": 405,
>>>>>>> f55d197c1325bb9dd41bd183e80ed0e8701a19e7
     "metadata": {},
     "output_type": "execute_result"
    }
   ],
>>>>>>> 51d9e99e954723218d8902c654ad9f06e551671a
   "source": [
    "# Joining back categorical into the numerical data \n",
    "\n",
    "vaccine_df = numeric_data.join(df_full_categorical)\n",
    "vaccine_df.head()"
   ]
  },
  {
   "cell_type": "code",
<<<<<<< HEAD
<<<<<<< HEAD
   "execution_count": null,
=======
   "execution_count": 72,
>>>>>>> 51d9e99e954723218d8902c654ad9f06e551671a
=======
   "execution_count": 406,
>>>>>>> f55d197c1325bb9dd41bd183e80ed0e8701a19e7
   "metadata": {},
   "outputs": [],
   "source": [
    "vaccine_df.drop(columns=['respondent_id'],inplace=True)"
   ]
  },
  {
   "cell_type": "code",
<<<<<<< HEAD
<<<<<<< HEAD
   "execution_count": null,
   "metadata": {},
   "outputs": [],
=======
   "execution_count": 73,
   "metadata": {},
   "outputs": [
    {
     "data": {
      "text/html": [
       "<div>\n",
       "<style scoped>\n",
       "    .dataframe tbody tr th:only-of-type {\n",
       "        vertical-align: middle;\n",
       "    }\n",
       "\n",
       "    .dataframe tbody tr th {\n",
       "        vertical-align: top;\n",
       "    }\n",
       "\n",
       "    .dataframe thead th {\n",
       "        text-align: right;\n",
       "    }\n",
       "</style>\n",
       "<table border=\"1\" class=\"dataframe\">\n",
       "  <thead>\n",
       "    <tr style=\"text-align: right;\">\n",
       "      <th></th>\n",
       "      <th>h1n1_vaccine</th>\n",
       "      <th>seasonal_vaccine</th>\n",
       "      <th>h1n1_concern</th>\n",
       "      <th>h1n1_knowledge</th>\n",
       "      <th>behavioral_antiviral_meds</th>\n",
       "      <th>behavioral_avoidance</th>\n",
       "      <th>behavioral_face_mask</th>\n",
       "      <th>behavioral_wash_hands</th>\n",
       "      <th>behavioral_large_gatherings</th>\n",
       "      <th>behavioral_outside_home</th>\n",
       "      <th>behavioral_touch_face</th>\n",
       "      <th>doctor_recc_h1n1</th>\n",
       "      <th>chronic_med_condition</th>\n",
       "      <th>child_under_6_months</th>\n",
       "      <th>health_worker</th>\n",
       "      <th>health_insurance</th>\n",
       "      <th>opinion_h1n1_vacc_effective</th>\n",
       "      <th>opinion_h1n1_risk</th>\n",
       "      <th>opinion_h1n1_sick_from_vacc</th>\n",
       "      <th>household_adults</th>\n",
       "      <th>household_children</th>\n",
       "      <th>18 - 34 Years</th>\n",
       "      <th>35 - 44 Years</th>\n",
       "      <th>45 - 54 Years</th>\n",
       "      <th>55 - 64 Years</th>\n",
       "      <th>65+ Years</th>\n",
       "      <th>12 Years</th>\n",
       "      <th>&lt; 12 Years</th>\n",
       "      <th>College Graduate</th>\n",
       "      <th>Some College</th>\n",
       "      <th>Black</th>\n",
       "      <th>Hispanic</th>\n",
       "      <th>Other or Multiple</th>\n",
       "      <th>White</th>\n",
       "      <th>Female</th>\n",
       "      <th>Male</th>\n",
       "      <th>&lt;= $75,000, Above Poverty</th>\n",
       "      <th>&gt; $75,000</th>\n",
       "      <th>Below Poverty</th>\n",
       "      <th>Married</th>\n",
       "      <th>Not Married</th>\n",
       "      <th>Own</th>\n",
       "      <th>Rent</th>\n",
       "      <th>Employed</th>\n",
       "      <th>Not in Labor Force</th>\n",
       "      <th>Unemployed</th>\n",
       "      <th>MSA, Not Principle  City</th>\n",
       "      <th>MSA, Principle City</th>\n",
       "      <th>Non-MSA</th>\n",
       "    </tr>\n",
       "  </thead>\n",
       "  <tbody>\n",
       "    <tr>\n",
       "      <th>0</th>\n",
       "      <td>0</td>\n",
       "      <td>0</td>\n",
       "      <td>1.0</td>\n",
       "      <td>0.0</td>\n",
       "      <td>0.0</td>\n",
       "      <td>0.0</td>\n",
       "      <td>0.0</td>\n",
       "      <td>0.0</td>\n",
       "      <td>0.0</td>\n",
       "      <td>1.0</td>\n",
       "      <td>1.0</td>\n",
       "      <td>0.0</td>\n",
       "      <td>0.0</td>\n",
       "      <td>0.0</td>\n",
       "      <td>0.0</td>\n",
       "      <td>1.0</td>\n",
       "      <td>3.0</td>\n",
       "      <td>1.0</td>\n",
       "      <td>2.0</td>\n",
       "      <td>0.0</td>\n",
       "      <td>0.0</td>\n",
       "      <td>0.0</td>\n",
       "      <td>0.0</td>\n",
       "      <td>0.0</td>\n",
       "      <td>1.0</td>\n",
       "      <td>0.0</td>\n",
       "      <td>0.0</td>\n",
       "      <td>1.0</td>\n",
       "      <td>0.0</td>\n",
       "      <td>0.0</td>\n",
       "      <td>0.0</td>\n",
       "      <td>0.0</td>\n",
       "      <td>0.0</td>\n",
       "      <td>1.0</td>\n",
       "      <td>1.0</td>\n",
       "      <td>0.0</td>\n",
       "      <td>0.0</td>\n",
       "      <td>0.0</td>\n",
       "      <td>1.0</td>\n",
       "      <td>0.0</td>\n",
       "      <td>1.0</td>\n",
       "      <td>1.0</td>\n",
       "      <td>0.0</td>\n",
       "      <td>0.0</td>\n",
       "      <td>1.0</td>\n",
       "      <td>0.0</td>\n",
       "      <td>0.0</td>\n",
       "      <td>0.0</td>\n",
       "      <td>1.0</td>\n",
       "    </tr>\n",
       "    <tr>\n",
       "      <th>1</th>\n",
       "      <td>0</td>\n",
       "      <td>1</td>\n",
       "      <td>3.0</td>\n",
       "      <td>2.0</td>\n",
       "      <td>0.0</td>\n",
       "      <td>1.0</td>\n",
       "      <td>0.0</td>\n",
       "      <td>1.0</td>\n",
       "      <td>0.0</td>\n",
       "      <td>1.0</td>\n",
       "      <td>1.0</td>\n",
       "      <td>0.0</td>\n",
       "      <td>0.0</td>\n",
       "      <td>0.0</td>\n",
       "      <td>0.0</td>\n",
       "      <td>1.0</td>\n",
       "      <td>5.0</td>\n",
       "      <td>4.0</td>\n",
       "      <td>4.0</td>\n",
       "      <td>0.0</td>\n",
       "      <td>0.0</td>\n",
       "      <td>0.0</td>\n",
       "      <td>1.0</td>\n",
       "      <td>0.0</td>\n",
       "      <td>0.0</td>\n",
       "      <td>0.0</td>\n",
       "      <td>1.0</td>\n",
       "      <td>0.0</td>\n",
       "      <td>0.0</td>\n",
       "      <td>0.0</td>\n",
       "      <td>0.0</td>\n",
       "      <td>0.0</td>\n",
       "      <td>0.0</td>\n",
       "      <td>1.0</td>\n",
       "      <td>0.0</td>\n",
       "      <td>1.0</td>\n",
       "      <td>0.0</td>\n",
       "      <td>0.0</td>\n",
       "      <td>1.0</td>\n",
       "      <td>0.0</td>\n",
       "      <td>1.0</td>\n",
       "      <td>0.0</td>\n",
       "      <td>1.0</td>\n",
       "      <td>1.0</td>\n",
       "      <td>0.0</td>\n",
       "      <td>0.0</td>\n",
       "      <td>1.0</td>\n",
       "      <td>0.0</td>\n",
       "      <td>0.0</td>\n",
       "    </tr>\n",
       "    <tr>\n",
       "      <th>2</th>\n",
       "      <td>0</td>\n",
       "      <td>0</td>\n",
       "      <td>1.0</td>\n",
       "      <td>1.0</td>\n",
       "      <td>0.0</td>\n",
       "      <td>1.0</td>\n",
       "      <td>0.0</td>\n",
       "      <td>0.0</td>\n",
       "      <td>0.0</td>\n",
       "      <td>0.0</td>\n",
       "      <td>0.0</td>\n",
       "      <td>NaN</td>\n",
       "      <td>1.0</td>\n",
       "      <td>0.0</td>\n",
       "      <td>0.0</td>\n",
       "      <td>2.0</td>\n",
       "      <td>3.0</td>\n",
       "      <td>1.0</td>\n",
       "      <td>1.0</td>\n",
       "      <td>2.0</td>\n",
       "      <td>0.0</td>\n",
       "      <td>1.0</td>\n",
       "      <td>0.0</td>\n",
       "      <td>0.0</td>\n",
       "      <td>0.0</td>\n",
       "      <td>0.0</td>\n",
       "      <td>0.0</td>\n",
       "      <td>0.0</td>\n",
       "      <td>1.0</td>\n",
       "      <td>0.0</td>\n",
       "      <td>0.0</td>\n",
       "      <td>0.0</td>\n",
       "      <td>0.0</td>\n",
       "      <td>1.0</td>\n",
       "      <td>0.0</td>\n",
       "      <td>1.0</td>\n",
       "      <td>1.0</td>\n",
       "      <td>0.0</td>\n",
       "      <td>0.0</td>\n",
       "      <td>0.0</td>\n",
       "      <td>1.0</td>\n",
       "      <td>1.0</td>\n",
       "      <td>0.0</td>\n",
       "      <td>1.0</td>\n",
       "      <td>0.0</td>\n",
       "      <td>0.0</td>\n",
       "      <td>1.0</td>\n",
       "      <td>0.0</td>\n",
       "      <td>0.0</td>\n",
       "    </tr>\n",
       "    <tr>\n",
       "      <th>3</th>\n",
       "      <td>0</td>\n",
       "      <td>1</td>\n",
       "      <td>1.0</td>\n",
       "      <td>1.0</td>\n",
       "      <td>0.0</td>\n",
       "      <td>1.0</td>\n",
       "      <td>0.0</td>\n",
       "      <td>1.0</td>\n",
       "      <td>1.0</td>\n",
       "      <td>0.0</td>\n",
       "      <td>0.0</td>\n",
       "      <td>0.0</td>\n",
       "      <td>1.0</td>\n",
       "      <td>0.0</td>\n",
       "      <td>0.0</td>\n",
       "      <td>2.0</td>\n",
       "      <td>3.0</td>\n",
       "      <td>3.0</td>\n",
       "      <td>5.0</td>\n",
       "      <td>0.0</td>\n",
       "      <td>0.0</td>\n",
       "      <td>0.0</td>\n",
       "      <td>0.0</td>\n",
       "      <td>0.0</td>\n",
       "      <td>0.0</td>\n",
       "      <td>1.0</td>\n",
       "      <td>1.0</td>\n",
       "      <td>0.0</td>\n",
       "      <td>0.0</td>\n",
       "      <td>0.0</td>\n",
       "      <td>0.0</td>\n",
       "      <td>0.0</td>\n",
       "      <td>0.0</td>\n",
       "      <td>1.0</td>\n",
       "      <td>1.0</td>\n",
       "      <td>0.0</td>\n",
       "      <td>0.0</td>\n",
       "      <td>0.0</td>\n",
       "      <td>1.0</td>\n",
       "      <td>0.0</td>\n",
       "      <td>1.0</td>\n",
       "      <td>0.0</td>\n",
       "      <td>1.0</td>\n",
       "      <td>0.0</td>\n",
       "      <td>1.0</td>\n",
       "      <td>0.0</td>\n",
       "      <td>0.0</td>\n",
       "      <td>1.0</td>\n",
       "      <td>0.0</td>\n",
       "    </tr>\n",
       "    <tr>\n",
       "      <th>4</th>\n",
       "      <td>0</td>\n",
       "      <td>0</td>\n",
       "      <td>2.0</td>\n",
       "      <td>1.0</td>\n",
       "      <td>0.0</td>\n",
       "      <td>1.0</td>\n",
       "      <td>0.0</td>\n",
       "      <td>1.0</td>\n",
       "      <td>1.0</td>\n",
       "      <td>0.0</td>\n",
       "      <td>1.0</td>\n",
       "      <td>0.0</td>\n",
       "      <td>0.0</td>\n",
       "      <td>0.0</td>\n",
       "      <td>0.0</td>\n",
       "      <td>2.0</td>\n",
       "      <td>3.0</td>\n",
       "      <td>3.0</td>\n",
       "      <td>2.0</td>\n",
       "      <td>1.0</td>\n",
       "      <td>0.0</td>\n",
       "      <td>0.0</td>\n",
       "      <td>0.0</td>\n",
       "      <td>1.0</td>\n",
       "      <td>0.0</td>\n",
       "      <td>0.0</td>\n",
       "      <td>0.0</td>\n",
       "      <td>0.0</td>\n",
       "      <td>0.0</td>\n",
       "      <td>1.0</td>\n",
       "      <td>0.0</td>\n",
       "      <td>0.0</td>\n",
       "      <td>0.0</td>\n",
       "      <td>1.0</td>\n",
       "      <td>1.0</td>\n",
       "      <td>0.0</td>\n",
       "      <td>1.0</td>\n",
       "      <td>0.0</td>\n",
       "      <td>0.0</td>\n",
       "      <td>1.0</td>\n",
       "      <td>0.0</td>\n",
       "      <td>1.0</td>\n",
       "      <td>0.0</td>\n",
       "      <td>1.0</td>\n",
       "      <td>0.0</td>\n",
       "      <td>0.0</td>\n",
       "      <td>1.0</td>\n",
       "      <td>0.0</td>\n",
       "      <td>0.0</td>\n",
       "    </tr>\n",
       "    <tr>\n",
       "      <th>...</th>\n",
       "      <td>...</td>\n",
       "      <td>...</td>\n",
       "      <td>...</td>\n",
       "      <td>...</td>\n",
       "      <td>...</td>\n",
       "      <td>...</td>\n",
       "      <td>...</td>\n",
       "      <td>...</td>\n",
       "      <td>...</td>\n",
       "      <td>...</td>\n",
       "      <td>...</td>\n",
       "      <td>...</td>\n",
       "      <td>...</td>\n",
       "      <td>...</td>\n",
       "      <td>...</td>\n",
       "      <td>...</td>\n",
       "      <td>...</td>\n",
       "      <td>...</td>\n",
       "      <td>...</td>\n",
       "      <td>...</td>\n",
       "      <td>...</td>\n",
       "      <td>...</td>\n",
       "      <td>...</td>\n",
       "      <td>...</td>\n",
       "      <td>...</td>\n",
       "      <td>...</td>\n",
       "      <td>...</td>\n",
       "      <td>...</td>\n",
       "      <td>...</td>\n",
       "      <td>...</td>\n",
       "      <td>...</td>\n",
       "      <td>...</td>\n",
       "      <td>...</td>\n",
       "      <td>...</td>\n",
       "      <td>...</td>\n",
       "      <td>...</td>\n",
       "      <td>...</td>\n",
       "      <td>...</td>\n",
       "      <td>...</td>\n",
       "      <td>...</td>\n",
       "      <td>...</td>\n",
       "      <td>...</td>\n",
       "      <td>...</td>\n",
       "      <td>...</td>\n",
       "      <td>...</td>\n",
       "      <td>...</td>\n",
       "      <td>...</td>\n",
       "      <td>...</td>\n",
       "      <td>...</td>\n",
       "    </tr>\n",
       "    <tr>\n",
       "      <th>26702</th>\n",
       "      <td>0</td>\n",
       "      <td>0</td>\n",
       "      <td>2.0</td>\n",
       "      <td>0.0</td>\n",
       "      <td>0.0</td>\n",
       "      <td>1.0</td>\n",
       "      <td>0.0</td>\n",
       "      <td>0.0</td>\n",
       "      <td>0.0</td>\n",
       "      <td>1.0</td>\n",
       "      <td>0.0</td>\n",
       "      <td>0.0</td>\n",
       "      <td>0.0</td>\n",
       "      <td>0.0</td>\n",
       "      <td>0.0</td>\n",
       "      <td>2.0</td>\n",
       "      <td>3.0</td>\n",
       "      <td>1.0</td>\n",
       "      <td>1.0</td>\n",
       "      <td>0.0</td>\n",
       "      <td>0.0</td>\n",
       "      <td>0.0</td>\n",
       "      <td>0.0</td>\n",
       "      <td>0.0</td>\n",
       "      <td>0.0</td>\n",
       "      <td>1.0</td>\n",
       "      <td>0.0</td>\n",
       "      <td>0.0</td>\n",
       "      <td>0.0</td>\n",
       "      <td>1.0</td>\n",
       "      <td>0.0</td>\n",
       "      <td>0.0</td>\n",
       "      <td>0.0</td>\n",
       "      <td>1.0</td>\n",
       "      <td>1.0</td>\n",
       "      <td>0.0</td>\n",
       "      <td>1.0</td>\n",
       "      <td>0.0</td>\n",
       "      <td>0.0</td>\n",
       "      <td>0.0</td>\n",
       "      <td>1.0</td>\n",
       "      <td>1.0</td>\n",
       "      <td>0.0</td>\n",
       "      <td>0.0</td>\n",
       "      <td>1.0</td>\n",
       "      <td>0.0</td>\n",
       "      <td>0.0</td>\n",
       "      <td>0.0</td>\n",
       "      <td>1.0</td>\n",
       "    </tr>\n",
       "    <tr>\n",
       "      <th>26703</th>\n",
       "      <td>0</td>\n",
       "      <td>0</td>\n",
       "      <td>1.0</td>\n",
       "      <td>2.0</td>\n",
       "      <td>0.0</td>\n",
       "      <td>1.0</td>\n",
       "      <td>0.0</td>\n",
       "      <td>1.0</td>\n",
       "      <td>0.0</td>\n",
       "      <td>0.0</td>\n",
       "      <td>0.0</td>\n",
       "      <td>1.0</td>\n",
       "      <td>0.0</td>\n",
       "      <td>0.0</td>\n",
       "      <td>1.0</td>\n",
       "      <td>1.0</td>\n",
       "      <td>4.0</td>\n",
       "      <td>2.0</td>\n",
       "      <td>2.0</td>\n",
       "      <td>1.0</td>\n",
       "      <td>0.0</td>\n",
       "      <td>1.0</td>\n",
       "      <td>0.0</td>\n",
       "      <td>0.0</td>\n",
       "      <td>0.0</td>\n",
       "      <td>0.0</td>\n",
       "      <td>0.0</td>\n",
       "      <td>0.0</td>\n",
       "      <td>1.0</td>\n",
       "      <td>0.0</td>\n",
       "      <td>0.0</td>\n",
       "      <td>0.0</td>\n",
       "      <td>0.0</td>\n",
       "      <td>1.0</td>\n",
       "      <td>0.0</td>\n",
       "      <td>1.0</td>\n",
       "      <td>1.0</td>\n",
       "      <td>0.0</td>\n",
       "      <td>0.0</td>\n",
       "      <td>0.0</td>\n",
       "      <td>1.0</td>\n",
       "      <td>0.0</td>\n",
       "      <td>1.0</td>\n",
       "      <td>1.0</td>\n",
       "      <td>0.0</td>\n",
       "      <td>0.0</td>\n",
       "      <td>0.0</td>\n",
       "      <td>1.0</td>\n",
       "      <td>0.0</td>\n",
       "    </tr>\n",
       "    <tr>\n",
       "      <th>26704</th>\n",
       "      <td>0</td>\n",
       "      <td>1</td>\n",
       "      <td>2.0</td>\n",
       "      <td>2.0</td>\n",
       "      <td>0.0</td>\n",
       "      <td>1.0</td>\n",
       "      <td>1.0</td>\n",
       "      <td>1.0</td>\n",
       "      <td>1.0</td>\n",
       "      <td>0.0</td>\n",
       "      <td>1.0</td>\n",
       "      <td>0.0</td>\n",
       "      <td>0.0</td>\n",
       "      <td>0.0</td>\n",
       "      <td>0.0</td>\n",
       "      <td>2.0</td>\n",
       "      <td>4.0</td>\n",
       "      <td>4.0</td>\n",
       "      <td>2.0</td>\n",
       "      <td>0.0</td>\n",
       "      <td>0.0</td>\n",
       "      <td>0.0</td>\n",
       "      <td>0.0</td>\n",
       "      <td>0.0</td>\n",
       "      <td>1.0</td>\n",
       "      <td>0.0</td>\n",
       "      <td>0.0</td>\n",
       "      <td>0.0</td>\n",
       "      <td>0.0</td>\n",
       "      <td>1.0</td>\n",
       "      <td>0.0</td>\n",
       "      <td>0.0</td>\n",
       "      <td>0.0</td>\n",
       "      <td>1.0</td>\n",
       "      <td>1.0</td>\n",
       "      <td>0.0</td>\n",
       "      <td>1.0</td>\n",
       "      <td>0.0</td>\n",
       "      <td>0.0</td>\n",
       "      <td>0.0</td>\n",
       "      <td>1.0</td>\n",
       "      <td>1.0</td>\n",
       "      <td>0.0</td>\n",
       "      <td>1.0</td>\n",
       "      <td>0.0</td>\n",
       "      <td>0.0</td>\n",
       "      <td>1.0</td>\n",
       "      <td>0.0</td>\n",
       "      <td>0.0</td>\n",
       "    </tr>\n",
       "    <tr>\n",
       "      <th>26705</th>\n",
       "      <td>0</td>\n",
       "      <td>0</td>\n",
       "      <td>1.0</td>\n",
       "      <td>1.0</td>\n",
       "      <td>0.0</td>\n",
       "      <td>0.0</td>\n",
       "      <td>0.0</td>\n",
       "      <td>0.0</td>\n",
       "      <td>0.0</td>\n",
       "      <td>0.0</td>\n",
       "      <td>NaN</td>\n",
       "      <td>0.0</td>\n",
       "      <td>0.0</td>\n",
       "      <td>0.0</td>\n",
       "      <td>0.0</td>\n",
       "      <td>0.0</td>\n",
       "      <td>3.0</td>\n",
       "      <td>1.0</td>\n",
       "      <td>2.0</td>\n",
       "      <td>1.0</td>\n",
       "      <td>0.0</td>\n",
       "      <td>1.0</td>\n",
       "      <td>0.0</td>\n",
       "      <td>0.0</td>\n",
       "      <td>0.0</td>\n",
       "      <td>0.0</td>\n",
       "      <td>0.0</td>\n",
       "      <td>0.0</td>\n",
       "      <td>0.0</td>\n",
       "      <td>1.0</td>\n",
       "      <td>0.0</td>\n",
       "      <td>1.0</td>\n",
       "      <td>0.0</td>\n",
       "      <td>0.0</td>\n",
       "      <td>1.0</td>\n",
       "      <td>0.0</td>\n",
       "      <td>1.0</td>\n",
       "      <td>0.0</td>\n",
       "      <td>0.0</td>\n",
       "      <td>1.0</td>\n",
       "      <td>0.0</td>\n",
       "      <td>0.0</td>\n",
       "      <td>1.0</td>\n",
       "      <td>1.0</td>\n",
       "      <td>0.0</td>\n",
       "      <td>0.0</td>\n",
       "      <td>0.0</td>\n",
       "      <td>0.0</td>\n",
       "      <td>1.0</td>\n",
       "    </tr>\n",
       "    <tr>\n",
       "      <th>26706</th>\n",
       "      <td>0</td>\n",
       "      <td>0</td>\n",
       "      <td>0.0</td>\n",
       "      <td>0.0</td>\n",
       "      <td>0.0</td>\n",
       "      <td>1.0</td>\n",
       "      <td>0.0</td>\n",
       "      <td>0.0</td>\n",
       "      <td>0.0</td>\n",
       "      <td>0.0</td>\n",
       "      <td>0.0</td>\n",
       "      <td>0.0</td>\n",
       "      <td>0.0</td>\n",
       "      <td>0.0</td>\n",
       "      <td>0.0</td>\n",
       "      <td>1.0</td>\n",
       "      <td>5.0</td>\n",
       "      <td>1.0</td>\n",
       "      <td>1.0</td>\n",
       "      <td>1.0</td>\n",
       "      <td>0.0</td>\n",
       "      <td>0.0</td>\n",
       "      <td>0.0</td>\n",
       "      <td>0.0</td>\n",
       "      <td>0.0</td>\n",
       "      <td>1.0</td>\n",
       "      <td>0.0</td>\n",
       "      <td>0.0</td>\n",
       "      <td>0.0</td>\n",
       "      <td>1.0</td>\n",
       "      <td>0.0</td>\n",
       "      <td>0.0</td>\n",
       "      <td>0.0</td>\n",
       "      <td>1.0</td>\n",
       "      <td>0.0</td>\n",
       "      <td>1.0</td>\n",
       "      <td>1.0</td>\n",
       "      <td>0.0</td>\n",
       "      <td>0.0</td>\n",
       "      <td>1.0</td>\n",
       "      <td>0.0</td>\n",
       "      <td>1.0</td>\n",
       "      <td>0.0</td>\n",
       "      <td>0.0</td>\n",
       "      <td>1.0</td>\n",
       "      <td>0.0</td>\n",
       "      <td>0.0</td>\n",
       "      <td>1.0</td>\n",
       "      <td>0.0</td>\n",
       "    </tr>\n",
       "  </tbody>\n",
       "</table>\n",
       "<p>26707 rows × 49 columns</p>\n",
       "</div>"
      ],
      "text/plain": [
       "       h1n1_vaccine  seasonal_vaccine  h1n1_concern  h1n1_knowledge  \\\n",
       "0                 0                 0           1.0             0.0   \n",
       "1                 0                 1           3.0             2.0   \n",
       "2                 0                 0           1.0             1.0   \n",
       "3                 0                 1           1.0             1.0   \n",
       "4                 0                 0           2.0             1.0   \n",
       "...             ...               ...           ...             ...   \n",
       "26702             0                 0           2.0             0.0   \n",
       "26703             0                 0           1.0             2.0   \n",
       "26704             0                 1           2.0             2.0   \n",
       "26705             0                 0           1.0             1.0   \n",
       "26706             0                 0           0.0             0.0   \n",
       "\n",
       "       behavioral_antiviral_meds  behavioral_avoidance  behavioral_face_mask  \\\n",
       "0                            0.0                   0.0                   0.0   \n",
       "1                            0.0                   1.0                   0.0   \n",
       "2                            0.0                   1.0                   0.0   \n",
       "3                            0.0                   1.0                   0.0   \n",
       "4                            0.0                   1.0                   0.0   \n",
       "...                          ...                   ...                   ...   \n",
       "26702                        0.0                   1.0                   0.0   \n",
       "26703                        0.0                   1.0                   0.0   \n",
       "26704                        0.0                   1.0                   1.0   \n",
       "26705                        0.0                   0.0                   0.0   \n",
       "26706                        0.0                   1.0                   0.0   \n",
       "\n",
       "       behavioral_wash_hands  behavioral_large_gatherings  \\\n",
       "0                        0.0                          0.0   \n",
       "1                        1.0                          0.0   \n",
       "2                        0.0                          0.0   \n",
       "3                        1.0                          1.0   \n",
       "4                        1.0                          1.0   \n",
       "...                      ...                          ...   \n",
       "26702                    0.0                          0.0   \n",
       "26703                    1.0                          0.0   \n",
       "26704                    1.0                          1.0   \n",
       "26705                    0.0                          0.0   \n",
       "26706                    0.0                          0.0   \n",
       "\n",
       "       behavioral_outside_home  behavioral_touch_face  doctor_recc_h1n1  \\\n",
       "0                          1.0                    1.0               0.0   \n",
       "1                          1.0                    1.0               0.0   \n",
       "2                          0.0                    0.0               NaN   \n",
       "3                          0.0                    0.0               0.0   \n",
       "4                          0.0                    1.0               0.0   \n",
       "...                        ...                    ...               ...   \n",
       "26702                      1.0                    0.0               0.0   \n",
       "26703                      0.0                    0.0               1.0   \n",
       "26704                      0.0                    1.0               0.0   \n",
       "26705                      0.0                    NaN               0.0   \n",
       "26706                      0.0                    0.0               0.0   \n",
       "\n",
       "       chronic_med_condition  child_under_6_months  health_worker  \\\n",
       "0                        0.0                   0.0            0.0   \n",
       "1                        0.0                   0.0            0.0   \n",
       "2                        1.0                   0.0            0.0   \n",
       "3                        1.0                   0.0            0.0   \n",
       "4                        0.0                   0.0            0.0   \n",
       "...                      ...                   ...            ...   \n",
       "26702                    0.0                   0.0            0.0   \n",
       "26703                    0.0                   0.0            1.0   \n",
       "26704                    0.0                   0.0            0.0   \n",
       "26705                    0.0                   0.0            0.0   \n",
       "26706                    0.0                   0.0            0.0   \n",
       "\n",
       "       health_insurance  opinion_h1n1_vacc_effective  opinion_h1n1_risk  \\\n",
       "0                   1.0                          3.0                1.0   \n",
       "1                   1.0                          5.0                4.0   \n",
       "2                   2.0                          3.0                1.0   \n",
       "3                   2.0                          3.0                3.0   \n",
       "4                   2.0                          3.0                3.0   \n",
       "...                 ...                          ...                ...   \n",
       "26702               2.0                          3.0                1.0   \n",
       "26703               1.0                          4.0                2.0   \n",
       "26704               2.0                          4.0                4.0   \n",
       "26705               0.0                          3.0                1.0   \n",
       "26706               1.0                          5.0                1.0   \n",
       "\n",
       "       opinion_h1n1_sick_from_vacc  household_adults  household_children  \\\n",
       "0                              2.0               0.0                 0.0   \n",
       "1                              4.0               0.0                 0.0   \n",
       "2                              1.0               2.0                 0.0   \n",
       "3                              5.0               0.0                 0.0   \n",
       "4                              2.0               1.0                 0.0   \n",
       "...                            ...               ...                 ...   \n",
       "26702                          1.0               0.0                 0.0   \n",
       "26703                          2.0               1.0                 0.0   \n",
       "26704                          2.0               0.0                 0.0   \n",
       "26705                          2.0               1.0                 0.0   \n",
       "26706                          1.0               1.0                 0.0   \n",
       "\n",
       "       18 - 34 Years  35 - 44 Years  45 - 54 Years  55 - 64 Years  65+ Years  \\\n",
       "0                0.0            0.0            0.0            1.0        0.0   \n",
       "1                0.0            1.0            0.0            0.0        0.0   \n",
       "2                1.0            0.0            0.0            0.0        0.0   \n",
       "3                0.0            0.0            0.0            0.0        1.0   \n",
       "4                0.0            0.0            1.0            0.0        0.0   \n",
       "...              ...            ...            ...            ...        ...   \n",
       "26702            0.0            0.0            0.0            0.0        1.0   \n",
       "26703            1.0            0.0            0.0            0.0        0.0   \n",
       "26704            0.0            0.0            0.0            1.0        0.0   \n",
       "26705            1.0            0.0            0.0            0.0        0.0   \n",
       "26706            0.0            0.0            0.0            0.0        1.0   \n",
       "\n",
       "       12 Years  < 12 Years  College Graduate  Some College  Black  Hispanic  \\\n",
       "0           0.0         1.0               0.0           0.0    0.0       0.0   \n",
       "1           1.0         0.0               0.0           0.0    0.0       0.0   \n",
       "2           0.0         0.0               1.0           0.0    0.0       0.0   \n",
       "3           1.0         0.0               0.0           0.0    0.0       0.0   \n",
       "4           0.0         0.0               0.0           1.0    0.0       0.0   \n",
       "...         ...         ...               ...           ...    ...       ...   \n",
       "26702       0.0         0.0               0.0           1.0    0.0       0.0   \n",
       "26703       0.0         0.0               1.0           0.0    0.0       0.0   \n",
       "26704       0.0         0.0               0.0           1.0    0.0       0.0   \n",
       "26705       0.0         0.0               0.0           1.0    0.0       1.0   \n",
       "26706       0.0         0.0               0.0           1.0    0.0       0.0   \n",
       "\n",
       "       Other or Multiple  White  Female  Male  <= $75,000, Above Poverty  \\\n",
       "0                    0.0    1.0     1.0   0.0                        0.0   \n",
       "1                    0.0    1.0     0.0   1.0                        0.0   \n",
       "2                    0.0    1.0     0.0   1.0                        1.0   \n",
       "3                    0.0    1.0     1.0   0.0                        0.0   \n",
       "4                    0.0    1.0     1.0   0.0                        1.0   \n",
       "...                  ...    ...     ...   ...                        ...   \n",
       "26702                0.0    1.0     1.0   0.0                        1.0   \n",
       "26703                0.0    1.0     0.0   1.0                        1.0   \n",
       "26704                0.0    1.0     1.0   0.0                        1.0   \n",
       "26705                0.0    0.0     1.0   0.0                        1.0   \n",
       "26706                0.0    1.0     0.0   1.0                        1.0   \n",
       "\n",
       "       > $75,000  Below Poverty  Married  Not Married  Own  Rent  Employed  \\\n",
       "0            0.0            1.0      0.0          1.0  1.0   0.0       0.0   \n",
       "1            0.0            1.0      0.0          1.0  0.0   1.0       1.0   \n",
       "2            0.0            0.0      0.0          1.0  1.0   0.0       1.0   \n",
       "3            0.0            1.0      0.0          1.0  0.0   1.0       0.0   \n",
       "4            0.0            0.0      1.0          0.0  1.0   0.0       1.0   \n",
       "...          ...            ...      ...          ...  ...   ...       ...   \n",
       "26702        0.0            0.0      0.0          1.0  1.0   0.0       0.0   \n",
       "26703        0.0            0.0      0.0          1.0  0.0   1.0       1.0   \n",
       "26704        0.0            0.0      0.0          1.0  1.0   0.0       1.0   \n",
       "26705        0.0            0.0      1.0          0.0  0.0   1.0       1.0   \n",
       "26706        0.0            0.0      1.0          0.0  1.0   0.0       0.0   \n",
       "\n",
       "       Not in Labor Force  Unemployed  MSA, Not Principle  City  \\\n",
       "0                     1.0         0.0                       0.0   \n",
       "1                     0.0         0.0                       1.0   \n",
       "2                     0.0         0.0                       1.0   \n",
       "3                     1.0         0.0                       0.0   \n",
       "4                     0.0         0.0                       1.0   \n",
       "...                   ...         ...                       ...   \n",
       "26702                 1.0         0.0                       0.0   \n",
       "26703                 0.0         0.0                       0.0   \n",
       "26704                 0.0         0.0                       1.0   \n",
       "26705                 0.0         0.0                       0.0   \n",
       "26706                 1.0         0.0                       0.0   \n",
       "\n",
       "       MSA, Principle City  Non-MSA  \n",
       "0                      0.0      1.0  \n",
       "1                      0.0      0.0  \n",
       "2                      0.0      0.0  \n",
       "3                      1.0      0.0  \n",
       "4                      0.0      0.0  \n",
       "...                    ...      ...  \n",
       "26702                  0.0      1.0  \n",
       "26703                  1.0      0.0  \n",
       "26704                  0.0      0.0  \n",
       "26705                  0.0      1.0  \n",
       "26706                  1.0      0.0  \n",
       "\n",
       "[26707 rows x 49 columns]"
      ]
     },
     "execution_count": 73,
     "metadata": {},
     "output_type": "execute_result"
    }
   ],
>>>>>>> 51d9e99e954723218d8902c654ad9f06e551671a
   "source": [
    "vaccine_df"
   ]
  },
  {
   "cell_type": "code",
<<<<<<< HEAD
   "execution_count": null,
=======
   "execution_count": 74,
>>>>>>> 51d9e99e954723218d8902c654ad9f06e551671a
   "metadata": {},
   "outputs": [],
=======
   "execution_count": 407,
   "metadata": {
    "scrolled": false
   },
   "outputs": [
    {
     "name": "stdout",
     "output_type": "stream",
     "text": [
      "<class 'pandas.core.frame.DataFrame'>\n",
      "Int64Index: 26707 entries, 0 to 26706\n",
      "Data columns (total 49 columns):\n",
      " #   Column                       Non-Null Count  Dtype  \n",
      "---  ------                       --------------  -----  \n",
      " 0   h1n1_vaccine                 26707 non-null  int64  \n",
      " 1   seasonal_vaccine             26707 non-null  int64  \n",
      " 2   h1n1_concern                 26615 non-null  float64\n",
      " 3   h1n1_knowledge               26591 non-null  float64\n",
      " 4   behavioral_antiviral_meds    26636 non-null  float64\n",
      " 5   behavioral_avoidance         26499 non-null  float64\n",
      " 6   behavioral_face_mask         26688 non-null  float64\n",
      " 7   behavioral_wash_hands        26665 non-null  float64\n",
      " 8   behavioral_large_gatherings  26620 non-null  float64\n",
      " 9   behavioral_outside_home      26625 non-null  float64\n",
      " 10  behavioral_touch_face        26579 non-null  float64\n",
      " 11  doctor_recc_h1n1             24547 non-null  float64\n",
      " 12  chronic_med_condition        25736 non-null  float64\n",
      " 13  child_under_6_months         25887 non-null  float64\n",
      " 14  health_worker                25903 non-null  float64\n",
      " 15  health_insurance             26707 non-null  float64\n",
      " 16  opinion_h1n1_vacc_effective  26316 non-null  float64\n",
      " 17  opinion_h1n1_risk            26319 non-null  float64\n",
      " 18  opinion_h1n1_sick_from_vacc  26312 non-null  float64\n",
      " 19  household_adults             26458 non-null  float64\n",
      " 20  household_children           26458 non-null  float64\n",
      " 21  18 - 34 Years                26707 non-null  float64\n",
      " 22  35 - 44 Years                26707 non-null  float64\n",
      " 23  45 - 54 Years                26707 non-null  float64\n",
      " 24  55 - 64 Years                26707 non-null  float64\n",
      " 25  65+ Years                    26707 non-null  float64\n",
      " 26  12 Years                     26707 non-null  float64\n",
      " 27  < 12 Years                   26707 non-null  float64\n",
      " 28  College Graduate             26707 non-null  float64\n",
      " 29  Some College                 26707 non-null  float64\n",
      " 30  Black                        26707 non-null  float64\n",
      " 31  Hispanic                     26707 non-null  float64\n",
      " 32  Other or Multiple            26707 non-null  float64\n",
      " 33  White                        26707 non-null  float64\n",
      " 34  Female                       26707 non-null  float64\n",
      " 35  Male                         26707 non-null  float64\n",
      " 36  <= $75,000, Above Poverty    26707 non-null  float64\n",
      " 37  > $75,000                    26707 non-null  float64\n",
      " 38  Below Poverty                26707 non-null  float64\n",
      " 39  Married                      26707 non-null  float64\n",
      " 40  Not Married                  26707 non-null  float64\n",
      " 41  Own                          26707 non-null  float64\n",
      " 42  Rent                         26707 non-null  float64\n",
      " 43  Employed                     26707 non-null  float64\n",
      " 44  Not in Labor Force           26707 non-null  float64\n",
      " 45  Unemployed                   26707 non-null  float64\n",
      " 46  MSA, Not Principle  City     26707 non-null  float64\n",
      " 47  MSA, Principle City          26707 non-null  float64\n",
      " 48  Non-MSA                      26707 non-null  float64\n",
      "dtypes: float64(47), int64(2)\n",
      "memory usage: 11.4 MB\n"
     ]
    }
   ],
>>>>>>> f55d197c1325bb9dd41bd183e80ed0e8701a19e7
   "source": [
    "vaccine_df.info()"
   ]
  },
  {
   "cell_type": "markdown",
   "metadata": {},
   "source": [
    "**NOTE:** We will impute the remaining null values later on  with a SimpleImputer"
   ]
  },
  {
   "cell_type": "code",
<<<<<<< HEAD
<<<<<<< HEAD
   "execution_count": null,
=======
   "execution_count": 75,
>>>>>>> 51d9e99e954723218d8902c654ad9f06e551671a
=======
   "execution_count": 408,
>>>>>>> f55d197c1325bb9dd41bd183e80ed0e8701a19e7
   "metadata": {},
   "outputs": [],
   "source": [
    "# Defining the predictors and target ahead of our train-test split\n",
    "\n",
    "X = vaccine_df.drop(columns=['h1n1_vaccine'])\n",
    "y = vaccine_df['h1n1_vaccine']"
   ]
  },
  {
   "cell_type": "markdown",
   "metadata": {},
   "source": [
    "## Setting up train-test split"
   ]
  },
  {
   "cell_type": "code",
<<<<<<< HEAD
<<<<<<< HEAD
   "execution_count": null,
=======
   "execution_count": 76,
>>>>>>> 51d9e99e954723218d8902c654ad9f06e551671a
=======
   "execution_count": 409,
>>>>>>> f55d197c1325bb9dd41bd183e80ed0e8701a19e7
   "metadata": {},
   "outputs": [],
   "source": [
    "# Setting up train-test split ahead of modeling\n",
    "\n",
    "X_train, X_test, y_train, y_test = train_test_split(X, y, test_size=.25,random_state=42)"
   ]
  },
  {
   "cell_type": "markdown",
   "metadata": {},
   "source": [
    "## Prepare Cross Validation Function for Model Testing"
   ]
  },
  {
   "cell_type": "code",
<<<<<<< HEAD
<<<<<<< HEAD
   "execution_count": null,
=======
   "execution_count": 77,
>>>>>>> 51d9e99e954723218d8902c654ad9f06e551671a
=======
   "execution_count": 410,
>>>>>>> f55d197c1325bb9dd41bd183e80ed0e8701a19e7
   "metadata": {},
   "outputs": [],
   "source": [
    "# We will use this class to help with cross-validation when evaluating models \n",
    "\n",
    "class ModelWithCV():\n",
    "    '''Structure to save the model and more easily see its crossvalidation'''\n",
    "    \n",
    "    def __init__(self, model, model_name, X, y, cv_now=True):\n",
    "        self.model = model\n",
    "        self.name = model_name\n",
    "        self.X = X\n",
    "        self.y = y\n",
    "        # For CV results\n",
    "        self.cv_results = None\n",
    "        self.cv_mean = None\n",
    "        self.cv_median = None\n",
    "        self.cv_std = None\n",
    "        #\n",
    "        if cv_now:\n",
    "            self.cross_validate()\n",
    "        \n",
    "    def cross_validate(self, X=None, y=None, kfolds=10):\n",
    "        '''\n",
    "        Perform cross-validation and return results.\n",
    "        \n",
    "        Args: \n",
    "          X:\n",
    "            Optional; Training data to perform CV on. Otherwise use X from object\n",
    "          y:\n",
    "            Optional; Training data to perform CV on. Otherwise use y from object\n",
    "          kfolds:\n",
    "            Optional; Number of folds for CV (default is 10)  \n",
    "        '''\n",
    "        \n",
    "        cv_X = X if X else self.X\n",
    "        cv_y = y if y else self.y\n",
    "\n",
    "        self.cv_results = cross_val_score(self.model, cv_X, cv_y, cv=kfolds)\n",
    "        self.cv_mean = np.mean(self.cv_results)\n",
    "        self.cv_median = np.median(self.cv_results)\n",
    "        self.cv_std = np.std(self.cv_results)\n",
    "\n",
    "        \n",
    "    def print_cv_summary(self):\n",
    "        cv_summary = (\n",
    "        f'''CV Results for `{self.name}` model:\n",
    "            {self.cv_mean:.5f} ± {self.cv_std:.5f} accuracy\n",
    "        ''')\n",
    "        print(cv_summary)\n",
    "\n",
    "        \n",
    "    def plot_cv(self, ax):\n",
    "        '''\n",
    "        Plot the cross-validation values using the array of results and given \n",
    "        Axis for plotting.\n",
    "        '''\n",
    "        ax.set_title(f'CV Results for `{self.name}` Model')\n",
    "        # Thinner violinplot with higher bw\n",
    "        sns.violinplot(y=self.cv_results, ax=ax, bw=.4)\n",
    "        sns.swarmplot(\n",
    "                y=self.cv_results,\n",
    "                color='orange',\n",
    "                size=10,\n",
    "                alpha= 0.8,\n",
    "                ax=ax\n",
    "        )\n",
    "\n",
    "        return ax"
   ]
  },
  {
   "cell_type": "markdown",
   "metadata": {},
   "source": [
    "## Dummy Model (baseline)"
   ]
  },
  {
   "cell_type": "markdown",
   "metadata": {},
   "source": [
    "Using a dummy model to figure out baseline model performance for comparison later "
   ]
  },
  {
   "cell_type": "code",
<<<<<<< HEAD
<<<<<<< HEAD
   "execution_count": null,
=======
   "execution_count": 78,
>>>>>>> 51d9e99e954723218d8902c654ad9f06e551671a
=======
   "execution_count": 411,
>>>>>>> f55d197c1325bb9dd41bd183e80ed0e8701a19e7
   "metadata": {},
   "outputs": [],
   "source": [
    "dummy_model = DummyClassifier(strategy = 'most_frequent')"
   ]
  },
  {
   "cell_type": "code",
<<<<<<< HEAD
<<<<<<< HEAD
   "execution_count": null,
   "metadata": {},
   "outputs": [],
=======
   "execution_count": 79,
=======
   "execution_count": 412,
>>>>>>> f55d197c1325bb9dd41bd183e80ed0e8701a19e7
   "metadata": {},
   "outputs": [
    {
     "data": {
      "text/plain": [
       "DummyClassifier(strategy='most_frequent')"
      ]
     },
<<<<<<< HEAD
     "execution_count": 79,
=======
     "execution_count": 412,
>>>>>>> f55d197c1325bb9dd41bd183e80ed0e8701a19e7
     "metadata": {},
     "output_type": "execute_result"
    }
   ],
>>>>>>> 51d9e99e954723218d8902c654ad9f06e551671a
   "source": [
    "dummy_model.fit(X_train,y_train)"
   ]
  },
  {
   "cell_type": "code",
<<<<<<< HEAD
<<<<<<< HEAD
   "execution_count": null,
=======
   "execution_count": 80,
>>>>>>> 51d9e99e954723218d8902c654ad9f06e551671a
=======
   "execution_count": 413,
>>>>>>> f55d197c1325bb9dd41bd183e80ed0e8701a19e7
   "metadata": {},
   "outputs": [],
   "source": [
    "# getting CV score \n",
    "from sklearn.model_selection import cross_val_score\n",
    "\n",
    "\n",
    "\n",
    "dummy_cv = ModelWithCV(dummy_model, model_name='dummy_model', X=X_train, y=y_train)"
   ]
  },
  {
   "cell_type": "code",
<<<<<<< HEAD
<<<<<<< HEAD
   "execution_count": null,
   "metadata": {},
   "outputs": [],
=======
   "execution_count": 81,
   "metadata": {
    "scrolled": true
=======
   "execution_count": 414,
   "metadata": {
    "scrolled": false
>>>>>>> f55d197c1325bb9dd41bd183e80ed0e8701a19e7
   },
   "outputs": [
    {
     "name": "stdout",
     "output_type": "stream",
     "text": [
      "CV Results for `dummy_model` model:\n",
      "            0.78747 ± 0.00023 accuracy\n",
      "        \n"
     ]
    },
    {
     "data": {
      "image/png": "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\n",
      "text/plain": [
       "<Figure size 432x288 with 1 Axes>"
      ]
     },
     "metadata": {
      "needs_background": "light"
     },
     "output_type": "display_data"
    }
   ],
>>>>>>> 51d9e99e954723218d8902c654ad9f06e551671a
   "source": [
    "# visualizing CV accuracy score \n",
    "\n",
    "import seaborn as sns \n",
    "\n",
    "dummy_cv.print_cv_summary()\n",
    "fig, ax = plt.subplots()\n",
    "\n",
    "dummy_cv.plot_cv(ax=ax);"
   ]
  },
  {
   "cell_type": "code",
<<<<<<< HEAD
   "execution_count": 83,
   "metadata": {},
=======
   "execution_count": 415,
   "metadata": {
    "scrolled": true
   },
>>>>>>> f55d197c1325bb9dd41bd183e80ed0e8701a19e7
   "outputs": [
    {
     "data": {
      "image/png": "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\n",
      "text/plain": [
       "<Figure size 432x288 with 2 Axes>"
      ]
     },
     "metadata": {
      "needs_background": "light"
     },
     "output_type": "display_data"
    }
   ],
<<<<<<< HEAD
   "source": [
    "plot_confusion_matrix(dummy_model,X_train,y_train);"
   ]
  },
  {
   "cell_type": "code",
   "execution_count": 82,
   "metadata": {
    "scrolled": false
   },
   "outputs": [
    {
     "name": "stdout",
     "output_type": "stream",
     "text": [
      "Accuracy:0.79 ,Recall:0.00, Precision:0.00, F1:0.00\n"
     ]
    },
    {
     "name": "stderr",
     "output_type": "stream",
     "text": [
      "/Users/brandonmenendez/opt/anaconda3/envs/learn-env/lib/python3.8/site-packages/sklearn/metrics/_classification.py:1221: UndefinedMetricWarning: Precision is ill-defined and being set to 0.0 due to no predicted samples. Use `zero_division` parameter to control this behavior.\n",
      "  _warn_prf(average, modifier, msg_start, len(result))\n"
     ]
    }
   ],
   "source": [
    "y_pred_test = dummy_model.predict(X_test)\n",
    "\n",
    "model_accuracy = accuracy_score(y_test,y_pred_test)\n",
    "model_recall = recall_score(y_test,y_pred_test)\n",
    "model_precision = precision_score(y_test,y_pred_test)\n",
    "model_f1 = f1_score(y_test,y_pred_test)\n",
    "\n",
    "\n",
    "print(f\"\"\"\\\n",
    "Accuracy:{model_accuracy:1.2f} ,Recall:{model_recall:1.2f}, Precision:{model_precision:1.2f}, F1:{model_f1:1.2f}\\\n",
    "\"\"\") "
   ]
  },
  {
   "cell_type": "markdown",
   "metadata": {},
   "source": [
    "## Decision Tree Model & Feature Importance"
   ]
  },
  {
   "cell_type": "code",
   "execution_count": 84,
   "metadata": {},
   "outputs": [],
   "source": [
    "# Imputing remaining null values ahead of DT modeling \n",
    "\n",
    "imputer = SimpleImputer(strategy='median')\n",
    "\n",
    "imputer = imputer.fit(X_train)\n",
    "\n",
    "X_train_scaled = imputer.transform(X_train)"
   ]
  },
  {
   "cell_type": "code",
   "execution_count": 85,
   "metadata": {},
   "outputs": [],
   "source": [
    "X_test_scaled = imputer.transform(X_test)"
   ]
  },
  {
   "cell_type": "code",
   "execution_count": 86,
   "metadata": {},
   "outputs": [],
   "source": [
    "# Using SMOTE to deal with imbalanced target \n",
    "\n",
    "\n",
    "sm = SMOTE(random_state = 42)\n",
    "\n",
    "X_train_scaled, y_train = sm.fit_resample(X_train_scaled,y_train)"
   ]
  },
  {
   "cell_type": "code",
   "execution_count": 88,
   "metadata": {},
   "outputs": [
    {
     "data": {
      "text/plain": [
       "DecisionTreeClassifier(random_state=42)"
      ]
     },
     "execution_count": 88,
     "metadata": {},
     "output_type": "execute_result"
    }
   ],
   "source": [
    "from sklearn.tree import DecisionTreeClassifier\n",
    "\n",
    "ct = DecisionTreeClassifier(random_state=42)\n",
    "\n",
    "ct.fit(X_train_scaled, y_train)"
   ]
  },
  {
   "cell_type": "code",
   "execution_count": 89,
   "metadata": {},
   "outputs": [
    {
     "data": {
      "text/plain": [
       "0.9998415012996893"
      ]
     },
     "execution_count": 89,
     "metadata": {},
     "output_type": "execute_result"
    }
   ],
   "source": [
    "ct.score(X_train_scaled, y_train)"
   ]
  },
  {
   "cell_type": "code",
   "execution_count": 90,
   "metadata": {
    "scrolled": true
   },
   "outputs": [
    {
     "data": {
      "text/plain": [
       "0.7936198891717837"
      ]
     },
     "execution_count": 90,
     "metadata": {},
     "output_type": "execute_result"
    }
   ],
   "source": [
    "ct.score(X_test_scaled, y_test)"
   ]
  },
  {
   "cell_type": "code",
   "execution_count": 91,
   "metadata": {},
   "outputs": [],
   "source": [
    "dt_results = ModelWithCV(\n",
    "                        model=ct,\n",
    "                        model_name='dt_model',\n",
    "                        X=X_train_scaled, \n",
    "                        y=y_train\n",
    ")"
   ]
  },
  {
   "cell_type": "code",
   "execution_count": 92,
   "metadata": {},
   "outputs": [
    {
     "name": "stdout",
     "output_type": "stream",
     "text": [
      "CV Results for `dt_model` model:\n",
      "            0.86151 ± 0.08865 accuracy\n",
      "        \n"
     ]
    },
    {
     "data": {
      "image/png": "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\n",
      "text/plain": [
       "<Figure size 432x288 with 1 Axes>"
      ]
     },
     "metadata": {
      "needs_background": "light"
     },
     "output_type": "display_data"
    }
   ],
   "source": [
    "# Saving variable for convenience\n",
    "model_results = dt_results\n",
    "\n",
    "# Plot CV results\n",
    "fig, ax = plt.subplots()\n",
    "ax = model_results.plot_cv(ax)\n",
    "plt.tight_layout();\n",
    "# Print CV results\n",
    "model_results.print_cv_summary()"
   ]
  },
  {
   "cell_type": "code",
   "execution_count": 97,
   "metadata": {},
   "outputs": [
    {
     "name": "stdout",
     "output_type": "stream",
     "text": [
      "Accuracy:0.79 ,Recall:0.56, Precision:0.51, F1:0.53\n"
     ]
    }
   ],
   "source": [
    "y_pred_test = ct.predict(X_test_scaled)\n",
    "\n",
    "model_accuracy = accuracy_score(y_test,y_pred_test)\n",
    "model_recall = recall_score(y_test,y_pred_test)\n",
    "model_precision = precision_score(y_test,y_pred_test)\n",
    "model_f1 = f1_score(y_test,y_pred_test)\n",
    "\n",
    "\n",
    "print(f\"\"\"\\\n",
    "Accuracy:{model_accuracy:1.2f} ,Recall:{model_recall:1.2f}, Precision:{model_precision:1.2f}, F1:{model_f1:1.2f}\\\n",
    "\"\"\") "
   ]
  },
  {
   "cell_type": "code",
   "execution_count": 98,
   "metadata": {},
   "outputs": [],
   "source": [
    "# Feature Importance\n",
    "\n",
    "fi_list = []\n",
    "feature_list =[]\n",
    "\n",
    "for fi, feature in zip(ct.feature_importances_, X_train):\n",
    "    fi_list.append(fi)\n",
    "    feature_list.append(feature)\n",
    "\n",
    "final_features = pd.DataFrame(fi_list,feature_list)"
   ]
  },
  {
   "cell_type": "code",
   "execution_count": 99,
   "metadata": {},
   "outputs": [
    {
     "data": {
      "text/html": [
       "<div>\n",
       "<style scoped>\n",
       "    .dataframe tbody tr th:only-of-type {\n",
       "        vertical-align: middle;\n",
       "    }\n",
       "\n",
       "    .dataframe tbody tr th {\n",
       "        vertical-align: top;\n",
       "    }\n",
       "\n",
       "    .dataframe thead th {\n",
       "        text-align: right;\n",
       "    }\n",
       "</style>\n",
       "<table border=\"1\" class=\"dataframe\">\n",
       "  <thead>\n",
       "    <tr style=\"text-align: right;\">\n",
       "      <th></th>\n",
       "      <th>0</th>\n",
       "    </tr>\n",
       "  </thead>\n",
       "  <tbody>\n",
       "    <tr>\n",
       "      <th>seasonal_vaccine</th>\n",
       "      <td>0.346675</td>\n",
       "    </tr>\n",
       "    <tr>\n",
       "      <th>doctor_recc_h1n1</th>\n",
       "      <td>0.128061</td>\n",
       "    </tr>\n",
       "    <tr>\n",
       "      <th>health_insurance</th>\n",
       "      <td>0.087609</td>\n",
       "    </tr>\n",
       "    <tr>\n",
       "      <th>opinion_h1n1_vacc_effective</th>\n",
       "      <td>0.056391</td>\n",
       "    </tr>\n",
       "    <tr>\n",
       "      <th>opinion_h1n1_risk</th>\n",
       "      <td>0.038376</td>\n",
       "    </tr>\n",
       "    <tr>\n",
       "      <th>opinion_h1n1_sick_from_vacc</th>\n",
       "      <td>0.022238</td>\n",
       "    </tr>\n",
       "    <tr>\n",
       "      <th>h1n1_concern</th>\n",
       "      <td>0.020195</td>\n",
       "    </tr>\n",
       "    <tr>\n",
       "      <th>h1n1_knowledge</th>\n",
       "      <td>0.019697</td>\n",
       "    </tr>\n",
       "    <tr>\n",
       "      <th>health_worker</th>\n",
       "      <td>0.016551</td>\n",
       "    </tr>\n",
       "    <tr>\n",
       "      <th>household_adults</th>\n",
       "      <td>0.015982</td>\n",
       "    </tr>\n",
       "  </tbody>\n",
       "</table>\n",
       "</div>"
      ],
      "text/plain": [
       "                                    0\n",
       "seasonal_vaccine             0.346675\n",
       "doctor_recc_h1n1             0.128061\n",
       "health_insurance             0.087609\n",
       "opinion_h1n1_vacc_effective  0.056391\n",
       "opinion_h1n1_risk            0.038376\n",
       "opinion_h1n1_sick_from_vacc  0.022238\n",
       "h1n1_concern                 0.020195\n",
       "h1n1_knowledge               0.019697\n",
       "health_worker                0.016551\n",
       "household_adults             0.015982"
      ]
     },
     "execution_count": 99,
     "metadata": {},
     "output_type": "execute_result"
    }
   ],
   "source": [
    "final_features.sort_values(by=0,ascending=False).head(10)"
   ]
  },
  {
   "cell_type": "code",
   "execution_count": 102,
   "metadata": {},
   "outputs": [],
   "source": [
    "param_dict = {\n",
    "    'criterion': ['gini','entropy'],\n",
    "    'max_depth': range(1,10),\n",
    "    'min_samples_split': range(1,10),\n",
    "    'min_samples_leaf': range(1,5)\n",
    "}"
   ]
  },
  {
   "cell_type": "code",
   "execution_count": 106,
   "metadata": {},
   "outputs": [
    {
     "name": "stdout",
     "output_type": "stream",
     "text": [
      "Fitting 5 folds for each of 648 candidates, totalling 3240 fits\n"
     ]
    },
    {
     "name": "stderr",
     "output_type": "stream",
     "text": [
      "[Parallel(n_jobs=-2)]: Using backend LokyBackend with 7 concurrent workers.\n",
      "[Parallel(n_jobs=-2)]: Done  27 tasks      | elapsed:    2.6s\n",
      "[Parallel(n_jobs=-2)]: Done 417 tasks      | elapsed:    8.3s\n",
      "[Parallel(n_jobs=-2)]: Done 1229 tasks      | elapsed:   27.8s\n",
      "[Parallel(n_jobs=-2)]: Done 1593 tasks      | elapsed:   38.8s\n",
      "[Parallel(n_jobs=-2)]: Done 2749 tasks      | elapsed:  1.0min\n",
      "[Parallel(n_jobs=-2)]: Done 3194 tasks      | elapsed:  1.3min\n",
      "[Parallel(n_jobs=-2)]: Done 3240 out of 3240 | elapsed:  1.3min finished\n"
     ]
    },
    {
     "data": {
      "text/plain": [
       "GridSearchCV(cv=5, estimator=DecisionTreeClassifier(random_state=42), n_jobs=-2,\n",
       "             param_grid={'criterion': ['gini', 'entropy'],\n",
       "                         'max_depth': range(1, 10),\n",
       "                         'min_samples_leaf': range(1, 5),\n",
       "                         'min_samples_split': range(1, 10)},\n",
       "             verbose=2)"
      ]
     },
     "execution_count": 106,
     "metadata": {},
     "output_type": "execute_result"
    }
   ],
   "source": [
    "from sklearn.model_selection import GridSearchCV\n",
    "\n",
    "grid = GridSearchCV(ct,\n",
    "                   param_grid = param_dict,\n",
    "                   cv = 5,\n",
    "                   verbose = 2,\n",
    "                   n_jobs = -2)\n",
    "\n",
    "grid.fit(X_train_scaled,y_train)"
   ]
  },
  {
   "cell_type": "code",
   "execution_count": 107,
   "metadata": {},
   "outputs": [
    {
     "data": {
      "text/plain": [
       "{'criterion': 'entropy',\n",
       " 'max_depth': 9,\n",
       " 'min_samples_leaf': 2,\n",
       " 'min_samples_split': 5}"
      ]
     },
     "execution_count": 107,
     "metadata": {},
     "output_type": "execute_result"
    }
   ],
   "source": [
    "grid.best_params_"
   ]
  },
  {
   "cell_type": "code",
   "execution_count": 108,
   "metadata": {},
   "outputs": [
    {
     "data": {
      "text/plain": [
       "0.8743777648663809"
      ]
     },
     "execution_count": 108,
     "metadata": {},
     "output_type": "execute_result"
    }
   ],
   "source": [
    "grid.best_score_"
   ]
  },
  {
   "cell_type": "code",
   "execution_count": 110,
   "metadata": {},
   "outputs": [],
   "source": [
    "dt = DecisionTreeClassifier(criterion='entropy',max_depth=9,min_samples_leaf=2,min_samples_split=5,\\\n",
    "                            random_state=42)"
   ]
  },
  {
   "cell_type": "code",
   "execution_count": 112,
   "metadata": {},
   "outputs": [
    {
     "data": {
      "text/plain": [
       "DecisionTreeClassifier(criterion='entropy', max_depth=9, min_samples_leaf=2,\n",
       "                       min_samples_split=5, random_state=42)"
      ]
     },
     "execution_count": 112,
     "metadata": {},
     "output_type": "execute_result"
    }
   ],
   "source": [
    "dt.fit(X_train_scaled,y_train)"
   ]
  },
  {
   "cell_type": "code",
   "execution_count": 113,
   "metadata": {},
   "outputs": [
    {
     "data": {
      "text/plain": [
       "0.8850884422747733"
      ]
     },
     "execution_count": 113,
     "metadata": {},
     "output_type": "execute_result"
    }
   ],
   "source": [
    "dt.score(X_train_scaled,y_train)"
   ]
  },
  {
   "cell_type": "code",
   "execution_count": 114,
   "metadata": {
    "scrolled": true
   },
   "outputs": [
    {
     "data": {
      "text/plain": [
       "0.8557735509959563"
      ]
     },
     "execution_count": 114,
     "metadata": {},
     "output_type": "execute_result"
    }
   ],
   "source": [
    "dt.score(X_test_scaled,y_test)"
   ]
  },
  {
   "cell_type": "code",
   "execution_count": 115,
   "metadata": {
    "scrolled": true
   },
   "outputs": [
    {
     "name": "stdout",
     "output_type": "stream",
     "text": [
      "Accuracy:0.86 ,Recall:0.61, Precision:0.68, F1:0.64\n"
     ]
    }
   ],
   "source": [
    "y_pred_test = dt.predict(X_test_scaled)\n",
    "\n",
    "model_accuracy = accuracy_score(y_test,y_pred_test)\n",
    "model_recall = recall_score(y_test,y_pred_test)\n",
    "model_precision = precision_score(y_test,y_pred_test)\n",
    "model_f1 = f1_score(y_test,y_pred_test)\n",
    "\n",
    "\n",
    "print(f\"\"\"\\\n",
    "Accuracy:{model_accuracy:1.2f} ,Recall:{model_recall:1.2f}, Precision:{model_precision:1.2f}, F1:{model_f1:1.2f}\\\n",
    "\"\"\") "
   ]
  },
  {
   "cell_type": "code",
   "execution_count": 116,
   "metadata": {},
   "outputs": [],
   "source": [
    "# Feature Seleciton \n",
    "fi_list = []\n",
    "feature_list =[]\n",
    "\n",
    "for fi, feature in zip(dt.feature_importances_, X_train):\n",
    "    fi_list.append(fi)\n",
    "    feature_list.append(feature)\n",
    "\n",
    "final_features = pd.DataFrame(fi_list,feature_list)\n"
   ]
  },
  {
   "cell_type": "code",
   "execution_count": 127,
   "metadata": {},
   "outputs": [],
   "source": [
    "final_features.sort_values(by=0,ascending=False,inplace=True)"
   ]
  },
  {
   "cell_type": "code",
   "execution_count": 128,
   "metadata": {},
   "outputs": [],
   "source": [
    "feature_cols = final_features.head(20).index.values"
   ]
  },
  {
   "cell_type": "markdown",
   "metadata": {},
   "source": [
    "### Train-Test split with important features"
   ]
  },
  {
   "cell_type": "code",
   "execution_count": 130,
   "metadata": {},
   "outputs": [],
   "source": [
    "X = vaccine_df[feature_cols]\n",
    "y = vaccine_df['h1n1_vaccine']"
   ]
  },
  {
   "cell_type": "code",
   "execution_count": 131,
   "metadata": {},
   "outputs": [],
   "source": [
    "X_train, X_test, y_train, y_test = train_test_split(X, y, test_size=.25,random_state=42)"
   ]
  },
  {
   "cell_type": "markdown",
   "metadata": {},
=======
>>>>>>> f55d197c1325bb9dd41bd183e80ed0e8701a19e7
   "source": [
    "plot_confusion_matrix(dummy_model,X_train,y_train);"
   ]
  },
  {
   "cell_type": "code",
<<<<<<< HEAD
<<<<<<< HEAD
   "execution_count": null,
=======
   "execution_count": 132,
>>>>>>> 51d9e99e954723218d8902c654ad9f06e551671a
=======
   "execution_count": 416,
   "metadata": {
    "scrolled": true
   },
   "outputs": [
    {
     "name": "stdout",
     "output_type": "stream",
     "text": [
      "Accuracy:0.79 ,Recall:0.00, Precision:0.00, F1:0.00\n"
     ]
    },
    {
     "name": "stderr",
     "output_type": "stream",
     "text": [
      "/Users/brandonmenendez/opt/anaconda3/envs/learn-env/lib/python3.8/site-packages/sklearn/metrics/_classification.py:1221: UndefinedMetricWarning: Precision is ill-defined and being set to 0.0 due to no predicted samples. Use `zero_division` parameter to control this behavior.\n",
      "  _warn_prf(average, modifier, msg_start, len(result))\n"
     ]
    }
   ],
   "source": [
    "from sklearn.metrics import confusion_matrix, plot_confusion_matrix,\\\n",
    "    precision_score, recall_score, accuracy_score, f1_score, log_loss,\\\n",
    "    roc_curve, roc_auc_score, classification_report\n",
    "\n",
    "y_pred_test = dummy_model.predict(X_test)\n",
    "\n",
    "model_accuracy = accuracy_score(y_test,y_pred_test)\n",
    "model_recall = recall_score(y_test,y_pred_test)\n",
    "model_precision = precision_score(y_test,y_pred_test)\n",
    "model_f1 = f1_score(y_test,y_pred_test)\n",
    "\n",
    "\n",
    "print(f\"\"\"\\\n",
    "Accuracy:{model_accuracy:1.2f} ,Recall:{model_recall:1.2f}, Precision:{model_precision:1.2f}, F1:{model_f1:1.2f}\\\n",
    "\"\"\") "
   ]
  },
  {
   "cell_type": "markdown",
   "metadata": {},
   "source": [
    "#### Observation:\n",
    "- Our dummy model has 79% accuracy. While we want to improve accuracy in future models, we will focus on evaluating models based on precision as well, since we would like to minimize the false positive rate."
   ]
  },
  {
   "cell_type": "markdown",
   "metadata": {},
   "source": [
    "## Decision Tree Model & Feature Importance"
   ]
  },
  {
   "cell_type": "markdown",
   "metadata": {},
   "source": [
    "We are beginning our iterative modeling with a Decision Tree, to help us understand the feature importance of our available training data."
   ]
  },
  {
   "cell_type": "code",
   "execution_count": 417,
>>>>>>> f55d197c1325bb9dd41bd183e80ed0e8701a19e7
   "metadata": {},
   "outputs": [],
   "source": [
    "# Imputing remaining null values ahead of DT modeling \n",
    "\n",
    "imputer = SimpleImputer(strategy='median')\n",
    "\n",
    "imputer = imputer.fit(X_train)\n",
    "\n",
    "X_train_scaled = imputer.transform(X_train)"
   ]
  },
  {
   "cell_type": "code",
   "execution_count": 418,
   "metadata": {},
   "outputs": [],
   "source": [
    "X_test_scaled = imputer.transform(X_test)"
   ]
  },
  {
   "cell_type": "code",
   "execution_count": 419,
   "metadata": {},
   "outputs": [],
   "source": [
    "# Using SMOTE to deal with imbalanced target \n",
    "from imblearn.over_sampling import SMOTE \n",
    "\n",
    "sm = SMOTE(random_state = 42)\n",
    "\n",
    "X_train_scaled, y_train = sm.fit_resample(X_train_scaled,y_train)"
   ]
  },
  {
   "cell_type": "code",
   "execution_count": 420,
   "metadata": {},
   "outputs": [
    {
     "data": {
      "text/plain": [
       "DecisionTreeClassifier(random_state=42)"
      ]
     },
     "execution_count": 420,
     "metadata": {},
     "output_type": "execute_result"
    }
   ],
   "source": [
    "# Instatiating and fitting our model \n",
    "\n",
    "from sklearn.tree import DecisionTreeClassifier\n",
    "\n",
    "ct = DecisionTreeClassifier(random_state=42)\n",
    "\n",
    "ct.fit(X_train_scaled, y_train)"
   ]
  },
  {
   "cell_type": "code",
   "execution_count": 421,
   "metadata": {},
   "outputs": [
    {
     "data": {
      "text/plain": [
       "0.9998415012996893"
      ]
     },
     "execution_count": 421,
     "metadata": {},
     "output_type": "execute_result"
    }
   ],
   "source": [
    "ct.score(X_train_scaled, y_train)"
   ]
  },
  {
   "cell_type": "code",
   "execution_count": 422,
   "metadata": {
    "scrolled": true
   },
   "outputs": [
    {
     "data": {
      "text/plain": [
       "0.7936198891717837"
      ]
     },
     "execution_count": 422,
     "metadata": {},
     "output_type": "execute_result"
    }
   ],
   "source": [
    "ct.score(X_test_scaled, y_test)"
   ]
  },
  {
   "cell_type": "markdown",
   "metadata": {},
   "source": [
    "#### Observation:\n",
    "- Our DT model seems to be overfitting to the training data when looking at the mean accuracy scores between the training and test data sets"
   ]
  },
  {
   "cell_type": "code",
   "execution_count": 423,
   "metadata": {},
   "outputs": [],
   "source": [
    "dt_results = ModelWithCV(\n",
    "                        model=ct,\n",
    "                        model_name='dt_model',\n",
    "                        X=X_train_scaled, \n",
    "                        y=y_train\n",
    ")"
   ]
  },
  {
   "cell_type": "code",
   "execution_count": 424,
   "metadata": {},
   "outputs": [
    {
     "name": "stdout",
     "output_type": "stream",
     "text": [
      "CV Results for `dt_model` model:\n",
      "            0.86151 ± 0.08865 accuracy\n",
      "        \n"
     ]
    },
    {
     "data": {
      "image/png": "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\n",
      "text/plain": [
       "<Figure size 432x288 with 1 Axes>"
      ]
     },
     "metadata": {
      "needs_background": "light"
     },
     "output_type": "display_data"
    }
   ],
   "source": [
    "# Visualizing accuracy \n",
    "model_results = dt_results\n",
    "\n",
    "\n",
    "fig, ax = plt.subplots()\n",
    "ax = model_results.plot_cv(ax)\n",
    "plt.tight_layout();\n",
    "\n",
    "model_results.print_cv_summary()"
   ]
  },
  {
   "cell_type": "code",
   "execution_count": 426,
   "metadata": {},
   "outputs": [
    {
     "name": "stdout",
     "output_type": "stream",
     "text": [
      "Accuracy:1.00 , Precision:1.00, \n",
      "\n"
     ]
    }
   ],
   "source": [
    "\n",
    "y_pred_train = ct.predict(X_train_scaled)\n",
    "\n",
    "model_accuracy = accuracy_score(y_train,y_pred_train)\n",
    "model_precision = precision_score(y_train,y_pred_train)\n",
    "\n",
    "\n",
    "\n",
    "print(f\"\"\"\\\n",
    "Accuracy:{model_accuracy:1.2f} , Precision:{model_precision:1.2f}, \n",
    "\"\"\") "
   ]
  },
  {
   "cell_type": "code",
   "execution_count": 428,
   "metadata": {},
   "outputs": [
    {
     "name": "stdout",
     "output_type": "stream",
     "text": [
      "Accuracy:0.79 , Precision:0.51, \n",
      "\n"
     ]
    }
   ],
   "source": [
    "\n",
    "y_pred_test = ct.predict(X_test_scaled)\n",
    "\n",
    "model_accuracy = accuracy_score(y_test,y_pred_test)\n",
    "model_precision = precision_score(y_test,y_pred_test)\n",
    "\n",
    "\n",
    "\n",
    "print(f\"\"\"\\\n",
    "Accuracy:{model_accuracy:1.2f} , Precision:{model_precision:1.2f}, \n",
    "\"\"\") "
   ]
  },
  {
   "cell_type": "markdown",
   "metadata": {},
   "source": [
    "#### Observation:\n",
    "- Our precision for the first DT model is 51%. We will use feature importance to keep iterating this model as it is overfitting, with the goal of increasing our models precision and mean accuracy"
   ]
  },
  {
   "cell_type": "code",
   "execution_count": 429,
   "metadata": {},
   "outputs": [],
   "source": [
    "# Feature Importance\n",
    "\n",
    "fi_list = []\n",
    "feature_list =[]\n",
    "\n",
    "for fi, feature in zip(ct.feature_importances_, X_train):\n",
    "    fi_list.append(fi)\n",
    "    feature_list.append(feature)\n",
    "\n",
    "final_features = pd.DataFrame(fi_list,feature_list)"
   ]
  },
  {
   "cell_type": "code",
   "execution_count": 430,
   "metadata": {},
   "outputs": [
    {
     "data": {
      "text/html": [
       "<div>\n",
       "<style scoped>\n",
       "    .dataframe tbody tr th:only-of-type {\n",
       "        vertical-align: middle;\n",
       "    }\n",
       "\n",
       "    .dataframe tbody tr th {\n",
       "        vertical-align: top;\n",
       "    }\n",
       "\n",
       "    .dataframe thead th {\n",
       "        text-align: right;\n",
       "    }\n",
       "</style>\n",
       "<table border=\"1\" class=\"dataframe\">\n",
       "  <thead>\n",
       "    <tr style=\"text-align: right;\">\n",
       "      <th></th>\n",
       "      <th>0</th>\n",
       "    </tr>\n",
       "  </thead>\n",
       "  <tbody>\n",
       "    <tr>\n",
       "      <th>seasonal_vaccine</th>\n",
       "      <td>0.346675</td>\n",
       "    </tr>\n",
       "    <tr>\n",
       "      <th>doctor_recc_h1n1</th>\n",
       "      <td>0.128061</td>\n",
       "    </tr>\n",
       "    <tr>\n",
       "      <th>health_insurance</th>\n",
       "      <td>0.087609</td>\n",
       "    </tr>\n",
       "    <tr>\n",
       "      <th>opinion_h1n1_vacc_effective</th>\n",
       "      <td>0.056391</td>\n",
       "    </tr>\n",
       "    <tr>\n",
       "      <th>opinion_h1n1_risk</th>\n",
       "      <td>0.038376</td>\n",
       "    </tr>\n",
       "    <tr>\n",
       "      <th>opinion_h1n1_sick_from_vacc</th>\n",
       "      <td>0.022238</td>\n",
       "    </tr>\n",
       "    <tr>\n",
       "      <th>h1n1_concern</th>\n",
       "      <td>0.020195</td>\n",
       "    </tr>\n",
       "    <tr>\n",
       "      <th>h1n1_knowledge</th>\n",
       "      <td>0.019697</td>\n",
       "    </tr>\n",
       "    <tr>\n",
       "      <th>health_worker</th>\n",
       "      <td>0.016551</td>\n",
       "    </tr>\n",
       "    <tr>\n",
       "      <th>household_adults</th>\n",
       "      <td>0.015982</td>\n",
       "    </tr>\n",
       "  </tbody>\n",
       "</table>\n",
       "</div>"
      ],
      "text/plain": [
       "                                    0\n",
       "seasonal_vaccine             0.346675\n",
       "doctor_recc_h1n1             0.128061\n",
       "health_insurance             0.087609\n",
       "opinion_h1n1_vacc_effective  0.056391\n",
       "opinion_h1n1_risk            0.038376\n",
       "opinion_h1n1_sick_from_vacc  0.022238\n",
       "h1n1_concern                 0.020195\n",
       "h1n1_knowledge               0.019697\n",
       "health_worker                0.016551\n",
       "household_adults             0.015982"
      ]
     },
     "execution_count": 430,
     "metadata": {},
     "output_type": "execute_result"
    }
   ],
   "source": [
    "final_features.sort_values(by=0,ascending=False).head(10)"
   ]
  },
  {
   "cell_type": "code",
   "execution_count": 431,
   "metadata": {},
   "outputs": [],
   "source": [
    "# Setting up parameters for grid search to improve DT model\n",
    "\n",
    "\n",
    "param_dict = {\n",
    "    'criterion': ['gini','entropy'],\n",
    "    'max_depth': range(1,10),\n",
    "    'min_samples_split': range(1,10),\n",
    "    'min_samples_leaf': range(1,5)\n",
    "}"
   ]
  },
  {
   "cell_type": "code",
   "execution_count": 432,
   "metadata": {},
   "outputs": [
    {
     "name": "stdout",
     "output_type": "stream",
     "text": [
      "Fitting 5 folds for each of 648 candidates, totalling 3240 fits\n"
     ]
    },
    {
     "name": "stderr",
     "output_type": "stream",
     "text": [
      "[Parallel(n_jobs=-2)]: Using backend LokyBackend with 7 concurrent workers.\n",
      "[Parallel(n_jobs=-2)]: Done  27 tasks      | elapsed:    2.6s\n",
      "[Parallel(n_jobs=-2)]: Done 417 tasks      | elapsed:    7.2s\n",
      "[Parallel(n_jobs=-2)]: Done 1229 tasks      | elapsed:   23.9s\n",
      "[Parallel(n_jobs=-2)]: Done 2361 tasks      | elapsed:   43.9s\n",
      "[Parallel(n_jobs=-2)]: Done 3240 out of 3240 | elapsed:  1.1min finished\n"
     ]
    },
    {
     "data": {
      "text/plain": [
       "GridSearchCV(cv=5, estimator=DecisionTreeClassifier(random_state=42), n_jobs=-2,\n",
       "             param_grid={'criterion': ['gini', 'entropy'],\n",
       "                         'max_depth': range(1, 10),\n",
       "                         'min_samples_leaf': range(1, 5),\n",
       "                         'min_samples_split': range(1, 10)},\n",
       "             verbose=2)"
      ]
     },
     "execution_count": 432,
     "metadata": {},
     "output_type": "execute_result"
    }
   ],
   "source": [
    "from sklearn.model_selection import GridSearchCV\n",
    "\n",
    "grid = GridSearchCV(ct,\n",
    "                   param_grid = param_dict,\n",
    "                   cv = 5,\n",
    "                   verbose = 2,\n",
    "                   n_jobs = -2)\n",
    "\n",
    "grid.fit(X_train_scaled,y_train)"
   ]
  },
  {
   "cell_type": "code",
   "execution_count": 433,
   "metadata": {},
   "outputs": [
    {
     "data": {
      "text/plain": [
       "{'criterion': 'entropy',\n",
       " 'max_depth': 9,\n",
       " 'min_samples_leaf': 2,\n",
       " 'min_samples_split': 5}"
      ]
     },
     "execution_count": 433,
     "metadata": {},
     "output_type": "execute_result"
    }
   ],
   "source": [
    "# Identifying best parameters for second DT model\n",
    "\n",
    "grid.best_params_"
   ]
  },
  {
   "cell_type": "code",
   "execution_count": 434,
   "metadata": {},
   "outputs": [],
   "source": [
    "# instantiating second dt model with best parameters for final features selection\n",
    "\n",
    "dt = DecisionTreeClassifier(criterion='entropy',max_depth=9,min_samples_leaf=2,min_samples_split=5,\\\n",
    "                            random_state=42)"
   ]
  },
  {
   "cell_type": "code",
   "execution_count": 435,
   "metadata": {},
   "outputs": [
    {
     "data": {
      "text/plain": [
       "DecisionTreeClassifier(criterion='entropy', max_depth=9, min_samples_leaf=2,\n",
       "                       min_samples_split=5, random_state=42)"
      ]
     },
     "execution_count": 435,
     "metadata": {},
     "output_type": "execute_result"
    }
   ],
   "source": [
    "dt.fit(X_train_scaled,y_train)"
   ]
  },
  {
   "cell_type": "code",
   "execution_count": 436,
   "metadata": {},
   "outputs": [
    {
     "data": {
      "text/plain": [
       "0.8850884422747733"
      ]
     },
     "execution_count": 436,
     "metadata": {},
     "output_type": "execute_result"
    }
   ],
   "source": [
    "dt.score(X_train_scaled,y_train)"
   ]
  },
  {
   "cell_type": "code",
   "execution_count": 437,
   "metadata": {
    "scrolled": false
   },
   "outputs": [
    {
     "data": {
      "text/plain": [
       "0.8557735509959563"
      ]
     },
     "execution_count": 437,
     "metadata": {},
     "output_type": "execute_result"
    }
   ],
   "source": [
    "dt.score(X_test_scaled,y_test)"
   ]
  },
  {
   "cell_type": "code",
   "execution_count": 438,
   "metadata": {},
   "outputs": [],
   "source": [
    "# Note: Updated parameters seems to have lessened the overfitting"
   ]
  },
  {
   "cell_type": "code",
   "execution_count": 439,
   "metadata": {},
   "outputs": [
    {
     "name": "stdout",
     "output_type": "stream",
     "text": [
      "Accuracy:0.89 , Precision:0.91\n",
      "\n"
     ]
    }
   ],
   "source": [
    "y_pred_train = dt.predict(X_train_scaled)\n",
    "\n",
    "model_accuracy = accuracy_score(y_train,y_pred_train)\n",
    "model_precision = precision_score(y_train,y_pred_train)\n",
    "\n",
    "\n",
    "\n",
    "print(f\"\"\"\\\n",
    "Accuracy:{model_accuracy:1.2f} , Precision:{model_precision:1.2f}\n",
    "\"\"\") "
   ]
  },
  {
   "cell_type": "code",
   "execution_count": 440,
   "metadata": {
    "scrolled": true
   },
   "outputs": [
    {
     "name": "stdout",
     "output_type": "stream",
     "text": [
      "Accuracy:0.86 , Precision:0.68\n",
      "\n"
     ]
    }
   ],
   "source": [
    "y_pred_test = dt.predict(X_test_scaled)\n",
    "\n",
    "model_accuracy = accuracy_score(y_test,y_pred_test)\n",
    "model_precision = precision_score(y_test,y_pred_test)\n",
    "\n",
    "\n",
    "\n",
    "print(f\"\"\"\\\n",
    "Accuracy:{model_accuracy:1.2f} , Precision:{model_precision:1.2f}\n",
    "\"\"\") "
   ]
  },
  {
   "cell_type": "markdown",
   "metadata": {},
   "source": [
    "#### Oberservation:\n",
    "- The updated parameters has increased the precision of our model by 17% and mean accuracy by 7%\n",
    "- The updated model has also lessened the overfitting, yet is still an issue. This is likely due to the imbalanced target (more non-events than events) in the test set, that we eliminated using SMOTE in the training set"
   ]
  },
  {
   "cell_type": "code",
   "execution_count": 441,
   "metadata": {},
   "outputs": [],
   "source": [
    "# Feature Seleciton from updated DT model\n",
    "fi_list = []\n",
    "feature_list =[]\n",
    "\n",
    "for fi, feature in zip(dt.feature_importances_, X_train):\n",
    "    fi_list.append(fi)\n",
    "    feature_list.append(feature)\n",
    "\n",
    "final_features = pd.DataFrame(fi_list,feature_list)\n"
   ]
  },
  {
   "cell_type": "code",
   "execution_count": 442,
   "metadata": {},
   "outputs": [],
   "source": [
    "final_features.sort_values(by=0,ascending=False,inplace=True)"
   ]
  },
  {
   "cell_type": "code",
   "execution_count": 443,
   "metadata": {},
   "outputs": [],
   "source": [
    "feature_cols = final_features.head(20).index.values"
   ]
  },
  {
   "cell_type": "code",
   "execution_count": 444,
   "metadata": {},
   "outputs": [
    {
     "data": {
      "text/plain": [
       "array(['seasonal_vaccine', 'doctor_recc_h1n1', 'health_insurance',\n",
       "       'opinion_h1n1_vacc_effective', 'opinion_h1n1_risk',\n",
       "       'health_worker', 'Employed', 'Male', 'h1n1_knowledge', 'Female',\n",
       "       'White', 'household_adults', 'behavioral_large_gatherings',\n",
       "       'behavioral_outside_home', '35 - 44 Years', 'Non-MSA',\n",
       "       'h1n1_concern', '55 - 64 Years', '18 - 34 Years',\n",
       "       'behavioral_wash_hands'], dtype=object)"
      ]
     },
     "execution_count": 444,
     "metadata": {},
     "output_type": "execute_result"
    }
   ],
   "source": [
    "feature_cols"
   ]
  },
  {
   "cell_type": "markdown",
   "metadata": {},
   "source": [
    "## Train-Test split with important features"
   ]
  },
  {
   "cell_type": "code",
   "execution_count": 445,
   "metadata": {},
   "outputs": [],
   "source": [
    "X = vaccine_df[feature_cols]\n",
    "y = vaccine_df['h1n1_vaccine']"
   ]
  },
  {
   "cell_type": "code",
   "execution_count": 446,
   "metadata": {},
   "outputs": [],
   "source": [
    "X_train, X_test, y_train, y_test = train_test_split(X, y, test_size=.25,random_state=42)"
   ]
  },
  {
   "cell_type": "markdown",
   "metadata": {},
   "source": [
    "## DT Model with final important features selection"
   ]
  },
  {
   "cell_type": "code",
   "execution_count": 447,
   "metadata": {},
   "outputs": [
    {
     "data": {
      "text/plain": [
       "DecisionTreeClassifier(criterion='entropy', max_depth=9, min_samples_leaf=2,\n",
       "                       min_samples_split=5, random_state=42)"
      ]
     },
     "execution_count": 447,
     "metadata": {},
     "output_type": "execute_result"
    }
   ],
   "source": [
    "# Imputing new predictor set\n",
    "imputer = SimpleImputer(strategy='median')\n",
    "\n",
    "imputer = imputer.fit(X_train)\n",
    "\n",
    "X_train_imp = imputer.transform(X_train)\n",
    "X_test_imp = imputer.transform(X_test)\n",
    "\n",
    "# SMOTE \n",
    "sm = SMOTE(random_state = 42)\n",
    "\n",
    "X_train_imp, y_train = sm.fit_resample(X_train_imp,y_train)\n",
    "\n",
    "\n",
    "# Instantiating and fitting model with updated train-test split \n",
    "\n",
    "dt3 = DecisionTreeClassifier(criterion='entropy',max_depth=9,min_samples_leaf=2,min_samples_split=5,\\\n",
    "                            random_state=42)\n",
    "\n",
    "\n",
    "\n",
    "dt3.fit(X_train_imp,y_train)"
   ]
  },
  {
   "cell_type": "code",
   "execution_count": 448,
   "metadata": {},
   "outputs": [
    {
     "data": {
      "text/plain": [
       "0.8631839218918405"
      ]
     },
     "execution_count": 448,
     "metadata": {},
     "output_type": "execute_result"
    }
   ],
   "source": [
    "# Mean Accuracy for Train \n",
    "\n",
    "dt3.score(X_train_imp,y_train)"
   ]
  },
  {
   "cell_type": "code",
   "execution_count": 449,
   "metadata": {},
   "outputs": [
    {
     "data": {
      "text/plain": [
       "0.8108431930507713"
      ]
     },
     "execution_count": 449,
     "metadata": {},
     "output_type": "execute_result"
    }
   ],
   "source": [
    "# Mean Accuracy for Test \n",
    "\n",
    "dt3.score(X_test_imp,y_test)"
   ]
  },
  {
   "cell_type": "code",
   "execution_count": 450,
   "metadata": {},
   "outputs": [
    {
     "name": "stdout",
     "output_type": "stream",
     "text": [
      "Precision:0.85\n"
     ]
    }
   ],
   "source": [
    "y_pred_train = dt3.predict(X_train_imp)\n",
    "\n",
    "model_precision = precision_score(y_train,y_pred_train)\n",
    "\n",
    "print(f\"\"\"\\\n",
    "Precision:{model_precision:1.2f}\\\n",
    "\"\"\") "
   ]
  },
  {
   "cell_type": "code",
   "execution_count": 451,
   "metadata": {},
   "outputs": [
    {
     "name": "stdout",
     "output_type": "stream",
     "text": [
      "Precision:0.54\n"
     ]
    }
   ],
   "source": [
    "y_pred_test = dt3.predict(X_test_imp)\n",
    "\n",
    "model_precision = precision_score(y_test,y_pred_test)\n",
    "\n",
    "print(f\"\"\"\\\n",
    "Precision:{model_precision:1.2f}\\\n",
    "\"\"\") "
   ]
  },
  {
   "cell_type": "markdown",
   "metadata": {},
   "source": [
    "#### Observation:\n",
    "- The model is still overfitting\n",
    "- We will try different models using the important features to keep comparing results "
   ]
  },
  {
   "cell_type": "markdown",
   "metadata": {},
   "source": [
    "## Logistic Regression Models"
   ]
  },
  {
   "cell_type": "code",
   "execution_count": 452,
   "metadata": {},
   "outputs": [],
   "source": [
    "# Scaling data for logreg model\n",
    "\n",
    "log_scaler = StandardScaler()\n",
    "\n",
    "# Fit and transform train, transform test\n",
    "\n",
    "X_train_scaled = log_scaler.fit_transform(X_train_imp)\n",
    "X_test_scaled = log_scaler.transform(X_test_imp)"
   ]
  },
  {
   "cell_type": "code",
<<<<<<< HEAD
<<<<<<< HEAD
   "execution_count": null,
=======
   "execution_count": 144,
>>>>>>> 51d9e99e954723218d8902c654ad9f06e551671a
=======
   "execution_count": 453,
>>>>>>> f55d197c1325bb9dd41bd183e80ed0e8701a19e7
   "metadata": {},
   "outputs": [],
   "source": [
    "# Using SimpleImputer to deal with null values not addressed yet\n",
    "\n",
    "\n",
    "numeric_imputer = SimpleImputer(strategy='median')\n",
    "\n",
    "numeric_imputer = numeric_imputer.fit(X_train_scaled)\n",
    "\n",
    "X_train_scaled = numeric_imputer.transform(X_train_scaled)\n"
   ]
  },
  {
   "cell_type": "code",
<<<<<<< HEAD
<<<<<<< HEAD
   "execution_count": null,
=======
   "execution_count": 145,
>>>>>>> 51d9e99e954723218d8902c654ad9f06e551671a
=======
   "execution_count": 454,
>>>>>>> f55d197c1325bb9dd41bd183e80ed0e8701a19e7
   "metadata": {},
   "outputs": [],
   "source": [
    "# Using SMOTE to deal with imbalanced target \n",
    "\n",
    "\n",
    "\n",
    "sm = SMOTE(random_state = 42)\n",
    "\n",
    "X_train_scaled, y_train = sm.fit_resample(X_train_scaled,y_train)"
   ]
  },
  {
   "cell_type": "code",
<<<<<<< HEAD
<<<<<<< HEAD
   "execution_count": null,
=======
   "execution_count": 146,
>>>>>>> 51d9e99e954723218d8902c654ad9f06e551671a
=======
   "execution_count": 455,
>>>>>>> f55d197c1325bb9dd41bd183e80ed0e8701a19e7
   "metadata": {},
   "outputs": [],
   "source": [
    "log_model = LogisticRegression(\n",
    "            C=1e3,            \n",
    "            max_iter=1e3,      \n",
    "            solver='lbfgs',   \n",
    "            multi_class='ovr' \n",
    ")"
   ]
  },
  {
   "cell_type": "code",
<<<<<<< HEAD
<<<<<<< HEAD
   "execution_count": null,
   "metadata": {},
   "outputs": [],
=======
   "execution_count": 147,
=======
   "execution_count": 456,
>>>>>>> f55d197c1325bb9dd41bd183e80ed0e8701a19e7
   "metadata": {},
   "outputs": [
    {
     "data": {
      "text/plain": [
       "LogisticRegression(C=1000.0, max_iter=1000.0, multi_class='ovr')"
      ]
     },
<<<<<<< HEAD
     "execution_count": 147,
=======
     "execution_count": 456,
>>>>>>> f55d197c1325bb9dd41bd183e80ed0e8701a19e7
     "metadata": {},
     "output_type": "execute_result"
    }
   ],
>>>>>>> 51d9e99e954723218d8902c654ad9f06e551671a
   "source": [
    "log_model.fit(X_train_scaled,y_train)"
   ]
  },
  {
   "cell_type": "code",
<<<<<<< HEAD
<<<<<<< HEAD
   "execution_count": null,
   "metadata": {},
   "outputs": [],
=======
   "execution_count": 148,
=======
   "execution_count": 457,
>>>>>>> f55d197c1325bb9dd41bd183e80ed0e8701a19e7
   "metadata": {},
   "outputs": [
    {
     "data": {
<<<<<<< HEAD
      "image/png": "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\n",
=======
      "image/png": "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\n",
>>>>>>> f55d197c1325bb9dd41bd183e80ed0e8701a19e7
      "text/plain": [
       "<Figure size 432x288 with 2 Axes>"
      ]
     },
     "metadata": {
      "needs_background": "light"
     },
     "output_type": "display_data"
    }
   ],
>>>>>>> 51d9e99e954723218d8902c654ad9f06e551671a
   "source": [
    "plot_confusion_matrix(log_model,X_train_scaled,y_train);"
   ]
  },
  {
   "cell_type": "code",
<<<<<<< HEAD
<<<<<<< HEAD
   "execution_count": null,
   "metadata": {},
   "outputs": [],
=======
   "execution_count": 149,
=======
   "execution_count": 458,
>>>>>>> f55d197c1325bb9dd41bd183e80ed0e8701a19e7
   "metadata": {},
   "outputs": [
    {
     "data": {
      "text/plain": [
<<<<<<< HEAD
       "array([0.79650057, 0.80665716, 0.81226819])"
      ]
     },
     "execution_count": 149,
=======
       "array([0.79355268, 0.80266286, 0.80722777])"
      ]
     },
     "execution_count": 458,
>>>>>>> f55d197c1325bb9dd41bd183e80ed0e8701a19e7
     "metadata": {},
     "output_type": "execute_result"
    }
   ],
>>>>>>> 51d9e99e954723218d8902c654ad9f06e551671a
   "source": [
    "\n",
    "cv_scores = cross_val_score(log_model,X_train_scaled,y_train,cv=3)\n",
    "\n",
    "cv_scores"
   ]
  },
  {
   "cell_type": "code",
<<<<<<< HEAD
<<<<<<< HEAD
   "execution_count": null,
=======
   "execution_count": 150,
>>>>>>> 51d9e99e954723218d8902c654ad9f06e551671a
=======
   "execution_count": 459,
>>>>>>> f55d197c1325bb9dd41bd183e80ed0e8701a19e7
   "metadata": {},
   "outputs": [],
   "source": [
    "# Preprocessing for test\n",
    "\n",
    "X_test_scaled = numeric_imputer.transform(X_test_scaled)"
   ]
  },
  {
   "cell_type": "code",
<<<<<<< HEAD
<<<<<<< HEAD
   "execution_count": null,
   "metadata": {},
   "outputs": [],
=======
   "execution_count": 151,
=======
   "execution_count": 460,
>>>>>>> f55d197c1325bb9dd41bd183e80ed0e8701a19e7
   "metadata": {},
   "outputs": [
    {
     "name": "stdout",
     "output_type": "stream",
     "text": [
<<<<<<< HEAD
      "Accuracy:0.80 ,Recall:0.79, Precision:0.52, F1:0.63\n"
=======
      "Precision:0.80\n",
      "\n"
>>>>>>> f55d197c1325bb9dd41bd183e80ed0e8701a19e7
     ]
    }
   ],
>>>>>>> 51d9e99e954723218d8902c654ad9f06e551671a
   "source": [
    "y_pred_train = log_model.predict(X_train_scaled)\n",
    "\n",
    "\n",
    "model_precision = precision_score(y_train,y_pred_train)\n",
    "\n",
    "\n",
    "\n",
    "print(f\"\"\"\\\n",
    "Precision:{model_precision:1.2f}\n",
    "\"\"\") "
   ]
  },
  {
   "cell_type": "code",
<<<<<<< HEAD
<<<<<<< HEAD
   "execution_count": null,
   "metadata": {
    "scrolled": false
   },
   "outputs": [],
=======
   "execution_count": 152,
   "metadata": {
    "scrolled": false
   },
   "outputs": [
    {
     "data": {
      "text/plain": [
       "<sklearn.metrics._plot.roc_curve.RocCurveDisplay at 0x7fe1f2a48400>"
      ]
     },
     "execution_count": 152,
     "metadata": {},
     "output_type": "execute_result"
    },
    {
     "data": {
      "image/png": "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\n",
      "text/plain": [
       "<Figure size 432x288 with 1 Axes>"
      ]
     },
     "metadata": {
      "needs_background": "light"
     },
     "output_type": "display_data"
=======
   "execution_count": 461,
   "metadata": {},
   "outputs": [
    {
     "name": "stdout",
     "output_type": "stream",
     "text": [
      "Precision:0.52\n",
      "\n"
     ]
>>>>>>> f55d197c1325bb9dd41bd183e80ed0e8701a19e7
    }
   ],
>>>>>>> 51d9e99e954723218d8902c654ad9f06e551671a
   "source": [
    "y_pred_test = log_model.predict(X_test_scaled)\n",
    "\n",
    "\n",
    "model_precision = precision_score(y_test,y_pred_test)\n",
    "\n",
    "\n",
    "\n",
    "print(f\"\"\"\\\n",
    "Precision:{model_precision:1.2f}\n",
    "\"\"\") "
   ]
  },
  {
   "cell_type": "code",
<<<<<<< HEAD
<<<<<<< HEAD
   "execution_count": null,
=======
   "execution_count": 142,
>>>>>>> 51d9e99e954723218d8902c654ad9f06e551671a
=======
   "execution_count": 462,
>>>>>>> f55d197c1325bb9dd41bd183e80ed0e8701a19e7
   "metadata": {},
   "outputs": [],
   "source": [
    "baseline_logreg_results = ModelWithCV(\n",
    "                        model=log_model,\n",
    "                        model_name='log_model',\n",
    "                        X=X_train_scaled, \n",
    "                        y=y_train\n",
    ")"
   ]
  },
  {
   "cell_type": "code",
<<<<<<< HEAD
<<<<<<< HEAD
   "execution_count": null,
=======
   "execution_count": 143,
>>>>>>> 51d9e99e954723218d8902c654ad9f06e551671a
=======
   "execution_count": 463,
>>>>>>> f55d197c1325bb9dd41bd183e80ed0e8701a19e7
   "metadata": {
    "scrolled": false
   },
<<<<<<< HEAD
   "outputs": [],
=======
   "outputs": [
    {
     "name": "stdout",
     "output_type": "stream",
     "text": [
      "CV Results for `log_model` model:\n",
<<<<<<< HEAD
      "            0.80502 ± 0.00787 accuracy\n",
=======
      "            0.80216 ± 0.00730 accuracy\n",
>>>>>>> f55d197c1325bb9dd41bd183e80ed0e8701a19e7
      "        \n"
     ]
    },
    {
     "data": {
<<<<<<< HEAD
      "image/png": "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\n",
=======
      "image/png": "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\n",
>>>>>>> f55d197c1325bb9dd41bd183e80ed0e8701a19e7
      "text/plain": [
       "<Figure size 432x288 with 1 Axes>"
      ]
     },
     "metadata": {
      "needs_background": "light"
     },
     "output_type": "display_data"
    }
   ],
>>>>>>> 51d9e99e954723218d8902c654ad9f06e551671a
   "source": [
    "# Visualizing CV results\n",
    "model_results = baseline_logreg_results\n",
    "\n",
    "\n",
    "fig, ax = plt.subplots()\n",
    "ax = model_results.plot_cv(ax)\n",
    "plt.tight_layout();\n",
    "\n",
    "model_results.print_cv_summary()"
   ]
  },
  {
   "cell_type": "markdown",
   "metadata": {},
   "source": [
<<<<<<< HEAD
    "### Grid Search for LogReg Model"
   ]
  },
  {
   "cell_type": "code",
   "execution_count": 159,
   "metadata": {},
   "outputs": [],
   "source": [
    "params = {\n",
    "    'penalty': ['l1', 'l2', 'elasticnet']\n",
    "    ,'C': [100, 10, 1.0, 0.1, 0.01]\n",
    "    ,'solver': ['saga']\n",
    "    ,'max_iter': [500, 1000]\n",
    "}"
   ]
  },
  {
   "cell_type": "code",
   "execution_count": 158,
   "metadata": {},
   "outputs": [
    {
     "data": {
      "text/plain": [
       "dict_keys(['C', 'class_weight', 'dual', 'fit_intercept', 'intercept_scaling', 'l1_ratio', 'max_iter', 'multi_class', 'n_jobs', 'penalty', 'random_state', 'solver', 'tol', 'verbose', 'warm_start'])"
      ]
     },
     "execution_count": 158,
     "metadata": {},
     "output_type": "execute_result"
    }
   ],
   "source": [
    "log_model.get_params().keys()"
   ]
  },
  {
   "cell_type": "code",
   "execution_count": 160,
   "metadata": {},
   "outputs": [
    {
     "data": {
      "text/plain": [
       "GridSearchCV(cv=5,\n",
       "             estimator=LogisticRegression(C=1000.0, max_iter=1000.0,\n",
       "                                          multi_class='ovr'),\n",
       "             n_jobs=-2,\n",
       "             param_grid={'C': [100, 10, 1.0, 0.1, 0.01],\n",
       "                         'max_iter': [500, 1000],\n",
       "                         'penalty': ['l1', 'l2', 'elasticnet'],\n",
       "                         'solver': ['saga']})"
      ]
     },
     "execution_count": 160,
     "metadata": {},
     "output_type": "execute_result"
    }
   ],
   "source": [
    "grid = GridSearchCV(log_model,\n",
    "                   param_grid = params,\n",
    "                   cv = 5,\n",
    "                   n_jobs = -2)\n",
    "\n",
    "grid.fit(X_train_scaled,y_train)"
   ]
  },
  {
   "cell_type": "code",
   "execution_count": 162,
   "metadata": {},
   "outputs": [
    {
     "data": {
      "text/plain": [
       "{'C': 0.01, 'max_iter': 1000, 'penalty': 'l1', 'solver': 'saga'}"
      ]
     },
     "execution_count": 162,
     "metadata": {},
     "output_type": "execute_result"
    }
   ],
   "source": [
    "grid.best_params_"
   ]
  },
  {
   "cell_type": "code",
   "execution_count": 163,
   "metadata": {},
   "outputs": [
    {
     "data": {
      "text/plain": [
       "0.8050469947216502"
      ]
     },
     "execution_count": 163,
     "metadata": {},
     "output_type": "execute_result"
    }
   ],
   "source": [
    "grid.best_score_"
   ]
  },
  {
   "cell_type": "code",
   "execution_count": 170,
   "metadata": {},
   "outputs": [],
   "source": [
    "log_model_2 = LogisticRegression(C=.01,max_iter=1000,penalty='l1',solver='saga',class_weight='balanced',\\\n",
    "                                 random_state=42)"
   ]
  },
  {
   "cell_type": "code",
   "execution_count": 171,
   "metadata": {},
   "outputs": [
    {
     "data": {
      "text/plain": [
       "LogisticRegression(C=0.01, class_weight='balanced', max_iter=1000, penalty='l1',\n",
       "                   random_state=42, solver='saga')"
      ]
     },
     "execution_count": 171,
     "metadata": {},
     "output_type": "execute_result"
    }
   ],
   "source": [
    "log_model_2.fit(X_train_scaled,y_train)"
   ]
  },
  {
   "cell_type": "code",
   "execution_count": 172,
   "metadata": {},
   "outputs": [
    {
     "data": {
      "text/plain": [
       "0.805205097318202"
      ]
     },
     "execution_count": 172,
     "metadata": {},
     "output_type": "execute_result"
    }
   ],
   "source": [
    "log_model_2.score(X_train_scaled,y_train)"
   ]
  },
  {
   "cell_type": "code",
   "execution_count": 173,
   "metadata": {},
   "outputs": [
    {
     "data": {
      "text/plain": [
       "0.8030552643402725"
      ]
     },
     "execution_count": 173,
     "metadata": {},
     "output_type": "execute_result"
    }
   ],
   "source": [
    "log_model_2.score(X_test_scaled,y_test)"
   ]
  },
  {
   "cell_type": "code",
   "execution_count": 174,
   "metadata": {},
   "outputs": [
    {
     "name": "stdout",
     "output_type": "stream",
     "text": [
      "Accuracy:0.80 ,Recall:0.79, Precision:0.52, F1:0.63\n"
     ]
    }
   ],
   "source": [
    "y_pred_test = log_model_2.predict(X_test_scaled)\n",
    "\n",
    "model_accuracy = accuracy_score(y_test,y_pred_test)\n",
    "model_recall = recall_score(y_test,y_pred_test)\n",
    "model_precision = precision_score(y_test,y_pred_test)\n",
    "model_f1 = f1_score(y_test,y_pred_test)\n",
    "\n",
    "\n",
    "print(f\"\"\"\\\n",
    "Accuracy:{model_accuracy:1.2f} ,Recall:{model_recall:1.2f}, Precision:{model_precision:1.2f}, F1:{model_f1:1.2f}\\\n",
    "\"\"\") "
   ]
  },
  {
   "cell_type": "code",
   "execution_count": 175,
   "metadata": {
    "scrolled": true
   },
   "outputs": [
    {
     "data": {
      "text/plain": [
       "<sklearn.metrics._plot.roc_curve.RocCurveDisplay at 0x7fe1f25a9370>"
      ]
     },
     "execution_count": 175,
     "metadata": {},
     "output_type": "execute_result"
    },
    {
     "data": {
      "image/png": "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\n",
      "text/plain": [
       "<Figure size 432x288 with 1 Axes>"
      ]
     },
     "metadata": {
      "needs_background": "light"
     },
     "output_type": "display_data"
    }
   ],
   "source": [
    "plot_roc_curve(log_model_2,X_test_scaled,y_test)"
   ]
  },
  {
   "cell_type": "markdown",
   "metadata": {},
   "source": [
    "## Random Forest Model"
   ]
  },
  {
   "cell_type": "code",
   "execution_count": 178,
   "metadata": {},
   "outputs": [],
   "source": [
    "rfc = RandomForestClassifier(max_features='sqrt',\n",
    "                            max_samples=0.3,\n",
    "                            random_state=42)"
   ]
  },
  {
   "cell_type": "code",
   "execution_count": 179,
   "metadata": {},
   "outputs": [
    {
     "data": {
      "text/plain": [
       "RandomForestClassifier(max_features='sqrt', max_samples=0.3, random_state=42)"
      ]
     },
     "execution_count": 179,
     "metadata": {},
     "output_type": "execute_result"
    }
   ],
   "source": [
    "rfc.fit(X_train_scaled, y_train)"
   ]
  },
  {
   "cell_type": "code",
   "execution_count": 180,
   "metadata": {},
   "outputs": [
    {
     "data": {
      "text/plain": [
       "array([0.76481775, 0.89839911, 0.9489618 , 0.94801078, 0.95260739])"
      ]
     },
     "execution_count": 180,
     "metadata": {},
     "output_type": "execute_result"
    }
   ],
   "source": [
    "scores = cross_val_score(estimator=rfc, X=X_train_scaled, y=y_train, cv=5)\n",
    "scores"
   ]
  },
  {
   "cell_type": "code",
   "execution_count": 181,
   "metadata": {},
   "outputs": [
    {
     "data": {
      "text/plain": [
       "0.9025593654224251"
      ]
     },
     "execution_count": 181,
     "metadata": {},
     "output_type": "execute_result"
    }
   ],
   "source": [
    "np.mean(scores)"
   ]
  },
  {
   "cell_type": "code",
   "execution_count": 182,
   "metadata": {},
   "outputs": [
    {
     "data": {
      "text/plain": [
       "0.857720533173581"
      ]
     },
     "execution_count": 182,
     "metadata": {},
     "output_type": "execute_result"
    }
   ],
   "source": [
    "score = rfc.score(X_test_scaled, y_test)\n",
    "score"
   ]
  },
  {
   "cell_type": "code",
   "execution_count": 183,
   "metadata": {},
   "outputs": [],
   "source": [
    "rfc_results = ModelWithCV(\n",
    "                        model=rfc,\n",
    "                        model_name='rfc_model',\n",
    "                        X=X_train_scaled, \n",
    "                        y=y_train\n",
    ")"
   ]
  },
  {
   "cell_type": "code",
   "execution_count": 184,
   "metadata": {},
   "outputs": [
    {
     "name": "stdout",
     "output_type": "stream",
     "text": [
      "CV Results for `rfc_model` model:\n",
      "            0.90719 ± 0.07499 accuracy\n",
      "        \n"
     ]
    },
    {
     "data": {
      "image/png": "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\n",
      "text/plain": [
       "<Figure size 432x288 with 1 Axes>"
      ]
     },
     "metadata": {
      "needs_background": "light"
     },
     "output_type": "display_data"
    }
   ],
   "source": [
    "model_results = rfc_results\n",
    "\n",
    "# Plot CV results\n",
    "fig, ax = plt.subplots()\n",
    "ax = model_results.plot_cv(ax)\n",
    "plt.tight_layout();\n",
    "# Print CV results\n",
    "model_results.print_cv_summary()"
   ]
  },
  {
   "cell_type": "markdown",
   "metadata": {},
   "source": [
    "## Random Forest Grid Search"
   ]
  },
  {
   "cell_type": "code",
   "execution_count": 187,
   "metadata": {},
   "outputs": [],
   "source": [
    "params = {\n",
    "     'n_estimators': [800, 1000, 1200]\n",
    "     ,'max_depth': [10, 15, 20]\n",
    "     ,'max_features': [10, 15, 20]\n",
    "     ,'min_samples_leaf': [2, 3, 4]\n",
    "     ,'min_samples_split': [10, 12, 15, 20]\n",
    "}"
   ]
  },
  {
   "cell_type": "code",
   "execution_count": null,
   "metadata": {},
   "outputs": [],
   "source": [
    "grid = GridSearchCV(rfc,\n",
    "                   param_grid = params,\n",
    "                   cv = 5,\n",
    "                   n_jobs = -2)\n",
    "\n",
    "grid.fit(X_train_scaled,y_train)"
   ]
  },
  {
   "cell_type": "code",
   "execution_count": null,
   "metadata": {},
   "outputs": [],
   "source": []
  },
  {
   "cell_type": "code",
   "execution_count": null,
   "metadata": {},
   "outputs": [],
   "source": []
  },
  {
   "cell_type": "code",
   "execution_count": null,
   "metadata": {},
   "outputs": [],
   "source": []
  },
  {
   "cell_type": "code",
   "execution_count": null,
   "metadata": {},
   "outputs": [],
   "source": []
  },
  {
   "cell_type": "code",
   "execution_count": null,
   "metadata": {},
   "outputs": [],
   "source": []
  },
  {
   "cell_type": "markdown",
   "metadata": {},
   "source": [
    "## Trying Different Models "
   ]
  },
  {
   "cell_type": "code",
   "execution_count": null,
   "metadata": {},
   "outputs": [],
   "source": [
    "from sklearn.neighbors import KNeighborsClassifier\n",
    "from sklearn.tree import DecisionTreeClassifier"
=======
    "#### Observation:\n",
    "- The model still seems to be overfitting based on our precision scores, will continue to iterate using grid search"
>>>>>>> f55d197c1325bb9dd41bd183e80ed0e8701a19e7
   ]
  },
  {
   "cell_type": "markdown",
   "metadata": {},
   "source": [
    "### Grid Search for LogReg Model"
   ]
  },
  {
   "cell_type": "code",
<<<<<<< HEAD
   "execution_count": null,
   "metadata": {},
   "outputs": [],
=======
   "execution_count": 464,
   "metadata": {},
   "outputs": [],
   "source": [
    "# Setting params for grid search \n",
    "\n",
    "params = {\n",
    "    'penalty': ['l1', 'l2', 'elasticnet']\n",
    "    ,'C': [100, 10, 1.0, 0.1, 0.01]\n",
    "    ,'solver': ['saga']\n",
    "    ,'max_iter': [500, 1000]\n",
    "}"
   ]
  },
  {
   "cell_type": "code",
   "execution_count": 465,
   "metadata": {},
   "outputs": [
    {
     "data": {
      "text/plain": [
       "dict_keys(['C', 'class_weight', 'dual', 'fit_intercept', 'intercept_scaling', 'l1_ratio', 'max_iter', 'multi_class', 'n_jobs', 'penalty', 'random_state', 'solver', 'tol', 'verbose', 'warm_start'])"
      ]
     },
     "execution_count": 465,
     "metadata": {},
     "output_type": "execute_result"
    }
   ],
>>>>>>> f55d197c1325bb9dd41bd183e80ed0e8701a19e7
   "source": [
    "log_model.get_params().keys()"
   ]
  },
  {
   "cell_type": "code",
<<<<<<< HEAD
   "execution_count": null,
   "metadata": {
    "scrolled": true
   },
   "outputs": [],
=======
   "execution_count": 466,
   "metadata": {},
   "outputs": [
    {
     "data": {
      "text/plain": [
       "GridSearchCV(cv=5,\n",
       "             estimator=LogisticRegression(C=1000.0, max_iter=1000.0,\n",
       "                                          multi_class='ovr'),\n",
       "             n_jobs=-2,\n",
       "             param_grid={'C': [100, 10, 1.0, 0.1, 0.01],\n",
       "                         'max_iter': [500, 1000],\n",
       "                         'penalty': ['l1', 'l2', 'elasticnet'],\n",
       "                         'solver': ['saga']})"
      ]
     },
     "execution_count": 466,
     "metadata": {},
     "output_type": "execute_result"
    }
   ],
   "source": [
    "grid = GridSearchCV(log_model,\n",
    "                   param_grid = params,\n",
    "                   cv = 5,\n",
    "                   n_jobs = -2)\n",
    "\n",
    "grid.fit(X_train_scaled,y_train)"
   ]
  },
  {
   "cell_type": "code",
   "execution_count": 467,
   "metadata": {},
   "outputs": [
    {
     "data": {
      "text/plain": [
       "{'C': 0.01, 'max_iter': 500, 'penalty': 'l1', 'solver': 'saga'}"
      ]
     },
     "execution_count": 467,
     "metadata": {},
     "output_type": "execute_result"
    }
   ],
   "source": [
    "# Grabbing best parameters for logreg model\n",
    "\n",
    "grid.best_params_"
   ]
  },
  {
   "cell_type": "code",
   "execution_count": 468,
   "metadata": {},
   "outputs": [],
   "source": [
    "# Instantiating second model with best parameters \n",
    "\n",
    "log_model_2 = LogisticRegression(C=.01,max_iter=1000,penalty='l1',solver='saga',class_weight='balanced',\\\n",
    "                                 random_state=42)"
   ]
  },
  {
   "cell_type": "code",
   "execution_count": 469,
   "metadata": {},
   "outputs": [
    {
     "data": {
      "text/plain": [
       "LogisticRegression(C=0.01, class_weight='balanced', max_iter=1000, penalty='l1',\n",
       "                   random_state=42, solver='saga')"
      ]
     },
     "execution_count": 469,
     "metadata": {},
     "output_type": "execute_result"
    }
   ],
   "source": [
    "log_model_2.fit(X_train_scaled,y_train)"
   ]
  },
  {
   "cell_type": "code",
   "execution_count": 470,
   "metadata": {},
   "outputs": [
    {
     "data": {
      "text/plain": [
       "0.8019717238318645"
      ]
     },
     "execution_count": 470,
     "metadata": {},
     "output_type": "execute_result"
    }
   ],
   "source": [
    "#Grabbing mean accuracy for train \n",
    "\n",
    "log_model_2.score(X_train_scaled,y_train)"
   ]
  },
  {
   "cell_type": "code",
   "execution_count": 471,
   "metadata": {
    "scrolled": true
   },
   "outputs": [
    {
     "data": {
      "text/plain": [
       "0.8026059607608207"
      ]
     },
     "execution_count": 471,
     "metadata": {},
     "output_type": "execute_result"
    }
   ],
>>>>>>> f55d197c1325bb9dd41bd183e80ed0e8701a19e7
   "source": [
    "# Grabbing mean accuracy for test \n",
    "\n",
    "log_model_2.score(X_test_scaled,y_test)"
   ]
  },
  {
   "cell_type": "code",
<<<<<<< HEAD
   "execution_count": null,
   "metadata": {},
   "outputs": [],
   "source": [
    "knn_results = ModelWithCV(\n",
    "                        model=knn_model,\n",
    "                        model_name='knn_model',\n",
    "                        X=X_train_scaled, \n",
    "                        y=y_train\n",
    ")"
   ]
  },
  {
   "cell_type": "code",
   "execution_count": null,
   "metadata": {},
   "outputs": [],
   "source": [
    "# Saving variable for convenience\n",
    "model_results = knn_results\n",
    "\n",
    "# Plot CV results\n",
    "fig, ax = plt.subplots()\n",
    "ax = model_results.plot_cv(ax)\n",
    "plt.tight_layout();\n",
    "# Print CV results\n",
    "model_results.print_cv_summary()"
   ]
  },
  {
   "cell_type": "code",
   "execution_count": null,
   "metadata": {},
   "outputs": [],
   "source": [
    "# Decreasing k \n",
    "\n",
    "knn3 = KNeighborsClassifier(n_neighbors=3)\n",
    "\n",
    "knn3.fit(X_train_scaled,y_train)\n",
    "\n",
    "knn3.score(X_train_scaled,y_train)"
   ]
  },
  {
   "cell_type": "code",
   "execution_count": null,
   "metadata": {},
   "outputs": [],
   "source": [
    "knn3_results = ModelWithCV(\n",
    "                        model=knn3,\n",
    "                        model_name='knn3_model',\n",
    "                        X=X_train_scaled, \n",
    "                        y=y_train\n",
    ")"
   ]
  },
  {
   "cell_type": "code",
   "execution_count": null,
   "metadata": {},
   "outputs": [],
   "source": [
    "# Saving variable for convenience\n",
    "model_results = knn3_results\n",
    "\n",
    "# Plot CV results\n",
    "fig, ax = plt.subplots()\n",
    "ax = model_results.plot_cv(ax)\n",
    "plt.tight_layout();\n",
    "# Print CV results\n",
    "model_results.print_cv_summary()"
   ]
  },
  {
   "cell_type": "code",
   "execution_count": null,
   "metadata": {},
   "outputs": [],
   "source": [
    "# Increasing k\n",
    "\n",
    "knn2 = KNeighborsClassifier(n_neighbors=5)\n",
    "\n",
    "knn2.fit(X_train_scaled,y_train)\n",
    "\n",
    "knn2.score(X_train_scaled,y_train)"
   ]
  },
  {
   "cell_type": "code",
   "execution_count": null,
   "metadata": {},
   "outputs": [],
   "source": [
    "knn5_results = ModelWithCV(\n",
    "                        model=knn2,\n",
    "                        model_name='knn5_model',\n",
    "                        X=X_train_scaled, \n",
    "                        y=y_train\n",
    ")"
   ]
  },
  {
   "cell_type": "code",
   "execution_count": null,
   "metadata": {
    "scrolled": true
   },
   "outputs": [],
=======
   "execution_count": 472,
   "metadata": {
    "scrolled": true
   },
   "outputs": [
    {
     "name": "stdout",
     "output_type": "stream",
     "text": [
      "Precision:0.52 \n",
      "\n"
     ]
    }
   ],
>>>>>>> f55d197c1325bb9dd41bd183e80ed0e8701a19e7
   "source": [
    "y_pred_test = log_model_2.predict(X_test_scaled)\n",
    "\n",
<<<<<<< HEAD
    "# Plot CV results\n",
    "fig, ax = plt.subplots()\n",
    "ax = model_results.plot_cv(ax)\n",
    "plt.tight_layout();\n",
    "# Print CV results\n",
    "model_results.print_cv_summary()"
   ]
  },
  {
   "cell_type": "markdown",
   "metadata": {},
   "source": [
    "#### Observations:\n",
    "- It looks like all three knn models are overfitting, will need to tune hyperparameters to adjust\""
   ]
  },
  {
   "cell_type": "markdown",
   "metadata": {},
   "source": [
    "### Decision Tree"
   ]
  },
  {
   "cell_type": "code",
   "execution_count": null,
   "metadata": {},
   "outputs": [],
   "source": [
    "ct = DecisionTreeClassifier(random_state=42)\n",
=======
>>>>>>> f55d197c1325bb9dd41bd183e80ed0e8701a19e7
    "\n",
    "model_precision = precision_score(y_test,y_pred_test)\n",
    "\n",
    "\n",
    "print(f\"\"\"\\\n",
    "Precision:{model_precision:1.2f} \n",
    "\"\"\") "
   ]
  },
  {
   "cell_type": "code",
<<<<<<< HEAD
   "execution_count": null,
   "metadata": {},
   "outputs": [],
   "source": [
    "ct.score(X_train_scaled, y_train)"
   ]
  },
  {
   "cell_type": "code",
   "execution_count": null,
   "metadata": {},
   "outputs": [],
   "source": [
    "dt_results = ModelWithCV(\n",
    "                        model=ct,\n",
    "                        model_name='dt_model',\n",
    "                        X=X_train_scaled, \n",
    "                        y=y_train\n",
    ")"
   ]
  },
  {
   "cell_type": "code",
   "execution_count": null,
   "metadata": {},
   "outputs": [],
=======
   "execution_count": 473,
   "metadata": {
    "scrolled": true
   },
   "outputs": [
    {
     "name": "stdout",
     "output_type": "stream",
     "text": [
      "Precision:0.80 \n",
      "\n"
     ]
    }
   ],
>>>>>>> f55d197c1325bb9dd41bd183e80ed0e8701a19e7
   "source": [
    "y_pred_train = log_model_2.predict(X_train_scaled)\n",
    "\n",
    "\n",
    "model_precision = precision_score(y_train,y_pred_train)\n",
    "\n",
    "\n",
    "print(f\"\"\"\\\n",
    "Precision:{model_precision:1.2f} \n",
    "\"\"\") "
   ]
  },
  {
   "cell_type": "markdown",
   "metadata": {},
   "source": [
    "#### Observation:\n",
    "- While our accuracy for test and train was almost identical, our precision scores still seem to be overfitting\n",
    "- Our next model will be a Random Forest Model"
   ]
  },
  {
   "cell_type": "markdown",
   "metadata": {},
   "source": [
    "## Random Forest Model"
   ]
  },
  {
   "cell_type": "code",
<<<<<<< HEAD
   "execution_count": null,
=======
   "execution_count": 474,
>>>>>>> f55d197c1325bb9dd41bd183e80ed0e8701a19e7
   "metadata": {},
   "outputs": [],
   "source": [
    "# Instantiating random forest \n",
    "\n",
    "rfc = RandomForestClassifier(max_features='sqrt',\n",
    "                            max_samples=0.3,\n",
    "                            random_state=42)"
   ]
  },
  {
   "cell_type": "code",
<<<<<<< HEAD
   "execution_count": null,
   "metadata": {},
   "outputs": [],
=======
   "execution_count": 475,
   "metadata": {},
   "outputs": [
    {
     "data": {
      "text/plain": [
       "RandomForestClassifier(max_features='sqrt', max_samples=0.3, random_state=42)"
      ]
     },
     "execution_count": 475,
     "metadata": {},
     "output_type": "execute_result"
    }
   ],
>>>>>>> f55d197c1325bb9dd41bd183e80ed0e8701a19e7
   "source": [
    "rfc.fit(X_train_scaled, y_train)"
   ]
  },
  {
   "cell_type": "code",
<<<<<<< HEAD
   "execution_count": null,
   "metadata": {},
   "outputs": [],
=======
   "execution_count": 476,
   "metadata": {},
   "outputs": [
    {
     "data": {
      "text/plain": [
       "array([0.77559429, 0.89618006, 0.9448407 , 0.94341417, 0.9488033 ])"
      ]
     },
     "execution_count": 476,
     "metadata": {},
     "output_type": "execute_result"
    }
   ],
>>>>>>> f55d197c1325bb9dd41bd183e80ed0e8701a19e7
   "source": [
    "scores = cross_val_score(estimator=rfc, X=X_train_scaled, y=y_train, cv=5)\n",
    "scores"
   ]
  },
  {
   "cell_type": "code",
<<<<<<< HEAD
   "execution_count": null,
   "metadata": {},
   "outputs": [],
=======
   "execution_count": 477,
   "metadata": {},
   "outputs": [
    {
     "data": {
      "text/plain": [
       "0.9017665051737274"
      ]
     },
     "execution_count": 477,
     "metadata": {},
     "output_type": "execute_result"
    }
   ],
>>>>>>> f55d197c1325bb9dd41bd183e80ed0e8701a19e7
   "source": [
    "# grabbing mean accuracy score for train \n",
    "\n",
    "np.mean(scores)"
   ]
  },
  {
   "cell_type": "code",
<<<<<<< HEAD
   "execution_count": null,
   "metadata": {},
   "outputs": [],
=======
   "execution_count": 478,
   "metadata": {},
   "outputs": [
    {
     "data": {
      "text/plain": [
       "0.8542758723977835"
      ]
     },
     "execution_count": 478,
     "metadata": {},
     "output_type": "execute_result"
    }
   ],
>>>>>>> f55d197c1325bb9dd41bd183e80ed0e8701a19e7
   "source": [
    "# grabbing mean accuracy model for test \n",
    "\n",
    "score = rfc.score(X_test_scaled, y_test)\n",
    "score"
   ]
  },
  {
   "cell_type": "code",
<<<<<<< HEAD
   "execution_count": null,
   "metadata": {},
   "outputs": [],
   "source": [
    "rfc_results = ModelWithCV(\n",
    "                        model=rfc,\n",
    "                        model_name='rfc_model',\n",
    "                        X=X_train_scaled, \n",
    "                        y=y_train\n",
    ")"
   ]
  },
  {
   "cell_type": "code",
   "execution_count": null,
   "metadata": {},
   "outputs": [],
=======
   "execution_count": 480,
   "metadata": {},
   "outputs": [
    {
     "name": "stdout",
     "output_type": "stream",
     "text": [
      "Precision:0.96 \n",
      "\n"
     ]
    }
   ],
   "source": [
    "y_pred_train = rfc.predict(X_train_scaled)\n",
    "\n",
    "\n",
    "model_precision = precision_score(y_train,y_pred_train)\n",
    "\n",
    "\n",
    "print(f\"\"\"\\\n",
    "Precision:{model_precision:1.2f} \n",
    "\"\"\") "
   ]
  },
  {
   "cell_type": "code",
   "execution_count": 481,
   "metadata": {},
   "outputs": [
    {
     "name": "stdout",
     "output_type": "stream",
     "text": [
      "Precision:0.68 \n",
      "\n"
     ]
    }
   ],
   "source": [
    "y_pred_test = rfc.predict(X_test_scaled)\n",
    "\n",
    "\n",
    "model_precision = precision_score(y_test,y_pred_test)\n",
    "\n",
    "\n",
    "print(f\"\"\"\\\n",
    "Precision:{model_precision:1.2f} \n",
    "\"\"\") "
   ]
  },
  {
   "cell_type": "markdown",
   "metadata": {},
   "source": [
    "#### Observation:\n",
    "- Similar to our previous models, it is overfitting on accuracy and precision, so will conduct a grid search for the best parameters"
   ]
  },
  {
   "cell_type": "markdown",
   "metadata": {},
   "source": [
    "## Random Forest Grid Search"
   ]
  },
  {
   "cell_type": "code",
   "execution_count": 482,
   "metadata": {},
   "outputs": [],
   "source": [
    "# Setting paramaters for RF grid search\n",
    "params = {\n",
    "     'n_estimators': [800, 1000, 1200]\n",
    "     ,'max_depth': [10, 15, 20]\n",
    "     ,'max_features': [10, 15, 20]\n",
    "     ,'min_samples_leaf': [2, 3, 4]\n",
    "     ,'min_samples_split': [10, 12, 15, 20]\n",
    "}"
   ]
  },
  {
   "cell_type": "markdown",
   "metadata": {},
   "source": [
    "#### Note:\n",
    "- The below grid search takes multiple hours to run. "
   ]
  },
  {
   "cell_type": "code",
   "execution_count": 286,
   "metadata": {
    "scrolled": true
   },
   "outputs": [],
   "source": [
    "# grid = GridSearchCV(rfc,\n",
    "#                    param_grid = params,\n",
    "#                    cv = 5,\n",
    "#                    n_jobs = -2)\n",
    "\n",
    "# grid.fit(X_train_scaled,y_train)"
   ]
  },
  {
   "cell_type": "code",
   "execution_count": 287,
   "metadata": {},
   "outputs": [],
   "source": [
    "# grid.best_params_"
   ]
  },
  {
   "cell_type": "code",
   "execution_count": 483,
   "metadata": {},
   "outputs": [],
   "source": [
    "# Instantiating new RF model with best parameters from grid search (stored in previous notebook version)\n",
    "\n",
    "rfc_2 = RandomForestClassifier(max_depth=20,max_features=10,min_samples_leaf=2,min_samples_split=10,\\\n",
    "                              n_estimators=1000,random_state=42)"
   ]
  },
  {
   "cell_type": "code",
   "execution_count": 484,
   "metadata": {},
   "outputs": [
    {
     "data": {
      "text/plain": [
       "RandomForestClassifier(max_depth=20, max_features=10, min_samples_leaf=2,\n",
       "                       min_samples_split=10, n_estimators=1000,\n",
       "                       random_state=42)"
      ]
     },
     "execution_count": 484,
     "metadata": {},
     "output_type": "execute_result"
    }
   ],
   "source": [
    "rfc_2.fit(X_train_scaled,y_train)"
   ]
  },
  {
   "cell_type": "code",
   "execution_count": 485,
   "metadata": {},
   "outputs": [
    {
     "name": "stdout",
     "output_type": "stream",
     "text": [
      "Precision:0.96  Accuracy:0.95 \n",
      "\n"
     ]
    }
   ],
   "source": [
    "y_pred_train = rfc_2.predict(X_train_scaled)\n",
    "\n",
    "model_accuracy = accuracy_score(y_train,y_pred_train)\n",
    "model_precision = precision_score(y_train,y_pred_train)\n",
    "\n",
    "\n",
    "print(f\"\"\"\\\n",
    "Precision:{model_precision:1.2f}  Accuracy:{model_accuracy:1.2f} \n",
    "\"\"\") "
   ]
  },
  {
   "cell_type": "code",
   "execution_count": 486,
   "metadata": {},
   "outputs": [
    {
     "name": "stdout",
     "output_type": "stream",
     "text": [
      "Precision:0.67 , Accuracy:0.85 \n",
      "\n"
     ]
    }
   ],
   "source": [
    "y_pred_test = rfc_2.predict(X_test_scaled)\n",
    "\n",
    "model_accuracy = accuracy_score(y_test,y_pred_test)\n",
    "model_precision = precision_score(y_test,y_pred_test)\n",
    "\n",
    "\n",
    "print(f\"\"\"\\\n",
    "Precision:{model_precision:1.2f} , Accuracy:{model_accuracy:1.2f} \n",
    "\"\"\") "
   ]
  },
  {
   "cell_type": "markdown",
   "metadata": {},
   "source": [
    "#### Observation:\n",
    "- Overall precision and accuracy numbers have improved, but the model is still overfit"
   ]
  },
  {
   "cell_type": "markdown",
   "metadata": {},
   "source": [
    "# Ensemble"
   ]
  },
  {
   "cell_type": "code",
   "execution_count": 487,
   "metadata": {},
   "outputs": [],
   "source": [
    "from sklearn.ensemble import BaggingClassifier, RandomForestClassifier,\\\n",
    "ExtraTreesClassifier, VotingClassifier, StackingRegressor"
   ]
  },
  {
   "cell_type": "code",
   "execution_count": 488,
   "metadata": {},
   "outputs": [
    {
     "data": {
      "text/plain": [
       "VotingClassifier(estimators=[('lr',\n",
       "                              LogisticRegression(C=0.01,\n",
       "                                                 class_weight='balanced',\n",
       "                                                 max_iter=1000, penalty='l1',\n",
       "                                                 random_state=42,\n",
       "                                                 solver='saga')),\n",
       "                             ('ct',\n",
       "                              DecisionTreeClassifier(criterion='entropy',\n",
       "                                                     max_depth=9,\n",
       "                                                     min_samples_leaf=2,\n",
       "                                                     min_samples_split=5,\n",
       "                                                     random_state=42)),\n",
       "                             ('rf',\n",
       "                              RandomForestClassifier(max_depth=20,\n",
       "                                                     max_features=10,\n",
       "                                                     min_samples_leaf=2,\n",
       "                                                     min_samples_split=10,\n",
       "                                                     n_estimators=1000,\n",
       "                                                     random_state=42))])"
      ]
     },
     "execution_count": 488,
     "metadata": {},
     "output_type": "execute_result"
    }
   ],
   "source": [
    "# Using our three best models for an ensemble model - log_model_2, dt (2nd dt model), rfc_2\n",
    "avg = VotingClassifier(estimators=[\n",
    "    ('lr', log_model_2),\n",
    "    ('ct', dt),\n",
    "    ('rf', rfc_2)])\n",
    "\n",
    "avg.fit(X_train_scaled,y_train )"
   ]
  },
  {
   "cell_type": "code",
   "execution_count": 489,
   "metadata": {},
   "outputs": [
    {
     "name": "stdout",
     "output_type": "stream",
     "text": [
      "Precision:0.87  Accuracy:0.89 \n",
      "\n"
     ]
    }
   ],
   "source": [
    "y_pred_train = avg.predict(X_train_scaled)\n",
    "\n",
    "model_accuracy = accuracy_score(y_train,y_pred_train)\n",
    "model_precision = precision_score(y_train,y_pred_train)\n",
    "\n",
    "\n",
    "print(f\"\"\"\\\n",
    "Precision:{model_precision:1.2f}  Accuracy:{model_accuracy:1.2f} \n",
    "\"\"\") "
   ]
  },
  {
   "cell_type": "code",
   "execution_count": 490,
   "metadata": {},
   "outputs": [
    {
     "name": "stdout",
     "output_type": "stream",
     "text": [
      "Precision:0.58 , Accuracy:0.83 \n",
      "\n"
     ]
    }
   ],
   "source": [
    "y_pred_test = avg.predict(X_test_scaled)\n",
    "\n",
    "model_accuracy = accuracy_score(y_test,y_pred_test)\n",
    "model_precision = precision_score(y_test,y_pred_test)\n",
    "\n",
    "\n",
    "print(f\"\"\"\\\n",
    "Precision:{model_precision:1.2f} , Accuracy:{model_accuracy:1.2f} \n",
    "\"\"\") "
   ]
  },
  {
   "cell_type": "code",
   "execution_count": 497,
   "metadata": {},
   "outputs": [
    {
     "data": {
      "text/plain": [
       "VotingClassifier(estimators=[('lr',\n",
       "                              LogisticRegression(C=0.01,\n",
       "                                                 class_weight='balanced',\n",
       "                                                 max_iter=1000, penalty='l1',\n",
       "                                                 random_state=42,\n",
       "                                                 solver='saga')),\n",
       "                             ('ct',\n",
       "                              DecisionTreeClassifier(criterion='entropy',\n",
       "                                                     max_depth=9,\n",
       "                                                     min_samples_leaf=2,\n",
       "                                                     min_samples_split=5,\n",
       "                                                     random_state=42)),\n",
       "                             ('rf',\n",
       "                              RandomForestClassifier(max_depth=20,\n",
       "                                                     max_features=10,\n",
       "                                                     min_samples_leaf=2,\n",
       "                                                     min_samples_split=10,\n",
       "                                                     n_estimators=1000,\n",
       "                                                     random_state=42))],\n",
       "                 weights=[0.1, 0.2, 0.7])"
      ]
     },
     "execution_count": 497,
     "metadata": {},
     "output_type": "execute_result"
    }
   ],
   "source": [
    "# Adjusting weight of each model \n",
    "\n",
    "avg_2 = VotingClassifier(estimators=[\n",
    "    ('lr', log_model_2),\n",
    "    ('ct', dt),\n",
    "    ('rf', rfc_2)],\n",
    "    weights=[.1, .2, .7])\n",
    "\n",
    "avg_2.fit(X_train_scaled,y_train )"
   ]
  },
  {
   "cell_type": "code",
   "execution_count": 498,
   "metadata": {},
   "outputs": [
    {
     "name": "stdout",
     "output_type": "stream",
     "text": [
      "Precision:0.96  Accuracy:0.95 \n",
      "\n"
     ]
    }
   ],
   "source": [
    "y_pred_train = avg_2.predict(X_train_scaled)\n",
    "\n",
    "model_accuracy = accuracy_score(y_train,y_pred_train)\n",
    "model_precision = precision_score(y_train,y_pred_train)\n",
    "\n",
    "\n",
    "print(f\"\"\"\\\n",
    "Precision:{model_precision:1.2f}  Accuracy:{model_accuracy:1.2f} \n",
    "\"\"\") "
   ]
  },
  {
   "cell_type": "code",
   "execution_count": 499,
   "metadata": {},
   "outputs": [
    {
     "name": "stdout",
     "output_type": "stream",
     "text": [
      "Precision:0.67 , Accuracy:0.85 \n",
      "\n"
     ]
    }
   ],
   "source": [
    "y_pred_test = avg_2.predict(X_test_scaled)\n",
    "\n",
    "model_accuracy = accuracy_score(y_test,y_pred_test)\n",
    "model_precision = precision_score(y_test,y_pred_test)\n",
    "\n",
    "\n",
    "print(f\"\"\"\\\n",
    "Precision:{model_precision:1.2f} , Accuracy:{model_accuracy:1.2f} \n",
    "\"\"\") "
   ]
  },
  {
   "cell_type": "markdown",
   "metadata": {},
   "source": [
    "# Conclusions"
   ]
  },
  {
   "cell_type": "markdown",
   "metadata": {},
   "source": [
    "## Results"
   ]
  },
  {
   "cell_type": "markdown",
   "metadata": {},
   "source": [
    "We decided to use the second DecisionTree model as our final model for this project, due to having the highest percision and accuracy scores. We are trying to optimize for precision, since we want to minimize the amount of false positives in our model- this way we are not missing non-vaccinator groups of people that require additional outreach. \n",
    "\n",
    "### Final Model & Evaluation Metrics:\n",
    "\n",
    "1. **Model Type**: DecisionTree\n",
    "2. **Model Name**: dt\n",
    "3. **Accuracy**: 86%\n",
    "4. **Precision**: 68%\n"
   ]
  },
  {
   "cell_type": "markdown",
   "metadata": {},
   "source": [
    "## Recommendations\n",
    "Below are our recommendations for a public health agency who is trying to use our model results to boost vaccination rates and increase outreach/educational activities"
   ]
  },
  {
   "cell_type": "markdown",
   "metadata": {},
   "source": [
    "1. **Promotion:** Boost vaccination rates by promoting the benefits of vaccination, and we especially need medical professionals to help in that process.\n",
    "<br/><br/>\n",
    "2. **Education:** Healthcare agency and medical professionals should help to popularize basic education on H1N1 vaccine.\n",
    "<br/><br/>\n",
    "3. **Accessibility:** Recommend improving accessibility on vaccination by allocating vaccines resources to major healthcare providers and prioritize the access for vulnerable groups such as elders, children, and chronic illness."
   ]
  },
  {
   "cell_type": "markdown",
   "metadata": {},
   "source": [
    "## Next Steps"
   ]
  },
  {
   "cell_type": "markdown",
   "metadata": {},
   "source": [
    "1. **Enhance modeling:** We expect to further improve models reliability by adopting more sophisticated data preprocessing steps, in order to reduce overfitting and improve precision. Since we have an imbalanced target, we would like to try out different models like Naive Bayes or knn.\n",
    "<br/><br/>\n",
    "2. **Geographical data:** Incorporate more historical and geographical data to gain better understanding on how vaccine opinions and rates differ on a regional level and over time.\n",
    "<br/><br/>\n",
    "3. **Study Non-Vaccinator:** Study the reasoning of anti-vaccinator would allow us to better understand the psychology and behavior of people when encountering the challenge of pandemic, and can provide us with improved features for future models.\n",
    "\n"
   ]
  },
  {
   "cell_type": "markdown",
   "metadata": {},
   "source": [
    "# Presentation Visual"
   ]
  },
  {
   "cell_type": "code",
   "execution_count": 128,
   "metadata": {},
   "outputs": [],
   "source": [
    "final_features = final_features.head()"
   ]
  },
  {
   "cell_type": "code",
   "execution_count": 129,
   "metadata": {},
   "outputs": [
    {
     "data": {
      "text/html": [
       "<div>\n",
       "<style scoped>\n",
       "    .dataframe tbody tr th:only-of-type {\n",
       "        vertical-align: middle;\n",
       "    }\n",
       "\n",
       "    .dataframe tbody tr th {\n",
       "        vertical-align: top;\n",
       "    }\n",
       "\n",
       "    .dataframe thead th {\n",
       "        text-align: right;\n",
       "    }\n",
       "</style>\n",
       "<table border=\"1\" class=\"dataframe\">\n",
       "  <thead>\n",
       "    <tr style=\"text-align: right;\">\n",
       "      <th></th>\n",
       "      <th>0</th>\n",
       "    </tr>\n",
       "  </thead>\n",
       "  <tbody>\n",
       "    <tr>\n",
       "      <th>seasonal_vaccine</th>\n",
       "      <td>0.346675</td>\n",
       "    </tr>\n",
       "    <tr>\n",
       "      <th>doctor_recc_h1n1</th>\n",
       "      <td>0.128061</td>\n",
       "    </tr>\n",
       "    <tr>\n",
       "      <th>health_insurance</th>\n",
       "      <td>0.087609</td>\n",
       "    </tr>\n",
       "    <tr>\n",
       "      <th>opinion_h1n1_vacc_effective</th>\n",
       "      <td>0.056391</td>\n",
       "    </tr>\n",
       "    <tr>\n",
       "      <th>opinion_h1n1_risk</th>\n",
       "      <td>0.038376</td>\n",
       "    </tr>\n",
       "  </tbody>\n",
       "</table>\n",
       "</div>"
      ],
      "text/plain": [
       "                                    0\n",
       "seasonal_vaccine             0.346675\n",
       "doctor_recc_h1n1             0.128061\n",
       "health_insurance             0.087609\n",
       "opinion_h1n1_vacc_effective  0.056391\n",
       "opinion_h1n1_risk            0.038376"
      ]
     },
     "execution_count": 129,
     "metadata": {},
     "output_type": "execute_result"
    }
   ],
   "source": [
    "final_features"
   ]
  },
  {
   "cell_type": "code",
   "execution_count": 131,
   "metadata": {
    "scrolled": false
   },
   "outputs": [
    {
     "name": "stderr",
     "output_type": "stream",
     "text": [
      "/Users/brandonmenendez/opt/anaconda3/envs/learn-env/lib/python3.8/site-packages/seaborn/_decorators.py:36: FutureWarning: Pass the following variables as keyword args: x, y. From version 0.12, the only valid positional argument will be `data`, and passing other arguments without an explicit keyword will result in an error or misinterpretation.\n",
      "  warnings.warn(\n"
     ]
    },
    {
     "data": {
      "image/png": "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\n",
      "text/plain": [
       "<Figure size 1440x864 with 1 Axes>"
      ]
     },
     "metadata": {
      "needs_background": "light"
     },
     "output_type": "display_data"
    }
   ],
>>>>>>> f55d197c1325bb9dd41bd183e80ed0e8701a19e7
   "source": [
    "fig,ax = plt.subplots(figsize=(20,12))\n",
    "\n",
    "sns.set_color_codes(\"pastel\")\n",
    "sns.set_palette('Blues')\n",
    "\n",
    "y_labels = ['Seasonal Flu Vaccination', 'Doctor Recommended','Health Insurance','Vaccine Efficacy',\\\n",
    "            'H1N1 Risk Opinion']\n",
    "\n",
    "y= y_labels\n",
    "x= final_features[0]\n",
    "\n",
    "sns.barplot(x, y, orient='h')\n",
    "\n",
    "plt.xlabel('Importance',fontsize=16)\n",
    "\n",
    "ax.yaxis.set_tick_params(labelsize=16)"
   ]
  },
  {
   "cell_type": "code",
   "execution_count": null,
   "metadata": {},
   "outputs": [],
   "source": []
  }
 ],
 "metadata": {
  "kernelspec": {
   "display_name": "Python (learn-env)",
   "language": "python",
   "name": "learn-env"
  },
  "language_info": {
   "codemirror_mode": {
    "name": "ipython",
    "version": 3
   },
   "file_extension": ".py",
   "mimetype": "text/x-python",
   "name": "python",
   "nbconvert_exporter": "python",
   "pygments_lexer": "ipython3",
   "version": "3.8.5"
  }
 },
 "nbformat": 4,
 "nbformat_minor": 4
}
